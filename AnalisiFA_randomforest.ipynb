{
 "cells": [
  {
   "cell_type": "code",
   "execution_count": 1,
   "metadata": {},
   "outputs": [],
   "source": [
    "import os\n",
    "import numpy as np\n",
    "import reading \n",
    "from feature_extractor import feature_extractor\n",
    "import pandas as pd\n",
    "import matplotlib.pyplot as plt"
   ]
  },
  {
   "attachments": {},
   "cell_type": "markdown",
   "metadata": {},
   "source": [
    "Load dei Path, Con il sort giusto per far corrispondere i soggetti"
   ]
  },
  {
   "cell_type": "code",
   "execution_count": 2,
   "metadata": {},
   "outputs": [],
   "source": [
    "paths_FA= reading.data_path(\"Diffusion_parameters_maps-20230215T134959Z-001\",\"corrected_FA_image\")\n",
    "paths_masks=reading.data_path(\"Diffusion_space_segmentations-20230215T134839Z-001\",\"Diffusion_space_segmentations-20230215T134839Z-001\")\n",
    "\n",
    "\n",
    "#print((os.path.basename(paths_masks[0]).split('_')[2]))\n",
    "\n",
    "paths_FA.sort(key=lambda x: int(os.path.basename(x).split('_')[3]))\n",
    "paths_masks.sort(key=lambda x: int(os.path.basename(x).split('_')[2]))\n"
   ]
  },
  {
   "attachments": {},
   "cell_type": "markdown",
   "metadata": {},
   "source": [
    "Feature extraction"
   ]
  },
  {
   "cell_type": "code",
   "execution_count": 3,
   "metadata": {},
   "outputs": [],
   "source": [
    "region, mean, std=feature_extractor(paths_FA,paths_masks)\n"
   ]
  },
  {
   "attachments": {},
   "cell_type": "markdown",
   "metadata": {},
   "source": [
    "Reshape degli array per fare il Dataframe"
   ]
  },
  {
   "cell_type": "code",
   "execution_count": 4,
   "metadata": {},
   "outputs": [],
   "source": [
    "mean_t=np.transpose(mean)\n",
    "std_t=np.transpose(std)\n"
   ]
  },
  {
   "attachments": {},
   "cell_type": "markdown",
   "metadata": {},
   "source": [
    "Creo DataFrame per mean and std"
   ]
  },
  {
   "cell_type": "code",
   "execution_count": 5,
   "metadata": {},
   "outputs": [
    {
     "data": {
      "text/html": [
       "<div>\n",
       "<style scoped>\n",
       "    .dataframe tbody tr th:only-of-type {\n",
       "        vertical-align: middle;\n",
       "    }\n",
       "\n",
       "    .dataframe tbody tr th {\n",
       "        vertical-align: top;\n",
       "    }\n",
       "\n",
       "    .dataframe thead th {\n",
       "        text-align: right;\n",
       "    }\n",
       "</style>\n",
       "<table border=\"1\" class=\"dataframe\">\n",
       "  <thead>\n",
       "    <tr style=\"text-align: right;\">\n",
       "      <th></th>\n",
       "      <th>Left-Lateral-Ventricle</th>\n",
       "      <th>Left-Inf-Lat-Vent</th>\n",
       "      <th>Left-Cerebellum-White-Matter</th>\n",
       "      <th>Left-Cerebellum-Cortex</th>\n",
       "      <th>Left-Thalamus</th>\n",
       "      <th>Left-Caudate</th>\n",
       "      <th>Left-Putamen</th>\n",
       "      <th>Left-Pallidum</th>\n",
       "      <th>3rd-Ventricle</th>\n",
       "      <th>4th-Ventricle</th>\n",
       "      <th>...</th>\n",
       "      <th>wm-rh-superiorfrontal</th>\n",
       "      <th>wm-rh-superiorparietal</th>\n",
       "      <th>wm-rh-superiortemporal</th>\n",
       "      <th>wm-rh-supramarginal</th>\n",
       "      <th>wm-rh-frontalpole</th>\n",
       "      <th>wm-rh-temporalpole</th>\n",
       "      <th>wm-rh-transversetemporal</th>\n",
       "      <th>wm-rh-insula</th>\n",
       "      <th>Left-UnsegmentedWhiteMatter</th>\n",
       "      <th>Right-UnsegmentedWhiteMatter</th>\n",
       "    </tr>\n",
       "  </thead>\n",
       "  <tbody>\n",
       "    <tr>\n",
       "      <th>1.0</th>\n",
       "      <td>0.008558</td>\n",
       "      <td>0.109013</td>\n",
       "      <td>0.172291</td>\n",
       "      <td>0.260344</td>\n",
       "      <td>0.122025</td>\n",
       "      <td>0.236524</td>\n",
       "      <td>0.126373</td>\n",
       "      <td>0.228594</td>\n",
       "      <td>0.230439</td>\n",
       "      <td>0.107770</td>\n",
       "      <td>...</td>\n",
       "      <td>0.252780</td>\n",
       "      <td>0.217847</td>\n",
       "      <td>0.258662</td>\n",
       "      <td>0.268637</td>\n",
       "      <td>0.276182</td>\n",
       "      <td>0.214232</td>\n",
       "      <td>0.158717</td>\n",
       "      <td>0.367259</td>\n",
       "      <td>0.301571</td>\n",
       "      <td>0.328116</td>\n",
       "    </tr>\n",
       "    <tr>\n",
       "      <th>2.0</th>\n",
       "      <td>0.010137</td>\n",
       "      <td>0.107341</td>\n",
       "      <td>0.171492</td>\n",
       "      <td>0.299163</td>\n",
       "      <td>0.133621</td>\n",
       "      <td>0.256451</td>\n",
       "      <td>0.160723</td>\n",
       "      <td>0.226560</td>\n",
       "      <td>0.239494</td>\n",
       "      <td>0.118588</td>\n",
       "      <td>...</td>\n",
       "      <td>0.286469</td>\n",
       "      <td>0.253083</td>\n",
       "      <td>0.261861</td>\n",
       "      <td>0.238354</td>\n",
       "      <td>0.260860</td>\n",
       "      <td>0.178386</td>\n",
       "      <td>0.178781</td>\n",
       "      <td>0.357016</td>\n",
       "      <td>0.330572</td>\n",
       "      <td>0.366950</td>\n",
       "    </tr>\n",
       "    <tr>\n",
       "      <th>3.0</th>\n",
       "      <td>0.008196</td>\n",
       "      <td>0.133892</td>\n",
       "      <td>0.112614</td>\n",
       "      <td>0.262373</td>\n",
       "      <td>0.111241</td>\n",
       "      <td>0.247089</td>\n",
       "      <td>0.133506</td>\n",
       "      <td>0.211761</td>\n",
       "      <td>0.219353</td>\n",
       "      <td>0.106775</td>\n",
       "      <td>...</td>\n",
       "      <td>0.254498</td>\n",
       "      <td>0.258600</td>\n",
       "      <td>0.268107</td>\n",
       "      <td>0.245099</td>\n",
       "      <td>0.270796</td>\n",
       "      <td>0.149528</td>\n",
       "      <td>0.172897</td>\n",
       "      <td>0.257598</td>\n",
       "      <td>0.295915</td>\n",
       "      <td>0.337266</td>\n",
       "    </tr>\n",
       "    <tr>\n",
       "      <th>4.0</th>\n",
       "      <td>0.012099</td>\n",
       "      <td>0.114534</td>\n",
       "      <td>0.134856</td>\n",
       "      <td>0.289858</td>\n",
       "      <td>0.112977</td>\n",
       "      <td>0.243535</td>\n",
       "      <td>0.153650</td>\n",
       "      <td>0.230634</td>\n",
       "      <td>0.249325</td>\n",
       "      <td>0.080339</td>\n",
       "      <td>...</td>\n",
       "      <td>0.256776</td>\n",
       "      <td>0.215121</td>\n",
       "      <td>0.285465</td>\n",
       "      <td>0.257601</td>\n",
       "      <td>0.238565</td>\n",
       "      <td>0.191491</td>\n",
       "      <td>0.177666</td>\n",
       "      <td>0.226578</td>\n",
       "      <td>0.301181</td>\n",
       "      <td>0.359059</td>\n",
       "    </tr>\n",
       "    <tr>\n",
       "      <th>5.0</th>\n",
       "      <td>0.011768</td>\n",
       "      <td>0.105971</td>\n",
       "      <td>0.110494</td>\n",
       "      <td>0.269097</td>\n",
       "      <td>0.106641</td>\n",
       "      <td>0.248220</td>\n",
       "      <td>0.139430</td>\n",
       "      <td>0.246313</td>\n",
       "      <td>0.263455</td>\n",
       "      <td>0.106332</td>\n",
       "      <td>...</td>\n",
       "      <td>0.232970</td>\n",
       "      <td>0.210857</td>\n",
       "      <td>0.304468</td>\n",
       "      <td>0.250227</td>\n",
       "      <td>0.257328</td>\n",
       "      <td>0.252974</td>\n",
       "      <td>0.189921</td>\n",
       "      <td>0.272185</td>\n",
       "      <td>0.309642</td>\n",
       "      <td>0.373039</td>\n",
       "    </tr>\n",
       "  </tbody>\n",
       "</table>\n",
       "<p>5 rows × 176 columns</p>\n",
       "</div>"
      ],
      "text/plain": [
       "     Left-Lateral-Ventricle  Left-Inf-Lat-Vent  Left-Cerebellum-White-Matter  \\\n",
       "1.0                0.008558           0.109013                      0.172291   \n",
       "2.0                0.010137           0.107341                      0.171492   \n",
       "3.0                0.008196           0.133892                      0.112614   \n",
       "4.0                0.012099           0.114534                      0.134856   \n",
       "5.0                0.011768           0.105971                      0.110494   \n",
       "\n",
       "     Left-Cerebellum-Cortex  Left-Thalamus  Left-Caudate  Left-Putamen  \\\n",
       "1.0                0.260344       0.122025      0.236524      0.126373   \n",
       "2.0                0.299163       0.133621      0.256451      0.160723   \n",
       "3.0                0.262373       0.111241      0.247089      0.133506   \n",
       "4.0                0.289858       0.112977      0.243535      0.153650   \n",
       "5.0                0.269097       0.106641      0.248220      0.139430   \n",
       "\n",
       "     Left-Pallidum  3rd-Ventricle  4th-Ventricle  ...  wm-rh-superiorfrontal  \\\n",
       "1.0       0.228594       0.230439       0.107770  ...               0.252780   \n",
       "2.0       0.226560       0.239494       0.118588  ...               0.286469   \n",
       "3.0       0.211761       0.219353       0.106775  ...               0.254498   \n",
       "4.0       0.230634       0.249325       0.080339  ...               0.256776   \n",
       "5.0       0.246313       0.263455       0.106332  ...               0.232970   \n",
       "\n",
       "     wm-rh-superiorparietal  wm-rh-superiortemporal  wm-rh-supramarginal  \\\n",
       "1.0                0.217847                0.258662             0.268637   \n",
       "2.0                0.253083                0.261861             0.238354   \n",
       "3.0                0.258600                0.268107             0.245099   \n",
       "4.0                0.215121                0.285465             0.257601   \n",
       "5.0                0.210857                0.304468             0.250227   \n",
       "\n",
       "     wm-rh-frontalpole  wm-rh-temporalpole  wm-rh-transversetemporal  \\\n",
       "1.0           0.276182            0.214232                  0.158717   \n",
       "2.0           0.260860            0.178386                  0.178781   \n",
       "3.0           0.270796            0.149528                  0.172897   \n",
       "4.0           0.238565            0.191491                  0.177666   \n",
       "5.0           0.257328            0.252974                  0.189921   \n",
       "\n",
       "     wm-rh-insula  Left-UnsegmentedWhiteMatter  Right-UnsegmentedWhiteMatter  \n",
       "1.0      0.367259                     0.301571                      0.328116  \n",
       "2.0      0.357016                     0.330572                      0.366950  \n",
       "3.0      0.257598                     0.295915                      0.337266  \n",
       "4.0      0.226578                     0.301181                      0.359059  \n",
       "5.0      0.272185                     0.309642                      0.373039  \n",
       "\n",
       "[5 rows x 176 columns]"
      ]
     },
     "execution_count": 5,
     "metadata": {},
     "output_type": "execute_result"
    }
   ],
   "source": [
    "\n",
    "\n",
    "df_mean = pd.DataFrame(mean_t[1:,1:177],index=mean[0][1:98],columns=region[1:177])\n",
    "df_std=pd.DataFrame(std_t[1:,1:177],index=std[0][1:98],columns=region[1:177])\n",
    "\n",
    "df_mean.head()"
   ]
  },
  {
   "attachments": {},
   "cell_type": "markdown",
   "metadata": {},
   "source": [
    "Aggiungo i gruppi"
   ]
  },
  {
   "cell_type": "code",
   "execution_count": 6,
   "metadata": {},
   "outputs": [
    {
     "data": {
      "text/html": [
       "<div>\n",
       "<style scoped>\n",
       "    .dataframe tbody tr th:only-of-type {\n",
       "        vertical-align: middle;\n",
       "    }\n",
       "\n",
       "    .dataframe tbody tr th {\n",
       "        vertical-align: top;\n",
       "    }\n",
       "\n",
       "    .dataframe thead th {\n",
       "        text-align: right;\n",
       "    }\n",
       "</style>\n",
       "<table border=\"1\" class=\"dataframe\">\n",
       "  <thead>\n",
       "    <tr style=\"text-align: right;\">\n",
       "      <th></th>\n",
       "      <th>Subject</th>\n",
       "      <th>Group</th>\n",
       "      <th>Sex</th>\n",
       "      <th>Age</th>\n",
       "    </tr>\n",
       "  </thead>\n",
       "  <tbody>\n",
       "    <tr>\n",
       "      <th>67</th>\n",
       "      <td>4002</td>\n",
       "      <td>0</td>\n",
       "      <td>F</td>\n",
       "      <td>74.0</td>\n",
       "    </tr>\n",
       "    <tr>\n",
       "      <th>68</th>\n",
       "      <td>4003</td>\n",
       "      <td>0</td>\n",
       "      <td>F</td>\n",
       "      <td>72.0</td>\n",
       "    </tr>\n",
       "    <tr>\n",
       "      <th>28</th>\n",
       "      <td>4009</td>\n",
       "      <td>1</td>\n",
       "      <td>M</td>\n",
       "      <td>90.0</td>\n",
       "    </tr>\n",
       "    <tr>\n",
       "      <th>69</th>\n",
       "      <td>4018</td>\n",
       "      <td>0</td>\n",
       "      <td>M</td>\n",
       "      <td>76.0</td>\n",
       "    </tr>\n",
       "    <tr>\n",
       "      <th>70</th>\n",
       "      <td>4050</td>\n",
       "      <td>0</td>\n",
       "      <td>M</td>\n",
       "      <td>77.0</td>\n",
       "    </tr>\n",
       "  </tbody>\n",
       "</table>\n",
       "</div>"
      ],
      "text/plain": [
       "    Subject  Group Sex   Age\n",
       "67     4002      0   F  74.0\n",
       "68     4003      0   F  72.0\n",
       "28     4009      1   M  90.0\n",
       "69     4018      0   M  76.0\n",
       "70     4050      0   M  77.0"
      ]
     },
     "execution_count": 6,
     "metadata": {},
     "output_type": "execute_result"
    }
   ],
   "source": [
    "a=pd.DataFrame(pd.read_csv('/home/francesco/CompProject/ADNI_dataset_diffusion.csv'))\n",
    "a.sort_values(by=[\"Subject\"],inplace=True)\n",
    "group=a[\"Group\"]\n",
    "a.head()"
   ]
  },
  {
   "attachments": {},
   "cell_type": "markdown",
   "metadata": {},
   "source": [
    "Albero decisionale: creo i set e splitto"
   ]
  },
  {
   "cell_type": "code",
   "execution_count": 15,
   "metadata": {},
   "outputs": [],
   "source": [
    "from sklearn import tree\n",
    "from sklearn.model_selection import train_test_split\n",
    "\n",
    "\n",
    "X=df_mean.values\n",
    "y=group.values\n",
    "\n",
    "X_tr, X_tst, y_tr, y_tst = train_test_split(X, y, test_size=.2, random_state=6)\n",
    "\n"
   ]
  },
  {
   "attachments": {},
   "cell_type": "markdown",
   "metadata": {},
   "source": [
    "Fitto l'albero"
   ]
  },
  {
   "cell_type": "code",
   "execution_count": 16,
   "metadata": {},
   "outputs": [
    {
     "name": "stdout",
     "output_type": "stream",
     "text": [
      "[0. 0. 1. 1. 0. 0. 0. 1. 1. 1. 1. 1. 0. 1. 0. 0. 1. 0. 0. 0.]\n"
     ]
    }
   ],
   "source": [
    "\n",
    "clf = tree.DecisionTreeClassifier()\n",
    "\n",
    "y_score = clf.fit(X_tr, y_tr).predict_proba(X_tst)[:,1]\n",
    "\n",
    "#tree.plot_tree(clf)\n",
    "print(y_score)\n"
   ]
  },
  {
   "cell_type": "code",
   "execution_count": 17,
   "metadata": {},
   "outputs": [
    {
     "name": "stdout",
     "output_type": "stream",
     "text": [
      "0.5934065934065934\n"
     ]
    }
   ],
   "source": [
    "import sklearn.metrics \n",
    "print(sklearn.metrics.roc_auc_score(y_tst, y_score))\n",
    "fpr,tpr,thre = sklearn.metrics.roc_curve(y_tst, y_score)"
   ]
  },
  {
   "attachments": {},
   "cell_type": "markdown",
   "metadata": {},
   "source": [
    "PLotto l'albero decisionale"
   ]
  },
  {
   "cell_type": "code",
   "execution_count": 18,
   "metadata": {},
   "outputs": [],
   "source": [
    "import graphviz \n",
    "dot_data = tree.export_graphviz(clf, out_file=None) \n",
    "graph = graphviz.Source(dot_data) \n",
    "#graph.render(\"iris\") "
   ]
  },
  {
   "cell_type": "code",
   "execution_count": 19,
   "metadata": {},
   "outputs": [
    {
     "data": {
      "image/svg+xml": "<?xml version=\"1.0\" encoding=\"UTF-8\" standalone=\"no\"?>\n<!DOCTYPE svg PUBLIC \"-//W3C//DTD SVG 1.1//EN\"\n \"http://www.w3.org/Graphics/SVG/1.1/DTD/svg11.dtd\">\n<!-- Generated by graphviz version 2.43.0 (0)\n -->\n<!-- Title: Tree Pages: 1 -->\n<svg width=\"1287pt\" height=\"671pt\"\n viewBox=\"0.00 0.00 1286.50 671.00\" xmlns=\"http://www.w3.org/2000/svg\" xmlns:xlink=\"http://www.w3.org/1999/xlink\">\n<g id=\"graph0\" class=\"graph\" transform=\"scale(1 1) rotate(0) translate(4 667)\">\n<title>Tree</title>\n<polygon fill=\"white\" stroke=\"transparent\" points=\"-4,4 -4,-667 1282.5,-667 1282.5,4 -4,4\"/>\n<!-- 0 -->\n<g id=\"node1\" class=\"node\">\n<title>0</title>\n<path fill=\"#f0f8fd\" stroke=\"black\" d=\"M957,-663C957,-663 734,-663 734,-663 728,-663 722,-657 722,-651 722,-651 722,-592 722,-592 722,-586 728,-580 734,-580 734,-580 957,-580 957,-580 963,-580 969,-586 969,-592 969,-592 969,-651 969,-651 969,-657 963,-663 957,-663\"/>\n<text text-anchor=\"start\" x=\"730\" y=\"-647.8\" font-family=\"Helvetica,sans-Serif\" font-size=\"14.00\">wm&#45;lh&#45;parahippocampal ≤ 0.262</text>\n<text text-anchor=\"start\" x=\"801.5\" y=\"-632.8\" font-family=\"Helvetica,sans-Serif\" font-size=\"14.00\">gini = 0.499</text>\n<text text-anchor=\"start\" x=\"797\" y=\"-617.8\" font-family=\"Helvetica,sans-Serif\" font-size=\"14.00\">samples = 77</text>\n<text text-anchor=\"start\" x=\"788\" y=\"-602.8\" font-family=\"Helvetica,sans-Serif\" font-size=\"14.00\">value = [37, 40]</text>\n<text text-anchor=\"start\" x=\"807.5\" y=\"-587.8\" font-family=\"Helvetica,sans-Serif\" font-size=\"14.00\">class = AD</text>\n</g>\n<!-- 1 -->\n<g id=\"node2\" class=\"node\">\n<title>1</title>\n<path fill=\"#89c5f0\" stroke=\"black\" d=\"M843.5,-544C843.5,-544 585.5,-544 585.5,-544 579.5,-544 573.5,-538 573.5,-532 573.5,-532 573.5,-473 573.5,-473 573.5,-467 579.5,-461 585.5,-461 585.5,-461 843.5,-461 843.5,-461 849.5,-461 855.5,-467 855.5,-473 855.5,-473 855.5,-532 855.5,-532 855.5,-538 849.5,-544 843.5,-544\"/>\n<text text-anchor=\"start\" x=\"581.5\" y=\"-528.8\" font-family=\"Helvetica,sans-Serif\" font-size=\"14.00\">Left&#45;Cerebellum&#45;White&#45;Matter ≤ 0.141</text>\n<text text-anchor=\"start\" x=\"670.5\" y=\"-513.8\" font-family=\"Helvetica,sans-Serif\" font-size=\"14.00\">gini = 0.411</text>\n<text text-anchor=\"start\" x=\"666\" y=\"-498.8\" font-family=\"Helvetica,sans-Serif\" font-size=\"14.00\">samples = 52</text>\n<text text-anchor=\"start\" x=\"657\" y=\"-483.8\" font-family=\"Helvetica,sans-Serif\" font-size=\"14.00\">value = [15, 37]</text>\n<text text-anchor=\"start\" x=\"676.5\" y=\"-468.8\" font-family=\"Helvetica,sans-Serif\" font-size=\"14.00\">class = AD</text>\n</g>\n<!-- 0&#45;&gt;1 -->\n<g id=\"edge1\" class=\"edge\">\n<title>0&#45;&gt;1</title>\n<path fill=\"none\" stroke=\"black\" d=\"M800.05,-579.91C789.58,-570.56 778.36,-560.54 767.6,-550.93\"/>\n<polygon fill=\"black\" stroke=\"black\" points=\"769.66,-548.07 759.87,-544.02 765,-553.29 769.66,-548.07\"/>\n<text text-anchor=\"middle\" x=\"761.28\" y=\"-565.28\" font-family=\"Helvetica,sans-Serif\" font-size=\"14.00\">True</text>\n</g>\n<!-- 16 -->\n<g id=\"node17\" class=\"node\">\n<title>16</title>\n<path fill=\"#e99254\" stroke=\"black\" d=\"M1069,-544C1069,-544 886,-544 886,-544 880,-544 874,-538 874,-532 874,-532 874,-473 874,-473 874,-467 880,-461 886,-461 886,-461 1069,-461 1069,-461 1075,-461 1081,-467 1081,-473 1081,-473 1081,-532 1081,-532 1081,-538 1075,-544 1069,-544\"/>\n<text text-anchor=\"start\" x=\"882\" y=\"-528.8\" font-family=\"Helvetica,sans-Serif\" font-size=\"14.00\">wm&#45;rh&#45;paracentral ≤ 0.189</text>\n<text text-anchor=\"start\" x=\"933.5\" y=\"-513.8\" font-family=\"Helvetica,sans-Serif\" font-size=\"14.00\">gini = 0.211</text>\n<text text-anchor=\"start\" x=\"929\" y=\"-498.8\" font-family=\"Helvetica,sans-Serif\" font-size=\"14.00\">samples = 25</text>\n<text text-anchor=\"start\" x=\"924.5\" y=\"-483.8\" font-family=\"Helvetica,sans-Serif\" font-size=\"14.00\">value = [22, 3]</text>\n<text text-anchor=\"start\" x=\"939.5\" y=\"-468.8\" font-family=\"Helvetica,sans-Serif\" font-size=\"14.00\">class = CN</text>\n</g>\n<!-- 0&#45;&gt;16 -->\n<g id=\"edge16\" class=\"edge\">\n<title>0&#45;&gt;16</title>\n<path fill=\"none\" stroke=\"black\" d=\"M891.3,-579.91C901.84,-570.56 913.15,-560.54 923.99,-550.93\"/>\n<polygon fill=\"black\" stroke=\"black\" points=\"926.62,-553.27 931.78,-544.02 921.98,-548.03 926.62,-553.27\"/>\n<text text-anchor=\"middle\" x=\"930.28\" y=\"-565.28\" font-family=\"Helvetica,sans-Serif\" font-size=\"14.00\">False</text>\n</g>\n<!-- 2 -->\n<g id=\"node3\" class=\"node\">\n<title>2</title>\n<path fill=\"#5dafea\" stroke=\"black\" d=\"M581.5,-425C581.5,-425 417.5,-425 417.5,-425 411.5,-425 405.5,-419 405.5,-413 405.5,-413 405.5,-354 405.5,-354 405.5,-348 411.5,-342 417.5,-342 417.5,-342 581.5,-342 581.5,-342 587.5,-342 593.5,-348 593.5,-354 593.5,-354 593.5,-413 593.5,-413 593.5,-419 587.5,-425 581.5,-425\"/>\n<text text-anchor=\"start\" x=\"413.5\" y=\"-409.8\" font-family=\"Helvetica,sans-Serif\" font-size=\"14.00\">Right&#45;VentralDC ≤ 0.176</text>\n<text text-anchor=\"start\" x=\"460\" y=\"-394.8\" font-family=\"Helvetica,sans-Serif\" font-size=\"14.00\">gini = 0.26</text>\n<text text-anchor=\"start\" x=\"451\" y=\"-379.8\" font-family=\"Helvetica,sans-Serif\" font-size=\"14.00\">samples = 39</text>\n<text text-anchor=\"start\" x=\"446.5\" y=\"-364.8\" font-family=\"Helvetica,sans-Serif\" font-size=\"14.00\">value = [6, 33]</text>\n<text text-anchor=\"start\" x=\"461.5\" y=\"-349.8\" font-family=\"Helvetica,sans-Serif\" font-size=\"14.00\">class = AD</text>\n</g>\n<!-- 1&#45;&gt;2 -->\n<g id=\"edge2\" class=\"edge\">\n<title>1&#45;&gt;2</title>\n<path fill=\"none\" stroke=\"black\" d=\"M639.91,-460.91C621.48,-450.88 601.62,-440.07 582.81,-429.84\"/>\n<polygon fill=\"black\" stroke=\"black\" points=\"584.42,-426.73 573.96,-425.02 581.07,-432.88 584.42,-426.73\"/>\n</g>\n<!-- 11 -->\n<g id=\"node12\" class=\"node\">\n<title>11</title>\n<path fill=\"#f1b991\" stroke=\"black\" d=\"M839.5,-425C839.5,-425 623.5,-425 623.5,-425 617.5,-425 611.5,-419 611.5,-413 611.5,-413 611.5,-354 611.5,-354 611.5,-348 617.5,-342 623.5,-342 623.5,-342 839.5,-342 839.5,-342 845.5,-342 851.5,-348 851.5,-354 851.5,-354 851.5,-413 851.5,-413 851.5,-419 845.5,-425 839.5,-425\"/>\n<text text-anchor=\"start\" x=\"619.5\" y=\"-409.8\" font-family=\"Helvetica,sans-Serif\" font-size=\"14.00\">wm&#45;rh&#45;inferiortemporal ≤ 0.255</text>\n<text text-anchor=\"start\" x=\"687.5\" y=\"-394.8\" font-family=\"Helvetica,sans-Serif\" font-size=\"14.00\">gini = 0.426</text>\n<text text-anchor=\"start\" x=\"683\" y=\"-379.8\" font-family=\"Helvetica,sans-Serif\" font-size=\"14.00\">samples = 13</text>\n<text text-anchor=\"start\" x=\"683\" y=\"-364.8\" font-family=\"Helvetica,sans-Serif\" font-size=\"14.00\">value = [9, 4]</text>\n<text text-anchor=\"start\" x=\"693.5\" y=\"-349.8\" font-family=\"Helvetica,sans-Serif\" font-size=\"14.00\">class = CN</text>\n</g>\n<!-- 1&#45;&gt;11 -->\n<g id=\"edge11\" class=\"edge\">\n<title>1&#45;&gt;11</title>\n<path fill=\"none\" stroke=\"black\" d=\"M720.4,-460.91C721.61,-452.56 722.9,-443.67 724.16,-435.02\"/>\n<polygon fill=\"black\" stroke=\"black\" points=\"727.64,-435.42 725.61,-425.02 720.71,-434.41 727.64,-435.42\"/>\n</g>\n<!-- 3 -->\n<g id=\"node4\" class=\"node\">\n<title>3</title>\n<path fill=\"#4ca6e7\" stroke=\"black\" d=\"M385.5,-306C385.5,-306 235.5,-306 235.5,-306 229.5,-306 223.5,-300 223.5,-294 223.5,-294 223.5,-235 223.5,-235 223.5,-229 229.5,-223 235.5,-223 235.5,-223 385.5,-223 385.5,-223 391.5,-223 397.5,-229 397.5,-235 397.5,-235 397.5,-294 397.5,-294 397.5,-300 391.5,-306 385.5,-306\"/>\n<text text-anchor=\"start\" x=\"231.5\" y=\"-290.8\" font-family=\"Helvetica,sans-Serif\" font-size=\"14.00\">wm&#45;rh&#45;lingual ≤ 0.207</text>\n<text text-anchor=\"start\" x=\"266.5\" y=\"-275.8\" font-family=\"Helvetica,sans-Serif\" font-size=\"14.00\">gini = 0.157</text>\n<text text-anchor=\"start\" x=\"262\" y=\"-260.8\" font-family=\"Helvetica,sans-Serif\" font-size=\"14.00\">samples = 35</text>\n<text text-anchor=\"start\" x=\"257.5\" y=\"-245.8\" font-family=\"Helvetica,sans-Serif\" font-size=\"14.00\">value = [3, 32]</text>\n<text text-anchor=\"start\" x=\"272.5\" y=\"-230.8\" font-family=\"Helvetica,sans-Serif\" font-size=\"14.00\">class = AD</text>\n</g>\n<!-- 2&#45;&gt;3 -->\n<g id=\"edge3\" class=\"edge\">\n<title>2&#45;&gt;3</title>\n<path fill=\"none\" stroke=\"black\" d=\"M433.93,-341.91C418.09,-332.11 401.06,-321.56 384.86,-311.53\"/>\n<polygon fill=\"black\" stroke=\"black\" points=\"386.3,-308.31 375.96,-306.02 382.62,-314.26 386.3,-308.31\"/>\n</g>\n<!-- 8 -->\n<g id=\"node9\" class=\"node\">\n<title>8</title>\n<path fill=\"#eeab7b\" stroke=\"black\" d=\"M591.5,-306C591.5,-306 427.5,-306 427.5,-306 421.5,-306 415.5,-300 415.5,-294 415.5,-294 415.5,-235 415.5,-235 415.5,-229 421.5,-223 427.5,-223 427.5,-223 591.5,-223 591.5,-223 597.5,-223 603.5,-229 603.5,-235 603.5,-235 603.5,-294 603.5,-294 603.5,-300 597.5,-306 591.5,-306\"/>\n<text text-anchor=\"start\" x=\"423.5\" y=\"-290.8\" font-family=\"Helvetica,sans-Serif\" font-size=\"14.00\">Right&#45;VentralDC ≤ 0.183</text>\n<text text-anchor=\"start\" x=\"465.5\" y=\"-275.8\" font-family=\"Helvetica,sans-Serif\" font-size=\"14.00\">gini = 0.375</text>\n<text text-anchor=\"start\" x=\"465.5\" y=\"-260.8\" font-family=\"Helvetica,sans-Serif\" font-size=\"14.00\">samples = 4</text>\n<text text-anchor=\"start\" x=\"461\" y=\"-245.8\" font-family=\"Helvetica,sans-Serif\" font-size=\"14.00\">value = [3, 1]</text>\n<text text-anchor=\"start\" x=\"471.5\" y=\"-230.8\" font-family=\"Helvetica,sans-Serif\" font-size=\"14.00\">class = CN</text>\n</g>\n<!-- 2&#45;&gt;8 -->\n<g id=\"edge8\" class=\"edge\">\n<title>2&#45;&gt;8</title>\n<path fill=\"none\" stroke=\"black\" d=\"M502.97,-341.91C503.68,-333.56 504.44,-324.67 505.18,-316.02\"/>\n<polygon fill=\"black\" stroke=\"black\" points=\"508.67,-316.28 506.04,-306.02 501.7,-315.69 508.67,-316.28\"/>\n</g>\n<!-- 4 -->\n<g id=\"node5\" class=\"node\">\n<title>4</title>\n<path fill=\"#ffffff\" stroke=\"black\" d=\"M221,-187C221,-187 22,-187 22,-187 16,-187 10,-181 10,-175 10,-175 10,-116 10,-116 10,-110 16,-104 22,-104 22,-104 221,-104 221,-104 227,-104 233,-110 233,-116 233,-116 233,-175 233,-175 233,-181 227,-187 221,-187\"/>\n<text text-anchor=\"start\" x=\"18\" y=\"-171.8\" font-family=\"Helvetica,sans-Serif\" font-size=\"14.00\">ctx&#45;lh&#45;supramarginal ≤ 0.099</text>\n<text text-anchor=\"start\" x=\"86.5\" y=\"-156.8\" font-family=\"Helvetica,sans-Serif\" font-size=\"14.00\">gini = 0.5</text>\n<text text-anchor=\"start\" x=\"77.5\" y=\"-141.8\" font-family=\"Helvetica,sans-Serif\" font-size=\"14.00\">samples = 6</text>\n<text text-anchor=\"start\" x=\"73\" y=\"-126.8\" font-family=\"Helvetica,sans-Serif\" font-size=\"14.00\">value = [3, 3]</text>\n<text text-anchor=\"start\" x=\"83.5\" y=\"-111.8\" font-family=\"Helvetica,sans-Serif\" font-size=\"14.00\">class = CN</text>\n</g>\n<!-- 3&#45;&gt;4 -->\n<g id=\"edge4\" class=\"edge\">\n<title>3&#45;&gt;4</title>\n<path fill=\"none\" stroke=\"black\" d=\"M244.93,-222.91C229.09,-213.11 212.06,-202.56 195.86,-192.53\"/>\n<polygon fill=\"black\" stroke=\"black\" points=\"197.3,-189.31 186.96,-187.02 193.62,-195.26 197.3,-189.31\"/>\n</g>\n<!-- 7 -->\n<g id=\"node8\" class=\"node\">\n<title>7</title>\n<path fill=\"#399de5\" stroke=\"black\" d=\"M361.5,-179.5C361.5,-179.5 263.5,-179.5 263.5,-179.5 257.5,-179.5 251.5,-173.5 251.5,-167.5 251.5,-167.5 251.5,-123.5 251.5,-123.5 251.5,-117.5 257.5,-111.5 263.5,-111.5 263.5,-111.5 361.5,-111.5 361.5,-111.5 367.5,-111.5 373.5,-117.5 373.5,-123.5 373.5,-123.5 373.5,-167.5 373.5,-167.5 373.5,-173.5 367.5,-179.5 361.5,-179.5\"/>\n<text text-anchor=\"start\" x=\"277.5\" y=\"-164.3\" font-family=\"Helvetica,sans-Serif\" font-size=\"14.00\">gini = 0.0</text>\n<text text-anchor=\"start\" x=\"264\" y=\"-149.3\" font-family=\"Helvetica,sans-Serif\" font-size=\"14.00\">samples = 29</text>\n<text text-anchor=\"start\" x=\"259.5\" y=\"-134.3\" font-family=\"Helvetica,sans-Serif\" font-size=\"14.00\">value = [0, 29]</text>\n<text text-anchor=\"start\" x=\"274.5\" y=\"-119.3\" font-family=\"Helvetica,sans-Serif\" font-size=\"14.00\">class = AD</text>\n</g>\n<!-- 3&#45;&gt;7 -->\n<g id=\"edge7\" class=\"edge\">\n<title>3&#45;&gt;7</title>\n<path fill=\"none\" stroke=\"black\" d=\"M311.19,-222.91C311.38,-212.2 311.57,-200.62 311.76,-189.78\"/>\n<polygon fill=\"black\" stroke=\"black\" points=\"315.26,-189.73 311.93,-179.67 308.26,-189.61 315.26,-189.73\"/>\n</g>\n<!-- 5 -->\n<g id=\"node6\" class=\"node\">\n<title>5</title>\n<path fill=\"#399de5\" stroke=\"black\" d=\"M101,-68C101,-68 12,-68 12,-68 6,-68 0,-62 0,-56 0,-56 0,-12 0,-12 0,-6 6,0 12,0 12,0 101,0 101,0 107,0 113,-6 113,-12 113,-12 113,-56 113,-56 113,-62 107,-68 101,-68\"/>\n<text text-anchor=\"start\" x=\"21.5\" y=\"-52.8\" font-family=\"Helvetica,sans-Serif\" font-size=\"14.00\">gini = 0.0</text>\n<text text-anchor=\"start\" x=\"12.5\" y=\"-37.8\" font-family=\"Helvetica,sans-Serif\" font-size=\"14.00\">samples = 3</text>\n<text text-anchor=\"start\" x=\"8\" y=\"-22.8\" font-family=\"Helvetica,sans-Serif\" font-size=\"14.00\">value = [0, 3]</text>\n<text text-anchor=\"start\" x=\"18.5\" y=\"-7.8\" font-family=\"Helvetica,sans-Serif\" font-size=\"14.00\">class = AD</text>\n</g>\n<!-- 4&#45;&gt;5 -->\n<g id=\"edge5\" class=\"edge\">\n<title>4&#45;&gt;5</title>\n<path fill=\"none\" stroke=\"black\" d=\"M97.3,-103.73C92.1,-94.97 86.6,-85.7 81.38,-76.91\"/>\n<polygon fill=\"black\" stroke=\"black\" points=\"84.38,-75.11 76.27,-68.3 78.36,-78.69 84.38,-75.11\"/>\n</g>\n<!-- 6 -->\n<g id=\"node7\" class=\"node\">\n<title>6</title>\n<path fill=\"#e58139\" stroke=\"black\" d=\"M232,-68C232,-68 143,-68 143,-68 137,-68 131,-62 131,-56 131,-56 131,-12 131,-12 131,-6 137,0 143,0 143,0 232,0 232,0 238,0 244,-6 244,-12 244,-12 244,-56 244,-56 244,-62 238,-68 232,-68\"/>\n<text text-anchor=\"start\" x=\"152.5\" y=\"-52.8\" font-family=\"Helvetica,sans-Serif\" font-size=\"14.00\">gini = 0.0</text>\n<text text-anchor=\"start\" x=\"143.5\" y=\"-37.8\" font-family=\"Helvetica,sans-Serif\" font-size=\"14.00\">samples = 3</text>\n<text text-anchor=\"start\" x=\"139\" y=\"-22.8\" font-family=\"Helvetica,sans-Serif\" font-size=\"14.00\">value = [3, 0]</text>\n<text text-anchor=\"start\" x=\"149.5\" y=\"-7.8\" font-family=\"Helvetica,sans-Serif\" font-size=\"14.00\">class = CN</text>\n</g>\n<!-- 4&#45;&gt;6 -->\n<g id=\"edge6\" class=\"edge\">\n<title>4&#45;&gt;6</title>\n<path fill=\"none\" stroke=\"black\" d=\"M146.08,-103.73C151.35,-94.97 156.94,-85.7 162.24,-76.91\"/>\n<polygon fill=\"black\" stroke=\"black\" points=\"165.26,-78.67 167.43,-68.3 159.27,-75.06 165.26,-78.67\"/>\n</g>\n<!-- 9 -->\n<g id=\"node10\" class=\"node\">\n<title>9</title>\n<path fill=\"#e58139\" stroke=\"black\" d=\"M504,-179.5C504,-179.5 415,-179.5 415,-179.5 409,-179.5 403,-173.5 403,-167.5 403,-167.5 403,-123.5 403,-123.5 403,-117.5 409,-111.5 415,-111.5 415,-111.5 504,-111.5 504,-111.5 510,-111.5 516,-117.5 516,-123.5 516,-123.5 516,-167.5 516,-167.5 516,-173.5 510,-179.5 504,-179.5\"/>\n<text text-anchor=\"start\" x=\"424.5\" y=\"-164.3\" font-family=\"Helvetica,sans-Serif\" font-size=\"14.00\">gini = 0.0</text>\n<text text-anchor=\"start\" x=\"415.5\" y=\"-149.3\" font-family=\"Helvetica,sans-Serif\" font-size=\"14.00\">samples = 3</text>\n<text text-anchor=\"start\" x=\"411\" y=\"-134.3\" font-family=\"Helvetica,sans-Serif\" font-size=\"14.00\">value = [3, 0]</text>\n<text text-anchor=\"start\" x=\"421.5\" y=\"-119.3\" font-family=\"Helvetica,sans-Serif\" font-size=\"14.00\">class = CN</text>\n</g>\n<!-- 8&#45;&gt;9 -->\n<g id=\"edge9\" class=\"edge\">\n<title>8&#45;&gt;9</title>\n<path fill=\"none\" stroke=\"black\" d=\"M492.15,-222.91C487.48,-211.98 482.42,-200.14 477.71,-189.11\"/>\n<polygon fill=\"black\" stroke=\"black\" points=\"480.82,-187.49 473.67,-179.67 474.39,-190.24 480.82,-187.49\"/>\n</g>\n<!-- 10 -->\n<g id=\"node11\" class=\"node\">\n<title>10</title>\n<path fill=\"#399de5\" stroke=\"black\" d=\"M635,-179.5C635,-179.5 546,-179.5 546,-179.5 540,-179.5 534,-173.5 534,-167.5 534,-167.5 534,-123.5 534,-123.5 534,-117.5 540,-111.5 546,-111.5 546,-111.5 635,-111.5 635,-111.5 641,-111.5 647,-117.5 647,-123.5 647,-123.5 647,-167.5 647,-167.5 647,-173.5 641,-179.5 635,-179.5\"/>\n<text text-anchor=\"start\" x=\"555.5\" y=\"-164.3\" font-family=\"Helvetica,sans-Serif\" font-size=\"14.00\">gini = 0.0</text>\n<text text-anchor=\"start\" x=\"546.5\" y=\"-149.3\" font-family=\"Helvetica,sans-Serif\" font-size=\"14.00\">samples = 1</text>\n<text text-anchor=\"start\" x=\"542\" y=\"-134.3\" font-family=\"Helvetica,sans-Serif\" font-size=\"14.00\">value = [0, 1]</text>\n<text text-anchor=\"start\" x=\"552.5\" y=\"-119.3\" font-family=\"Helvetica,sans-Serif\" font-size=\"14.00\">class = AD</text>\n</g>\n<!-- 8&#45;&gt;10 -->\n<g id=\"edge10\" class=\"edge\">\n<title>8&#45;&gt;10</title>\n<path fill=\"none\" stroke=\"black\" d=\"M537.6,-222.91C545.39,-211.65 553.86,-199.42 561.7,-188.11\"/>\n<polygon fill=\"black\" stroke=\"black\" points=\"564.72,-189.88 567.54,-179.67 558.97,-185.9 564.72,-189.88\"/>\n</g>\n<!-- 12 -->\n<g id=\"node13\" class=\"node\">\n<title>12</title>\n<path fill=\"#6ab6ec\" stroke=\"black\" d=\"M815.5,-306C815.5,-306 641.5,-306 641.5,-306 635.5,-306 629.5,-300 629.5,-294 629.5,-294 629.5,-235 629.5,-235 629.5,-229 635.5,-223 641.5,-223 641.5,-223 815.5,-223 815.5,-223 821.5,-223 827.5,-229 827.5,-235 827.5,-235 827.5,-294 827.5,-294 827.5,-300 821.5,-306 815.5,-306\"/>\n<text text-anchor=\"start\" x=\"637.5\" y=\"-290.8\" font-family=\"Helvetica,sans-Serif\" font-size=\"14.00\">wm&#45;rh&#45;precentral ≤ 0.318</text>\n<text text-anchor=\"start\" x=\"689\" y=\"-275.8\" font-family=\"Helvetica,sans-Serif\" font-size=\"14.00\">gini = 0.32</text>\n<text text-anchor=\"start\" x=\"684.5\" y=\"-260.8\" font-family=\"Helvetica,sans-Serif\" font-size=\"14.00\">samples = 5</text>\n<text text-anchor=\"start\" x=\"680\" y=\"-245.8\" font-family=\"Helvetica,sans-Serif\" font-size=\"14.00\">value = [1, 4]</text>\n<text text-anchor=\"start\" x=\"690.5\" y=\"-230.8\" font-family=\"Helvetica,sans-Serif\" font-size=\"14.00\">class = AD</text>\n</g>\n<!-- 11&#45;&gt;12 -->\n<g id=\"edge12\" class=\"edge\">\n<title>11&#45;&gt;12</title>\n<path fill=\"none\" stroke=\"black\" d=\"M730.46,-341.91C730.25,-333.56 730.02,-324.67 729.8,-316.02\"/>\n<polygon fill=\"black\" stroke=\"black\" points=\"733.29,-315.93 729.54,-306.02 726.3,-316.11 733.29,-315.93\"/>\n</g>\n<!-- 15 -->\n<g id=\"node16\" class=\"node\">\n<title>15</title>\n<path fill=\"#e58139\" stroke=\"black\" d=\"M947,-298.5C947,-298.5 858,-298.5 858,-298.5 852,-298.5 846,-292.5 846,-286.5 846,-286.5 846,-242.5 846,-242.5 846,-236.5 852,-230.5 858,-230.5 858,-230.5 947,-230.5 947,-230.5 953,-230.5 959,-236.5 959,-242.5 959,-242.5 959,-286.5 959,-286.5 959,-292.5 953,-298.5 947,-298.5\"/>\n<text text-anchor=\"start\" x=\"867.5\" y=\"-283.3\" font-family=\"Helvetica,sans-Serif\" font-size=\"14.00\">gini = 0.0</text>\n<text text-anchor=\"start\" x=\"858.5\" y=\"-268.3\" font-family=\"Helvetica,sans-Serif\" font-size=\"14.00\">samples = 8</text>\n<text text-anchor=\"start\" x=\"854\" y=\"-253.3\" font-family=\"Helvetica,sans-Serif\" font-size=\"14.00\">value = [8, 0]</text>\n<text text-anchor=\"start\" x=\"864.5\" y=\"-238.3\" font-family=\"Helvetica,sans-Serif\" font-size=\"14.00\">class = CN</text>\n</g>\n<!-- 11&#45;&gt;15 -->\n<g id=\"edge15\" class=\"edge\">\n<title>11&#45;&gt;15</title>\n<path fill=\"none\" stroke=\"black\" d=\"M790.83,-341.91C808.57,-329.77 827.97,-316.49 845.55,-304.46\"/>\n<polygon fill=\"black\" stroke=\"black\" points=\"847.75,-307.2 854.03,-298.67 843.8,-301.43 847.75,-307.2\"/>\n</g>\n<!-- 13 -->\n<g id=\"node14\" class=\"node\">\n<title>13</title>\n<path fill=\"#e58139\" stroke=\"black\" d=\"M772,-179.5C772,-179.5 683,-179.5 683,-179.5 677,-179.5 671,-173.5 671,-167.5 671,-167.5 671,-123.5 671,-123.5 671,-117.5 677,-111.5 683,-111.5 683,-111.5 772,-111.5 772,-111.5 778,-111.5 784,-117.5 784,-123.5 784,-123.5 784,-167.5 784,-167.5 784,-173.5 778,-179.5 772,-179.5\"/>\n<text text-anchor=\"start\" x=\"692.5\" y=\"-164.3\" font-family=\"Helvetica,sans-Serif\" font-size=\"14.00\">gini = 0.0</text>\n<text text-anchor=\"start\" x=\"683.5\" y=\"-149.3\" font-family=\"Helvetica,sans-Serif\" font-size=\"14.00\">samples = 1</text>\n<text text-anchor=\"start\" x=\"679\" y=\"-134.3\" font-family=\"Helvetica,sans-Serif\" font-size=\"14.00\">value = [1, 0]</text>\n<text text-anchor=\"start\" x=\"689.5\" y=\"-119.3\" font-family=\"Helvetica,sans-Serif\" font-size=\"14.00\">class = CN</text>\n</g>\n<!-- 12&#45;&gt;13 -->\n<g id=\"edge13\" class=\"edge\">\n<title>12&#45;&gt;13</title>\n<path fill=\"none\" stroke=\"black\" d=\"M728.15,-222.91C728.06,-212.2 727.96,-200.62 727.87,-189.78\"/>\n<polygon fill=\"black\" stroke=\"black\" points=\"731.37,-189.64 727.78,-179.67 724.37,-189.7 731.37,-189.64\"/>\n</g>\n<!-- 14 -->\n<g id=\"node15\" class=\"node\">\n<title>14</title>\n<path fill=\"#399de5\" stroke=\"black\" d=\"M903,-179.5C903,-179.5 814,-179.5 814,-179.5 808,-179.5 802,-173.5 802,-167.5 802,-167.5 802,-123.5 802,-123.5 802,-117.5 808,-111.5 814,-111.5 814,-111.5 903,-111.5 903,-111.5 909,-111.5 915,-117.5 915,-123.5 915,-123.5 915,-167.5 915,-167.5 915,-173.5 909,-179.5 903,-179.5\"/>\n<text text-anchor=\"start\" x=\"823.5\" y=\"-164.3\" font-family=\"Helvetica,sans-Serif\" font-size=\"14.00\">gini = 0.0</text>\n<text text-anchor=\"start\" x=\"814.5\" y=\"-149.3\" font-family=\"Helvetica,sans-Serif\" font-size=\"14.00\">samples = 4</text>\n<text text-anchor=\"start\" x=\"810\" y=\"-134.3\" font-family=\"Helvetica,sans-Serif\" font-size=\"14.00\">value = [0, 4]</text>\n<text text-anchor=\"start\" x=\"820.5\" y=\"-119.3\" font-family=\"Helvetica,sans-Serif\" font-size=\"14.00\">class = AD</text>\n</g>\n<!-- 12&#45;&gt;14 -->\n<g id=\"edge14\" class=\"edge\">\n<title>12&#45;&gt;14</title>\n<path fill=\"none\" stroke=\"black\" d=\"M773.6,-222.91C786.72,-211.1 801.04,-198.22 814.11,-186.45\"/>\n<polygon fill=\"black\" stroke=\"black\" points=\"816.56,-188.96 821.65,-179.67 811.87,-183.76 816.56,-188.96\"/>\n</g>\n<!-- 17 -->\n<g id=\"node18\" class=\"node\">\n<title>17</title>\n<path fill=\"#399de5\" stroke=\"black\" d=\"M1005,-417.5C1005,-417.5 916,-417.5 916,-417.5 910,-417.5 904,-411.5 904,-405.5 904,-405.5 904,-361.5 904,-361.5 904,-355.5 910,-349.5 916,-349.5 916,-349.5 1005,-349.5 1005,-349.5 1011,-349.5 1017,-355.5 1017,-361.5 1017,-361.5 1017,-405.5 1017,-405.5 1017,-411.5 1011,-417.5 1005,-417.5\"/>\n<text text-anchor=\"start\" x=\"925.5\" y=\"-402.3\" font-family=\"Helvetica,sans-Serif\" font-size=\"14.00\">gini = 0.0</text>\n<text text-anchor=\"start\" x=\"916.5\" y=\"-387.3\" font-family=\"Helvetica,sans-Serif\" font-size=\"14.00\">samples = 2</text>\n<text text-anchor=\"start\" x=\"912\" y=\"-372.3\" font-family=\"Helvetica,sans-Serif\" font-size=\"14.00\">value = [0, 2]</text>\n<text text-anchor=\"start\" x=\"922.5\" y=\"-357.3\" font-family=\"Helvetica,sans-Serif\" font-size=\"14.00\">class = AD</text>\n</g>\n<!-- 16&#45;&gt;17 -->\n<g id=\"edge17\" class=\"edge\">\n<title>16&#45;&gt;17</title>\n<path fill=\"none\" stroke=\"black\" d=\"M971.6,-460.91C970.05,-450.2 968.36,-438.62 966.79,-427.78\"/>\n<polygon fill=\"black\" stroke=\"black\" points=\"970.22,-427.06 965.32,-417.67 963.29,-428.07 970.22,-427.06\"/>\n</g>\n<!-- 18 -->\n<g id=\"node19\" class=\"node\">\n<title>18</title>\n<path fill=\"#e68742\" stroke=\"black\" d=\"M1211.5,-425C1211.5,-425 1047.5,-425 1047.5,-425 1041.5,-425 1035.5,-419 1035.5,-413 1035.5,-413 1035.5,-354 1035.5,-354 1035.5,-348 1041.5,-342 1047.5,-342 1047.5,-342 1211.5,-342 1211.5,-342 1217.5,-342 1223.5,-348 1223.5,-354 1223.5,-354 1223.5,-413 1223.5,-413 1223.5,-419 1217.5,-425 1211.5,-425\"/>\n<text text-anchor=\"start\" x=\"1043.5\" y=\"-409.8\" font-family=\"Helvetica,sans-Serif\" font-size=\"14.00\">ctx&#45;rh&#45;unknown ≤ 0.092</text>\n<text text-anchor=\"start\" x=\"1085.5\" y=\"-394.8\" font-family=\"Helvetica,sans-Serif\" font-size=\"14.00\">gini = 0.083</text>\n<text text-anchor=\"start\" x=\"1081\" y=\"-379.8\" font-family=\"Helvetica,sans-Serif\" font-size=\"14.00\">samples = 23</text>\n<text text-anchor=\"start\" x=\"1076.5\" y=\"-364.8\" font-family=\"Helvetica,sans-Serif\" font-size=\"14.00\">value = [22, 1]</text>\n<text text-anchor=\"start\" x=\"1091.5\" y=\"-349.8\" font-family=\"Helvetica,sans-Serif\" font-size=\"14.00\">class = CN</text>\n</g>\n<!-- 16&#45;&gt;18 -->\n<g id=\"edge18\" class=\"edge\">\n<title>16&#45;&gt;18</title>\n<path fill=\"none\" stroke=\"black\" d=\"M1030.24,-460.91C1042.62,-451.38 1055.91,-441.15 1068.61,-431.37\"/>\n<polygon fill=\"black\" stroke=\"black\" points=\"1071.07,-433.89 1076.86,-425.02 1066.8,-428.35 1071.07,-433.89\"/>\n</g>\n<!-- 19 -->\n<g id=\"node20\" class=\"node\">\n<title>19</title>\n<path fill=\"#399de5\" stroke=\"black\" d=\"M1126,-298.5C1126,-298.5 1037,-298.5 1037,-298.5 1031,-298.5 1025,-292.5 1025,-286.5 1025,-286.5 1025,-242.5 1025,-242.5 1025,-236.5 1031,-230.5 1037,-230.5 1037,-230.5 1126,-230.5 1126,-230.5 1132,-230.5 1138,-236.5 1138,-242.5 1138,-242.5 1138,-286.5 1138,-286.5 1138,-292.5 1132,-298.5 1126,-298.5\"/>\n<text text-anchor=\"start\" x=\"1046.5\" y=\"-283.3\" font-family=\"Helvetica,sans-Serif\" font-size=\"14.00\">gini = 0.0</text>\n<text text-anchor=\"start\" x=\"1037.5\" y=\"-268.3\" font-family=\"Helvetica,sans-Serif\" font-size=\"14.00\">samples = 1</text>\n<text text-anchor=\"start\" x=\"1033\" y=\"-253.3\" font-family=\"Helvetica,sans-Serif\" font-size=\"14.00\">value = [0, 1]</text>\n<text text-anchor=\"start\" x=\"1043.5\" y=\"-238.3\" font-family=\"Helvetica,sans-Serif\" font-size=\"14.00\">class = AD</text>\n</g>\n<!-- 18&#45;&gt;19 -->\n<g id=\"edge19\" class=\"edge\">\n<title>18&#45;&gt;19</title>\n<path fill=\"none\" stroke=\"black\" d=\"M1112.85,-341.91C1108.36,-330.98 1103.5,-319.14 1098.98,-308.11\"/>\n<polygon fill=\"black\" stroke=\"black\" points=\"1102.14,-306.59 1095.11,-298.67 1095.66,-309.25 1102.14,-306.59\"/>\n</g>\n<!-- 20 -->\n<g id=\"node21\" class=\"node\">\n<title>20</title>\n<path fill=\"#e58139\" stroke=\"black\" d=\"M1266.5,-298.5C1266.5,-298.5 1168.5,-298.5 1168.5,-298.5 1162.5,-298.5 1156.5,-292.5 1156.5,-286.5 1156.5,-286.5 1156.5,-242.5 1156.5,-242.5 1156.5,-236.5 1162.5,-230.5 1168.5,-230.5 1168.5,-230.5 1266.5,-230.5 1266.5,-230.5 1272.5,-230.5 1278.5,-236.5 1278.5,-242.5 1278.5,-242.5 1278.5,-286.5 1278.5,-286.5 1278.5,-292.5 1272.5,-298.5 1266.5,-298.5\"/>\n<text text-anchor=\"start\" x=\"1182.5\" y=\"-283.3\" font-family=\"Helvetica,sans-Serif\" font-size=\"14.00\">gini = 0.0</text>\n<text text-anchor=\"start\" x=\"1169\" y=\"-268.3\" font-family=\"Helvetica,sans-Serif\" font-size=\"14.00\">samples = 22</text>\n<text text-anchor=\"start\" x=\"1164.5\" y=\"-253.3\" font-family=\"Helvetica,sans-Serif\" font-size=\"14.00\">value = [22, 0]</text>\n<text text-anchor=\"start\" x=\"1179.5\" y=\"-238.3\" font-family=\"Helvetica,sans-Serif\" font-size=\"14.00\">class = CN</text>\n</g>\n<!-- 18&#45;&gt;20 -->\n<g id=\"edge20\" class=\"edge\">\n<title>18&#45;&gt;20</title>\n<path fill=\"none\" stroke=\"black\" d=\"M1160.03,-341.91C1168.58,-330.54 1177.88,-318.18 1186.46,-306.77\"/>\n<polygon fill=\"black\" stroke=\"black\" points=\"1189.34,-308.76 1192.55,-298.67 1183.75,-304.55 1189.34,-308.76\"/>\n</g>\n</g>\n</svg>\n",
      "text/plain": [
       "<graphviz.sources.Source at 0x7f2ea5be5480>"
      ]
     },
     "execution_count": 19,
     "metadata": {},
     "output_type": "execute_result"
    }
   ],
   "source": [
    "dot_data = tree.export_graphviz(clf, out_file=None, feature_names=region[1:],  class_names=[\"CN\",\"AD\"],  filled=True, rounded=True,  special_characters=True)  \n",
    "graph = graphviz.Source(dot_data)  \n",
    "graph "
   ]
  },
  {
   "attachments": {},
   "cell_type": "markdown",
   "metadata": {},
   "source": [
    "Plotto la ROC"
   ]
  },
  {
   "cell_type": "code",
   "execution_count": 20,
   "metadata": {},
   "outputs": [
    {
     "data": {
      "image/png": "[encoded data removed]",
      "text/plain": [
       "<Figure size 640x480 with 1 Axes>"
      ]
     },
     "metadata": {},
     "output_type": "display_data"
    }
   ],
   "source": [
    "\n",
    "from sklearn.metrics import RocCurveDisplay\n",
    "\n",
    "RocCurveDisplay.from_predictions(y_tst,y_score,name=f\"AD vs the CN\",color=\"darkorange\",)\n",
    "plt.plot([0, 1], [0, 1], \"k--\", label=\"chance level (AUC = 0.5)\")\n",
    "plt.axis(\"square\")\n",
    "plt.xlabel(\"False Positive Rate\")\n",
    "plt.ylabel(\"True Positive Rate\")\n",
    "plt.title(\"One-vs-Rest ROC curves:\\nAD vs CN\")\n",
    "plt.legend()\n",
    "plt.show()\n",
    "\n"
   ]
  },
  {
   "cell_type": "code",
   "execution_count": null,
   "metadata": {},
   "outputs": [],
   "source": []
  }
 ],
 "metadata": {
  "kernelspec": {
   "display_name": "Python 3",
   "language": "python",
   "name": "python3"
  },
  "language_info": {
   "codemirror_mode": {
    "name": "ipython",
    "version": 3
   },
   "file_extension": ".py",
   "mimetype": "text/x-python",
   "name": "python",
   "nbconvert_exporter": "python",
   "pygments_lexer": "ipython3",
   "version": "3.10.7"
  },
  "orig_nbformat": 4,
  "vscode": {
   "interpreter": {
    "hash": "916dbcbb3f70747c44a77c7bcd40155683ae19c65e1c03b4aa3499c5328201f1"
   }
  }
 },
 "nbformat": 4,
 "nbformat_minor": 2
}
