{
 "cells": [
  {
   "cell_type": "code",
   "execution_count": 1,
   "metadata": {},
   "outputs": [],
   "source": [
    "import os\n",
    "import numpy as np\n",
    "import reading \n",
    "from feature_extractor import feature_extractor\n",
    "import pandas as pd\n",
    "import matplotlib.pyplot as plt"
   ]
  },
  {
   "attachments": {},
   "cell_type": "markdown",
   "metadata": {},
   "source": [
    "Load dei Path, Con il sort giusto per far corrispondere i soggetti"
   ]
  },
  {
   "cell_type": "code",
   "execution_count": 2,
   "metadata": {},
   "outputs": [],
   "source": [
    "paths_FA= reading.data_path(\"Diffusion_parameters_maps-20230215T134959Z-001\",\"corrected_FA_image\")\n",
    "paths_masks=reading.data_path(\"Diffusion_space_segmentations-20230215T134839Z-001\",\"Diffusion_space_segmentations-20230215T134839Z-001\")\n",
    "\n",
    "\n",
    "#print((os.path.basename(paths_masks[0]).split('_')[2]))\n",
    "\n",
    "paths_FA.sort(key=lambda x: int(os.path.basename(x).split('_')[3]))\n",
    "paths_masks.sort(key=lambda x: int(os.path.basename(x).split('_')[2]))\n"
   ]
  },
  {
   "attachments": {},
   "cell_type": "markdown",
   "metadata": {},
   "source": [
    "Feature extraction"
   ]
  },
  {
   "cell_type": "code",
   "execution_count": 3,
   "metadata": {},
   "outputs": [],
   "source": [
    "region, mean, std=feature_extractor(paths_FA,paths_masks)\n"
   ]
  },
  {
   "attachments": {},
   "cell_type": "markdown",
   "metadata": {},
   "source": [
    "Reshape degli array per fare il Dataframe"
   ]
  },
  {
   "cell_type": "code",
   "execution_count": 4,
   "metadata": {},
   "outputs": [],
   "source": [
    "mean_t=np.transpose(mean)\n",
    "std_t=np.transpose(std)\n"
   ]
  },
  {
   "attachments": {},
   "cell_type": "markdown",
   "metadata": {},
   "source": [
    "Creo DataFrame per mean and std"
   ]
  },
  {
   "cell_type": "code",
   "execution_count": 5,
   "metadata": {},
   "outputs": [
    {
     "data": {
      "text/html": [
       "<div>\n",
       "<style scoped>\n",
       "    .dataframe tbody tr th:only-of-type {\n",
       "        vertical-align: middle;\n",
       "    }\n",
       "\n",
       "    .dataframe tbody tr th {\n",
       "        vertical-align: top;\n",
       "    }\n",
       "\n",
       "    .dataframe thead th {\n",
       "        text-align: right;\n",
       "    }\n",
       "</style>\n",
       "<table border=\"1\" class=\"dataframe\">\n",
       "  <thead>\n",
       "    <tr style=\"text-align: right;\">\n",
       "      <th></th>\n",
       "      <th>Left-Lateral-Ventricle</th>\n",
       "      <th>Left-Inf-Lat-Vent</th>\n",
       "      <th>Left-Cerebellum-White-Matter</th>\n",
       "      <th>Left-Cerebellum-Cortex</th>\n",
       "      <th>Left-Thalamus</th>\n",
       "      <th>Left-Caudate</th>\n",
       "      <th>Left-Putamen</th>\n",
       "      <th>Left-Pallidum</th>\n",
       "      <th>3rd-Ventricle</th>\n",
       "      <th>4th-Ventricle</th>\n",
       "      <th>...</th>\n",
       "      <th>wm-rh-superiorfrontal</th>\n",
       "      <th>wm-rh-superiorparietal</th>\n",
       "      <th>wm-rh-superiortemporal</th>\n",
       "      <th>wm-rh-supramarginal</th>\n",
       "      <th>wm-rh-frontalpole</th>\n",
       "      <th>wm-rh-temporalpole</th>\n",
       "      <th>wm-rh-transversetemporal</th>\n",
       "      <th>wm-rh-insula</th>\n",
       "      <th>Left-UnsegmentedWhiteMatter</th>\n",
       "      <th>Right-UnsegmentedWhiteMatter</th>\n",
       "    </tr>\n",
       "  </thead>\n",
       "  <tbody>\n",
       "    <tr>\n",
       "      <th>1.0</th>\n",
       "      <td>0.008558</td>\n",
       "      <td>0.109013</td>\n",
       "      <td>0.172291</td>\n",
       "      <td>0.260344</td>\n",
       "      <td>0.122025</td>\n",
       "      <td>0.236524</td>\n",
       "      <td>0.126373</td>\n",
       "      <td>0.228594</td>\n",
       "      <td>0.230439</td>\n",
       "      <td>0.107770</td>\n",
       "      <td>...</td>\n",
       "      <td>0.252780</td>\n",
       "      <td>0.217847</td>\n",
       "      <td>0.258662</td>\n",
       "      <td>0.268637</td>\n",
       "      <td>0.276182</td>\n",
       "      <td>0.214232</td>\n",
       "      <td>0.158717</td>\n",
       "      <td>0.367259</td>\n",
       "      <td>0.301571</td>\n",
       "      <td>0.328116</td>\n",
       "    </tr>\n",
       "    <tr>\n",
       "      <th>2.0</th>\n",
       "      <td>0.010137</td>\n",
       "      <td>0.107341</td>\n",
       "      <td>0.171492</td>\n",
       "      <td>0.299163</td>\n",
       "      <td>0.133621</td>\n",
       "      <td>0.256451</td>\n",
       "      <td>0.160723</td>\n",
       "      <td>0.226560</td>\n",
       "      <td>0.239494</td>\n",
       "      <td>0.118588</td>\n",
       "      <td>...</td>\n",
       "      <td>0.286469</td>\n",
       "      <td>0.253083</td>\n",
       "      <td>0.261861</td>\n",
       "      <td>0.238354</td>\n",
       "      <td>0.260860</td>\n",
       "      <td>0.178386</td>\n",
       "      <td>0.178781</td>\n",
       "      <td>0.357016</td>\n",
       "      <td>0.330572</td>\n",
       "      <td>0.366950</td>\n",
       "    </tr>\n",
       "    <tr>\n",
       "      <th>3.0</th>\n",
       "      <td>0.008196</td>\n",
       "      <td>0.133892</td>\n",
       "      <td>0.112614</td>\n",
       "      <td>0.262373</td>\n",
       "      <td>0.111241</td>\n",
       "      <td>0.247089</td>\n",
       "      <td>0.133506</td>\n",
       "      <td>0.211761</td>\n",
       "      <td>0.219353</td>\n",
       "      <td>0.106775</td>\n",
       "      <td>...</td>\n",
       "      <td>0.254498</td>\n",
       "      <td>0.258600</td>\n",
       "      <td>0.268107</td>\n",
       "      <td>0.245099</td>\n",
       "      <td>0.270796</td>\n",
       "      <td>0.149528</td>\n",
       "      <td>0.172897</td>\n",
       "      <td>0.257598</td>\n",
       "      <td>0.295915</td>\n",
       "      <td>0.337266</td>\n",
       "    </tr>\n",
       "    <tr>\n",
       "      <th>4.0</th>\n",
       "      <td>0.012099</td>\n",
       "      <td>0.114534</td>\n",
       "      <td>0.134856</td>\n",
       "      <td>0.289858</td>\n",
       "      <td>0.112977</td>\n",
       "      <td>0.243535</td>\n",
       "      <td>0.153650</td>\n",
       "      <td>0.230634</td>\n",
       "      <td>0.249325</td>\n",
       "      <td>0.080339</td>\n",
       "      <td>...</td>\n",
       "      <td>0.256776</td>\n",
       "      <td>0.215121</td>\n",
       "      <td>0.285465</td>\n",
       "      <td>0.257601</td>\n",
       "      <td>0.238565</td>\n",
       "      <td>0.191491</td>\n",
       "      <td>0.177666</td>\n",
       "      <td>0.226578</td>\n",
       "      <td>0.301181</td>\n",
       "      <td>0.359059</td>\n",
       "    </tr>\n",
       "    <tr>\n",
       "      <th>5.0</th>\n",
       "      <td>0.011768</td>\n",
       "      <td>0.105971</td>\n",
       "      <td>0.110494</td>\n",
       "      <td>0.269097</td>\n",
       "      <td>0.106641</td>\n",
       "      <td>0.248220</td>\n",
       "      <td>0.139430</td>\n",
       "      <td>0.246313</td>\n",
       "      <td>0.263455</td>\n",
       "      <td>0.106332</td>\n",
       "      <td>...</td>\n",
       "      <td>0.232970</td>\n",
       "      <td>0.210857</td>\n",
       "      <td>0.304468</td>\n",
       "      <td>0.250227</td>\n",
       "      <td>0.257328</td>\n",
       "      <td>0.252974</td>\n",
       "      <td>0.189921</td>\n",
       "      <td>0.272185</td>\n",
       "      <td>0.309642</td>\n",
       "      <td>0.373039</td>\n",
       "    </tr>\n",
       "  </tbody>\n",
       "</table>\n",
       "<p>5 rows × 176 columns</p>\n",
       "</div>"
      ],
      "text/plain": [
       "     Left-Lateral-Ventricle  Left-Inf-Lat-Vent  Left-Cerebellum-White-Matter  \\\n",
       "1.0                0.008558           0.109013                      0.172291   \n",
       "2.0                0.010137           0.107341                      0.171492   \n",
       "3.0                0.008196           0.133892                      0.112614   \n",
       "4.0                0.012099           0.114534                      0.134856   \n",
       "5.0                0.011768           0.105971                      0.110494   \n",
       "\n",
       "     Left-Cerebellum-Cortex  Left-Thalamus  Left-Caudate  Left-Putamen  \\\n",
       "1.0                0.260344       0.122025      0.236524      0.126373   \n",
       "2.0                0.299163       0.133621      0.256451      0.160723   \n",
       "3.0                0.262373       0.111241      0.247089      0.133506   \n",
       "4.0                0.289858       0.112977      0.243535      0.153650   \n",
       "5.0                0.269097       0.106641      0.248220      0.139430   \n",
       "\n",
       "     Left-Pallidum  3rd-Ventricle  4th-Ventricle  ...  wm-rh-superiorfrontal  \\\n",
       "1.0       0.228594       0.230439       0.107770  ...               0.252780   \n",
       "2.0       0.226560       0.239494       0.118588  ...               0.286469   \n",
       "3.0       0.211761       0.219353       0.106775  ...               0.254498   \n",
       "4.0       0.230634       0.249325       0.080339  ...               0.256776   \n",
       "5.0       0.246313       0.263455       0.106332  ...               0.232970   \n",
       "\n",
       "     wm-rh-superiorparietal  wm-rh-superiortemporal  wm-rh-supramarginal  \\\n",
       "1.0                0.217847                0.258662             0.268637   \n",
       "2.0                0.253083                0.261861             0.238354   \n",
       "3.0                0.258600                0.268107             0.245099   \n",
       "4.0                0.215121                0.285465             0.257601   \n",
       "5.0                0.210857                0.304468             0.250227   \n",
       "\n",
       "     wm-rh-frontalpole  wm-rh-temporalpole  wm-rh-transversetemporal  \\\n",
       "1.0           0.276182            0.214232                  0.158717   \n",
       "2.0           0.260860            0.178386                  0.178781   \n",
       "3.0           0.270796            0.149528                  0.172897   \n",
       "4.0           0.238565            0.191491                  0.177666   \n",
       "5.0           0.257328            0.252974                  0.189921   \n",
       "\n",
       "     wm-rh-insula  Left-UnsegmentedWhiteMatter  Right-UnsegmentedWhiteMatter  \n",
       "1.0      0.367259                     0.301571                      0.328116  \n",
       "2.0      0.357016                     0.330572                      0.366950  \n",
       "3.0      0.257598                     0.295915                      0.337266  \n",
       "4.0      0.226578                     0.301181                      0.359059  \n",
       "5.0      0.272185                     0.309642                      0.373039  \n",
       "\n",
       "[5 rows x 176 columns]"
      ]
     },
     "execution_count": 5,
     "metadata": {},
     "output_type": "execute_result"
    }
   ],
   "source": [
    "\n",
    "\n",
    "df_mean = pd.DataFrame(mean_t[1:,1:177],index=mean[0][1:98],columns=region[1:177])\n",
    "df_std=pd.DataFrame(std_t[1:,1:177],index=std[0][1:98],columns=region[1:177])\n",
    "\n",
    "df_mean.head()"
   ]
  },
  {
   "attachments": {},
   "cell_type": "markdown",
   "metadata": {},
   "source": [
    "Aggiungo i gruppi"
   ]
  },
  {
   "cell_type": "code",
   "execution_count": 6,
   "metadata": {},
   "outputs": [
    {
     "data": {
      "text/html": [
       "<div>\n",
       "<style scoped>\n",
       "    .dataframe tbody tr th:only-of-type {\n",
       "        vertical-align: middle;\n",
       "    }\n",
       "\n",
       "    .dataframe tbody tr th {\n",
       "        vertical-align: top;\n",
       "    }\n",
       "\n",
       "    .dataframe thead th {\n",
       "        text-align: right;\n",
       "    }\n",
       "</style>\n",
       "<table border=\"1\" class=\"dataframe\">\n",
       "  <thead>\n",
       "    <tr style=\"text-align: right;\">\n",
       "      <th></th>\n",
       "      <th>Subject</th>\n",
       "      <th>Group</th>\n",
       "      <th>Sex</th>\n",
       "      <th>Age</th>\n",
       "    </tr>\n",
       "  </thead>\n",
       "  <tbody>\n",
       "    <tr>\n",
       "      <th>67</th>\n",
       "      <td>4002</td>\n",
       "      <td>0</td>\n",
       "      <td>F</td>\n",
       "      <td>74.0</td>\n",
       "    </tr>\n",
       "    <tr>\n",
       "      <th>68</th>\n",
       "      <td>4003</td>\n",
       "      <td>0</td>\n",
       "      <td>F</td>\n",
       "      <td>72.0</td>\n",
       "    </tr>\n",
       "    <tr>\n",
       "      <th>28</th>\n",
       "      <td>4009</td>\n",
       "      <td>1</td>\n",
       "      <td>M</td>\n",
       "      <td>90.0</td>\n",
       "    </tr>\n",
       "    <tr>\n",
       "      <th>69</th>\n",
       "      <td>4018</td>\n",
       "      <td>0</td>\n",
       "      <td>M</td>\n",
       "      <td>76.0</td>\n",
       "    </tr>\n",
       "    <tr>\n",
       "      <th>70</th>\n",
       "      <td>4050</td>\n",
       "      <td>0</td>\n",
       "      <td>M</td>\n",
       "      <td>77.0</td>\n",
       "    </tr>\n",
       "  </tbody>\n",
       "</table>\n",
       "</div>"
      ],
      "text/plain": [
       "    Subject  Group Sex   Age\n",
       "67     4002      0   F  74.0\n",
       "68     4003      0   F  72.0\n",
       "28     4009      1   M  90.0\n",
       "69     4018      0   M  76.0\n",
       "70     4050      0   M  77.0"
      ]
     },
     "execution_count": 6,
     "metadata": {},
     "output_type": "execute_result"
    }
   ],
   "source": [
    "a=pd.DataFrame(pd.read_csv('/home/francesco/CompProject/ADNI_dataset_diffusion.csv'))\n",
    "a.sort_values(by=[\"Subject\"],inplace=True)\n",
    "group=a[\"Group\"]\n",
    "a.head()"
   ]
  },
  {
   "attachments": {},
   "cell_type": "markdown",
   "metadata": {},
   "source": [
    "Albero decisionale: creo i set e splitto"
   ]
  },
  {
   "cell_type": "code",
   "execution_count": 17,
   "metadata": {},
   "outputs": [],
   "source": [
    "\n",
    "from sklearn.ensemble import RandomForestClassifier\n",
    "from sklearn.metrics import accuracy_score, confusion_matrix, precision_score, recall_score, ConfusionMatrixDisplay\n",
    "from sklearn.model_selection import RandomizedSearchCV, train_test_split\n",
    "from scipy.stats import randint\n",
    "\n",
    "\n",
    "X=df_mean.values\n",
    "y=group.values\n",
    "\n",
    "X_tr, X_tst, y_tr, y_tst = train_test_split(X, y, test_size=.1, random_state=6)\n",
    "\n"
   ]
  },
  {
   "attachments": {},
   "cell_type": "markdown",
   "metadata": {},
   "source": [
    "Fitto l'albero"
   ]
  },
  {
   "cell_type": "code",
   "execution_count": 18,
   "metadata": {},
   "outputs": [
    {
     "name": "stdout",
     "output_type": "stream",
     "text": [
      "[0 0 1 1 1 0 0 1 0 0]\n"
     ]
    }
   ],
   "source": [
    "\n",
    "rf = RandomForestClassifier()\n",
    "rf.fit(X_tr, y_tr)\n",
    "y_pred = rf.predict(X_tst)\n",
    "\n",
    "print(y_pred)"
   ]
  },
  {
   "cell_type": "code",
   "execution_count": 19,
   "metadata": {},
   "outputs": [
    {
     "name": "stdout",
     "output_type": "stream",
     "text": [
      "Accuracy: 0.7\n"
     ]
    }
   ],
   "source": [
    "accuracy = accuracy_score(y_tst, y_pred)\n",
    "print(\"Accuracy:\", accuracy)"
   ]
  },
  {
   "attachments": {},
   "cell_type": "markdown",
   "metadata": {},
   "source": [
    "Hyperparameter tuning"
   ]
  },
  {
   "cell_type": "code",
   "execution_count": 20,
   "metadata": {},
   "outputs": [
    {
     "name": "stdout",
     "output_type": "stream",
     "text": [
      "Best hyperparameters: {'max_depth': 3, 'n_estimators': 458}\n"
     ]
    }
   ],
   "source": [
    "param_dist = {'n_estimators': randint(50,500),\n",
    "              'max_depth': randint(1,20)}\n",
    "\n",
    "# Create a random forest classifier\n",
    "rf = RandomForestClassifier()\n",
    "\n",
    "# Use random search to find the best hyperparameters\n",
    "rand_search = RandomizedSearchCV(rf, \n",
    "                                 param_distributions = param_dist, \n",
    "                                 n_iter=5, \n",
    "                                 cv=5)\n",
    "\n",
    "# Fit the random search object to the data\n",
    "rand_search.fit(X_tr, y_tr)\n",
    "\n",
    "# Create a variable for the best model\n",
    "best_rf = rand_search.best_estimator_\n",
    "\n",
    "# Print the best hyperparameters\n",
    "print('Best hyperparameters:',  rand_search.best_params_)\n"
   ]
  },
  {
   "cell_type": "code",
   "execution_count": 21,
   "metadata": {},
   "outputs": [
    {
     "name": "stdout",
     "output_type": "stream",
     "text": [
      "Accuracy: 0.8\n",
      "Precision: 0.6666666666666666\n",
      "Recall: 0.6666666666666666\n"
     ]
    }
   ],
   "source": [
    "y_pred = rand_search.predict(X_tst)\n",
    "\n",
    "accuracy = accuracy_score(y_tst, y_pred)\n",
    "precision = precision_score(y_tst, y_pred)\n",
    "recall = recall_score(y_tst, y_pred)\n",
    "\n",
    "print(\"Accuracy:\", accuracy)\n",
    "print(\"Precision:\", precision)\n",
    "print(\"Recall:\", recall)"
   ]
  },
  {
   "attachments": {},
   "cell_type": "markdown",
   "metadata": {},
   "source": [
    "Plotto alberi"
   ]
  },
  {
   "cell_type": "code",
   "execution_count": 22,
   "metadata": {},
   "outputs": [
    {
     "data": {
      "image/svg+xml": "<?xml version=\"1.0\" encoding=\"UTF-8\" standalone=\"no\"?>\n<!DOCTYPE svg PUBLIC \"-//W3C//DTD SVG 1.1//EN\"\n \"http://www.w3.org/Graphics/SVG/1.1/DTD/svg11.dtd\">\n<!-- Generated by graphviz version 2.43.0 (0)\n -->\n<!-- Title: Tree Pages: 1 -->\n<svg width=\"1362pt\" height=\"373pt\"\n viewBox=\"0.00 0.00 1362.00 373.00\" xmlns=\"http://www.w3.org/2000/svg\" xmlns:xlink=\"http://www.w3.org/1999/xlink\">\n<g id=\"graph0\" class=\"graph\" transform=\"scale(1 1) rotate(0) translate(4 369)\">\n<title>Tree</title>\n<polygon fill=\"white\" stroke=\"transparent\" points=\"-4,4 -4,-369 1358,-369 1358,4 -4,4\"/>\n<!-- 0 -->\n<g id=\"node1\" class=\"node\">\n<title>0</title>\n<polygon fill=\"#fcf1e9\" stroke=\"black\" points=\"798,-365 598,-365 598,-297 798,-297 798,-365\"/>\n<text text-anchor=\"middle\" x=\"698\" y=\"-349.8\" font-family=\"Helvetica,sans-Serif\" font-size=\"14.00\">Left&#45;Inf&#45;Lat&#45;Vent &lt;= 0.124</text>\n<text text-anchor=\"middle\" x=\"698\" y=\"-334.8\" font-family=\"Helvetica,sans-Serif\" font-size=\"14.00\">samples = 100.0%</text>\n<text text-anchor=\"middle\" x=\"698\" y=\"-319.8\" font-family=\"Helvetica,sans-Serif\" font-size=\"14.00\">value = [0.529, 0.471]</text>\n<text text-anchor=\"middle\" x=\"698\" y=\"-304.8\" font-family=\"Helvetica,sans-Serif\" font-size=\"14.00\">class = CN</text>\n</g>\n<!-- 1 -->\n<g id=\"node2\" class=\"node\">\n<title>1</title>\n<polygon fill=\"#99cdf2\" stroke=\"black\" points=\"670.5,-261 491.5,-261 491.5,-193 670.5,-193 670.5,-261\"/>\n<text text-anchor=\"middle\" x=\"581\" y=\"-245.8\" font-family=\"Helvetica,sans-Serif\" font-size=\"14.00\">Left&#45;Pallidum &lt;= 0.239</text>\n<text text-anchor=\"middle\" x=\"581\" y=\"-230.8\" font-family=\"Helvetica,sans-Serif\" font-size=\"14.00\">samples = 58.5%</text>\n<text text-anchor=\"middle\" x=\"581\" y=\"-215.8\" font-family=\"Helvetica,sans-Serif\" font-size=\"14.00\">value = [0.327, 0.673]</text>\n<text text-anchor=\"middle\" x=\"581\" y=\"-200.8\" font-family=\"Helvetica,sans-Serif\" font-size=\"14.00\">class = AD</text>\n</g>\n<!-- 0&#45;&gt;1 -->\n<g id=\"edge1\" class=\"edge\">\n<title>0&#45;&gt;1</title>\n<path fill=\"none\" stroke=\"black\" d=\"M660.01,-296.88C649.49,-287.71 637.95,-277.65 627.02,-268.12\"/>\n<polygon fill=\"black\" stroke=\"black\" points=\"629.03,-265.23 619.2,-261.3 624.43,-270.51 629.03,-265.23\"/>\n<text text-anchor=\"middle\" x=\"620.9\" y=\"-282.54\" font-family=\"Helvetica,sans-Serif\" font-size=\"14.00\">True</text>\n</g>\n<!-- 8 -->\n<g id=\"node9\" class=\"node\">\n<title>8</title>\n<polygon fill=\"#ea9b62\" stroke=\"black\" points=\"922,-261 732,-261 732,-193 922,-193 922,-261\"/>\n<text text-anchor=\"middle\" x=\"827\" y=\"-245.8\" font-family=\"Helvetica,sans-Serif\" font-size=\"14.00\">Left&#45;Amygdala &lt;= 0.129</text>\n<text text-anchor=\"middle\" x=\"827\" y=\"-230.8\" font-family=\"Helvetica,sans-Serif\" font-size=\"14.00\">samples = 41.5%</text>\n<text text-anchor=\"middle\" x=\"827\" y=\"-215.8\" font-family=\"Helvetica,sans-Serif\" font-size=\"14.00\">value = [0.829, 0.171]</text>\n<text text-anchor=\"middle\" x=\"827\" y=\"-200.8\" font-family=\"Helvetica,sans-Serif\" font-size=\"14.00\">class = CN</text>\n</g>\n<!-- 0&#45;&gt;8 -->\n<g id=\"edge8\" class=\"edge\">\n<title>0&#45;&gt;8</title>\n<path fill=\"none\" stroke=\"black\" d=\"M739.88,-296.88C751.71,-287.53 764.7,-277.26 776.96,-267.57\"/>\n<polygon fill=\"black\" stroke=\"black\" points=\"779.21,-270.25 784.89,-261.3 774.87,-264.76 779.21,-270.25\"/>\n<text text-anchor=\"middle\" x=\"781.98\" y=\"-282.43\" font-family=\"Helvetica,sans-Serif\" font-size=\"14.00\">False</text>\n</g>\n<!-- 2 -->\n<g id=\"node3\" class=\"node\">\n<title>2</title>\n<polygon fill=\"#f0b890\" stroke=\"black\" points=\"391.5,-157 172.5,-157 172.5,-89 391.5,-89 391.5,-157\"/>\n<text text-anchor=\"middle\" x=\"282\" y=\"-141.8\" font-family=\"Helvetica,sans-Serif\" font-size=\"14.00\">wm&#45;rh&#45;paracentral &lt;= 0.208</text>\n<text text-anchor=\"middle\" x=\"282\" y=\"-126.8\" font-family=\"Helvetica,sans-Serif\" font-size=\"14.00\">samples = 28.3%</text>\n<text text-anchor=\"middle\" x=\"282\" y=\"-111.8\" font-family=\"Helvetica,sans-Serif\" font-size=\"14.00\">value = [0.696, 0.304]</text>\n<text text-anchor=\"middle\" x=\"282\" y=\"-96.8\" font-family=\"Helvetica,sans-Serif\" font-size=\"14.00\">class = CN</text>\n</g>\n<!-- 1&#45;&gt;2 -->\n<g id=\"edge2\" class=\"edge\">\n<title>1&#45;&gt;2</title>\n<path fill=\"none\" stroke=\"black\" d=\"M491.29,-195.4C459.04,-184.39 422.34,-171.88 388.78,-160.43\"/>\n<polygon fill=\"black\" stroke=\"black\" points=\"389.54,-156.99 378.94,-157.07 387.28,-163.61 389.54,-156.99\"/>\n</g>\n<!-- 5 -->\n<g id=\"node6\" class=\"node\">\n<title>5</title>\n<polygon fill=\"#40a0e6\" stroke=\"black\" points=\"705,-157 457,-157 457,-89 705,-89 705,-157\"/>\n<text text-anchor=\"middle\" x=\"581\" y=\"-141.8\" font-family=\"Helvetica,sans-Serif\" font-size=\"14.00\">ctx&#45;rh&#45;inferiortemporal &lt;= 0.095</text>\n<text text-anchor=\"middle\" x=\"581\" y=\"-126.8\" font-family=\"Helvetica,sans-Serif\" font-size=\"14.00\">samples = 30.2%</text>\n<text text-anchor=\"middle\" x=\"581\" y=\"-111.8\" font-family=\"Helvetica,sans-Serif\" font-size=\"14.00\">value = [0.034, 0.966]</text>\n<text text-anchor=\"middle\" x=\"581\" y=\"-96.8\" font-family=\"Helvetica,sans-Serif\" font-size=\"14.00\">class = AD</text>\n</g>\n<!-- 1&#45;&gt;5 -->\n<g id=\"edge5\" class=\"edge\">\n<title>1&#45;&gt;5</title>\n<path fill=\"none\" stroke=\"black\" d=\"M581,-192.88C581,-184.78 581,-175.98 581,-167.47\"/>\n<polygon fill=\"black\" stroke=\"black\" points=\"584.5,-167.3 581,-157.3 577.5,-167.3 584.5,-167.3\"/>\n</g>\n<!-- 3 -->\n<g id=\"node4\" class=\"node\">\n<title>3</title>\n<polygon fill=\"#5aade9\" stroke=\"black\" points=\"176,-53 0,-53 0,0 176,0 176,-53\"/>\n<text text-anchor=\"middle\" x=\"88\" y=\"-37.8\" font-family=\"Helvetica,sans-Serif\" font-size=\"14.00\">samples = 11.3%</text>\n<text text-anchor=\"middle\" x=\"88\" y=\"-22.8\" font-family=\"Helvetica,sans-Serif\" font-size=\"14.00\">value = [0.143, 0.857]</text>\n<text text-anchor=\"middle\" x=\"88\" y=\"-7.8\" font-family=\"Helvetica,sans-Serif\" font-size=\"14.00\">class = AD</text>\n</g>\n<!-- 2&#45;&gt;3 -->\n<g id=\"edge3\" class=\"edge\">\n<title>2&#45;&gt;3</title>\n<path fill=\"none\" stroke=\"black\" d=\"M214.15,-88.95C193.21,-78.75 170.27,-67.57 149.76,-57.59\"/>\n<polygon fill=\"black\" stroke=\"black\" points=\"151.05,-54.32 140.53,-53.09 147.98,-60.61 151.05,-54.32\"/>\n</g>\n<!-- 4 -->\n<g id=\"node5\" class=\"node\">\n<title>4</title>\n<polygon fill=\"#e78946\" stroke=\"black\" points=\"370,-53 194,-53 194,0 370,0 370,-53\"/>\n<text text-anchor=\"middle\" x=\"282\" y=\"-37.8\" font-family=\"Helvetica,sans-Serif\" font-size=\"14.00\">samples = 17.0%</text>\n<text text-anchor=\"middle\" x=\"282\" y=\"-22.8\" font-family=\"Helvetica,sans-Serif\" font-size=\"14.00\">value = [0.938, 0.062]</text>\n<text text-anchor=\"middle\" x=\"282\" y=\"-7.8\" font-family=\"Helvetica,sans-Serif\" font-size=\"14.00\">class = CN</text>\n</g>\n<!-- 2&#45;&gt;4 -->\n<g id=\"edge4\" class=\"edge\">\n<title>2&#45;&gt;4</title>\n<path fill=\"none\" stroke=\"black\" d=\"M282,-88.95C282,-80.72 282,-71.85 282,-63.48\"/>\n<polygon fill=\"black\" stroke=\"black\" points=\"285.5,-63.24 282,-53.24 278.5,-63.24 285.5,-63.24\"/>\n</g>\n<!-- 6 -->\n<g id=\"node7\" class=\"node\">\n<title>6</title>\n<polygon fill=\"#e58139\" stroke=\"black\" points=\"528,-53 388,-53 388,0 528,0 528,-53\"/>\n<text text-anchor=\"middle\" x=\"458\" y=\"-37.8\" font-family=\"Helvetica,sans-Serif\" font-size=\"14.00\">samples = 1.9%</text>\n<text text-anchor=\"middle\" x=\"458\" y=\"-22.8\" font-family=\"Helvetica,sans-Serif\" font-size=\"14.00\">value = [1.0, 0.0]</text>\n<text text-anchor=\"middle\" x=\"458\" y=\"-7.8\" font-family=\"Helvetica,sans-Serif\" font-size=\"14.00\">class = CN</text>\n</g>\n<!-- 5&#45;&gt;6 -->\n<g id=\"edge6\" class=\"edge\">\n<title>5&#45;&gt;6</title>\n<path fill=\"none\" stroke=\"black\" d=\"M537.98,-88.95C525.48,-79.34 511.85,-68.87 499.45,-59.34\"/>\n<polygon fill=\"black\" stroke=\"black\" points=\"501.56,-56.55 491.5,-53.24 497.3,-62.1 501.56,-56.55\"/>\n</g>\n<!-- 7 -->\n<g id=\"node8\" class=\"node\">\n<title>7</title>\n<polygon fill=\"#399de5\" stroke=\"black\" points=\"686,-53 546,-53 546,0 686,0 686,-53\"/>\n<text text-anchor=\"middle\" x=\"616\" y=\"-37.8\" font-family=\"Helvetica,sans-Serif\" font-size=\"14.00\">samples = 28.3%</text>\n<text text-anchor=\"middle\" x=\"616\" y=\"-22.8\" font-family=\"Helvetica,sans-Serif\" font-size=\"14.00\">value = [0.0, 1.0]</text>\n<text text-anchor=\"middle\" x=\"616\" y=\"-7.8\" font-family=\"Helvetica,sans-Serif\" font-size=\"14.00\">class = AD</text>\n</g>\n<!-- 5&#45;&gt;7 -->\n<g id=\"edge7\" class=\"edge\">\n<title>5&#45;&gt;7</title>\n<path fill=\"none\" stroke=\"black\" d=\"M593.24,-88.95C596.39,-80.44 599.79,-71.26 602.98,-62.65\"/>\n<polygon fill=\"black\" stroke=\"black\" points=\"606.28,-63.83 606.47,-53.24 599.71,-61.4 606.28,-63.83\"/>\n</g>\n<!-- 9 -->\n<g id=\"node10\" class=\"node\">\n<title>9</title>\n<polygon fill=\"#e78a47\" stroke=\"black\" points=\"920,-157 734,-157 734,-89 920,-89 920,-157\"/>\n<text text-anchor=\"middle\" x=\"827\" y=\"-141.8\" font-family=\"Helvetica,sans-Serif\" font-size=\"14.00\">wm&#45;rh&#45;lingual &lt;= 0.266</text>\n<text text-anchor=\"middle\" x=\"827\" y=\"-126.8\" font-family=\"Helvetica,sans-Serif\" font-size=\"14.00\">samples = 32.1%</text>\n<text text-anchor=\"middle\" x=\"827\" y=\"-111.8\" font-family=\"Helvetica,sans-Serif\" font-size=\"14.00\">value = [0.933, 0.067]</text>\n<text text-anchor=\"middle\" x=\"827\" y=\"-96.8\" font-family=\"Helvetica,sans-Serif\" font-size=\"14.00\">class = CN</text>\n</g>\n<!-- 8&#45;&gt;9 -->\n<g id=\"edge9\" class=\"edge\">\n<title>8&#45;&gt;9</title>\n<path fill=\"none\" stroke=\"black\" d=\"M827,-192.88C827,-184.78 827,-175.98 827,-167.47\"/>\n<polygon fill=\"black\" stroke=\"black\" points=\"830.5,-167.3 827,-157.3 823.5,-167.3 830.5,-167.3\"/>\n</g>\n<!-- 12 -->\n<g id=\"node13\" class=\"node\">\n<title>12</title>\n<polygon fill=\"#6ab6ec\" stroke=\"black\" points=\"1251,-157 1001,-157 1001,-89 1251,-89 1251,-157\"/>\n<text text-anchor=\"middle\" x=\"1126\" y=\"-141.8\" font-family=\"Helvetica,sans-Serif\" font-size=\"14.00\">wm&#45;rh&#45;parstriangularis &lt;= 0.237</text>\n<text text-anchor=\"middle\" x=\"1126\" y=\"-126.8\" font-family=\"Helvetica,sans-Serif\" font-size=\"14.00\">samples = 9.4%</text>\n<text text-anchor=\"middle\" x=\"1126\" y=\"-111.8\" font-family=\"Helvetica,sans-Serif\" font-size=\"14.00\">value = [0.2, 0.8]</text>\n<text text-anchor=\"middle\" x=\"1126\" y=\"-96.8\" font-family=\"Helvetica,sans-Serif\" font-size=\"14.00\">class = AD</text>\n</g>\n<!-- 8&#45;&gt;12 -->\n<g id=\"edge12\" class=\"edge\">\n<title>8&#45;&gt;12</title>\n<path fill=\"none\" stroke=\"black\" d=\"M922.02,-193.59C953.01,-183.01 987.62,-171.21 1019.41,-160.36\"/>\n<polygon fill=\"black\" stroke=\"black\" points=\"1020.84,-163.57 1029.17,-157.03 1018.58,-156.95 1020.84,-163.57\"/>\n</g>\n<!-- 10 -->\n<g id=\"node11\" class=\"node\">\n<title>10</title>\n<polygon fill=\"#e68640\" stroke=\"black\" points=\"880,-53 704,-53 704,0 880,0 880,-53\"/>\n<text text-anchor=\"middle\" x=\"792\" y=\"-37.8\" font-family=\"Helvetica,sans-Serif\" font-size=\"14.00\">samples = 30.2%</text>\n<text text-anchor=\"middle\" x=\"792\" y=\"-22.8\" font-family=\"Helvetica,sans-Serif\" font-size=\"14.00\">value = [0.966, 0.034]</text>\n<text text-anchor=\"middle\" x=\"792\" y=\"-7.8\" font-family=\"Helvetica,sans-Serif\" font-size=\"14.00\">class = CN</text>\n</g>\n<!-- 9&#45;&gt;10 -->\n<g id=\"edge10\" class=\"edge\">\n<title>9&#45;&gt;10</title>\n<path fill=\"none\" stroke=\"black\" d=\"M814.76,-88.95C811.61,-80.44 808.21,-71.26 805.02,-62.65\"/>\n<polygon fill=\"black\" stroke=\"black\" points=\"808.29,-61.4 801.53,-53.24 801.72,-63.83 808.29,-61.4\"/>\n</g>\n<!-- 11 -->\n<g id=\"node12\" class=\"node\">\n<title>11</title>\n<polygon fill=\"#399de5\" stroke=\"black\" points=\"1038,-53 898,-53 898,0 1038,0 1038,-53\"/>\n<text text-anchor=\"middle\" x=\"968\" y=\"-37.8\" font-family=\"Helvetica,sans-Serif\" font-size=\"14.00\">samples = 1.9%</text>\n<text text-anchor=\"middle\" x=\"968\" y=\"-22.8\" font-family=\"Helvetica,sans-Serif\" font-size=\"14.00\">value = [0.0, 1.0]</text>\n<text text-anchor=\"middle\" x=\"968\" y=\"-7.8\" font-family=\"Helvetica,sans-Serif\" font-size=\"14.00\">class = AD</text>\n</g>\n<!-- 9&#45;&gt;11 -->\n<g id=\"edge11\" class=\"edge\">\n<title>9&#45;&gt;11</title>\n<path fill=\"none\" stroke=\"black\" d=\"M876.31,-88.95C890.78,-79.25 906.56,-68.68 920.89,-59.07\"/>\n<polygon fill=\"black\" stroke=\"black\" points=\"923.24,-61.71 929.6,-53.24 919.34,-55.9 923.24,-61.71\"/>\n</g>\n<!-- 13 -->\n<g id=\"node14\" class=\"node\">\n<title>13</title>\n<polygon fill=\"#399de5\" stroke=\"black\" points=\"1196,-53 1056,-53 1056,0 1196,0 1196,-53\"/>\n<text text-anchor=\"middle\" x=\"1126\" y=\"-37.8\" font-family=\"Helvetica,sans-Serif\" font-size=\"14.00\">samples = 7.5%</text>\n<text text-anchor=\"middle\" x=\"1126\" y=\"-22.8\" font-family=\"Helvetica,sans-Serif\" font-size=\"14.00\">value = [0.0, 1.0]</text>\n<text text-anchor=\"middle\" x=\"1126\" y=\"-7.8\" font-family=\"Helvetica,sans-Serif\" font-size=\"14.00\">class = AD</text>\n</g>\n<!-- 12&#45;&gt;13 -->\n<g id=\"edge13\" class=\"edge\">\n<title>12&#45;&gt;13</title>\n<path fill=\"none\" stroke=\"black\" d=\"M1126,-88.95C1126,-80.72 1126,-71.85 1126,-63.48\"/>\n<polygon fill=\"black\" stroke=\"black\" points=\"1129.5,-63.24 1126,-53.24 1122.5,-63.24 1129.5,-63.24\"/>\n</g>\n<!-- 14 -->\n<g id=\"node15\" class=\"node\">\n<title>14</title>\n<polygon fill=\"#e58139\" stroke=\"black\" points=\"1354,-53 1214,-53 1214,0 1354,0 1354,-53\"/>\n<text text-anchor=\"middle\" x=\"1284\" y=\"-37.8\" font-family=\"Helvetica,sans-Serif\" font-size=\"14.00\">samples = 1.9%</text>\n<text text-anchor=\"middle\" x=\"1284\" y=\"-22.8\" font-family=\"Helvetica,sans-Serif\" font-size=\"14.00\">value = [1.0, 0.0]</text>\n<text text-anchor=\"middle\" x=\"1284\" y=\"-7.8\" font-family=\"Helvetica,sans-Serif\" font-size=\"14.00\">class = CN</text>\n</g>\n<!-- 12&#45;&gt;14 -->\n<g id=\"edge14\" class=\"edge\">\n<title>12&#45;&gt;14</title>\n<path fill=\"none\" stroke=\"black\" d=\"M1181.26,-88.95C1197.85,-79.02 1215.99,-68.18 1232.34,-58.4\"/>\n<polygon fill=\"black\" stroke=\"black\" points=\"1234.43,-61.22 1241.22,-53.09 1230.84,-55.22 1234.43,-61.22\"/>\n</g>\n</g>\n</svg>\n",
      "text/plain": [
       "<graphviz.sources.Source at 0x7f0c74aa5d80>"
      ]
     },
     "metadata": {},
     "output_type": "display_data"
    },
    {
     "data": {
      "image/svg+xml": "<?xml version=\"1.0\" encoding=\"UTF-8\" standalone=\"no\"?>\n<!DOCTYPE svg PUBLIC \"-//W3C//DTD SVG 1.1//EN\"\n \"http://www.w3.org/Graphics/SVG/1.1/DTD/svg11.dtd\">\n<!-- Generated by graphviz version 2.43.0 (0)\n -->\n<!-- Title: Tree Pages: 1 -->\n<svg width=\"888pt\" height=\"373pt\"\n viewBox=\"0.00 0.00 888.00 373.00\" xmlns=\"http://www.w3.org/2000/svg\" xmlns:xlink=\"http://www.w3.org/1999/xlink\">\n<g id=\"graph0\" class=\"graph\" transform=\"scale(1 1) rotate(0) translate(4 369)\">\n<title>Tree</title>\n<polygon fill=\"white\" stroke=\"transparent\" points=\"-4,4 -4,-369 884,-369 884,4 -4,4\"/>\n<!-- 0 -->\n<g id=\"node1\" class=\"node\">\n<title>0</title>\n<polygon fill=\"#fbece2\" stroke=\"black\" points=\"553,-365 297,-365 297,-297 553,-297 553,-365\"/>\n<text text-anchor=\"middle\" x=\"425\" y=\"-349.8\" font-family=\"Helvetica,sans-Serif\" font-size=\"14.00\">ctx&#45;rh&#45;superiortemporal &lt;= 0.109</text>\n<text text-anchor=\"middle\" x=\"425\" y=\"-334.8\" font-family=\"Helvetica,sans-Serif\" font-size=\"14.00\">samples = 100.0%</text>\n<text text-anchor=\"middle\" x=\"425\" y=\"-319.8\" font-family=\"Helvetica,sans-Serif\" font-size=\"14.00\">value = [0.54, 0.46]</text>\n<text text-anchor=\"middle\" x=\"425\" y=\"-304.8\" font-family=\"Helvetica,sans-Serif\" font-size=\"14.00\">class = CN</text>\n</g>\n<!-- 1 -->\n<g id=\"node2\" class=\"node\">\n<title>1</title>\n<polygon fill=\"#ea9b62\" stroke=\"black\" points=\"397.5,-261 162.5,-261 162.5,-193 397.5,-193 397.5,-261\"/>\n<text text-anchor=\"middle\" x=\"280\" y=\"-245.8\" font-family=\"Helvetica,sans-Serif\" font-size=\"14.00\">ctx&#45;lh&#45;lateraloccipital &lt;= 0.079</text>\n<text text-anchor=\"middle\" x=\"280\" y=\"-230.8\" font-family=\"Helvetica,sans-Serif\" font-size=\"14.00\">samples = 40.8%</text>\n<text text-anchor=\"middle\" x=\"280\" y=\"-215.8\" font-family=\"Helvetica,sans-Serif\" font-size=\"14.00\">value = [0.829, 0.171]</text>\n<text text-anchor=\"middle\" x=\"280\" y=\"-200.8\" font-family=\"Helvetica,sans-Serif\" font-size=\"14.00\">class = CN</text>\n</g>\n<!-- 0&#45;&gt;1 -->\n<g id=\"edge1\" class=\"edge\">\n<title>0&#45;&gt;1</title>\n<path fill=\"none\" stroke=\"black\" d=\"M377.92,-296.88C364.5,-287.44 349.75,-277.06 335.86,-267.29\"/>\n<polygon fill=\"black\" stroke=\"black\" points=\"337.53,-264.19 327.34,-261.3 333.5,-269.92 337.53,-264.19\"/>\n<text text-anchor=\"middle\" x=\"331.63\" y=\"-282.23\" font-family=\"Helvetica,sans-Serif\" font-size=\"14.00\">True</text>\n</g>\n<!-- 6 -->\n<g id=\"node7\" class=\"node\">\n<title>6</title>\n<polygon fill=\"#a2d1f3\" stroke=\"black\" points=\"681,-261 461,-261 461,-193 681,-193 681,-261\"/>\n<text text-anchor=\"middle\" x=\"571\" y=\"-245.8\" font-family=\"Helvetica,sans-Serif\" font-size=\"14.00\">wm&#45;rh&#45;pericalcarine &lt;= 0.26</text>\n<text text-anchor=\"middle\" x=\"571\" y=\"-230.8\" font-family=\"Helvetica,sans-Serif\" font-size=\"14.00\">samples = 59.2%</text>\n<text text-anchor=\"middle\" x=\"571\" y=\"-215.8\" font-family=\"Helvetica,sans-Serif\" font-size=\"14.00\">value = [0.346, 0.654]</text>\n<text text-anchor=\"middle\" x=\"571\" y=\"-200.8\" font-family=\"Helvetica,sans-Serif\" font-size=\"14.00\">class = AD</text>\n</g>\n<!-- 0&#45;&gt;6 -->\n<g id=\"edge6\" class=\"edge\">\n<title>0&#45;&gt;6</title>\n<path fill=\"none\" stroke=\"black\" d=\"M472.4,-296.88C485.92,-287.44 500.77,-277.06 514.76,-267.29\"/>\n<polygon fill=\"black\" stroke=\"black\" points=\"517.14,-269.9 523.34,-261.3 513.13,-264.16 517.14,-269.9\"/>\n<text text-anchor=\"middle\" x=\"518.97\" y=\"-282.21\" font-family=\"Helvetica,sans-Serif\" font-size=\"14.00\">False</text>\n</g>\n<!-- 2 -->\n<g id=\"node3\" class=\"node\">\n<title>2</title>\n<polygon fill=\"#399de5\" stroke=\"black\" points=\"140,-149.5 0,-149.5 0,-96.5 140,-96.5 140,-149.5\"/>\n<text text-anchor=\"middle\" x=\"70\" y=\"-134.3\" font-family=\"Helvetica,sans-Serif\" font-size=\"14.00\">samples = 2.0%</text>\n<text text-anchor=\"middle\" x=\"70\" y=\"-119.3\" font-family=\"Helvetica,sans-Serif\" font-size=\"14.00\">value = [0.0, 1.0]</text>\n<text text-anchor=\"middle\" x=\"70\" y=\"-104.3\" font-family=\"Helvetica,sans-Serif\" font-size=\"14.00\">class = AD</text>\n</g>\n<!-- 1&#45;&gt;2 -->\n<g id=\"edge2\" class=\"edge\">\n<title>1&#45;&gt;2</title>\n<path fill=\"none\" stroke=\"black\" d=\"M211.82,-192.88C186.01,-180.35 156.79,-166.16 131.62,-153.93\"/>\n<polygon fill=\"black\" stroke=\"black\" points=\"133.07,-150.74 122.54,-149.52 130.01,-157.04 133.07,-150.74\"/>\n</g>\n<!-- 3 -->\n<g id=\"node4\" class=\"node\">\n<title>3</title>\n<polygon fill=\"#e88e4d\" stroke=\"black\" points=\"401.5,-157 158.5,-157 158.5,-89 401.5,-89 401.5,-157\"/>\n<text text-anchor=\"middle\" x=\"280\" y=\"-141.8\" font-family=\"Helvetica,sans-Serif\" font-size=\"14.00\">ctx&#45;rh&#45;parsopercularis &lt;= 0.056</text>\n<text text-anchor=\"middle\" x=\"280\" y=\"-126.8\" font-family=\"Helvetica,sans-Serif\" font-size=\"14.00\">samples = 38.8%</text>\n<text text-anchor=\"middle\" x=\"280\" y=\"-111.8\" font-family=\"Helvetica,sans-Serif\" font-size=\"14.00\">value = [0.906, 0.094]</text>\n<text text-anchor=\"middle\" x=\"280\" y=\"-96.8\" font-family=\"Helvetica,sans-Serif\" font-size=\"14.00\">class = CN</text>\n</g>\n<!-- 1&#45;&gt;3 -->\n<g id=\"edge3\" class=\"edge\">\n<title>1&#45;&gt;3</title>\n<path fill=\"none\" stroke=\"black\" d=\"M280,-192.88C280,-184.78 280,-175.98 280,-167.47\"/>\n<polygon fill=\"black\" stroke=\"black\" points=\"283.5,-167.3 280,-157.3 276.5,-167.3 283.5,-167.3\"/>\n</g>\n<!-- 4 -->\n<g id=\"node5\" class=\"node\">\n<title>4</title>\n<polygon fill=\"#399de5\" stroke=\"black\" points=\"198,-53 58,-53 58,0 198,0 198,-53\"/>\n<text text-anchor=\"middle\" x=\"128\" y=\"-37.8\" font-family=\"Helvetica,sans-Serif\" font-size=\"14.00\">samples = 2.0%</text>\n<text text-anchor=\"middle\" x=\"128\" y=\"-22.8\" font-family=\"Helvetica,sans-Serif\" font-size=\"14.00\">value = [0.0, 1.0]</text>\n<text text-anchor=\"middle\" x=\"128\" y=\"-7.8\" font-family=\"Helvetica,sans-Serif\" font-size=\"14.00\">class = AD</text>\n</g>\n<!-- 3&#45;&gt;4 -->\n<g id=\"edge4\" class=\"edge\">\n<title>3&#45;&gt;4</title>\n<path fill=\"none\" stroke=\"black\" d=\"M226.84,-88.95C210.95,-79.07 193.59,-68.28 177.91,-58.53\"/>\n<polygon fill=\"black\" stroke=\"black\" points=\"179.74,-55.54 169.4,-53.24 176.04,-61.49 179.74,-55.54\"/>\n</g>\n<!-- 5 -->\n<g id=\"node6\" class=\"node\">\n<title>5</title>\n<polygon fill=\"#e78a47\" stroke=\"black\" points=\"392,-53 216,-53 216,0 392,0 392,-53\"/>\n<text text-anchor=\"middle\" x=\"304\" y=\"-37.8\" font-family=\"Helvetica,sans-Serif\" font-size=\"14.00\">samples = 36.7%</text>\n<text text-anchor=\"middle\" x=\"304\" y=\"-22.8\" font-family=\"Helvetica,sans-Serif\" font-size=\"14.00\">value = [0.935, 0.065]</text>\n<text text-anchor=\"middle\" x=\"304\" y=\"-7.8\" font-family=\"Helvetica,sans-Serif\" font-size=\"14.00\">class = CN</text>\n</g>\n<!-- 3&#45;&gt;5 -->\n<g id=\"edge5\" class=\"edge\">\n<title>3&#45;&gt;5</title>\n<path fill=\"none\" stroke=\"black\" d=\"M288.39,-88.95C290.51,-80.62 292.79,-71.65 294.93,-63.2\"/>\n<polygon fill=\"black\" stroke=\"black\" points=\"298.39,-63.79 297.46,-53.24 291.61,-62.07 298.39,-63.79\"/>\n</g>\n<!-- 7 -->\n<g id=\"node8\" class=\"node\">\n<title>7</title>\n<polygon fill=\"#7fc0ee\" stroke=\"black\" points=\"722,-157 420,-157 420,-89 722,-89 722,-157\"/>\n<text text-anchor=\"middle\" x=\"571\" y=\"-141.8\" font-family=\"Helvetica,sans-Serif\" font-size=\"14.00\">wm&#45;lh&#45;caudalanteriorcingulate &lt;= 0.342</text>\n<text text-anchor=\"middle\" x=\"571\" y=\"-126.8\" font-family=\"Helvetica,sans-Serif\" font-size=\"14.00\">samples = 55.1%</text>\n<text text-anchor=\"middle\" x=\"571\" y=\"-111.8\" font-family=\"Helvetica,sans-Serif\" font-size=\"14.00\">value = [0.261, 0.739]</text>\n<text text-anchor=\"middle\" x=\"571\" y=\"-96.8\" font-family=\"Helvetica,sans-Serif\" font-size=\"14.00\">class = AD</text>\n</g>\n<!-- 6&#45;&gt;7 -->\n<g id=\"edge7\" class=\"edge\">\n<title>6&#45;&gt;7</title>\n<path fill=\"none\" stroke=\"black\" d=\"M571,-192.88C571,-184.78 571,-175.98 571,-167.47\"/>\n<polygon fill=\"black\" stroke=\"black\" points=\"574.5,-167.3 571,-157.3 567.5,-167.3 574.5,-167.3\"/>\n</g>\n<!-- 10 -->\n<g id=\"node11\" class=\"node\">\n<title>10</title>\n<polygon fill=\"#e58139\" stroke=\"black\" points=\"880,-149.5 740,-149.5 740,-96.5 880,-96.5 880,-149.5\"/>\n<text text-anchor=\"middle\" x=\"810\" y=\"-134.3\" font-family=\"Helvetica,sans-Serif\" font-size=\"14.00\">samples = 4.1%</text>\n<text text-anchor=\"middle\" x=\"810\" y=\"-119.3\" font-family=\"Helvetica,sans-Serif\" font-size=\"14.00\">value = [1.0, 0.0]</text>\n<text text-anchor=\"middle\" x=\"810\" y=\"-104.3\" font-family=\"Helvetica,sans-Serif\" font-size=\"14.00\">class = CN</text>\n</g>\n<!-- 6&#45;&gt;10 -->\n<g id=\"edge10\" class=\"edge\">\n<title>6&#45;&gt;10</title>\n<path fill=\"none\" stroke=\"black\" d=\"M648.6,-192.88C678.36,-180.18 712.1,-165.78 741,-153.45\"/>\n<polygon fill=\"black\" stroke=\"black\" points=\"742.38,-156.66 750.2,-149.52 739.63,-150.23 742.38,-156.66\"/>\n</g>\n<!-- 8 -->\n<g id=\"node9\" class=\"node\">\n<title>8</title>\n<polygon fill=\"#54abe9\" stroke=\"black\" points=\"634,-53 458,-53 458,0 634,0 634,-53\"/>\n<text text-anchor=\"middle\" x=\"546\" y=\"-37.8\" font-family=\"Helvetica,sans-Serif\" font-size=\"14.00\">samples = 40.8%</text>\n<text text-anchor=\"middle\" x=\"546\" y=\"-22.8\" font-family=\"Helvetica,sans-Serif\" font-size=\"14.00\">value = [0.121, 0.879]</text>\n<text text-anchor=\"middle\" x=\"546\" y=\"-7.8\" font-family=\"Helvetica,sans-Serif\" font-size=\"14.00\">class = AD</text>\n</g>\n<!-- 7&#45;&gt;8 -->\n<g id=\"edge8\" class=\"edge\">\n<title>7&#45;&gt;8</title>\n<path fill=\"none\" stroke=\"black\" d=\"M562.26,-88.95C560.03,-80.53 557.63,-71.45 555.37,-62.92\"/>\n<polygon fill=\"black\" stroke=\"black\" points=\"558.75,-62.01 552.81,-53.24 551.98,-63.8 558.75,-62.01\"/>\n</g>\n<!-- 9 -->\n<g id=\"node10\" class=\"node\">\n<title>9</title>\n<polygon fill=\"#f5d0b5\" stroke=\"black\" points=\"828,-53 652,-53 652,0 828,0 828,-53\"/>\n<text text-anchor=\"middle\" x=\"740\" y=\"-37.8\" font-family=\"Helvetica,sans-Serif\" font-size=\"14.00\">samples = 14.3%</text>\n<text text-anchor=\"middle\" x=\"740\" y=\"-22.8\" font-family=\"Helvetica,sans-Serif\" font-size=\"14.00\">value = [0.615, 0.385]</text>\n<text text-anchor=\"middle\" x=\"740\" y=\"-7.8\" font-family=\"Helvetica,sans-Serif\" font-size=\"14.00\">class = CN</text>\n</g>\n<!-- 7&#45;&gt;9 -->\n<g id=\"edge9\" class=\"edge\">\n<title>7&#45;&gt;9</title>\n<path fill=\"none\" stroke=\"black\" d=\"M630.11,-88.95C648.02,-78.93 667.61,-67.98 685.23,-58.13\"/>\n<polygon fill=\"black\" stroke=\"black\" points=\"687.22,-61.02 694.24,-53.09 683.81,-54.91 687.22,-61.02\"/>\n</g>\n</g>\n</svg>\n",
      "text/plain": [
       "<graphviz.sources.Source at 0x7f0ca4555a50>"
      ]
     },
     "metadata": {},
     "output_type": "display_data"
    },
    {
     "data": {
      "image/svg+xml": "<?xml version=\"1.0\" encoding=\"UTF-8\" standalone=\"no\"?>\n<!DOCTYPE svg PUBLIC \"-//W3C//DTD SVG 1.1//EN\"\n \"http://www.w3.org/Graphics/SVG/1.1/DTD/svg11.dtd\">\n<!-- Generated by graphviz version 2.43.0 (0)\n -->\n<!-- Title: Tree Pages: 1 -->\n<svg width=\"780pt\" height=\"373pt\"\n viewBox=\"0.00 0.00 780.00 373.00\" xmlns=\"http://www.w3.org/2000/svg\" xmlns:xlink=\"http://www.w3.org/1999/xlink\">\n<g id=\"graph0\" class=\"graph\" transform=\"scale(1 1) rotate(0) translate(4 369)\">\n<title>Tree</title>\n<polygon fill=\"white\" stroke=\"transparent\" points=\"-4,4 -4,-369 776,-369 776,4 -4,4\"/>\n<!-- 0 -->\n<g id=\"node1\" class=\"node\">\n<title>0</title>\n<polygon fill=\"#fbece2\" stroke=\"black\" points=\"483.5,-365 242.5,-365 242.5,-297 483.5,-297 483.5,-365\"/>\n<text text-anchor=\"middle\" x=\"363\" y=\"-349.8\" font-family=\"Helvetica,sans-Serif\" font-size=\"14.00\">wm&#45;lh&#45;superiorfrontal &lt;= 0.245</text>\n<text text-anchor=\"middle\" x=\"363\" y=\"-334.8\" font-family=\"Helvetica,sans-Serif\" font-size=\"14.00\">samples = 100.0%</text>\n<text text-anchor=\"middle\" x=\"363\" y=\"-319.8\" font-family=\"Helvetica,sans-Serif\" font-size=\"14.00\">value = [0.54, 0.46]</text>\n<text text-anchor=\"middle\" x=\"363\" y=\"-304.8\" font-family=\"Helvetica,sans-Serif\" font-size=\"14.00\">class = CN</text>\n</g>\n<!-- 1 -->\n<g id=\"node2\" class=\"node\">\n<title>1</title>\n<polygon fill=\"#4da7e8\" stroke=\"black\" points=\"361.5,-261 114.5,-261 114.5,-193 361.5,-193 361.5,-261\"/>\n<text text-anchor=\"middle\" x=\"238\" y=\"-245.8\" font-family=\"Helvetica,sans-Serif\" font-size=\"14.00\">ctx&#45;rh&#45;superiortemporal &lt;= 0.09</text>\n<text text-anchor=\"middle\" x=\"238\" y=\"-230.8\" font-family=\"Helvetica,sans-Serif\" font-size=\"14.00\">samples = 33.3%</text>\n<text text-anchor=\"middle\" x=\"238\" y=\"-215.8\" font-family=\"Helvetica,sans-Serif\" font-size=\"14.00\">value = [0.094, 0.906]</text>\n<text text-anchor=\"middle\" x=\"238\" y=\"-200.8\" font-family=\"Helvetica,sans-Serif\" font-size=\"14.00\">class = AD</text>\n</g>\n<!-- 0&#45;&gt;1 -->\n<g id=\"edge1\" class=\"edge\">\n<title>0&#45;&gt;1</title>\n<path fill=\"none\" stroke=\"black\" d=\"M322.42,-296.88C311.06,-287.62 298.61,-277.45 286.83,-267.85\"/>\n<polygon fill=\"black\" stroke=\"black\" points=\"288.77,-264.91 278.81,-261.3 284.34,-270.33 288.77,-264.91\"/>\n<text text-anchor=\"middle\" x=\"281.33\" y=\"-282.47\" font-family=\"Helvetica,sans-Serif\" font-size=\"14.00\">True</text>\n</g>\n<!-- 6 -->\n<g id=\"node7\" class=\"node\">\n<title>6</title>\n<polygon fill=\"#eca06a\" stroke=\"black\" points=\"598,-261 380,-261 380,-193 598,-193 598,-261\"/>\n<text text-anchor=\"middle\" x=\"489\" y=\"-245.8\" font-family=\"Helvetica,sans-Serif\" font-size=\"14.00\">Right&#45;Hippocampus &lt;= 0.29</text>\n<text text-anchor=\"middle\" x=\"489\" y=\"-230.8\" font-family=\"Helvetica,sans-Serif\" font-size=\"14.00\">samples = 66.7%</text>\n<text text-anchor=\"middle\" x=\"489\" y=\"-215.8\" font-family=\"Helvetica,sans-Serif\" font-size=\"14.00\">value = [0.8, 0.2]</text>\n<text text-anchor=\"middle\" x=\"489\" y=\"-200.8\" font-family=\"Helvetica,sans-Serif\" font-size=\"14.00\">class = CN</text>\n</g>\n<!-- 0&#45;&gt;6 -->\n<g id=\"edge6\" class=\"edge\">\n<title>0&#45;&gt;6</title>\n<path fill=\"none\" stroke=\"black\" d=\"M403.91,-296.88C415.35,-287.62 427.91,-277.45 439.78,-267.85\"/>\n<polygon fill=\"black\" stroke=\"black\" points=\"442.3,-270.31 447.87,-261.3 437.89,-264.87 442.3,-270.31\"/>\n<text text-anchor=\"middle\" x=\"445.25\" y=\"-282.46\" font-family=\"Helvetica,sans-Serif\" font-size=\"14.00\">False</text>\n</g>\n<!-- 2 -->\n<g id=\"node3\" class=\"node\">\n<title>2</title>\n<polygon fill=\"#e58139\" stroke=\"black\" points=\"140,-149.5 0,-149.5 0,-96.5 140,-96.5 140,-149.5\"/>\n<text text-anchor=\"middle\" x=\"70\" y=\"-134.3\" font-family=\"Helvetica,sans-Serif\" font-size=\"14.00\">samples = 1.8%</text>\n<text text-anchor=\"middle\" x=\"70\" y=\"-119.3\" font-family=\"Helvetica,sans-Serif\" font-size=\"14.00\">value = [1.0, 0.0]</text>\n<text text-anchor=\"middle\" x=\"70\" y=\"-104.3\" font-family=\"Helvetica,sans-Serif\" font-size=\"14.00\">class = CN</text>\n</g>\n<!-- 1&#45;&gt;2 -->\n<g id=\"edge2\" class=\"edge\">\n<title>1&#45;&gt;2</title>\n<path fill=\"none\" stroke=\"black\" d=\"M183.46,-192.88C163.26,-180.62 140.46,-166.78 120.63,-154.74\"/>\n<polygon fill=\"black\" stroke=\"black\" points=\"122.4,-151.72 112.03,-149.52 118.76,-157.7 122.4,-151.72\"/>\n</g>\n<!-- 3 -->\n<g id=\"node4\" class=\"node\">\n<title>3</title>\n<polygon fill=\"#47a4e7\" stroke=\"black\" points=\"334,-157 158,-157 158,-89 334,-89 334,-157\"/>\n<text text-anchor=\"middle\" x=\"246\" y=\"-141.8\" font-family=\"Helvetica,sans-Serif\" font-size=\"14.00\">CSF &lt;= 0.095</text>\n<text text-anchor=\"middle\" x=\"246\" y=\"-126.8\" font-family=\"Helvetica,sans-Serif\" font-size=\"14.00\">samples = 31.6%</text>\n<text text-anchor=\"middle\" x=\"246\" y=\"-111.8\" font-family=\"Helvetica,sans-Serif\" font-size=\"14.00\">value = [0.065, 0.935]</text>\n<text text-anchor=\"middle\" x=\"246\" y=\"-96.8\" font-family=\"Helvetica,sans-Serif\" font-size=\"14.00\">class = AD</text>\n</g>\n<!-- 1&#45;&gt;3 -->\n<g id=\"edge3\" class=\"edge\">\n<title>1&#45;&gt;3</title>\n<path fill=\"none\" stroke=\"black\" d=\"M240.6,-192.88C241.23,-184.78 241.92,-175.98 242.59,-167.47\"/>\n<polygon fill=\"black\" stroke=\"black\" points=\"246.1,-167.54 243.39,-157.3 239.12,-167 246.1,-167.54\"/>\n</g>\n<!-- 4 -->\n<g id=\"node5\" class=\"node\">\n<title>4</title>\n<polygon fill=\"#e58139\" stroke=\"black\" points=\"155,-53 15,-53 15,0 155,0 155,-53\"/>\n<text text-anchor=\"middle\" x=\"85\" y=\"-37.8\" font-family=\"Helvetica,sans-Serif\" font-size=\"14.00\">samples = 1.8%</text>\n<text text-anchor=\"middle\" x=\"85\" y=\"-22.8\" font-family=\"Helvetica,sans-Serif\" font-size=\"14.00\">value = [1.0, 0.0]</text>\n<text text-anchor=\"middle\" x=\"85\" y=\"-7.8\" font-family=\"Helvetica,sans-Serif\" font-size=\"14.00\">class = CN</text>\n</g>\n<!-- 3&#45;&gt;4 -->\n<g id=\"edge4\" class=\"edge\">\n<title>3&#45;&gt;4</title>\n<path fill=\"none\" stroke=\"black\" d=\"M189.69,-88.95C172.78,-79.02 154.3,-68.18 137.64,-58.4\"/>\n<polygon fill=\"black\" stroke=\"black\" points=\"138.99,-55.13 128.59,-53.09 135.44,-61.17 138.99,-55.13\"/>\n</g>\n<!-- 5 -->\n<g id=\"node6\" class=\"node\">\n<title>5</title>\n<polygon fill=\"#40a0e6\" stroke=\"black\" points=\"349,-53 173,-53 173,0 349,0 349,-53\"/>\n<text text-anchor=\"middle\" x=\"261\" y=\"-37.8\" font-family=\"Helvetica,sans-Serif\" font-size=\"14.00\">samples = 29.8%</text>\n<text text-anchor=\"middle\" x=\"261\" y=\"-22.8\" font-family=\"Helvetica,sans-Serif\" font-size=\"14.00\">value = [0.033, 0.967]</text>\n<text text-anchor=\"middle\" x=\"261\" y=\"-7.8\" font-family=\"Helvetica,sans-Serif\" font-size=\"14.00\">class = AD</text>\n</g>\n<!-- 3&#45;&gt;5 -->\n<g id=\"edge5\" class=\"edge\">\n<title>3&#45;&gt;5</title>\n<path fill=\"none\" stroke=\"black\" d=\"M251.25,-88.95C252.57,-80.62 253.99,-71.65 255.33,-63.2\"/>\n<polygon fill=\"black\" stroke=\"black\" points=\"258.8,-63.66 256.91,-53.24 251.89,-62.56 258.8,-63.66\"/>\n</g>\n<!-- 7 -->\n<g id=\"node8\" class=\"node\">\n<title>7</title>\n<polygon fill=\"#ea985d\" stroke=\"black\" points=\"613.5,-157 356.5,-157 356.5,-89 613.5,-89 613.5,-157\"/>\n<text text-anchor=\"middle\" x=\"485\" y=\"-141.8\" font-family=\"Helvetica,sans-Serif\" font-size=\"14.00\">ctx&#45;rh&#45;parahippocampal &lt;= 0.089</text>\n<text text-anchor=\"middle\" x=\"485\" y=\"-126.8\" font-family=\"Helvetica,sans-Serif\" font-size=\"14.00\">samples = 61.4%</text>\n<text text-anchor=\"middle\" x=\"485\" y=\"-111.8\" font-family=\"Helvetica,sans-Serif\" font-size=\"14.00\">value = [0.846, 0.154]</text>\n<text text-anchor=\"middle\" x=\"485\" y=\"-96.8\" font-family=\"Helvetica,sans-Serif\" font-size=\"14.00\">class = CN</text>\n</g>\n<!-- 6&#45;&gt;7 -->\n<g id=\"edge7\" class=\"edge\">\n<title>6&#45;&gt;7</title>\n<path fill=\"none\" stroke=\"black\" d=\"M487.7,-192.88C487.38,-184.78 487.04,-175.98 486.7,-167.47\"/>\n<polygon fill=\"black\" stroke=\"black\" points=\"490.2,-167.15 486.31,-157.3 483.2,-167.43 490.2,-167.15\"/>\n</g>\n<!-- 10 -->\n<g id=\"node11\" class=\"node\">\n<title>10</title>\n<polygon fill=\"#399de5\" stroke=\"black\" points=\"772,-149.5 632,-149.5 632,-96.5 772,-96.5 772,-149.5\"/>\n<text text-anchor=\"middle\" x=\"702\" y=\"-134.3\" font-family=\"Helvetica,sans-Serif\" font-size=\"14.00\">samples = 5.3%</text>\n<text text-anchor=\"middle\" x=\"702\" y=\"-119.3\" font-family=\"Helvetica,sans-Serif\" font-size=\"14.00\">value = [0.0, 1.0]</text>\n<text text-anchor=\"middle\" x=\"702\" y=\"-104.3\" font-family=\"Helvetica,sans-Serif\" font-size=\"14.00\">class = AD</text>\n</g>\n<!-- 6&#45;&gt;10 -->\n<g id=\"edge10\" class=\"edge\">\n<title>6&#45;&gt;10</title>\n<path fill=\"none\" stroke=\"black\" d=\"M558.15,-192.88C584.34,-180.35 613.97,-166.16 639.5,-153.93\"/>\n<polygon fill=\"black\" stroke=\"black\" points=\"641.2,-157 648.71,-149.52 638.18,-150.68 641.2,-157\"/>\n</g>\n<!-- 8 -->\n<g id=\"node9\" class=\"node\">\n<title>8</title>\n<polygon fill=\"#399de5\" stroke=\"black\" points=\"544,-53 404,-53 404,0 544,0 544,-53\"/>\n<text text-anchor=\"middle\" x=\"474\" y=\"-37.8\" font-family=\"Helvetica,sans-Serif\" font-size=\"14.00\">samples = 1.8%</text>\n<text text-anchor=\"middle\" x=\"474\" y=\"-22.8\" font-family=\"Helvetica,sans-Serif\" font-size=\"14.00\">value = [0.0, 1.0]</text>\n<text text-anchor=\"middle\" x=\"474\" y=\"-7.8\" font-family=\"Helvetica,sans-Serif\" font-size=\"14.00\">class = AD</text>\n</g>\n<!-- 7&#45;&gt;8 -->\n<g id=\"edge8\" class=\"edge\">\n<title>7&#45;&gt;8</title>\n<path fill=\"none\" stroke=\"black\" d=\"M481.15,-88.95C480.18,-80.62 479.14,-71.65 478.16,-63.2\"/>\n<polygon fill=\"black\" stroke=\"black\" points=\"481.63,-62.76 477,-53.24 474.68,-63.57 481.63,-62.76\"/>\n</g>\n<!-- 9 -->\n<g id=\"node10\" class=\"node\">\n<title>9</title>\n<polygon fill=\"#e99254\" stroke=\"black\" points=\"720,-53 562,-53 562,0 720,0 720,-53\"/>\n<text text-anchor=\"middle\" x=\"641\" y=\"-37.8\" font-family=\"Helvetica,sans-Serif\" font-size=\"14.00\">samples = 59.6%</text>\n<text text-anchor=\"middle\" x=\"641\" y=\"-22.8\" font-family=\"Helvetica,sans-Serif\" font-size=\"14.00\">value = [0.88, 0.12]</text>\n<text text-anchor=\"middle\" x=\"641\" y=\"-7.8\" font-family=\"Helvetica,sans-Serif\" font-size=\"14.00\">class = CN</text>\n</g>\n<!-- 7&#45;&gt;9 -->\n<g id=\"edge9\" class=\"edge\">\n<title>7&#45;&gt;9</title>\n<path fill=\"none\" stroke=\"black\" d=\"M539.56,-88.95C555.87,-79.07 573.69,-68.28 589.78,-58.53\"/>\n<polygon fill=\"black\" stroke=\"black\" points=\"591.77,-61.41 598.51,-53.24 588.15,-55.42 591.77,-61.41\"/>\n</g>\n</g>\n</svg>\n",
      "text/plain": [
       "<graphviz.sources.Source at 0x7f0c74aa6290>"
      ]
     },
     "metadata": {},
     "output_type": "display_data"
    }
   ],
   "source": [
    "from sklearn.tree import export_graphviz\n",
    "from IPython.display import Image\n",
    "import graphviz\n",
    "\n",
    "\n",
    "for i in range(3):\n",
    "    tree = rand_search.best_estimator_[i]\n",
    "    dot_data = export_graphviz(tree,feature_names=region[1:],  filled=True, impurity=False, proportion=True,class_names=[\"CN\",\"AD\"])\n",
    "    graph = graphviz.Source(dot_data)\n",
    "    display(graph)"
   ]
  },
  {
   "attachments": {},
   "cell_type": "markdown",
   "metadata": {},
   "source": [
    "ROC"
   ]
  },
  {
   "cell_type": "code",
   "execution_count": 24,
   "metadata": {},
   "outputs": [
    {
     "data": {
      "image/png": "[encoded data removed]",
      "text/plain": [
       "<Figure size 640x480 with 1 Axes>"
      ]
     },
     "metadata": {},
     "output_type": "display_data"
    }
   ],
   "source": [
    "from sklearn.metrics import RocCurveDisplay\n",
    "rf.fit(X_tr, y_tr)\n",
    "\n",
    "ax = plt.gca()\n",
    "rnds_disp = RocCurveDisplay.from_estimator(rand_search, X_tst, y_tst, ax=ax, alpha=0.8)\n",
    "rndf_disp = RocCurveDisplay.from_estimator(rf, X_tst, y_tst, ax=ax, alpha=0.8)\n",
    "\n",
    "\n",
    "plt.show()"
   ]
  }
 ],
 "metadata": {
  "kernelspec": {
   "display_name": "Python 3",
   "language": "python",
   "name": "python3"
  },
  "language_info": {
   "codemirror_mode": {
    "name": "ipython",
    "version": 3
   },
   "file_extension": ".py",
   "mimetype": "text/x-python",
   "name": "python",
   "nbconvert_exporter": "python",
   "pygments_lexer": "ipython3",
   "version": "3.10.7"
  },
  "orig_nbformat": 4,
  "vscode": {
   "interpreter": {
    "hash": "916dbcbb3f70747c44a77c7bcd40155683ae19c65e1c03b4aa3499c5328201f1"
   }
  }
 },
 "nbformat": 4,
 "nbformat_minor": 2
}
