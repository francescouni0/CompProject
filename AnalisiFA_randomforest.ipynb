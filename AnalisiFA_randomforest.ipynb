{
 "cells": [
  {
   "cell_type": "code",
   "execution_count": 1,
   "metadata": {},
   "outputs": [],
   "source": [
    "import os\n",
    "import numpy as np\n",
    "import reading \n",
    "from feature_extractor import feature_extractor\n",
    "import pandas as pd\n",
    "import matplotlib.pyplot as plt"
   ]
  },
  {
   "attachments": {},
   "cell_type": "markdown",
   "metadata": {},
   "source": [
    "Load dei Path, Con il sort giusto per far corrispondere i soggetti"
   ]
  },
  {
   "cell_type": "code",
   "execution_count": 2,
   "metadata": {},
   "outputs": [],
   "source": [
    "paths_FA= reading.data_path(\"Diffusion_parameters_maps-20230215T134959Z-001\",\"corrected_FA_image\")\n",
    "paths_masks=reading.data_path(\"Diffusion_space_segmentations-20230215T134839Z-001\",\"Diffusion_space_segmentations-20230215T134839Z-001\")\n",
    "\n",
    "\n",
    "#print((os.path.basename(paths_masks[0]).split('_')[2]))\n",
    "\n",
    "paths_FA.sort(key=lambda x: int(os.path.basename(x).split('_')[3]))\n",
    "paths_masks.sort(key=lambda x: int(os.path.basename(x).split('_')[2]))\n"
   ]
  },
  {
   "attachments": {},
   "cell_type": "markdown",
   "metadata": {},
   "source": [
    "Feature extraction"
   ]
  },
  {
   "cell_type": "code",
   "execution_count": 3,
   "metadata": {},
   "outputs": [],
   "source": [
    "region, mean, std=feature_extractor(paths_FA,paths_masks)\n"
   ]
  },
  {
   "attachments": {},
   "cell_type": "markdown",
   "metadata": {},
   "source": [
    "Reshape degli array per fare il Dataframe"
   ]
  },
  {
   "cell_type": "code",
   "execution_count": 4,
   "metadata": {},
   "outputs": [],
   "source": [
    "mean_t=np.transpose(mean)\n",
    "std_t=np.transpose(std)\n"
   ]
  },
  {
   "attachments": {},
   "cell_type": "markdown",
   "metadata": {},
   "source": [
    "Creo DataFrame per mean and std"
   ]
  },
  {
   "cell_type": "code",
   "execution_count": 5,
   "metadata": {},
   "outputs": [
    {
     "data": {
      "text/html": [
       "<div>\n",
       "<style scoped>\n",
       "    .dataframe tbody tr th:only-of-type {\n",
       "        vertical-align: middle;\n",
       "    }\n",
       "\n",
       "    .dataframe tbody tr th {\n",
       "        vertical-align: top;\n",
       "    }\n",
       "\n",
       "    .dataframe thead th {\n",
       "        text-align: right;\n",
       "    }\n",
       "</style>\n",
       "<table border=\"1\" class=\"dataframe\">\n",
       "  <thead>\n",
       "    <tr style=\"text-align: right;\">\n",
       "      <th></th>\n",
       "      <th>Left-Lateral-Ventricle</th>\n",
       "      <th>Left-Inf-Lat-Vent</th>\n",
       "      <th>Left-Cerebellum-White-Matter</th>\n",
       "      <th>Left-Cerebellum-Cortex</th>\n",
       "      <th>Left-Thalamus</th>\n",
       "      <th>Left-Caudate</th>\n",
       "      <th>Left-Putamen</th>\n",
       "      <th>Left-Pallidum</th>\n",
       "      <th>3rd-Ventricle</th>\n",
       "      <th>4th-Ventricle</th>\n",
       "      <th>...</th>\n",
       "      <th>wm-rh-superiorfrontal</th>\n",
       "      <th>wm-rh-superiorparietal</th>\n",
       "      <th>wm-rh-superiortemporal</th>\n",
       "      <th>wm-rh-supramarginal</th>\n",
       "      <th>wm-rh-frontalpole</th>\n",
       "      <th>wm-rh-temporalpole</th>\n",
       "      <th>wm-rh-transversetemporal</th>\n",
       "      <th>wm-rh-insula</th>\n",
       "      <th>Left-UnsegmentedWhiteMatter</th>\n",
       "      <th>Right-UnsegmentedWhiteMatter</th>\n",
       "    </tr>\n",
       "  </thead>\n",
       "  <tbody>\n",
       "    <tr>\n",
       "      <th>1.0</th>\n",
       "      <td>0.008558</td>\n",
       "      <td>0.109013</td>\n",
       "      <td>0.172291</td>\n",
       "      <td>0.260344</td>\n",
       "      <td>0.122025</td>\n",
       "      <td>0.236524</td>\n",
       "      <td>0.126373</td>\n",
       "      <td>0.228594</td>\n",
       "      <td>0.230439</td>\n",
       "      <td>0.107770</td>\n",
       "      <td>...</td>\n",
       "      <td>0.252780</td>\n",
       "      <td>0.217847</td>\n",
       "      <td>0.258662</td>\n",
       "      <td>0.268637</td>\n",
       "      <td>0.276182</td>\n",
       "      <td>0.214232</td>\n",
       "      <td>0.158717</td>\n",
       "      <td>0.367259</td>\n",
       "      <td>0.301571</td>\n",
       "      <td>0.328116</td>\n",
       "    </tr>\n",
       "    <tr>\n",
       "      <th>2.0</th>\n",
       "      <td>0.010137</td>\n",
       "      <td>0.107341</td>\n",
       "      <td>0.171492</td>\n",
       "      <td>0.299163</td>\n",
       "      <td>0.133621</td>\n",
       "      <td>0.256451</td>\n",
       "      <td>0.160723</td>\n",
       "      <td>0.226560</td>\n",
       "      <td>0.239494</td>\n",
       "      <td>0.118588</td>\n",
       "      <td>...</td>\n",
       "      <td>0.286469</td>\n",
       "      <td>0.253083</td>\n",
       "      <td>0.261861</td>\n",
       "      <td>0.238354</td>\n",
       "      <td>0.260860</td>\n",
       "      <td>0.178386</td>\n",
       "      <td>0.178781</td>\n",
       "      <td>0.357016</td>\n",
       "      <td>0.330572</td>\n",
       "      <td>0.366950</td>\n",
       "    </tr>\n",
       "    <tr>\n",
       "      <th>3.0</th>\n",
       "      <td>0.008196</td>\n",
       "      <td>0.133892</td>\n",
       "      <td>0.112614</td>\n",
       "      <td>0.262373</td>\n",
       "      <td>0.111241</td>\n",
       "      <td>0.247089</td>\n",
       "      <td>0.133506</td>\n",
       "      <td>0.211761</td>\n",
       "      <td>0.219353</td>\n",
       "      <td>0.106775</td>\n",
       "      <td>...</td>\n",
       "      <td>0.254498</td>\n",
       "      <td>0.258600</td>\n",
       "      <td>0.268107</td>\n",
       "      <td>0.245099</td>\n",
       "      <td>0.270796</td>\n",
       "      <td>0.149528</td>\n",
       "      <td>0.172897</td>\n",
       "      <td>0.257598</td>\n",
       "      <td>0.295915</td>\n",
       "      <td>0.337266</td>\n",
       "    </tr>\n",
       "    <tr>\n",
       "      <th>4.0</th>\n",
       "      <td>0.012099</td>\n",
       "      <td>0.114534</td>\n",
       "      <td>0.134856</td>\n",
       "      <td>0.289858</td>\n",
       "      <td>0.112977</td>\n",
       "      <td>0.243535</td>\n",
       "      <td>0.153650</td>\n",
       "      <td>0.230634</td>\n",
       "      <td>0.249325</td>\n",
       "      <td>0.080339</td>\n",
       "      <td>...</td>\n",
       "      <td>0.256776</td>\n",
       "      <td>0.215121</td>\n",
       "      <td>0.285465</td>\n",
       "      <td>0.257601</td>\n",
       "      <td>0.238565</td>\n",
       "      <td>0.191491</td>\n",
       "      <td>0.177666</td>\n",
       "      <td>0.226578</td>\n",
       "      <td>0.301181</td>\n",
       "      <td>0.359059</td>\n",
       "    </tr>\n",
       "    <tr>\n",
       "      <th>5.0</th>\n",
       "      <td>0.011768</td>\n",
       "      <td>0.105971</td>\n",
       "      <td>0.110494</td>\n",
       "      <td>0.269097</td>\n",
       "      <td>0.106641</td>\n",
       "      <td>0.248220</td>\n",
       "      <td>0.139430</td>\n",
       "      <td>0.246313</td>\n",
       "      <td>0.263455</td>\n",
       "      <td>0.106332</td>\n",
       "      <td>...</td>\n",
       "      <td>0.232970</td>\n",
       "      <td>0.210857</td>\n",
       "      <td>0.304468</td>\n",
       "      <td>0.250227</td>\n",
       "      <td>0.257328</td>\n",
       "      <td>0.252974</td>\n",
       "      <td>0.189921</td>\n",
       "      <td>0.272185</td>\n",
       "      <td>0.309642</td>\n",
       "      <td>0.373039</td>\n",
       "    </tr>\n",
       "  </tbody>\n",
       "</table>\n",
       "<p>5 rows × 176 columns</p>\n",
       "</div>"
      ],
      "text/plain": [
       "     Left-Lateral-Ventricle  Left-Inf-Lat-Vent  Left-Cerebellum-White-Matter  \\\n",
       "1.0                0.008558           0.109013                      0.172291   \n",
       "2.0                0.010137           0.107341                      0.171492   \n",
       "3.0                0.008196           0.133892                      0.112614   \n",
       "4.0                0.012099           0.114534                      0.134856   \n",
       "5.0                0.011768           0.105971                      0.110494   \n",
       "\n",
       "     Left-Cerebellum-Cortex  Left-Thalamus  Left-Caudate  Left-Putamen  \\\n",
       "1.0                0.260344       0.122025      0.236524      0.126373   \n",
       "2.0                0.299163       0.133621      0.256451      0.160723   \n",
       "3.0                0.262373       0.111241      0.247089      0.133506   \n",
       "4.0                0.289858       0.112977      0.243535      0.153650   \n",
       "5.0                0.269097       0.106641      0.248220      0.139430   \n",
       "\n",
       "     Left-Pallidum  3rd-Ventricle  4th-Ventricle  ...  wm-rh-superiorfrontal  \\\n",
       "1.0       0.228594       0.230439       0.107770  ...               0.252780   \n",
       "2.0       0.226560       0.239494       0.118588  ...               0.286469   \n",
       "3.0       0.211761       0.219353       0.106775  ...               0.254498   \n",
       "4.0       0.230634       0.249325       0.080339  ...               0.256776   \n",
       "5.0       0.246313       0.263455       0.106332  ...               0.232970   \n",
       "\n",
       "     wm-rh-superiorparietal  wm-rh-superiortemporal  wm-rh-supramarginal  \\\n",
       "1.0                0.217847                0.258662             0.268637   \n",
       "2.0                0.253083                0.261861             0.238354   \n",
       "3.0                0.258600                0.268107             0.245099   \n",
       "4.0                0.215121                0.285465             0.257601   \n",
       "5.0                0.210857                0.304468             0.250227   \n",
       "\n",
       "     wm-rh-frontalpole  wm-rh-temporalpole  wm-rh-transversetemporal  \\\n",
       "1.0           0.276182            0.214232                  0.158717   \n",
       "2.0           0.260860            0.178386                  0.178781   \n",
       "3.0           0.270796            0.149528                  0.172897   \n",
       "4.0           0.238565            0.191491                  0.177666   \n",
       "5.0           0.257328            0.252974                  0.189921   \n",
       "\n",
       "     wm-rh-insula  Left-UnsegmentedWhiteMatter  Right-UnsegmentedWhiteMatter  \n",
       "1.0      0.367259                     0.301571                      0.328116  \n",
       "2.0      0.357016                     0.330572                      0.366950  \n",
       "3.0      0.257598                     0.295915                      0.337266  \n",
       "4.0      0.226578                     0.301181                      0.359059  \n",
       "5.0      0.272185                     0.309642                      0.373039  \n",
       "\n",
       "[5 rows x 176 columns]"
      ]
     },
     "execution_count": 5,
     "metadata": {},
     "output_type": "execute_result"
    }
   ],
   "source": [
    "\n",
    "\n",
    "df_mean = pd.DataFrame(mean_t[1:,1:177],index=mean[0][1:98],columns=region[1:177])\n",
    "df_std=pd.DataFrame(std_t[1:,1:177],index=std[0][1:98],columns=region[1:177])\n",
    "\n",
    "df_mean.head()"
   ]
  },
  {
   "attachments": {},
   "cell_type": "markdown",
   "metadata": {},
   "source": [
    "Aggiungo i gruppi"
   ]
  },
  {
   "cell_type": "code",
   "execution_count": 6,
   "metadata": {},
   "outputs": [
    {
     "data": {
      "text/html": [
       "<div>\n",
       "<style scoped>\n",
       "    .dataframe tbody tr th:only-of-type {\n",
       "        vertical-align: middle;\n",
       "    }\n",
       "\n",
       "    .dataframe tbody tr th {\n",
       "        vertical-align: top;\n",
       "    }\n",
       "\n",
       "    .dataframe thead th {\n",
       "        text-align: right;\n",
       "    }\n",
       "</style>\n",
       "<table border=\"1\" class=\"dataframe\">\n",
       "  <thead>\n",
       "    <tr style=\"text-align: right;\">\n",
       "      <th></th>\n",
       "      <th>Subject</th>\n",
       "      <th>Group</th>\n",
       "      <th>Sex</th>\n",
       "      <th>Age</th>\n",
       "    </tr>\n",
       "  </thead>\n",
       "  <tbody>\n",
       "    <tr>\n",
       "      <th>67</th>\n",
       "      <td>4002</td>\n",
       "      <td>0</td>\n",
       "      <td>F</td>\n",
       "      <td>74.0</td>\n",
       "    </tr>\n",
       "    <tr>\n",
       "      <th>68</th>\n",
       "      <td>4003</td>\n",
       "      <td>0</td>\n",
       "      <td>F</td>\n",
       "      <td>72.0</td>\n",
       "    </tr>\n",
       "    <tr>\n",
       "      <th>28</th>\n",
       "      <td>4009</td>\n",
       "      <td>1</td>\n",
       "      <td>M</td>\n",
       "      <td>90.0</td>\n",
       "    </tr>\n",
       "    <tr>\n",
       "      <th>69</th>\n",
       "      <td>4018</td>\n",
       "      <td>0</td>\n",
       "      <td>M</td>\n",
       "      <td>76.0</td>\n",
       "    </tr>\n",
       "    <tr>\n",
       "      <th>70</th>\n",
       "      <td>4050</td>\n",
       "      <td>0</td>\n",
       "      <td>M</td>\n",
       "      <td>77.0</td>\n",
       "    </tr>\n",
       "  </tbody>\n",
       "</table>\n",
       "</div>"
      ],
      "text/plain": [
       "    Subject  Group Sex   Age\n",
       "67     4002      0   F  74.0\n",
       "68     4003      0   F  72.0\n",
       "28     4009      1   M  90.0\n",
       "69     4018      0   M  76.0\n",
       "70     4050      0   M  77.0"
      ]
     },
     "execution_count": 6,
     "metadata": {},
     "output_type": "execute_result"
    }
   ],
   "source": [
    "a=pd.DataFrame(pd.read_csv('/home/francesco/CompProject/ADNI_dataset_diffusion.csv'))\n",
    "a.sort_values(by=[\"Subject\"],inplace=True)\n",
    "group=a[\"Group\"]\n",
    "a.head()"
   ]
  },
  {
   "attachments": {},
   "cell_type": "markdown",
   "metadata": {},
   "source": [
    "Albero decisionale: creo i set e splitto"
   ]
  },
  {
   "cell_type": "code",
   "execution_count": 9,
   "metadata": {},
   "outputs": [],
   "source": [
    "\n",
    "from sklearn.ensemble import RandomForestClassifier\n",
    "from sklearn.metrics import accuracy_score, confusion_matrix, precision_score, recall_score, ConfusionMatrixDisplay\n",
    "from sklearn.model_selection import RandomizedSearchCV, train_test_split\n",
    "from scipy.stats import randint\n",
    "\n",
    "\n",
    "X=df_mean.values\n",
    "y=group.values\n",
    "\n",
    "X_tr, X_tst, y_tr, y_tst = train_test_split(X, y, test_size=.2, random_state=6)\n",
    "\n"
   ]
  },
  {
   "attachments": {},
   "cell_type": "markdown",
   "metadata": {},
   "source": [
    "Fitto l'albero"
   ]
  },
  {
   "cell_type": "code",
   "execution_count": 10,
   "metadata": {},
   "outputs": [],
   "source": [
    "\n",
    "rf = RandomForestClassifier()\n",
    "rf.fit(X_tr, y_tr)\n",
    "y_pred = rf.predict(X_tst)\n",
    "\n"
   ]
  },
  {
   "cell_type": "code",
   "execution_count": 12,
   "metadata": {},
   "outputs": [
    {
     "name": "stdout",
     "output_type": "stream",
     "text": [
      "Accuracy: 0.65\n"
     ]
    }
   ],
   "source": [
    "accuracy = accuracy_score(y_tst, y_pred)\n",
    "print(\"Accuracy:\", accuracy)"
   ]
  },
  {
   "attachments": {},
   "cell_type": "markdown",
   "metadata": {},
   "source": [
    "Hyperparameter tuning"
   ]
  },
  {
   "cell_type": "code",
   "execution_count": 15,
   "metadata": {},
   "outputs": [
    {
     "name": "stdout",
     "output_type": "stream",
     "text": [
      "Best hyperparameters: {'max_depth': 3, 'n_estimators': 495}\n"
     ]
    }
   ],
   "source": [
    "param_dist = {'n_estimators': randint(50,500),\n",
    "              'max_depth': randint(1,20)}\n",
    "\n",
    "# Create a random forest classifier\n",
    "rf = RandomForestClassifier()\n",
    "\n",
    "# Use random search to find the best hyperparameters\n",
    "rand_search = RandomizedSearchCV(rf, \n",
    "                                 param_distributions = param_dist, \n",
    "                                 n_iter=5, \n",
    "                                 cv=5)\n",
    "\n",
    "# Fit the random search object to the data\n",
    "rand_search.fit(X_tr, y_tr)\n",
    "\n",
    "# Create a variable for the best model\n",
    "best_rf = rand_search.best_estimator_\n",
    "\n",
    "# Print the best hyperparameters\n",
    "print('Best hyperparameters:',  rand_search.best_params_)\n"
   ]
  },
  {
   "cell_type": "code",
   "execution_count": 18,
   "metadata": {},
   "outputs": [
    {
     "name": "stdout",
     "output_type": "stream",
     "text": [
      "Accuracy: 0.7\n",
      "Precision: 0.5555555555555556\n",
      "Recall: 0.7142857142857143\n"
     ]
    }
   ],
   "source": [
    "y_pred = rand_search.predict(X_tst)\n",
    "\n",
    "accuracy = accuracy_score(y_tst, y_pred)\n",
    "precision = precision_score(y_tst, y_pred)\n",
    "recall = recall_score(y_tst, y_pred)\n",
    "\n",
    "print(\"Accuracy:\", accuracy)\n",
    "print(\"Precision:\", precision)\n",
    "print(\"Recall:\", recall)"
   ]
  },
  {
   "attachments": {},
   "cell_type": "markdown",
   "metadata": {},
   "source": [
    "Plotto alberi"
   ]
  },
  {
   "cell_type": "code",
   "execution_count": 23,
   "metadata": {},
   "outputs": [
    {
     "data": {
      "image/svg+xml": "<?xml version=\"1.0\" encoding=\"UTF-8\" standalone=\"no\"?>\n<!DOCTYPE svg PUBLIC \"-//W3C//DTD SVG 1.1//EN\"\n \"http://www.w3.org/Graphics/SVG/1.1/DTD/svg11.dtd\">\n<!-- Generated by graphviz version 2.43.0 (0)\n -->\n<!-- Title: Tree Pages: 1 -->\n<svg width=\"813pt\" height=\"373pt\"\n viewBox=\"0.00 0.00 813.00 373.00\" xmlns=\"http://www.w3.org/2000/svg\" xmlns:xlink=\"http://www.w3.org/1999/xlink\">\n<g id=\"graph0\" class=\"graph\" transform=\"scale(1 1) rotate(0) translate(4 369)\">\n<title>Tree</title>\n<polygon fill=\"white\" stroke=\"transparent\" points=\"-4,4 -4,-369 809,-369 809,4 -4,4\"/>\n<!-- 0 -->\n<g id=\"node1\" class=\"node\">\n<title>0</title>\n<polygon fill=\"#deeffb\" stroke=\"black\" points=\"599,-365 297,-365 297,-297 599,-297 599,-365\"/>\n<text text-anchor=\"middle\" x=\"448\" y=\"-349.8\" font-family=\"Helvetica,sans-Serif\" font-size=\"14.00\">wm&#45;rh&#45;rostralanteriorcingulate &lt;= 0.266</text>\n<text text-anchor=\"middle\" x=\"448\" y=\"-334.8\" font-family=\"Helvetica,sans-Serif\" font-size=\"14.00\">samples = 100.0%</text>\n<text text-anchor=\"middle\" x=\"448\" y=\"-319.8\" font-family=\"Helvetica,sans-Serif\" font-size=\"14.00\">value = [0.455, 0.545]</text>\n<text text-anchor=\"middle\" x=\"448\" y=\"-304.8\" font-family=\"Helvetica,sans-Serif\" font-size=\"14.00\">class = AD</text>\n</g>\n<!-- 1 -->\n<g id=\"node2\" class=\"node\">\n<title>1</title>\n<polygon fill=\"#50a8e8\" stroke=\"black\" points=\"432,-261 256,-261 256,-193 432,-193 432,-261\"/>\n<text text-anchor=\"middle\" x=\"344\" y=\"-245.8\" font-family=\"Helvetica,sans-Serif\" font-size=\"14.00\">ctx&#45;lh&#45;insula &lt;= 0.122</text>\n<text text-anchor=\"middle\" x=\"344\" y=\"-230.8\" font-family=\"Helvetica,sans-Serif\" font-size=\"14.00\">samples = 37.5%</text>\n<text text-anchor=\"middle\" x=\"344\" y=\"-215.8\" font-family=\"Helvetica,sans-Serif\" font-size=\"14.00\">value = [0.103, 0.897]</text>\n<text text-anchor=\"middle\" x=\"344\" y=\"-200.8\" font-family=\"Helvetica,sans-Serif\" font-size=\"14.00\">class = AD</text>\n</g>\n<!-- 0&#45;&gt;1 -->\n<g id=\"edge1\" class=\"edge\">\n<title>0&#45;&gt;1</title>\n<path fill=\"none\" stroke=\"black\" d=\"M414.23,-296.88C404.97,-287.8 394.82,-277.85 385.19,-268.4\"/>\n<polygon fill=\"black\" stroke=\"black\" points=\"387.54,-265.8 377.95,-261.3 382.64,-270.8 387.54,-265.8\"/>\n<text text-anchor=\"middle\" x=\"378.19\" y=\"-282.6\" font-family=\"Helvetica,sans-Serif\" font-size=\"14.00\">True</text>\n</g>\n<!-- 6 -->\n<g id=\"node7\" class=\"node\">\n<title>6</title>\n<polygon fill=\"#f2c09c\" stroke=\"black\" points=\"656,-261 450,-261 450,-193 656,-193 656,-261\"/>\n<text text-anchor=\"middle\" x=\"553\" y=\"-245.8\" font-family=\"Helvetica,sans-Serif\" font-size=\"14.00\">ctx&#45;rh&#45;precentral &lt;= 0.114</text>\n<text text-anchor=\"middle\" x=\"553\" y=\"-230.8\" font-family=\"Helvetica,sans-Serif\" font-size=\"14.00\">samples = 62.5%</text>\n<text text-anchor=\"middle\" x=\"553\" y=\"-215.8\" font-family=\"Helvetica,sans-Serif\" font-size=\"14.00\">value = [0.667, 0.333]</text>\n<text text-anchor=\"middle\" x=\"553\" y=\"-200.8\" font-family=\"Helvetica,sans-Serif\" font-size=\"14.00\">class = CN</text>\n</g>\n<!-- 0&#45;&gt;6 -->\n<g id=\"edge6\" class=\"edge\">\n<title>0&#45;&gt;6</title>\n<path fill=\"none\" stroke=\"black\" d=\"M482.09,-296.88C491.44,-287.8 501.69,-277.85 511.41,-268.4\"/>\n<polygon fill=\"black\" stroke=\"black\" points=\"513.99,-270.78 518.72,-261.3 509.11,-265.76 513.99,-270.78\"/>\n<text text-anchor=\"middle\" x=\"518.36\" y=\"-282.6\" font-family=\"Helvetica,sans-Serif\" font-size=\"14.00\">False</text>\n</g>\n<!-- 2 -->\n<g id=\"node3\" class=\"node\">\n<title>2</title>\n<polygon fill=\"#41a1e6\" stroke=\"black\" points=\"261.5,-157 0.5,-157 0.5,-89 261.5,-89 261.5,-157\"/>\n<text text-anchor=\"middle\" x=\"131\" y=\"-141.8\" font-family=\"Helvetica,sans-Serif\" font-size=\"14.00\">ctx&#45;rh&#45;posteriorcingulate &lt;= 0.076</text>\n<text text-anchor=\"middle\" x=\"131\" y=\"-126.8\" font-family=\"Helvetica,sans-Serif\" font-size=\"14.00\">samples = 35.4%</text>\n<text text-anchor=\"middle\" x=\"131\" y=\"-111.8\" font-family=\"Helvetica,sans-Serif\" font-size=\"14.00\">value = [0.037, 0.963]</text>\n<text text-anchor=\"middle\" x=\"131\" y=\"-96.8\" font-family=\"Helvetica,sans-Serif\" font-size=\"14.00\">class = AD</text>\n</g>\n<!-- 1&#45;&gt;2 -->\n<g id=\"edge2\" class=\"edge\">\n<title>1&#45;&gt;2</title>\n<path fill=\"none\" stroke=\"black\" d=\"M274.85,-192.88C253.91,-182.86 230.76,-171.77 209.27,-161.48\"/>\n<polygon fill=\"black\" stroke=\"black\" points=\"210.7,-158.29 200.17,-157.12 207.68,-164.6 210.7,-158.29\"/>\n</g>\n<!-- 5 -->\n<g id=\"node6\" class=\"node\">\n<title>5</title>\n<polygon fill=\"#e58139\" stroke=\"black\" points=\"420,-149.5 280,-149.5 280,-96.5 420,-96.5 420,-149.5\"/>\n<text text-anchor=\"middle\" x=\"350\" y=\"-134.3\" font-family=\"Helvetica,sans-Serif\" font-size=\"14.00\">samples = 2.1%</text>\n<text text-anchor=\"middle\" x=\"350\" y=\"-119.3\" font-family=\"Helvetica,sans-Serif\" font-size=\"14.00\">value = [1.0, 0.0]</text>\n<text text-anchor=\"middle\" x=\"350\" y=\"-104.3\" font-family=\"Helvetica,sans-Serif\" font-size=\"14.00\">class = CN</text>\n</g>\n<!-- 1&#45;&gt;5 -->\n<g id=\"edge5\" class=\"edge\">\n<title>1&#45;&gt;5</title>\n<path fill=\"none\" stroke=\"black\" d=\"M345.95,-192.88C346.58,-182.22 347.27,-170.35 347.91,-159.52\"/>\n<polygon fill=\"black\" stroke=\"black\" points=\"351.41,-159.71 348.5,-149.52 344.42,-159.3 351.41,-159.71\"/>\n</g>\n<!-- 3 -->\n<g id=\"node4\" class=\"node\">\n<title>3</title>\n<polygon fill=\"#e58139\" stroke=\"black\" points=\"140,-53 0,-53 0,0 140,0 140,-53\"/>\n<text text-anchor=\"middle\" x=\"70\" y=\"-37.8\" font-family=\"Helvetica,sans-Serif\" font-size=\"14.00\">samples = 2.1%</text>\n<text text-anchor=\"middle\" x=\"70\" y=\"-22.8\" font-family=\"Helvetica,sans-Serif\" font-size=\"14.00\">value = [1.0, 0.0]</text>\n<text text-anchor=\"middle\" x=\"70\" y=\"-7.8\" font-family=\"Helvetica,sans-Serif\" font-size=\"14.00\">class = CN</text>\n</g>\n<!-- 2&#45;&gt;3 -->\n<g id=\"edge3\" class=\"edge\">\n<title>2&#45;&gt;3</title>\n<path fill=\"none\" stroke=\"black\" d=\"M109.67,-88.95C104,-80.17 97.86,-70.66 92.15,-61.82\"/>\n<polygon fill=\"black\" stroke=\"black\" points=\"94.98,-59.74 86.61,-53.24 89.1,-63.54 94.98,-59.74\"/>\n</g>\n<!-- 4 -->\n<g id=\"node5\" class=\"node\">\n<title>4</title>\n<polygon fill=\"#399de5\" stroke=\"black\" points=\"298,-53 158,-53 158,0 298,0 298,-53\"/>\n<text text-anchor=\"middle\" x=\"228\" y=\"-37.8\" font-family=\"Helvetica,sans-Serif\" font-size=\"14.00\">samples = 33.3%</text>\n<text text-anchor=\"middle\" x=\"228\" y=\"-22.8\" font-family=\"Helvetica,sans-Serif\" font-size=\"14.00\">value = [0.0, 1.0]</text>\n<text text-anchor=\"middle\" x=\"228\" y=\"-7.8\" font-family=\"Helvetica,sans-Serif\" font-size=\"14.00\">class = AD</text>\n</g>\n<!-- 2&#45;&gt;4 -->\n<g id=\"edge4\" class=\"edge\">\n<title>2&#45;&gt;4</title>\n<path fill=\"none\" stroke=\"black\" d=\"M164.93,-88.95C174.41,-79.71 184.71,-69.67 194.19,-60.44\"/>\n<polygon fill=\"black\" stroke=\"black\" points=\"196.86,-62.72 201.58,-53.24 191.98,-57.71 196.86,-62.72\"/>\n</g>\n<!-- 7 -->\n<g id=\"node8\" class=\"node\">\n<title>7</title>\n<polygon fill=\"#eda877\" stroke=\"black\" points=\"647,-157 449,-157 449,-89 647,-89 647,-157\"/>\n<text text-anchor=\"middle\" x=\"548\" y=\"-141.8\" font-family=\"Helvetica,sans-Serif\" font-size=\"14.00\">ctx&#45;rh&#45;bankssts &lt;= 0.124</text>\n<text text-anchor=\"middle\" x=\"548\" y=\"-126.8\" font-family=\"Helvetica,sans-Serif\" font-size=\"14.00\">samples = 54.2%</text>\n<text text-anchor=\"middle\" x=\"548\" y=\"-111.8\" font-family=\"Helvetica,sans-Serif\" font-size=\"14.00\">value = [0.762, 0.238]</text>\n<text text-anchor=\"middle\" x=\"548\" y=\"-96.8\" font-family=\"Helvetica,sans-Serif\" font-size=\"14.00\">class = CN</text>\n</g>\n<!-- 6&#45;&gt;7 -->\n<g id=\"edge7\" class=\"edge\">\n<title>6&#45;&gt;7</title>\n<path fill=\"none\" stroke=\"black\" d=\"M551.38,-192.88C550.98,-184.78 550.55,-175.98 550.13,-167.47\"/>\n<polygon fill=\"black\" stroke=\"black\" points=\"553.62,-167.12 549.63,-157.3 546.63,-167.46 553.62,-167.12\"/>\n</g>\n<!-- 10 -->\n<g id=\"node11\" class=\"node\">\n<title>10</title>\n<polygon fill=\"#399de5\" stroke=\"black\" points=\"805,-149.5 665,-149.5 665,-96.5 805,-96.5 805,-149.5\"/>\n<text text-anchor=\"middle\" x=\"735\" y=\"-134.3\" font-family=\"Helvetica,sans-Serif\" font-size=\"14.00\">samples = 8.3%</text>\n<text text-anchor=\"middle\" x=\"735\" y=\"-119.3\" font-family=\"Helvetica,sans-Serif\" font-size=\"14.00\">value = [0.0, 1.0]</text>\n<text text-anchor=\"middle\" x=\"735\" y=\"-104.3\" font-family=\"Helvetica,sans-Serif\" font-size=\"14.00\">class = AD</text>\n</g>\n<!-- 6&#45;&gt;10 -->\n<g id=\"edge10\" class=\"edge\">\n<title>6&#45;&gt;10</title>\n<path fill=\"none\" stroke=\"black\" d=\"M612.09,-192.88C634.17,-180.51 659.11,-166.53 680.73,-154.41\"/>\n<polygon fill=\"black\" stroke=\"black\" points=\"682.45,-157.46 689.46,-149.52 679.03,-151.36 682.45,-157.46\"/>\n</g>\n<!-- 8 -->\n<g id=\"node9\" class=\"node\">\n<title>8</title>\n<polygon fill=\"#e78946\" stroke=\"black\" points=\"558,-53 382,-53 382,0 558,0 558,-53\"/>\n<text text-anchor=\"middle\" x=\"470\" y=\"-37.8\" font-family=\"Helvetica,sans-Serif\" font-size=\"14.00\">samples = 41.7%</text>\n<text text-anchor=\"middle\" x=\"470\" y=\"-22.8\" font-family=\"Helvetica,sans-Serif\" font-size=\"14.00\">value = [0.939, 0.061]</text>\n<text text-anchor=\"middle\" x=\"470\" y=\"-7.8\" font-family=\"Helvetica,sans-Serif\" font-size=\"14.00\">class = CN</text>\n</g>\n<!-- 7&#45;&gt;8 -->\n<g id=\"edge8\" class=\"edge\">\n<title>7&#45;&gt;8</title>\n<path fill=\"none\" stroke=\"black\" d=\"M520.72,-88.95C513.24,-79.89 505.14,-70.07 497.64,-60.99\"/>\n<polygon fill=\"black\" stroke=\"black\" points=\"500.31,-58.72 491.24,-53.24 494.91,-63.18 500.31,-58.72\"/>\n</g>\n<!-- 9 -->\n<g id=\"node10\" class=\"node\">\n<title>9</title>\n<polygon fill=\"#52a9e8\" stroke=\"black\" points=\"752,-53 576,-53 576,0 752,0 752,-53\"/>\n<text text-anchor=\"middle\" x=\"664\" y=\"-37.8\" font-family=\"Helvetica,sans-Serif\" font-size=\"14.00\">samples = 12.5%</text>\n<text text-anchor=\"middle\" x=\"664\" y=\"-22.8\" font-family=\"Helvetica,sans-Serif\" font-size=\"14.00\">value = [0.111, 0.889]</text>\n<text text-anchor=\"middle\" x=\"664\" y=\"-7.8\" font-family=\"Helvetica,sans-Serif\" font-size=\"14.00\">class = AD</text>\n</g>\n<!-- 7&#45;&gt;9 -->\n<g id=\"edge9\" class=\"edge\">\n<title>7&#45;&gt;9</title>\n<path fill=\"none\" stroke=\"black\" d=\"M588.57,-88.95C600.25,-79.43 612.97,-69.07 624.58,-59.62\"/>\n<polygon fill=\"black\" stroke=\"black\" points=\"626.87,-62.27 632.41,-53.24 622.44,-56.84 626.87,-62.27\"/>\n</g>\n</g>\n</svg>\n",
      "text/plain": [
       "<graphviz.sources.Source at 0x7fb6996b0130>"
      ]
     },
     "metadata": {},
     "output_type": "display_data"
    },
    {
     "data": {
      "image/svg+xml": "<?xml version=\"1.0\" encoding=\"UTF-8\" standalone=\"no\"?>\n<!DOCTYPE svg PUBLIC \"-//W3C//DTD SVG 1.1//EN\"\n \"http://www.w3.org/Graphics/SVG/1.1/DTD/svg11.dtd\">\n<!-- Generated by graphviz version 2.43.0 (0)\n -->\n<!-- Title: Tree Pages: 1 -->\n<svg width=\"799pt\" height=\"373pt\"\n viewBox=\"0.00 0.00 799.00 373.00\" xmlns=\"http://www.w3.org/2000/svg\" xmlns:xlink=\"http://www.w3.org/1999/xlink\">\n<g id=\"graph0\" class=\"graph\" transform=\"scale(1 1) rotate(0) translate(4 369)\">\n<title>Tree</title>\n<polygon fill=\"white\" stroke=\"transparent\" points=\"-4,4 -4,-369 795,-369 795,4 -4,4\"/>\n<!-- 0 -->\n<g id=\"node1\" class=\"node\">\n<title>0</title>\n<polygon fill=\"#fcf0e7\" stroke=\"black\" points=\"416.5,-365 237.5,-365 237.5,-297 416.5,-297 416.5,-365\"/>\n<text text-anchor=\"middle\" x=\"327\" y=\"-349.8\" font-family=\"Helvetica,sans-Serif\" font-size=\"14.00\">Left&#45;Pallidum &lt;= 0.243</text>\n<text text-anchor=\"middle\" x=\"327\" y=\"-334.8\" font-family=\"Helvetica,sans-Serif\" font-size=\"14.00\">samples = 100.0%</text>\n<text text-anchor=\"middle\" x=\"327\" y=\"-319.8\" font-family=\"Helvetica,sans-Serif\" font-size=\"14.00\">value = [0.532, 0.468]</text>\n<text text-anchor=\"middle\" x=\"327\" y=\"-304.8\" font-family=\"Helvetica,sans-Serif\" font-size=\"14.00\">class = CN</text>\n</g>\n<!-- 1 -->\n<g id=\"node2\" class=\"node\">\n<title>1</title>\n<polygon fill=\"#eca06a\" stroke=\"black\" points=\"327.5,-261 86.5,-261 86.5,-193 327.5,-193 327.5,-261\"/>\n<text text-anchor=\"middle\" x=\"207\" y=\"-245.8\" font-family=\"Helvetica,sans-Serif\" font-size=\"14.00\">wm&#45;lh&#45;superiorfrontal &lt;= 0.242</text>\n<text text-anchor=\"middle\" x=\"207\" y=\"-230.8\" font-family=\"Helvetica,sans-Serif\" font-size=\"14.00\">samples = 49.0%</text>\n<text text-anchor=\"middle\" x=\"207\" y=\"-215.8\" font-family=\"Helvetica,sans-Serif\" font-size=\"14.00\">value = [0.8, 0.2]</text>\n<text text-anchor=\"middle\" x=\"207\" y=\"-200.8\" font-family=\"Helvetica,sans-Serif\" font-size=\"14.00\">class = CN</text>\n</g>\n<!-- 0&#45;&gt;1 -->\n<g id=\"edge1\" class=\"edge\">\n<title>0&#45;&gt;1</title>\n<path fill=\"none\" stroke=\"black\" d=\"M288.04,-296.88C277.14,-287.62 265.18,-277.45 253.88,-267.85\"/>\n<polygon fill=\"black\" stroke=\"black\" points=\"256.06,-265.11 246.18,-261.3 251.53,-270.44 256.06,-265.11\"/>\n<text text-anchor=\"middle\" x=\"248.2\" y=\"-282.52\" font-family=\"Helvetica,sans-Serif\" font-size=\"14.00\">True</text>\n</g>\n<!-- 4 -->\n<g id=\"node5\" class=\"node\">\n<title>4</title>\n<polygon fill=\"#79bced\" stroke=\"black\" points=\"548,-261 346,-261 346,-193 548,-193 548,-261\"/>\n<text text-anchor=\"middle\" x=\"447\" y=\"-245.8\" font-family=\"Helvetica,sans-Serif\" font-size=\"14.00\">wm&#45;rh&#45;bankssts &lt;= 0.277</text>\n<text text-anchor=\"middle\" x=\"447\" y=\"-230.8\" font-family=\"Helvetica,sans-Serif\" font-size=\"14.00\">samples = 51.0%</text>\n<text text-anchor=\"middle\" x=\"447\" y=\"-215.8\" font-family=\"Helvetica,sans-Serif\" font-size=\"14.00\">value = [0.243, 0.757]</text>\n<text text-anchor=\"middle\" x=\"447\" y=\"-200.8\" font-family=\"Helvetica,sans-Serif\" font-size=\"14.00\">class = AD</text>\n</g>\n<!-- 0&#45;&gt;4 -->\n<g id=\"edge4\" class=\"edge\">\n<title>0&#45;&gt;4</title>\n<path fill=\"none\" stroke=\"black\" d=\"M365.96,-296.88C376.86,-287.62 388.82,-277.45 400.12,-267.85\"/>\n<polygon fill=\"black\" stroke=\"black\" points=\"402.47,-270.44 407.82,-261.3 397.94,-265.11 402.47,-270.44\"/>\n<text text-anchor=\"middle\" x=\"405.8\" y=\"-282.52\" font-family=\"Helvetica,sans-Serif\" font-size=\"14.00\">False</text>\n</g>\n<!-- 2 -->\n<g id=\"node3\" class=\"node\">\n<title>2</title>\n<polygon fill=\"#399de5\" stroke=\"black\" points=\"140,-149.5 0,-149.5 0,-96.5 140,-96.5 140,-149.5\"/>\n<text text-anchor=\"middle\" x=\"70\" y=\"-134.3\" font-family=\"Helvetica,sans-Serif\" font-size=\"14.00\">samples = 11.8%</text>\n<text text-anchor=\"middle\" x=\"70\" y=\"-119.3\" font-family=\"Helvetica,sans-Serif\" font-size=\"14.00\">value = [0.0, 1.0]</text>\n<text text-anchor=\"middle\" x=\"70\" y=\"-104.3\" font-family=\"Helvetica,sans-Serif\" font-size=\"14.00\">class = AD</text>\n</g>\n<!-- 1&#45;&gt;2 -->\n<g id=\"edge2\" class=\"edge\">\n<title>1&#45;&gt;2</title>\n<path fill=\"none\" stroke=\"black\" d=\"M162.52,-192.88C146.42,-180.9 128.29,-167.4 112.38,-155.55\"/>\n<polygon fill=\"black\" stroke=\"black\" points=\"114.39,-152.68 104.28,-149.52 110.21,-158.3 114.39,-152.68\"/>\n</g>\n<!-- 3 -->\n<g id=\"node4\" class=\"node\">\n<title>3</title>\n<polygon fill=\"#e58139\" stroke=\"black\" points=\"298,-149.5 158,-149.5 158,-96.5 298,-96.5 298,-149.5\"/>\n<text text-anchor=\"middle\" x=\"228\" y=\"-134.3\" font-family=\"Helvetica,sans-Serif\" font-size=\"14.00\">samples = 37.3%</text>\n<text text-anchor=\"middle\" x=\"228\" y=\"-119.3\" font-family=\"Helvetica,sans-Serif\" font-size=\"14.00\">value = [1.0, 0.0]</text>\n<text text-anchor=\"middle\" x=\"228\" y=\"-104.3\" font-family=\"Helvetica,sans-Serif\" font-size=\"14.00\">class = CN</text>\n</g>\n<!-- 1&#45;&gt;3 -->\n<g id=\"edge3\" class=\"edge\">\n<title>1&#45;&gt;3</title>\n<path fill=\"none\" stroke=\"black\" d=\"M213.82,-192.88C216.01,-182.22 218.46,-170.35 220.69,-159.52\"/>\n<polygon fill=\"black\" stroke=\"black\" points=\"224.16,-160.02 222.75,-149.52 217.3,-158.61 224.16,-160.02\"/>\n</g>\n<!-- 5 -->\n<g id=\"node6\" class=\"node\">\n<title>5</title>\n<polygon fill=\"#e58139\" stroke=\"black\" points=\"497,-149.5 357,-149.5 357,-96.5 497,-96.5 497,-149.5\"/>\n<text text-anchor=\"middle\" x=\"427\" y=\"-134.3\" font-family=\"Helvetica,sans-Serif\" font-size=\"14.00\">samples = 3.9%</text>\n<text text-anchor=\"middle\" x=\"427\" y=\"-119.3\" font-family=\"Helvetica,sans-Serif\" font-size=\"14.00\">value = [1.0, 0.0]</text>\n<text text-anchor=\"middle\" x=\"427\" y=\"-104.3\" font-family=\"Helvetica,sans-Serif\" font-size=\"14.00\">class = CN</text>\n</g>\n<!-- 4&#45;&gt;5 -->\n<g id=\"edge5\" class=\"edge\">\n<title>4&#45;&gt;5</title>\n<path fill=\"none\" stroke=\"black\" d=\"M440.51,-192.88C438.41,-182.22 436.09,-170.35 433.96,-159.52\"/>\n<polygon fill=\"black\" stroke=\"black\" points=\"437.36,-158.66 432,-149.52 430.49,-160.01 437.36,-158.66\"/>\n</g>\n<!-- 6 -->\n<g id=\"node7\" class=\"node\">\n<title>6</title>\n<polygon fill=\"#63b2eb\" stroke=\"black\" points=\"715,-157 515,-157 515,-89 715,-89 715,-157\"/>\n<text text-anchor=\"middle\" x=\"615\" y=\"-141.8\" font-family=\"Helvetica,sans-Serif\" font-size=\"14.00\">wm&#45;lh&#45;bankssts &lt;= 0.104</text>\n<text text-anchor=\"middle\" x=\"615\" y=\"-126.8\" font-family=\"Helvetica,sans-Serif\" font-size=\"14.00\">samples = 47.1%</text>\n<text text-anchor=\"middle\" x=\"615\" y=\"-111.8\" font-family=\"Helvetica,sans-Serif\" font-size=\"14.00\">value = [0.176, 0.824]</text>\n<text text-anchor=\"middle\" x=\"615\" y=\"-96.8\" font-family=\"Helvetica,sans-Serif\" font-size=\"14.00\">class = AD</text>\n</g>\n<!-- 4&#45;&gt;6 -->\n<g id=\"edge6\" class=\"edge\">\n<title>4&#45;&gt;6</title>\n<path fill=\"none\" stroke=\"black\" d=\"M501.54,-192.88C517.47,-183.21 535.01,-172.56 551.44,-162.59\"/>\n<polygon fill=\"black\" stroke=\"black\" points=\"553.71,-165.31 560.44,-157.12 550.08,-159.32 553.71,-165.31\"/>\n</g>\n<!-- 7 -->\n<g id=\"node8\" class=\"node\">\n<title>7</title>\n<polygon fill=\"#399de5\" stroke=\"black\" points=\"597,-53 457,-53 457,0 597,0 597,-53\"/>\n<text text-anchor=\"middle\" x=\"527\" y=\"-37.8\" font-family=\"Helvetica,sans-Serif\" font-size=\"14.00\">samples = 25.5%</text>\n<text text-anchor=\"middle\" x=\"527\" y=\"-22.8\" font-family=\"Helvetica,sans-Serif\" font-size=\"14.00\">value = [0.0, 1.0]</text>\n<text text-anchor=\"middle\" x=\"527\" y=\"-7.8\" font-family=\"Helvetica,sans-Serif\" font-size=\"14.00\">class = AD</text>\n</g>\n<!-- 6&#45;&gt;7 -->\n<g id=\"edge7\" class=\"edge\">\n<title>6&#45;&gt;7</title>\n<path fill=\"none\" stroke=\"black\" d=\"M584.22,-88.95C575.7,-79.8 566.46,-69.87 557.93,-60.71\"/>\n<polygon fill=\"black\" stroke=\"black\" points=\"560.34,-58.17 550.97,-53.24 555.22,-62.94 560.34,-58.17\"/>\n</g>\n<!-- 8 -->\n<g id=\"node9\" class=\"node\">\n<title>8</title>\n<polygon fill=\"#e3f1fb\" stroke=\"black\" points=\"791,-53 615,-53 615,0 791,0 791,-53\"/>\n<text text-anchor=\"middle\" x=\"703\" y=\"-37.8\" font-family=\"Helvetica,sans-Serif\" font-size=\"14.00\">samples = 21.6%</text>\n<text text-anchor=\"middle\" x=\"703\" y=\"-22.8\" font-family=\"Helvetica,sans-Serif\" font-size=\"14.00\">value = [0.462, 0.538]</text>\n<text text-anchor=\"middle\" x=\"703\" y=\"-7.8\" font-family=\"Helvetica,sans-Serif\" font-size=\"14.00\">class = AD</text>\n</g>\n<!-- 6&#45;&gt;8 -->\n<g id=\"edge8\" class=\"edge\">\n<title>6&#45;&gt;8</title>\n<path fill=\"none\" stroke=\"black\" d=\"M645.78,-88.95C654.3,-79.8 663.54,-69.87 672.07,-60.71\"/>\n<polygon fill=\"black\" stroke=\"black\" points=\"674.78,-62.94 679.03,-53.24 669.66,-58.17 674.78,-62.94\"/>\n</g>\n</g>\n</svg>\n",
      "text/plain": [
       "<graphviz.sources.Source at 0x7fb6c03a7100>"
      ]
     },
     "metadata": {},
     "output_type": "display_data"
    },
    {
     "data": {
      "image/svg+xml": "<?xml version=\"1.0\" encoding=\"UTF-8\" standalone=\"no\"?>\n<!DOCTYPE svg PUBLIC \"-//W3C//DTD SVG 1.1//EN\"\n \"http://www.w3.org/Graphics/SVG/1.1/DTD/svg11.dtd\">\n<!-- Generated by graphviz version 2.43.0 (0)\n -->\n<!-- Title: Tree Pages: 1 -->\n<svg width=\"1169pt\" height=\"373pt\"\n viewBox=\"0.00 0.00 1169.00 373.00\" xmlns=\"http://www.w3.org/2000/svg\" xmlns:xlink=\"http://www.w3.org/1999/xlink\">\n<g id=\"graph0\" class=\"graph\" transform=\"scale(1 1) rotate(0) translate(4 369)\">\n<title>Tree</title>\n<polygon fill=\"white\" stroke=\"transparent\" points=\"-4,4 -4,-369 1165,-369 1165,4 -4,4\"/>\n<!-- 0 -->\n<g id=\"node1\" class=\"node\">\n<title>0</title>\n<polygon fill=\"#f0f8fd\" stroke=\"black\" points=\"648.5,-365 427.5,-365 427.5,-297 648.5,-297 648.5,-365\"/>\n<text text-anchor=\"middle\" x=\"538\" y=\"-349.8\" font-family=\"Helvetica,sans-Serif\" font-size=\"14.00\">ctx&#45;lh&#45;parsorbitalis &lt;= 0.094</text>\n<text text-anchor=\"middle\" x=\"538\" y=\"-334.8\" font-family=\"Helvetica,sans-Serif\" font-size=\"14.00\">samples = 100.0%</text>\n<text text-anchor=\"middle\" x=\"538\" y=\"-319.8\" font-family=\"Helvetica,sans-Serif\" font-size=\"14.00\">value = [0.481, 0.519]</text>\n<text text-anchor=\"middle\" x=\"538\" y=\"-304.8\" font-family=\"Helvetica,sans-Serif\" font-size=\"14.00\">class = AD</text>\n</g>\n<!-- 1 -->\n<g id=\"node2\" class=\"node\">\n<title>1</title>\n<polygon fill=\"#55abe9\" stroke=\"black\" points=\"515,-261 301,-261 301,-193 515,-193 515,-261\"/>\n<text text-anchor=\"middle\" x=\"408\" y=\"-245.8\" font-family=\"Helvetica,sans-Serif\" font-size=\"14.00\">ctx&#45;lh&#45;paracentral &lt;= 0.148</text>\n<text text-anchor=\"middle\" x=\"408\" y=\"-230.8\" font-family=\"Helvetica,sans-Serif\" font-size=\"14.00\">samples = 33.3%</text>\n<text text-anchor=\"middle\" x=\"408\" y=\"-215.8\" font-family=\"Helvetica,sans-Serif\" font-size=\"14.00\">value = [0.125, 0.875]</text>\n<text text-anchor=\"middle\" x=\"408\" y=\"-200.8\" font-family=\"Helvetica,sans-Serif\" font-size=\"14.00\">class = AD</text>\n</g>\n<!-- 0&#45;&gt;1 -->\n<g id=\"edge1\" class=\"edge\">\n<title>0&#45;&gt;1</title>\n<path fill=\"none\" stroke=\"black\" d=\"M495.79,-296.88C483.87,-287.53 470.78,-277.26 458.43,-267.57\"/>\n<polygon fill=\"black\" stroke=\"black\" points=\"460.47,-264.72 450.44,-261.3 456.15,-270.23 460.47,-264.72\"/>\n<text text-anchor=\"middle\" x=\"453.44\" y=\"-282.42\" font-family=\"Helvetica,sans-Serif\" font-size=\"14.00\">True</text>\n</g>\n<!-- 6 -->\n<g id=\"node7\" class=\"node\">\n<title>6</title>\n<polygon fill=\"#f4c7a8\" stroke=\"black\" points=\"803,-261 533,-261 533,-193 803,-193 803,-261\"/>\n<text text-anchor=\"middle\" x=\"668\" y=\"-245.8\" font-family=\"Helvetica,sans-Serif\" font-size=\"14.00\">wm&#45;lh&#45;medialorbitofrontal &lt;= 0.176</text>\n<text text-anchor=\"middle\" x=\"668\" y=\"-230.8\" font-family=\"Helvetica,sans-Serif\" font-size=\"14.00\">samples = 66.7%</text>\n<text text-anchor=\"middle\" x=\"668\" y=\"-215.8\" font-family=\"Helvetica,sans-Serif\" font-size=\"14.00\">value = [0.642, 0.358]</text>\n<text text-anchor=\"middle\" x=\"668\" y=\"-200.8\" font-family=\"Helvetica,sans-Serif\" font-size=\"14.00\">class = CN</text>\n</g>\n<!-- 0&#45;&gt;6 -->\n<g id=\"edge6\" class=\"edge\">\n<title>0&#45;&gt;6</title>\n<path fill=\"none\" stroke=\"black\" d=\"M580.21,-296.88C592.13,-287.53 605.22,-277.26 617.57,-267.57\"/>\n<polygon fill=\"black\" stroke=\"black\" points=\"619.85,-270.23 625.56,-261.3 615.53,-264.72 619.85,-270.23\"/>\n<text text-anchor=\"middle\" x=\"622.56\" y=\"-282.42\" font-family=\"Helvetica,sans-Serif\" font-size=\"14.00\">False</text>\n</g>\n<!-- 2 -->\n<g id=\"node3\" class=\"node\">\n<title>2</title>\n<polygon fill=\"#4ca6e7\" stroke=\"black\" points=\"330.5,-157 133.5,-157 133.5,-89 330.5,-89 330.5,-157\"/>\n<text text-anchor=\"middle\" x=\"232\" y=\"-141.8\" font-family=\"Helvetica,sans-Serif\" font-size=\"14.00\">wm&#45;rh&#45;fusiform &lt;= 0.191</text>\n<text text-anchor=\"middle\" x=\"232\" y=\"-126.8\" font-family=\"Helvetica,sans-Serif\" font-size=\"14.00\">samples = 31.4%</text>\n<text text-anchor=\"middle\" x=\"232\" y=\"-111.8\" font-family=\"Helvetica,sans-Serif\" font-size=\"14.00\">value = [0.087, 0.913]</text>\n<text text-anchor=\"middle\" x=\"232\" y=\"-96.8\" font-family=\"Helvetica,sans-Serif\" font-size=\"14.00\">class = AD</text>\n</g>\n<!-- 1&#45;&gt;2 -->\n<g id=\"edge2\" class=\"edge\">\n<title>1&#45;&gt;2</title>\n<path fill=\"none\" stroke=\"black\" d=\"M350.86,-192.88C334.02,-183.12 315.46,-172.37 298.1,-162.31\"/>\n<polygon fill=\"black\" stroke=\"black\" points=\"299.56,-159.11 289.16,-157.12 296.05,-165.17 299.56,-159.11\"/>\n</g>\n<!-- 5 -->\n<g id=\"node6\" class=\"node\">\n<title>5</title>\n<polygon fill=\"#e58139\" stroke=\"black\" points=\"489,-149.5 349,-149.5 349,-96.5 489,-96.5 489,-149.5\"/>\n<text text-anchor=\"middle\" x=\"419\" y=\"-134.3\" font-family=\"Helvetica,sans-Serif\" font-size=\"14.00\">samples = 2.0%</text>\n<text text-anchor=\"middle\" x=\"419\" y=\"-119.3\" font-family=\"Helvetica,sans-Serif\" font-size=\"14.00\">value = [1.0, 0.0]</text>\n<text text-anchor=\"middle\" x=\"419\" y=\"-104.3\" font-family=\"Helvetica,sans-Serif\" font-size=\"14.00\">class = CN</text>\n</g>\n<!-- 1&#45;&gt;5 -->\n<g id=\"edge5\" class=\"edge\">\n<title>1&#45;&gt;5</title>\n<path fill=\"none\" stroke=\"black\" d=\"M411.57,-192.88C412.72,-182.22 414,-170.35 415.17,-159.52\"/>\n<polygon fill=\"black\" stroke=\"black\" points=\"418.66,-159.84 416.25,-149.52 411.7,-159.09 418.66,-159.84\"/>\n</g>\n<!-- 3 -->\n<g id=\"node4\" class=\"node\">\n<title>3</title>\n<polygon fill=\"#42a2e6\" stroke=\"black\" points=\"176,-53 0,-53 0,0 176,0 176,-53\"/>\n<text text-anchor=\"middle\" x=\"88\" y=\"-37.8\" font-family=\"Helvetica,sans-Serif\" font-size=\"14.00\">samples = 29.4%</text>\n<text text-anchor=\"middle\" x=\"88\" y=\"-22.8\" font-family=\"Helvetica,sans-Serif\" font-size=\"14.00\">value = [0.045, 0.955]</text>\n<text text-anchor=\"middle\" x=\"88\" y=\"-7.8\" font-family=\"Helvetica,sans-Serif\" font-size=\"14.00\">class = AD</text>\n</g>\n<!-- 2&#45;&gt;3 -->\n<g id=\"edge3\" class=\"edge\">\n<title>2&#45;&gt;3</title>\n<path fill=\"none\" stroke=\"black\" d=\"M181.64,-88.95C166.72,-79.16 150.44,-68.48 135.7,-58.8\"/>\n<polygon fill=\"black\" stroke=\"black\" points=\"137.5,-55.8 127.22,-53.24 133.66,-61.65 137.5,-55.8\"/>\n</g>\n<!-- 4 -->\n<g id=\"node5\" class=\"node\">\n<title>4</title>\n<polygon fill=\"#e58139\" stroke=\"black\" points=\"334,-53 194,-53 194,0 334,0 334,-53\"/>\n<text text-anchor=\"middle\" x=\"264\" y=\"-37.8\" font-family=\"Helvetica,sans-Serif\" font-size=\"14.00\">samples = 2.0%</text>\n<text text-anchor=\"middle\" x=\"264\" y=\"-22.8\" font-family=\"Helvetica,sans-Serif\" font-size=\"14.00\">value = [1.0, 0.0]</text>\n<text text-anchor=\"middle\" x=\"264\" y=\"-7.8\" font-family=\"Helvetica,sans-Serif\" font-size=\"14.00\">class = CN</text>\n</g>\n<!-- 2&#45;&gt;4 -->\n<g id=\"edge4\" class=\"edge\">\n<title>2&#45;&gt;4</title>\n<path fill=\"none\" stroke=\"black\" d=\"M243.19,-88.95C246.04,-80.53 249.12,-71.45 252,-62.92\"/>\n<polygon fill=\"black\" stroke=\"black\" points=\"255.39,-63.83 255.28,-53.24 248.76,-61.59 255.39,-63.83\"/>\n</g>\n<!-- 7 -->\n<g id=\"node8\" class=\"node\">\n<title>7</title>\n<polygon fill=\"#a8d4f4\" stroke=\"black\" points=\"784.5,-157 529.5,-157 529.5,-89 784.5,-89 784.5,-157\"/>\n<text text-anchor=\"middle\" x=\"657\" y=\"-141.8\" font-family=\"Helvetica,sans-Serif\" font-size=\"14.00\">ctx&#45;rh&#45;isthmuscingulate &lt;= 0.129</text>\n<text text-anchor=\"middle\" x=\"657\" y=\"-126.8\" font-family=\"Helvetica,sans-Serif\" font-size=\"14.00\">samples = 29.4%</text>\n<text text-anchor=\"middle\" x=\"657\" y=\"-111.8\" font-family=\"Helvetica,sans-Serif\" font-size=\"14.00\">value = [0.36, 0.64]</text>\n<text text-anchor=\"middle\" x=\"657\" y=\"-96.8\" font-family=\"Helvetica,sans-Serif\" font-size=\"14.00\">class = AD</text>\n</g>\n<!-- 6&#45;&gt;7 -->\n<g id=\"edge7\" class=\"edge\">\n<title>6&#45;&gt;7</title>\n<path fill=\"none\" stroke=\"black\" d=\"M664.43,-192.88C663.55,-184.78 662.61,-175.98 661.69,-167.47\"/>\n<polygon fill=\"black\" stroke=\"black\" points=\"665.14,-166.87 660.59,-157.3 658.18,-167.62 665.14,-166.87\"/>\n</g>\n<!-- 10 -->\n<g id=\"node11\" class=\"node\">\n<title>10</title>\n<polygon fill=\"#e89051\" stroke=\"black\" points=\"1053.5,-157 802.5,-157 802.5,-89 1053.5,-89 1053.5,-157\"/>\n<text text-anchor=\"middle\" x=\"928\" y=\"-141.8\" font-family=\"Helvetica,sans-Serif\" font-size=\"14.00\">wm&#45;lh&#45;inferiortemporal &lt;= 0.244</text>\n<text text-anchor=\"middle\" x=\"928\" y=\"-126.8\" font-family=\"Helvetica,sans-Serif\" font-size=\"14.00\">samples = 37.3%</text>\n<text text-anchor=\"middle\" x=\"928\" y=\"-111.8\" font-family=\"Helvetica,sans-Serif\" font-size=\"14.00\">value = [0.893, 0.107]</text>\n<text text-anchor=\"middle\" x=\"928\" y=\"-96.8\" font-family=\"Helvetica,sans-Serif\" font-size=\"14.00\">class = CN</text>\n</g>\n<!-- 6&#45;&gt;10 -->\n<g id=\"edge10\" class=\"edge\">\n<title>6&#45;&gt;10</title>\n<path fill=\"none\" stroke=\"black\" d=\"M752.41,-192.88C778.54,-182.63 807.49,-171.28 834.21,-160.79\"/>\n<polygon fill=\"black\" stroke=\"black\" points=\"835.53,-164.04 843.56,-157.12 832.98,-157.52 835.53,-164.04\"/>\n</g>\n<!-- 8 -->\n<g id=\"node9\" class=\"node\">\n<title>8</title>\n<polygon fill=\"#77bced\" stroke=\"black\" points=\"610,-53 434,-53 434,0 610,0 610,-53\"/>\n<text text-anchor=\"middle\" x=\"522\" y=\"-37.8\" font-family=\"Helvetica,sans-Serif\" font-size=\"14.00\">samples = 25.5%</text>\n<text text-anchor=\"middle\" x=\"522\" y=\"-22.8\" font-family=\"Helvetica,sans-Serif\" font-size=\"14.00\">value = [0.238, 0.762]</text>\n<text text-anchor=\"middle\" x=\"522\" y=\"-7.8\" font-family=\"Helvetica,sans-Serif\" font-size=\"14.00\">class = AD</text>\n</g>\n<!-- 7&#45;&gt;8 -->\n<g id=\"edge8\" class=\"edge\">\n<title>7&#45;&gt;8</title>\n<path fill=\"none\" stroke=\"black\" d=\"M609.78,-88.95C595.93,-79.25 580.82,-68.68 567.1,-59.07\"/>\n<polygon fill=\"black\" stroke=\"black\" points=\"568.97,-56.1 558.77,-53.24 564.95,-61.84 568.97,-56.1\"/>\n</g>\n<!-- 9 -->\n<g id=\"node10\" class=\"node\">\n<title>9</title>\n<polygon fill=\"#e58139\" stroke=\"black\" points=\"768,-53 628,-53 628,0 768,0 768,-53\"/>\n<text text-anchor=\"middle\" x=\"698\" y=\"-37.8\" font-family=\"Helvetica,sans-Serif\" font-size=\"14.00\">samples = 3.9%</text>\n<text text-anchor=\"middle\" x=\"698\" y=\"-22.8\" font-family=\"Helvetica,sans-Serif\" font-size=\"14.00\">value = [1.0, 0.0]</text>\n<text text-anchor=\"middle\" x=\"698\" y=\"-7.8\" font-family=\"Helvetica,sans-Serif\" font-size=\"14.00\">class = CN</text>\n</g>\n<!-- 7&#45;&gt;9 -->\n<g id=\"edge9\" class=\"edge\">\n<title>7&#45;&gt;9</title>\n<path fill=\"none\" stroke=\"black\" d=\"M671.34,-88.95C675.03,-80.44 679.02,-71.26 682.75,-62.65\"/>\n<polygon fill=\"black\" stroke=\"black\" points=\"686.06,-63.8 686.83,-53.24 679.64,-61.02 686.06,-63.8\"/>\n</g>\n<!-- 11 -->\n<g id=\"node12\" class=\"node\">\n<title>11</title>\n<polygon fill=\"#399de5\" stroke=\"black\" points=\"967,-53 827,-53 827,0 967,0 967,-53\"/>\n<text text-anchor=\"middle\" x=\"897\" y=\"-37.8\" font-family=\"Helvetica,sans-Serif\" font-size=\"14.00\">samples = 3.9%</text>\n<text text-anchor=\"middle\" x=\"897\" y=\"-22.8\" font-family=\"Helvetica,sans-Serif\" font-size=\"14.00\">value = [0.0, 1.0]</text>\n<text text-anchor=\"middle\" x=\"897\" y=\"-7.8\" font-family=\"Helvetica,sans-Serif\" font-size=\"14.00\">class = AD</text>\n</g>\n<!-- 10&#45;&gt;11 -->\n<g id=\"edge11\" class=\"edge\">\n<title>10&#45;&gt;11</title>\n<path fill=\"none\" stroke=\"black\" d=\"M917.16,-88.95C914.4,-80.53 911.42,-71.45 908.62,-62.92\"/>\n<polygon fill=\"black\" stroke=\"black\" points=\"911.89,-61.65 905.44,-53.24 905.23,-63.83 911.89,-61.65\"/>\n</g>\n<!-- 12 -->\n<g id=\"node13\" class=\"node\">\n<title>12</title>\n<polygon fill=\"#e68641\" stroke=\"black\" points=\"1161,-53 985,-53 985,0 1161,0 1161,-53\"/>\n<text text-anchor=\"middle\" x=\"1073\" y=\"-37.8\" font-family=\"Helvetica,sans-Serif\" font-size=\"14.00\">samples = 33.3%</text>\n<text text-anchor=\"middle\" x=\"1073\" y=\"-22.8\" font-family=\"Helvetica,sans-Serif\" font-size=\"14.00\">value = [0.962, 0.038]</text>\n<text text-anchor=\"middle\" x=\"1073\" y=\"-7.8\" font-family=\"Helvetica,sans-Serif\" font-size=\"14.00\">class = CN</text>\n</g>\n<!-- 10&#45;&gt;12 -->\n<g id=\"edge12\" class=\"edge\">\n<title>10&#45;&gt;12</title>\n<path fill=\"none\" stroke=\"black\" d=\"M978.71,-88.95C993.73,-79.16 1010.13,-68.48 1024.97,-58.8\"/>\n<polygon fill=\"black\" stroke=\"black\" points=\"1027.04,-61.63 1033.51,-53.24 1023.22,-55.76 1027.04,-61.63\"/>\n</g>\n</g>\n</svg>\n",
      "text/plain": [
       "<graphviz.sources.Source at 0x7fb699566b90>"
      ]
     },
     "metadata": {},
     "output_type": "display_data"
    }
   ],
   "source": [
    "from sklearn.tree import export_graphviz\n",
    "from IPython.display import Image\n",
    "import graphviz\n",
    "\n",
    "\n",
    "for i in range(3):\n",
    "    tree = rand_search.best_estimator_[i]\n",
    "    dot_data = export_graphviz(tree,feature_names=region[1:],  filled=True, impurity=False, proportion=True,class_names=[\"CN\",\"AD\"])\n",
    "    graph = graphviz.Source(dot_data)\n",
    "    display(graph)"
   ]
  }
 ],
 "metadata": {
  "kernelspec": {
   "display_name": "Python 3",
   "language": "python",
   "name": "python3"
  },
  "language_info": {
   "codemirror_mode": {
    "name": "ipython",
    "version": 3
   },
   "file_extension": ".py",
   "mimetype": "text/x-python",
   "name": "python",
   "nbconvert_exporter": "python",
   "pygments_lexer": "ipython3",
   "version": "3.10.7"
  },
  "orig_nbformat": 4,
  "vscode": {
   "interpreter": {
    "hash": "916dbcbb3f70747c44a77c7bcd40155683ae19c65e1c03b4aa3499c5328201f1"
   }
  }
 },
 "nbformat": 4,
 "nbformat_minor": 2
}
