{
 "cells": [
  {
   "cell_type": "code",
   "execution_count": 1,
   "metadata": {},
   "outputs": [],
   "source": [
    "import os\n",
    "import numpy as np\n",
    "import reading \n",
    "from feature_extractor import feature_extractor\n",
    "import pandas as pd\n",
    "import matplotlib.pyplot as plt"
   ]
  },
  {
   "attachments": {},
   "cell_type": "markdown",
   "metadata": {},
   "source": [
    "Load dei Path, Con il sort giusto per far corrispondere i soggetti"
   ]
  },
  {
   "cell_type": "code",
   "execution_count": 2,
   "metadata": {},
   "outputs": [],
   "source": [
    "paths_FA= reading.data_path(\"Diffusion_parameters_maps-20230215T134959Z-001\",\"corrected_FA_image\")\n",
    "paths_masks=reading.data_path(\"Diffusion_space_segmentations-20230215T134839Z-001\",\"Diffusion_space_segmentations-20230215T134839Z-001\")\n",
    "\n",
    "\n",
    "#print((os.path.basename(paths_masks[0]).split('_')[2]))\n",
    "\n",
    "paths_FA.sort(key=lambda x: int(os.path.basename(x).split('_')[3]))\n",
    "paths_masks.sort(key=lambda x: int(os.path.basename(x).split('_')[2]))\n"
   ]
  },
  {
   "attachments": {},
   "cell_type": "markdown",
   "metadata": {},
   "source": [
    "Feature extraction"
   ]
  },
  {
   "cell_type": "code",
   "execution_count": 3,
   "metadata": {},
   "outputs": [],
   "source": [
    "region, mean, std=feature_extractor(paths_FA,paths_masks)\n"
   ]
  },
  {
   "attachments": {},
   "cell_type": "markdown",
   "metadata": {},
   "source": [
    "Reshape degli array per fare il Dataframe"
   ]
  },
  {
   "cell_type": "code",
   "execution_count": 4,
   "metadata": {},
   "outputs": [],
   "source": [
    "mean_t=np.transpose(mean)\n",
    "std_t=np.transpose(std)\n"
   ]
  },
  {
   "attachments": {},
   "cell_type": "markdown",
   "metadata": {},
   "source": [
    "Creo DataFrame per mean and std"
   ]
  },
  {
   "cell_type": "code",
   "execution_count": 5,
   "metadata": {},
   "outputs": [
    {
     "data": {
      "text/html": [
       "<div>\n",
       "<style scoped>\n",
       "    .dataframe tbody tr th:only-of-type {\n",
       "        vertical-align: middle;\n",
       "    }\n",
       "\n",
       "    .dataframe tbody tr th {\n",
       "        vertical-align: top;\n",
       "    }\n",
       "\n",
       "    .dataframe thead th {\n",
       "        text-align: right;\n",
       "    }\n",
       "</style>\n",
       "<table border=\"1\" class=\"dataframe\">\n",
       "  <thead>\n",
       "    <tr style=\"text-align: right;\">\n",
       "      <th></th>\n",
       "      <th>Left-Lateral-Ventricle</th>\n",
       "      <th>Left-Inf-Lat-Vent</th>\n",
       "      <th>Left-Cerebellum-White-Matter</th>\n",
       "      <th>Left-Cerebellum-Cortex</th>\n",
       "      <th>Left-Thalamus</th>\n",
       "      <th>Left-Caudate</th>\n",
       "      <th>Left-Putamen</th>\n",
       "      <th>Left-Pallidum</th>\n",
       "      <th>3rd-Ventricle</th>\n",
       "      <th>4th-Ventricle</th>\n",
       "      <th>...</th>\n",
       "      <th>wm-rh-superiorfrontal</th>\n",
       "      <th>wm-rh-superiorparietal</th>\n",
       "      <th>wm-rh-superiortemporal</th>\n",
       "      <th>wm-rh-supramarginal</th>\n",
       "      <th>wm-rh-frontalpole</th>\n",
       "      <th>wm-rh-temporalpole</th>\n",
       "      <th>wm-rh-transversetemporal</th>\n",
       "      <th>wm-rh-insula</th>\n",
       "      <th>Left-UnsegmentedWhiteMatter</th>\n",
       "      <th>Right-UnsegmentedWhiteMatter</th>\n",
       "    </tr>\n",
       "  </thead>\n",
       "  <tbody>\n",
       "    <tr>\n",
       "      <th>1.0</th>\n",
       "      <td>0.008558</td>\n",
       "      <td>0.109013</td>\n",
       "      <td>0.172291</td>\n",
       "      <td>0.260344</td>\n",
       "      <td>0.122025</td>\n",
       "      <td>0.236524</td>\n",
       "      <td>0.126373</td>\n",
       "      <td>0.228594</td>\n",
       "      <td>0.230439</td>\n",
       "      <td>0.107770</td>\n",
       "      <td>...</td>\n",
       "      <td>0.252780</td>\n",
       "      <td>0.217847</td>\n",
       "      <td>0.258662</td>\n",
       "      <td>0.268637</td>\n",
       "      <td>0.276182</td>\n",
       "      <td>0.214232</td>\n",
       "      <td>0.158717</td>\n",
       "      <td>0.367259</td>\n",
       "      <td>0.301571</td>\n",
       "      <td>0.328116</td>\n",
       "    </tr>\n",
       "    <tr>\n",
       "      <th>2.0</th>\n",
       "      <td>0.010137</td>\n",
       "      <td>0.107341</td>\n",
       "      <td>0.171492</td>\n",
       "      <td>0.299163</td>\n",
       "      <td>0.133621</td>\n",
       "      <td>0.256451</td>\n",
       "      <td>0.160723</td>\n",
       "      <td>0.226560</td>\n",
       "      <td>0.239494</td>\n",
       "      <td>0.118588</td>\n",
       "      <td>...</td>\n",
       "      <td>0.286469</td>\n",
       "      <td>0.253083</td>\n",
       "      <td>0.261861</td>\n",
       "      <td>0.238354</td>\n",
       "      <td>0.260860</td>\n",
       "      <td>0.178386</td>\n",
       "      <td>0.178781</td>\n",
       "      <td>0.357016</td>\n",
       "      <td>0.330572</td>\n",
       "      <td>0.366950</td>\n",
       "    </tr>\n",
       "    <tr>\n",
       "      <th>3.0</th>\n",
       "      <td>0.008196</td>\n",
       "      <td>0.133892</td>\n",
       "      <td>0.112614</td>\n",
       "      <td>0.262373</td>\n",
       "      <td>0.111241</td>\n",
       "      <td>0.247089</td>\n",
       "      <td>0.133506</td>\n",
       "      <td>0.211761</td>\n",
       "      <td>0.219353</td>\n",
       "      <td>0.106775</td>\n",
       "      <td>...</td>\n",
       "      <td>0.254498</td>\n",
       "      <td>0.258600</td>\n",
       "      <td>0.268107</td>\n",
       "      <td>0.245099</td>\n",
       "      <td>0.270796</td>\n",
       "      <td>0.149528</td>\n",
       "      <td>0.172897</td>\n",
       "      <td>0.257598</td>\n",
       "      <td>0.295915</td>\n",
       "      <td>0.337266</td>\n",
       "    </tr>\n",
       "    <tr>\n",
       "      <th>4.0</th>\n",
       "      <td>0.012099</td>\n",
       "      <td>0.114534</td>\n",
       "      <td>0.134856</td>\n",
       "      <td>0.289858</td>\n",
       "      <td>0.112977</td>\n",
       "      <td>0.243535</td>\n",
       "      <td>0.153650</td>\n",
       "      <td>0.230634</td>\n",
       "      <td>0.249325</td>\n",
       "      <td>0.080339</td>\n",
       "      <td>...</td>\n",
       "      <td>0.256776</td>\n",
       "      <td>0.215121</td>\n",
       "      <td>0.285465</td>\n",
       "      <td>0.257601</td>\n",
       "      <td>0.238565</td>\n",
       "      <td>0.191491</td>\n",
       "      <td>0.177666</td>\n",
       "      <td>0.226578</td>\n",
       "      <td>0.301181</td>\n",
       "      <td>0.359059</td>\n",
       "    </tr>\n",
       "    <tr>\n",
       "      <th>5.0</th>\n",
       "      <td>0.011768</td>\n",
       "      <td>0.105971</td>\n",
       "      <td>0.110494</td>\n",
       "      <td>0.269097</td>\n",
       "      <td>0.106641</td>\n",
       "      <td>0.248220</td>\n",
       "      <td>0.139430</td>\n",
       "      <td>0.246313</td>\n",
       "      <td>0.263455</td>\n",
       "      <td>0.106332</td>\n",
       "      <td>...</td>\n",
       "      <td>0.232970</td>\n",
       "      <td>0.210857</td>\n",
       "      <td>0.304468</td>\n",
       "      <td>0.250227</td>\n",
       "      <td>0.257328</td>\n",
       "      <td>0.252974</td>\n",
       "      <td>0.189921</td>\n",
       "      <td>0.272185</td>\n",
       "      <td>0.309642</td>\n",
       "      <td>0.373039</td>\n",
       "    </tr>\n",
       "  </tbody>\n",
       "</table>\n",
       "<p>5 rows × 176 columns</p>\n",
       "</div>"
      ],
      "text/plain": [
       "     Left-Lateral-Ventricle  Left-Inf-Lat-Vent  Left-Cerebellum-White-Matter  \\\n",
       "1.0                0.008558           0.109013                      0.172291   \n",
       "2.0                0.010137           0.107341                      0.171492   \n",
       "3.0                0.008196           0.133892                      0.112614   \n",
       "4.0                0.012099           0.114534                      0.134856   \n",
       "5.0                0.011768           0.105971                      0.110494   \n",
       "\n",
       "     Left-Cerebellum-Cortex  Left-Thalamus  Left-Caudate  Left-Putamen  \\\n",
       "1.0                0.260344       0.122025      0.236524      0.126373   \n",
       "2.0                0.299163       0.133621      0.256451      0.160723   \n",
       "3.0                0.262373       0.111241      0.247089      0.133506   \n",
       "4.0                0.289858       0.112977      0.243535      0.153650   \n",
       "5.0                0.269097       0.106641      0.248220      0.139430   \n",
       "\n",
       "     Left-Pallidum  3rd-Ventricle  4th-Ventricle  ...  wm-rh-superiorfrontal  \\\n",
       "1.0       0.228594       0.230439       0.107770  ...               0.252780   \n",
       "2.0       0.226560       0.239494       0.118588  ...               0.286469   \n",
       "3.0       0.211761       0.219353       0.106775  ...               0.254498   \n",
       "4.0       0.230634       0.249325       0.080339  ...               0.256776   \n",
       "5.0       0.246313       0.263455       0.106332  ...               0.232970   \n",
       "\n",
       "     wm-rh-superiorparietal  wm-rh-superiortemporal  wm-rh-supramarginal  \\\n",
       "1.0                0.217847                0.258662             0.268637   \n",
       "2.0                0.253083                0.261861             0.238354   \n",
       "3.0                0.258600                0.268107             0.245099   \n",
       "4.0                0.215121                0.285465             0.257601   \n",
       "5.0                0.210857                0.304468             0.250227   \n",
       "\n",
       "     wm-rh-frontalpole  wm-rh-temporalpole  wm-rh-transversetemporal  \\\n",
       "1.0           0.276182            0.214232                  0.158717   \n",
       "2.0           0.260860            0.178386                  0.178781   \n",
       "3.0           0.270796            0.149528                  0.172897   \n",
       "4.0           0.238565            0.191491                  0.177666   \n",
       "5.0           0.257328            0.252974                  0.189921   \n",
       "\n",
       "     wm-rh-insula  Left-UnsegmentedWhiteMatter  Right-UnsegmentedWhiteMatter  \n",
       "1.0      0.367259                     0.301571                      0.328116  \n",
       "2.0      0.357016                     0.330572                      0.366950  \n",
       "3.0      0.257598                     0.295915                      0.337266  \n",
       "4.0      0.226578                     0.301181                      0.359059  \n",
       "5.0      0.272185                     0.309642                      0.373039  \n",
       "\n",
       "[5 rows x 176 columns]"
      ]
     },
     "execution_count": 5,
     "metadata": {},
     "output_type": "execute_result"
    }
   ],
   "source": [
    "\n",
    "\n",
    "df_mean = pd.DataFrame(mean_t[1:,1:177],index=mean[0][1:98],columns=region[1:177])\n",
    "df_std=pd.DataFrame(std_t[1:,1:177],index=std[0][1:98],columns=region[1:177])\n",
    "\n",
    "df_mean.head()"
   ]
  },
  {
   "attachments": {},
   "cell_type": "markdown",
   "metadata": {},
   "source": [
    "Aggiungo i gruppi"
   ]
  },
  {
   "cell_type": "code",
   "execution_count": 6,
   "metadata": {},
   "outputs": [
    {
     "data": {
      "text/html": [
       "<div>\n",
       "<style scoped>\n",
       "    .dataframe tbody tr th:only-of-type {\n",
       "        vertical-align: middle;\n",
       "    }\n",
       "\n",
       "    .dataframe tbody tr th {\n",
       "        vertical-align: top;\n",
       "    }\n",
       "\n",
       "    .dataframe thead th {\n",
       "        text-align: right;\n",
       "    }\n",
       "</style>\n",
       "<table border=\"1\" class=\"dataframe\">\n",
       "  <thead>\n",
       "    <tr style=\"text-align: right;\">\n",
       "      <th></th>\n",
       "      <th>Subject</th>\n",
       "      <th>Group</th>\n",
       "      <th>Sex</th>\n",
       "      <th>Age</th>\n",
       "    </tr>\n",
       "  </thead>\n",
       "  <tbody>\n",
       "    <tr>\n",
       "      <th>67</th>\n",
       "      <td>4002</td>\n",
       "      <td>0</td>\n",
       "      <td>F</td>\n",
       "      <td>74.0</td>\n",
       "    </tr>\n",
       "    <tr>\n",
       "      <th>68</th>\n",
       "      <td>4003</td>\n",
       "      <td>0</td>\n",
       "      <td>F</td>\n",
       "      <td>72.0</td>\n",
       "    </tr>\n",
       "    <tr>\n",
       "      <th>28</th>\n",
       "      <td>4009</td>\n",
       "      <td>1</td>\n",
       "      <td>M</td>\n",
       "      <td>90.0</td>\n",
       "    </tr>\n",
       "    <tr>\n",
       "      <th>69</th>\n",
       "      <td>4018</td>\n",
       "      <td>0</td>\n",
       "      <td>M</td>\n",
       "      <td>76.0</td>\n",
       "    </tr>\n",
       "    <tr>\n",
       "      <th>70</th>\n",
       "      <td>4050</td>\n",
       "      <td>0</td>\n",
       "      <td>M</td>\n",
       "      <td>77.0</td>\n",
       "    </tr>\n",
       "  </tbody>\n",
       "</table>\n",
       "</div>"
      ],
      "text/plain": [
       "    Subject  Group Sex   Age\n",
       "67     4002      0   F  74.0\n",
       "68     4003      0   F  72.0\n",
       "28     4009      1   M  90.0\n",
       "69     4018      0   M  76.0\n",
       "70     4050      0   M  77.0"
      ]
     },
     "execution_count": 6,
     "metadata": {},
     "output_type": "execute_result"
    }
   ],
   "source": [
    "a=pd.DataFrame(pd.read_csv('/home/francesco/CompProject/ADNI_dataset_diffusion.csv'))\n",
    "a.sort_values(by=[\"Subject\"],inplace=True)\n",
    "group=a[\"Group\"]\n",
    "a.head()"
   ]
  },
  {
   "attachments": {},
   "cell_type": "markdown",
   "metadata": {},
   "source": [
    "SVM: creo i set e splitto"
   ]
  },
  {
   "cell_type": "code",
   "execution_count": 7,
   "metadata": {},
   "outputs": [],
   "source": [
    "from sklearn.model_selection import train_test_split\n",
    "\n",
    "\n",
    "X=df_mean.values\n",
    "y=group.values\n",
    "\n",
    "X_tr, X_tst, y_tr, y_tst = train_test_split(X, y, test_size=.2, random_state=6)\n",
    "\n"
   ]
  },
  {
   "attachments": {},
   "cell_type": "markdown",
   "metadata": {},
   "source": [
    "MOdello gridsearch\n"
   ]
  },
  {
   "cell_type": "code",
   "execution_count": 8,
   "metadata": {},
   "outputs": [],
   "source": [
    "from sklearn import svm\n",
    "\n",
    "clf = svm.SVC(kernel=\"rbf\")\n",
    "\n",
    "clf.fit(X_tr, y_tr)\n",
    "y_pred = clf.predict(X_tst)\n",
    "\n"
   ]
  },
  {
   "cell_type": "code",
   "execution_count": 9,
   "metadata": {},
   "outputs": [
    {
     "name": "stdout",
     "output_type": "stream",
     "text": [
      "              precision    recall  f1-score   support\n",
      "\n",
      "           0       0.67      0.31      0.42        13\n",
      "           1       0.36      0.71      0.48         7\n",
      "\n",
      "    accuracy                           0.45        20\n",
      "   macro avg       0.51      0.51      0.45        20\n",
      "weighted avg       0.56      0.45      0.44        20\n",
      "\n"
     ]
    }
   ],
   "source": [
    "from sklearn import metrics \n",
    "\n",
    "\n",
    "print(metrics.classification_report(y_tst, y_pred)) "
   ]
  },
  {
   "cell_type": "code",
   "execution_count": 13,
   "metadata": {},
   "outputs": [
    {
     "name": "stdout",
     "output_type": "stream",
     "text": [
      "{'C': 2.657280562463774, 'class_weight': 'balanced', 'gamma': 0.09946183532509423, 'kernel': 'rbf'}\n",
      "[1 0 1 1 1 1 1 1 0 0 1 1 1 1 0 1 1 1 1 0]\n",
      "              precision    recall  f1-score   support\n",
      "\n",
      "           0       0.60      0.23      0.33        13\n",
      "           1       0.33      0.71      0.45         7\n",
      "\n",
      "    accuracy                           0.40        20\n",
      "   macro avg       0.47      0.47      0.39        20\n",
      "weighted avg       0.51      0.40      0.38        20\n",
      "\n"
     ]
    }
   ],
   "source": [
    "from sklearn.model_selection import GridSearchCV\n",
    "import scipy\n",
    "\n",
    "r=scipy.stats.expon.rvs(size=100)\n",
    "g=scipy.stats.expon(scale=.1)\n",
    "G=g.rvs(size=100)\n",
    "# defining parameter range \n",
    "param_grid = {'C': r, 'gamma': G,\n",
    "  'kernel': ['rbf'], 'class_weight':['balanced', None]}\n",
    "\n",
    "grid = GridSearchCV(clf, param_grid, refit = True,n_jobs=-1) \n",
    "\n",
    "\n",
    "# fitting the model for grid search \n",
    "grid.fit(X_tr, y_tr) \n",
    " \n",
    "# print best parameter after tuning \n",
    "print(grid.best_params_) \n",
    "grid_predictions = grid.predict(X_tst) \n",
    "print(grid_predictions)\n",
    "   \n",
    "# print classification report \n",
    "print(metrics.classification_report(y_tst, grid_predictions)) "
   ]
  },
  {
   "cell_type": "code",
   "execution_count": null,
   "metadata": {},
   "outputs": [],
   "source": [
    "r=scipy.stats.expon.rvs(size=1000)\n",
    "\n",
    "r"
   ]
  }
 ],
 "metadata": {
  "kernelspec": {
   "display_name": "Python 3",
   "language": "python",
   "name": "python3"
  },
  "language_info": {
   "codemirror_mode": {
    "name": "ipython",
    "version": 3
   },
   "file_extension": ".py",
   "mimetype": "text/x-python",
   "name": "python",
   "nbconvert_exporter": "python",
   "pygments_lexer": "ipython3",
   "version": "3.10.7"
  },
  "orig_nbformat": 4,
  "vscode": {
   "interpreter": {
    "hash": "916dbcbb3f70747c44a77c7bcd40155683ae19c65e1c03b4aa3499c5328201f1"
   }
  }
 },
 "nbformat": 4,
 "nbformat_minor": 2
}
