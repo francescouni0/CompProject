{
 "cells": [
  {
   "cell_type": "code",
   "execution_count": 1,
   "id": "66251413",
   "metadata": {},
   "outputs": [
    {
     "name": "stderr",
     "output_type": "stream",
     "text": [
      "2023-03-12 21:02:58.135076: I tensorflow/core/platform/cpu_feature_guard.cc:193] This TensorFlow binary is optimized with oneAPI Deep Neural Network Library (oneDNN) to use the following CPU instructions in performance-critical operations:  AVX2 FMA\n",
      "To enable them in other operations, rebuild TensorFlow with the appropriate compiler flags.\n",
      "2023-03-12 21:02:58.567662: W tensorflow/compiler/xla/stream_executor/platform/default/dso_loader.cc:64] Could not load dynamic library 'libcudart.so.11.0'; dlerror: libcudart.so.11.0: cannot open shared object file: No such file or directory\n",
      "2023-03-12 21:02:58.567691: I tensorflow/compiler/xla/stream_executor/cuda/cudart_stub.cc:29] Ignore above cudart dlerror if you do not have a GPU set up on your machine.\n",
      "2023-03-12 21:02:59.827670: W tensorflow/compiler/xla/stream_executor/platform/default/dso_loader.cc:64] Could not load dynamic library 'libnvinfer.so.7'; dlerror: libnvinfer.so.7: cannot open shared object file: No such file or directory\n",
      "2023-03-12 21:02:59.827784: W tensorflow/compiler/xla/stream_executor/platform/default/dso_loader.cc:64] Could not load dynamic library 'libnvinfer_plugin.so.7'; dlerror: libnvinfer_plugin.so.7: cannot open shared object file: No such file or directory\n",
      "2023-03-12 21:02:59.827794: W tensorflow/compiler/tf2tensorrt/utils/py_utils.cc:38] TF-TRT Warning: Cannot dlopen some TensorRT libraries. If you would like to use Nvidia GPU with TensorRT, please make sure the missing libraries mentioned above are installed properly.\n"
     ]
    }
   ],
   "source": [
    "import reading\n",
    "import numpy as np\n",
    "import pandas as pd\n",
    "import nibabel as nib\n",
    "import matplotlib.pyplot as plt\n",
    "from sklearn.model_selection import train_test_split\n",
    "from tensorflow.keras.models import Sequential\n",
    "from tensorflow.keras.layers import BatchNormalization, Dense, Flatten, InputLayer, Activation, Dropout\n",
    "from tensorflow.keras.layers import Conv2D, Conv3D, AveragePooling2D, AveragePooling3D, MaxPooling2D, MaxPooling3D, GlobalAvgPool2D, GlobalMaxPool2D\n",
    "from tensorflow.keras.optimizers import Adam,SGD\n",
    "from keras.callbacks import ReduceLROnPlateau, EarlyStopping\n",
    "from sklearn.metrics import roc_curve, auc\n",
    "import tensorflow as tf\n",
    "from tensorflow.keras import layers\n",
    "import cv2\n",
    "import os"
   ]
  },
  {
   "cell_type": "code",
   "execution_count": 2,
   "id": "d8da6c77",
   "metadata": {},
   "outputs": [
    {
     "data": {
      "text/html": [
       "<div>\n",
       "<style scoped>\n",
       "    .dataframe tbody tr th:only-of-type {\n",
       "        vertical-align: middle;\n",
       "    }\n",
       "\n",
       "    .dataframe tbody tr th {\n",
       "        vertical-align: top;\n",
       "    }\n",
       "\n",
       "    .dataframe thead th {\n",
       "        text-align: right;\n",
       "    }\n",
       "</style>\n",
       "<table border=\"1\" class=\"dataframe\">\n",
       "  <thead>\n",
       "    <tr style=\"text-align: right;\">\n",
       "      <th></th>\n",
       "      <th>Subject</th>\n",
       "      <th>Group</th>\n",
       "      <th>Sex</th>\n",
       "      <th>Age</th>\n",
       "      <th>Path</th>\n",
       "    </tr>\n",
       "  </thead>\n",
       "  <tbody>\n",
       "    <tr>\n",
       "      <th>0</th>\n",
       "      <td>4081</td>\n",
       "      <td>0</td>\n",
       "      <td>F</td>\n",
       "      <td>73.0</td>\n",
       "      <td>Diffusion_parameters_maps-20230215T134959Z-001/Diffusion_parameters_maps/016_S_4583/corrected_FA_image/2012-03-29_11_23_35.0/I335696/ADNI_016_S_4583_MR_corrected_FA_image_Br_20120919194235918_S145147_I335696.nii</td>\n",
       "    </tr>\n",
       "    <tr>\n",
       "      <th>1</th>\n",
       "      <td>4119</td>\n",
       "      <td>0</td>\n",
       "      <td>M</td>\n",
       "      <td>79.0</td>\n",
       "      <td>Diffusion_parameters_maps-20230215T134959Z-001/Diffusion_parameters_maps/098_S_4003/corrected_FA_image/2011-03-22_09_23_47.0/I299742/ADNI_098_S_4003_MR_corrected_FA_image_Br_20120421215950180_S102157_I299742.nii</td>\n",
       "    </tr>\n",
       "    <tr>\n",
       "      <th>2</th>\n",
       "      <td>4136</td>\n",
       "      <td>1</td>\n",
       "      <td>M</td>\n",
       "      <td>67.0</td>\n",
       "      <td>Diffusion_parameters_maps-20230215T134959Z-001/Diffusion_parameters_maps/098_S_4018/corrected_FA_image/2011-04-22_15_36_10.0/I299744/ADNI_098_S_4018_MR_corrected_FA_image_Br_20120421220032350_S105027_I299744.nii</td>\n",
       "    </tr>\n",
       "    <tr>\n",
       "      <th>3</th>\n",
       "      <td>4142</td>\n",
       "      <td>1</td>\n",
       "      <td>F</td>\n",
       "      <td>90.0</td>\n",
       "      <td>Diffusion_parameters_maps-20230215T134959Z-001/Diffusion_parameters_maps/094_S_4560/corrected_FA_image/2012-03-16_13_55_01.0/I335709/ADNI_094_S_4560_MR_corrected_FA_image_Br_20120919194410058_S144256_I335709.nii</td>\n",
       "    </tr>\n",
       "    <tr>\n",
       "      <th>4</th>\n",
       "      <td>4152</td>\n",
       "      <td>1</td>\n",
       "      <td>M</td>\n",
       "      <td>61.0</td>\n",
       "      <td>Diffusion_parameters_maps-20230215T134959Z-001/Diffusion_parameters_maps/098_S_4275/corrected_FA_image/2011-10-17_09_33_38.0/I299752/ADNI_098_S_4275_MR_corrected_FA_image_Br_20120421220342686_S125682_I299752.nii</td>\n",
       "    </tr>\n",
       "  </tbody>\n",
       "</table>\n",
       "</div>"
      ],
      "text/plain": [
       "   Subject  Group Sex   Age  \\\n",
       "0     4081      0   F  73.0   \n",
       "1     4119      0   M  79.0   \n",
       "2     4136      1   M  67.0   \n",
       "3     4142      1   F  90.0   \n",
       "4     4152      1   M  61.0   \n",
       "\n",
       "                                                                                                                                                                                                                  Path  \n",
       "0  Diffusion_parameters_maps-20230215T134959Z-001/Diffusion_parameters_maps/016_S_4583/corrected_FA_image/2012-03-29_11_23_35.0/I335696/ADNI_016_S_4583_MR_corrected_FA_image_Br_20120919194235918_S145147_I335696.nii  \n",
       "1  Diffusion_parameters_maps-20230215T134959Z-001/Diffusion_parameters_maps/098_S_4003/corrected_FA_image/2011-03-22_09_23_47.0/I299742/ADNI_098_S_4003_MR_corrected_FA_image_Br_20120421215950180_S102157_I299742.nii  \n",
       "2  Diffusion_parameters_maps-20230215T134959Z-001/Diffusion_parameters_maps/098_S_4018/corrected_FA_image/2011-04-22_15_36_10.0/I299744/ADNI_098_S_4018_MR_corrected_FA_image_Br_20120421220032350_S105027_I299744.nii  \n",
       "3  Diffusion_parameters_maps-20230215T134959Z-001/Diffusion_parameters_maps/094_S_4560/corrected_FA_image/2012-03-16_13_55_01.0/I335709/ADNI_094_S_4560_MR_corrected_FA_image_Br_20120919194410058_S144256_I335709.nii  \n",
       "4  Diffusion_parameters_maps-20230215T134959Z-001/Diffusion_parameters_maps/098_S_4275/corrected_FA_image/2011-10-17_09_33_38.0/I299752/ADNI_098_S_4275_MR_corrected_FA_image_Br_20120421220342686_S125682_I299752.nii  "
      ]
     },
     "execution_count": 2,
     "metadata": {},
     "output_type": "execute_result"
    }
   ],
   "source": [
    "\n",
    "\n",
    "dataset2 = pd.read_csv('ADNI_dataset_diffusion.csv')\n",
    "dataset2[\"Path\"] = reading.data_path(\"Diffusion_parameters_maps-20230215T134959Z-001\", \"corrected_FA_image\")\n",
    "\n",
    "dataset3 = pd.read_csv('ADNI_dataset_diffusion.csv')\n",
    "dataset3[\"Path\"] = reading.data_path(\"Diffusion_parameters_maps-20230215T134959Z-001\", \"corrected_MD_image\")\n",
    "\n",
    "pd.set_option(\"max_colwidth\",None)\n",
    "\n",
    "dataset2.head()"
   ]
  },
  {
   "cell_type": "code",
   "execution_count": 3,
   "id": "628e4d75",
   "metadata": {},
   "outputs": [
    {
     "data": {
      "text/html": [
       "<div>\n",
       "<style scoped>\n",
       "    .dataframe tbody tr th:only-of-type {\n",
       "        vertical-align: middle;\n",
       "    }\n",
       "\n",
       "    .dataframe tbody tr th {\n",
       "        vertical-align: top;\n",
       "    }\n",
       "\n",
       "    .dataframe thead th {\n",
       "        text-align: right;\n",
       "    }\n",
       "</style>\n",
       "<table border=\"1\" class=\"dataframe\">\n",
       "  <thead>\n",
       "    <tr style=\"text-align: right;\">\n",
       "      <th></th>\n",
       "      <th>Subject</th>\n",
       "      <th>Group</th>\n",
       "      <th>Sex</th>\n",
       "      <th>Age</th>\n",
       "      <th>Path</th>\n",
       "    </tr>\n",
       "  </thead>\n",
       "  <tbody>\n",
       "    <tr>\n",
       "      <th>67</th>\n",
       "      <td>4002</td>\n",
       "      <td>0</td>\n",
       "      <td>F</td>\n",
       "      <td>74.0</td>\n",
       "      <td>Diffusion_parameters_maps-20230215T134959Z-001/Diffusion_parameters_maps/098_S_4002/corrected_MD_image/2011-02-28_15_42_50.0/I397245/ADNI_098_S_4002_MR_corrected_MD_image_Br_20131105141510437_S100616_I397245.nii</td>\n",
       "    </tr>\n",
       "    <tr>\n",
       "      <th>68</th>\n",
       "      <td>4003</td>\n",
       "      <td>0</td>\n",
       "      <td>F</td>\n",
       "      <td>72.0</td>\n",
       "      <td>Diffusion_parameters_maps-20230215T134959Z-001/Diffusion_parameters_maps/098_S_4003/corrected_MD_image/2011-03-22_09_23_47.0/I299961/ADNI_098_S_4003_MR_corrected_MD_image_Br_20120421230341251_S102157_I299961.nii</td>\n",
       "    </tr>\n",
       "    <tr>\n",
       "      <th>28</th>\n",
       "      <td>4009</td>\n",
       "      <td>1</td>\n",
       "      <td>M</td>\n",
       "      <td>90.0</td>\n",
       "      <td>Diffusion_parameters_maps-20230215T134959Z-001/Diffusion_parameters_maps/016_S_4009/corrected_MD_image/2011-06-18_12_22_12.0/I299916/ADNI_016_S_4009_MR_corrected_MD_image_Br_20120421225434676_S112088_I299916.nii</td>\n",
       "    </tr>\n",
       "    <tr>\n",
       "      <th>69</th>\n",
       "      <td>4018</td>\n",
       "      <td>0</td>\n",
       "      <td>M</td>\n",
       "      <td>76.0</td>\n",
       "      <td>Diffusion_parameters_maps-20230215T134959Z-001/Diffusion_parameters_maps/098_S_4018/corrected_MD_image/2011-04-22_15_36_10.0/I299963/ADNI_098_S_4018_MR_corrected_MD_image_Br_20120421230359729_S105027_I299963.nii</td>\n",
       "    </tr>\n",
       "    <tr>\n",
       "      <th>70</th>\n",
       "      <td>4050</td>\n",
       "      <td>0</td>\n",
       "      <td>M</td>\n",
       "      <td>77.0</td>\n",
       "      <td>Diffusion_parameters_maps-20230215T134959Z-001/Diffusion_parameters_maps/098_S_4050/corrected_MD_image/2011-05-27_15_33_58.0/I299964/ADNI_098_S_4050_MR_corrected_MD_image_Br_20120421230409457_S110467_I299964.nii</td>\n",
       "    </tr>\n",
       "  </tbody>\n",
       "</table>\n",
       "</div>"
      ],
      "text/plain": [
       "    Subject  Group Sex   Age  \\\n",
       "67     4002      0   F  74.0   \n",
       "68     4003      0   F  72.0   \n",
       "28     4009      1   M  90.0   \n",
       "69     4018      0   M  76.0   \n",
       "70     4050      0   M  77.0   \n",
       "\n",
       "                                                                                                                                                                                                                   Path  \n",
       "67  Diffusion_parameters_maps-20230215T134959Z-001/Diffusion_parameters_maps/098_S_4002/corrected_MD_image/2011-02-28_15_42_50.0/I397245/ADNI_098_S_4002_MR_corrected_MD_image_Br_20131105141510437_S100616_I397245.nii  \n",
       "68  Diffusion_parameters_maps-20230215T134959Z-001/Diffusion_parameters_maps/098_S_4003/corrected_MD_image/2011-03-22_09_23_47.0/I299961/ADNI_098_S_4003_MR_corrected_MD_image_Br_20120421230341251_S102157_I299961.nii  \n",
       "28  Diffusion_parameters_maps-20230215T134959Z-001/Diffusion_parameters_maps/016_S_4009/corrected_MD_image/2011-06-18_12_22_12.0/I299916/ADNI_016_S_4009_MR_corrected_MD_image_Br_20120421225434676_S112088_I299916.nii  \n",
       "69  Diffusion_parameters_maps-20230215T134959Z-001/Diffusion_parameters_maps/098_S_4018/corrected_MD_image/2011-04-22_15_36_10.0/I299963/ADNI_098_S_4018_MR_corrected_MD_image_Br_20120421230359729_S105027_I299963.nii  \n",
       "70  Diffusion_parameters_maps-20230215T134959Z-001/Diffusion_parameters_maps/098_S_4050/corrected_MD_image/2011-05-27_15_33_58.0/I299964/ADNI_098_S_4050_MR_corrected_MD_image_Br_20120421230409457_S110467_I299964.nii  "
      ]
     },
     "execution_count": 3,
     "metadata": {},
     "output_type": "execute_result"
    }
   ],
   "source": [
    "paths_AD= reading.data_path(\"Diffusion_parameters_maps-20230215T134959Z-001\",\"corrected_MD_image\")\n",
    "\n",
    "\n",
    "paths_AD.sort(key=lambda x: int(os.path.basename(x).split('_')[3]))\n",
    "\n",
    "\n",
    "dataset2=pd.DataFrame(pd.read_csv('/home/francesco/CompProject/ADNI_dataset_diffusion.csv'))\n",
    "dataset2.sort_values(by=[\"Subject\"],inplace=True)\n",
    "dataset2[\"Path\"]=paths_AD\n",
    "\n",
    "pd.set_option(\"max_colwidth\",None)\n",
    "\n",
    "dataset2.head()\n",
    "\n"
   ]
  },
  {
   "cell_type": "code",
   "execution_count": 4,
   "id": "a14fd921",
   "metadata": {},
   "outputs": [
    {
     "data": {
      "text/plain": [
       "'\\nimages_list3 = []\\nfor i, datapath in enumerate(dataset3[\"Path\"]):\\n    image3 = np.asarray(nib.load(datapath).get_fdata())\\n    #image[image == 0] = float(\\'NaN\\')\\n    images_list3.append(image3)\\n\\n'"
      ]
     },
     "execution_count": 4,
     "metadata": {},
     "output_type": "execute_result"
    }
   ],
   "source": [
    "\n",
    "    \n",
    "images_list2 = []\n",
    "for i, datapath in enumerate(dataset2[\"Path\"]):\n",
    "    image2 = np.asarray(nib.load(datapath).get_fdata())\n",
    "    #image[image == 0] = float('NaN')\n",
    "    images_list2.append(image2)\n",
    "'''\n",
    "images_list3 = []\n",
    "for i, datapath in enumerate(dataset3[\"Path\"]):\n",
    "    image3 = np.asarray(nib.load(datapath).get_fdata())\n",
    "    #image[image == 0] = float('NaN')\n",
    "    images_list3.append(image3)\n",
    "\n",
    "'''\n",
    "    \n",
    "\n",
    "\n",
    "\n"
   ]
  },
  {
   "cell_type": "code",
   "execution_count": 5,
   "id": "e661c5ab",
   "metadata": {},
   "outputs": [],
   "source": [
    "images2 = np.array(images_list2, dtype='float64')\n",
    "\n",
    "images2=images2[:,55,10:110,30:85]\n",
    "\n",
    "\n",
    "\n"
   ]
  },
  {
   "cell_type": "code",
   "execution_count": 81,
   "id": "c044e9c0",
   "metadata": {},
   "outputs": [
    {
     "ename": "NameError",
     "evalue": "name 'images_list3' is not defined",
     "output_type": "error",
     "traceback": [
      "\u001b[0;31m---------------------------------------------------------------------------\u001b[0m",
      "\u001b[0;31mNameError\u001b[0m                                 Traceback (most recent call last)",
      "Cell \u001b[0;32mIn[81], line 1\u001b[0m\n\u001b[0;32m----> 1\u001b[0m images3 \u001b[39m=\u001b[39m np\u001b[39m.\u001b[39marray(images_list3, dtype\u001b[39m=\u001b[39m\u001b[39m'\u001b[39m\u001b[39mfloat64\u001b[39m\u001b[39m'\u001b[39m)\n\u001b[1;32m      2\u001b[0m images3\u001b[39m=\u001b[39mimages3[:,:,:,\u001b[39m53\u001b[39m:\u001b[39m56\u001b[39m]\n",
      "\u001b[0;31mNameError\u001b[0m: name 'images_list3' is not defined"
     ]
    }
   ],
   "source": [
    "images3 = np.array(images_list3, dtype='float64')\n",
    "images3=images3[:,:,:,53:56]"
   ]
  },
  {
   "cell_type": "code",
   "execution_count": 6,
   "id": "1c7c9bc1",
   "metadata": {},
   "outputs": [
    {
     "name": "stdout",
     "output_type": "stream",
     "text": [
      "(97, 100, 55, 3)\n"
     ]
    }
   ],
   "source": [
    "\n",
    "from tensorflow.keras.preprocessing.image import smart_resize\n",
    "\n",
    "    \n",
    "images = np.array(images2, dtype='float64')\n",
    "#images=np.append(images,images3,axis=0)    \n",
    "\n",
    "\n",
    "\n",
    "#images=np.expand_dims(images,axis=2)\n",
    "images=np.stack((images,)*3,axis=3)\n",
    "\n",
    "\n",
    "labels = np.array(dataset2[\"Group\"], dtype='int64')\n",
    "#labels=np.append(labels,labels)\n",
    "print(np.shape(images))\n"
   ]
  },
  {
   "attachments": {},
   "cell_type": "markdown",
   "id": "64bf3985",
   "metadata": {},
   "source": [
    "DATA AUG\n"
   ]
  },
  {
   "cell_type": "code",
   "execution_count": 7,
   "id": "e93318a7",
   "metadata": {},
   "outputs": [
    {
     "name": "stderr",
     "output_type": "stream",
     "text": [
      "2023-03-12 21:03:05.792137: W tensorflow/compiler/xla/stream_executor/platform/default/dso_loader.cc:64] Could not load dynamic library 'libcuda.so.1'; dlerror: libcuda.so.1: cannot open shared object file: No such file or directory; LD_LIBRARY_PATH: /home/francesco/.local/lib/python3.10/site-packages/cv2/../../lib64:\n",
      "2023-03-12 21:03:05.792545: W tensorflow/compiler/xla/stream_executor/cuda/cuda_driver.cc:265] failed call to cuInit: UNKNOWN ERROR (303)\n",
      "2023-03-12 21:03:05.792571: I tensorflow/compiler/xla/stream_executor/cuda/cuda_diagnostics.cc:156] kernel driver does not appear to be running on this host (francesco-jj): /proc/driver/nvidia/version does not exist\n",
      "2023-03-12 21:03:05.793422: I tensorflow/core/platform/cpu_feature_guard.cc:193] This TensorFlow binary is optimized with oneAPI Deep Neural Network Library (oneDNN) to use the following CPU instructions in performance-critical operations:  AVX2 FMA\n",
      "To enable them in other operations, rebuild TensorFlow with the appropriate compiler flags.\n"
     ]
    }
   ],
   "source": [
    "\n",
    "data_augmentation1 = Sequential([\n",
    "    \n",
    "            layers.RandomFlip(mode='horizontal_and_vertical'),\n",
    "           \n",
    "])\n",
    "\n",
    "\n",
    "data_augmentation2 = Sequential([\n",
    "    \n",
    "            layers.RandomRotation((-0.5,0.5)),\n",
    "         \n",
    "])\n",
    "\n",
    "\n",
    "\n",
    "data_augmentation3 = Sequential([\n",
    "    \n",
    "            layers.RandomZoom(0.5),\n",
    "])\n",
    "\n",
    "\n",
    "data_augmentation4 = Sequential([\n",
    "    \n",
    "            layers.RandomContrast(0.5)\n",
    "])"
   ]
  },
  {
   "cell_type": "code",
   "execution_count": null,
   "id": "666793e4",
   "metadata": {},
   "outputs": [],
   "source": []
  },
  {
   "cell_type": "code",
   "execution_count": 8,
   "id": "7c9c529b",
   "metadata": {},
   "outputs": [
    {
     "name": "stdout",
     "output_type": "stream",
     "text": [
      "WARNING:tensorflow:Using a while_loop for converting RngReadAndSkip cause there is no registered converter for this op.\n",
      "WARNING:tensorflow:Using a while_loop for converting Bitcast cause there is no registered converter for this op.\n",
      "WARNING:tensorflow:Using a while_loop for converting Bitcast cause there is no registered converter for this op.\n",
      "WARNING:tensorflow:Using a while_loop for converting StatelessRandomUniformV2 cause there is no registered converter for this op.\n",
      "WARNING:tensorflow:Using a while_loop for converting ImageProjectiveTransformV3 cause there is no registered converter for this op.\n",
      "WARNING:tensorflow:Using a while_loop for converting RngReadAndSkip cause there is no registered converter for this op.\n",
      "WARNING:tensorflow:Using a while_loop for converting Bitcast cause there is no registered converter for this op.\n",
      "WARNING:tensorflow:Using a while_loop for converting Bitcast cause there is no registered converter for this op.\n",
      "WARNING:tensorflow:Using a while_loop for converting StatelessRandomUniformV2 cause there is no registered converter for this op.\n",
      "WARNING:tensorflow:Using a while_loop for converting ImageProjectiveTransformV3 cause there is no registered converter for this op.\n",
      "WARNING:tensorflow:Using a while_loop for converting RngReadAndSkip cause there is no registered converter for this op.\n",
      "WARNING:tensorflow:Using a while_loop for converting Bitcast cause there is no registered converter for this op.\n",
      "WARNING:tensorflow:Using a while_loop for converting Bitcast cause there is no registered converter for this op.\n",
      "WARNING:tensorflow:Using a while_loop for converting StatelessRandomUniformV2 cause there is no registered converter for this op.\n",
      "WARNING:tensorflow:Using a while_loop for converting ImageProjectiveTransformV3 cause there is no registered converter for this op.\n",
      "WARNING:tensorflow:Using a while_loop for converting RngReadAndSkip cause there is no registered converter for this op.\n",
      "WARNING:tensorflow:Using a while_loop for converting Bitcast cause there is no registered converter for this op.\n",
      "WARNING:tensorflow:Using a while_loop for converting Bitcast cause there is no registered converter for this op.\n",
      "WARNING:tensorflow:Using a while_loop for converting StatelessRandomUniformV2 cause there is no registered converter for this op.\n",
      "WARNING:tensorflow:Using a while_loop for converting ImageProjectiveTransformV3 cause there is no registered converter for this op.\n",
      "WARNING:tensorflow:Using a while_loop for converting RngReadAndSkip cause there is no registered converter for this op.\n",
      "WARNING:tensorflow:Using a while_loop for converting Bitcast cause there is no registered converter for this op.\n",
      "WARNING:tensorflow:Using a while_loop for converting Bitcast cause there is no registered converter for this op.\n",
      "WARNING:tensorflow:Using a while_loop for converting StatelessRandomUniformFullIntV2 cause there is no registered converter for this op.\n",
      "WARNING:tensorflow:Using a while_loop for converting StatelessRandomGetKeyCounter cause there is no registered converter for this op.\n",
      "WARNING:tensorflow:Using a while_loop for converting StatelessRandomUniformV2 cause there is no registered converter for this op.\n",
      "WARNING:tensorflow:Using a while_loop for converting RngReadAndSkip cause there is no registered converter for this op.\n",
      "WARNING:tensorflow:Using a while_loop for converting Bitcast cause there is no registered converter for this op.\n",
      "WARNING:tensorflow:Using a while_loop for converting Bitcast cause there is no registered converter for this op.\n",
      "WARNING:tensorflow:Using a while_loop for converting StatelessRandomUniformFullIntV2 cause there is no registered converter for this op.\n",
      "WARNING:tensorflow:Using a while_loop for converting StatelessRandomGetKeyCounter cause there is no registered converter for this op.\n",
      "WARNING:tensorflow:Using a while_loop for converting StatelessRandomUniformV2 cause there is no registered converter for this op.\n",
      "WARNING:tensorflow:Using a while_loop for converting RngReadAndSkip cause there is no registered converter for this op.\n",
      "WARNING:tensorflow:Using a while_loop for converting Bitcast cause there is no registered converter for this op.\n",
      "WARNING:tensorflow:Using a while_loop for converting Bitcast cause there is no registered converter for this op.\n",
      "WARNING:tensorflow:Using a while_loop for converting StatelessRandomUniformFullIntV2 cause there is no registered converter for this op.\n",
      "WARNING:tensorflow:Using a while_loop for converting StatelessRandomGetKeyCounter cause there is no registered converter for this op.\n",
      "WARNING:tensorflow:Using a while_loop for converting StatelessRandomUniformV2 cause there is no registered converter for this op.\n",
      "(97, 100, 55, 3)\n",
      "(97, 100, 55, 3)\n",
      "(97, 100, 55, 3)\n",
      "(97,)\n"
     ]
    }
   ],
   "source": [
    "imagesau1=data_augmentation1(images)\n",
    "imagesau2=data_augmentation2(images)\n",
    "imagesau3=data_augmentation3(images)\n",
    "imagesau4=data_augmentation4(images)\n",
    "imagesau5=data_augmentation4(images)\n",
    "\n",
    "\n",
    "print(np.shape(imagesau1))\n",
    "print(np.shape(imagesau2))\n",
    "\n",
    "\n",
    "\n",
    "print(np.shape(images))\n",
    "print(np.shape(labels))"
   ]
  },
  {
   "cell_type": "code",
   "execution_count": 9,
   "id": "b90f3d52",
   "metadata": {},
   "outputs": [
    {
     "name": "stdout",
     "output_type": "stream",
     "text": [
      "(582, 100, 55, 3)\n"
     ]
    }
   ],
   "source": [
    "images1=np.append(images,imagesau1,axis=0)\n",
    "images2=np.append(images1,imagesau2,axis=0)\n",
    "images3=np.append(images2,imagesau3,axis=0)\n",
    "images4=np.append(images3,imagesau4,axis=0)\n",
    "images=np.append(images4,imagesau5,axis=0)\n",
    "\n",
    "\n",
    "\n",
    "\n",
    "print(np.shape(images))\n"
   ]
  },
  {
   "cell_type": "code",
   "execution_count": 10,
   "id": "a0dc970a",
   "metadata": {},
   "outputs": [
    {
     "name": "stdout",
     "output_type": "stream",
     "text": [
      "(582,)\n"
     ]
    }
   ],
   "source": [
    "labels1=np.append(labels,labels)\n",
    "labels2=np.append(labels1,labels)\n",
    "labels3=np.append(labels2,labels)\n",
    "labels4=np.append(labels3,labels)\n",
    "\n",
    "labels=np.append(labels,labels4)\n",
    "\n",
    "\n",
    "print(np.shape(labels))"
   ]
  },
  {
   "cell_type": "code",
   "execution_count": 12,
   "id": "db6cea84",
   "metadata": {},
   "outputs": [
    {
     "data": {
      "text/plain": [
       "<matplotlib.image.AxesImage at 0x7f5413803550>"
      ]
     },
     "execution_count": 12,
     "metadata": {},
     "output_type": "execute_result"
    },
    {
     "data": {
      "image/png": "[encoded data removed]",
      "text/plain": [
       "<Figure size 640x480 with 1 Axes>"
      ]
     },
     "metadata": {},
     "output_type": "display_data"
    }
   ],
   "source": [
    "plt.imshow(images[355,:,:,2])"
   ]
  },
  {
   "cell_type": "code",
   "execution_count": 13,
   "id": "90dc47dc",
   "metadata": {},
   "outputs": [],
   "source": [
    "def split_2D(images):\n",
    "    x_train, x_test, y_train, y_test = train_test_split(images, labels, test_size=0.2, random_state=1)\n",
    "    return x_train, y_train, x_test, y_test\n",
    "\n",
    "\n",
    "\n",
    "def split_3D():\n",
    "    X_train, x_test, Y_train, y_test = train_test_split(images[:,:,:,53:56], labels, test_size=0.2, random_state=0)\n",
    "    x_train, x_val, y_train, y_val = train_test_split(X_train, Y_train, test_size=0.2, random_state=1)\n",
    "    return x_train, y_train, x_val, y_val, x_test, y_test\n"
   ]
  },
  {
   "cell_type": "code",
   "execution_count": 14,
   "id": "1410a178",
   "metadata": {},
   "outputs": [
    {
     "name": "stderr",
     "output_type": "stream",
     "text": [
      "2023-03-12 21:03:30.024158: W tensorflow/tsl/framework/cpu_allocator_impl.cc:82] Allocation of 61380000 exceeds 10% of free system memory.\n",
      "2023-03-12 21:03:30.059402: W tensorflow/tsl/framework/cpu_allocator_impl.cc:82] Allocation of 279982080 exceeds 10% of free system memory.\n"
     ]
    },
    {
     "name": "stdout",
     "output_type": "stream",
     "text": [
      "(465, 224, 224, 3)\n",
      "[0 0 1 0 1 1 0 0 0 1 1 0 0 0 0 1 1 1 0 1 1 1 1 0 1 0 1 0 0 1 1 0 0 1 1 1 0\n",
      " 0 1 0 0 0 0 1 0 1 1 1 0 1 1 1 0 1 1 0 0 1 1 1 0 0 1 1 0 1 0 0 0 0 0 0 0 1\n",
      " 0 1 1 1 0 1 1 1 1 0 0 0 0 0 1 1 0 1 1 0 1 0 1 0 0 0 0 0 0 1 1 0 1 0 1 0 1\n",
      " 0 1 1 0 0 0]\n"
     ]
    },
    {
     "name": "stderr",
     "output_type": "stream",
     "text": [
      "2023-03-12 21:03:30.358787: W tensorflow/tsl/framework/cpu_allocator_impl.cc:82] Allocation of 70447104 exceeds 10% of free system memory.\n"
     ]
    }
   ],
   "source": [
    "x_train, y_train, x_test, y_test = split_2D(images)\n",
    "\n",
    "\n",
    "size = (224, 224)\n",
    "x_train = tf.image.resize(x_train, size)\n",
    "x_test = tf.image.resize(x_test, size)\n",
    "\n",
    "\n",
    "\n",
    "print(x_train.shape)\n",
    "print(y_test)"
   ]
  },
  {
   "cell_type": "code",
   "execution_count": 15,
   "id": "b5d1add3",
   "metadata": {},
   "outputs": [
    {
     "name": "stderr",
     "output_type": "stream",
     "text": [
      "2023-03-12 21:03:35.791854: W tensorflow/tsl/framework/cpu_allocator_impl.cc:82] Allocation of 279982080 exceeds 10% of free system memory.\n",
      "2023-03-12 21:03:36.010391: W tensorflow/tsl/framework/cpu_allocator_impl.cc:82] Allocation of 279982080 exceeds 10% of free system memory.\n"
     ]
    }
   ],
   "source": [
    "from tensorflow.keras.applications.vgg16 import VGG16\n",
    "from tensorflow.keras.applications.vgg16 import preprocess_input\n",
    "from tensorflow.keras.applications.xception import Xception\n",
    "from tensorflow.keras.applications.mobilenet_v2 import MobileNetV2\n",
    "\n",
    "\n",
    "shape=(224, 224, 3)\n",
    "\n",
    "## Loading VGG16 model\n",
    "base_model = MobileNetV2(weights=\"imagenet\", classes=2, input_shape=shape,include_top=False)\n",
    "base_model.trainable = False ## Not trainable weights\n",
    "\n",
    "## Preprocessing input\n",
    "train_ds = preprocess_input(x_train) \n",
    "test_ds = preprocess_input(x_test)\n",
    "\n"
   ]
  },
  {
   "cell_type": "code",
   "execution_count": 15,
   "id": "6f6f74ab",
   "metadata": {},
   "outputs": [],
   "source": [
    "def make_3D_CNN(shape=(110, 110, 3)):\n",
    "  model = Sequential([\n",
    "      \n",
    "      Conv3D(2, (11,11,1), padding='valid', input_shape=shape),\n",
    "      BatchNormalization(),\n",
    "      Activation('relu'),\n",
    "\n",
    "      AveragePooling3D((2,2,1), strides=2),\n",
    "      #Dropout(0.4),\n",
    "\n",
    "      Conv3D(4, (11,11,1), padding='valid'),\n",
    "      BatchNormalization(),\n",
    "      Activation('relu'),\n",
    "\n",
    "      AveragePooling3D((2,2,1), strides=2),\n",
    "      #Dropout(0.4),\n",
    "      \n",
    "      Conv3D(8, (11,11,1), padding='valid'), MaxPooling2D((1,1), strides=2),\n",
    "      BatchNormalization(),\n",
    "      Activation('relu'),\n",
    "Xception\n",
    "      AveragePooling3D((2,2,1), strides=2),\n",
    "      #Dropout(0.4),\n",
    "\n",
    "      Flatten(),\n",
    "\n",
    "      Dense(10, activation='relu'),\n",
    "      Dropout(0.2),\n",
    "      Dense(1, activation='sigmoid')\n",
    "     \n",
    "  ])\n",
    "  return model"
   ]
  },
  {
   "cell_type": "code",
   "execution_count": 41,
   "id": "8d9d0d89",
   "metadata": {},
   "outputs": [],
   "source": [
    "def make_2D_CNN_best(shape=(110, 110, 3)):\n",
    "  model = Sequential([\n",
    "      \n",
    "      Conv2D(2, (5,5), padding='valid', input_shape=shape),\n",
    "      BatchNormalization(),\n",
    "      Activation('relu'),\n",
    "      \n",
    "      MaxPooling2D((2,2), strides=2),\n",
    "      #Dropout(0.4),\n",
    "      \n",
    "      Conv2D(4, (5,5), padding='valid', input_shape=shape),\n",
    "      BatchNormalization(),\n",
    "      Activation('relu'),\n",
    "\n",
    "      MaxPooling2D((3,3), strides=2),\n",
    "      #Dropout(0.4),110\n",
    "      \n",
    "      Conv2D(8, (5,5), padding='valid', input_shape=shape),\n",
    "      BatchNormalization(),\n",
    "      Activation('relu'),\n",
    "\n",
    "      MaxPooling2D((4,4), strides=2),\n",
    "      #Dropout(0.4),\n",
    "      \n",
    "      Conv2D(16, (5,5), padding='valid', input_shape=shape),\n",
    "      BatchNormalization(),\n",
    "      Activation('relu'),\n",
    "\n",
    "      MaxPooling2D((5,5), strides=2),\n",
    "      #Dropout(0.4),\n",
    "\n",
    "      Flatten(),\n",
    "\n",
    "      Dense(20, activation='relu'),\n",
    "      #Dropout(0.1),\n",
    "      Dense(1, activation='sigmoid')\n",
    "     \n",
    "  ])\n",
    "  return model"
   ]
  },
  {
   "cell_type": "code",
   "execution_count": 18,
   "id": "d4780bcd",
   "metadata": {},
   "outputs": [],
   "source": [
    "def make_2D_CNN():\n",
    "  model = Sequential([\n",
    "    \n",
    "    \n",
    "      base_model,\n",
    "      \n",
    "      \n",
    "\n",
    "      Flatten(),\n",
    "\n",
    "      Dropout(0.40),   \n",
    "\n",
    "      Dense(20, activation='relu'),\n",
    "\n",
    "      Dropout(0.6),\n",
    "      Dense(1, activation='softmax')\n",
    "\n",
    "      \n",
    "  ])\n",
    "  return model"
   ]
  },
  {
   "cell_type": "code",
   "execution_count": 19,
   "id": "1166ac48",
   "metadata": {},
   "outputs": [
    {
     "name": "stdout",
     "output_type": "stream",
     "text": [
      "Model: \"sequential_5\"\n",
      "_________________________________________________________________\n",
      " Layer (type)                Output Shape              Param #   \n",
      "=================================================================\n",
      " mobilenetv2_1.00_224 (Funct  (None, 7, 7, 1280)       2257984   \n",
      " ional)                                                          \n",
      "                                                                 \n",
      " flatten_1 (Flatten)         (None, 62720)             0         \n",
      "                                                                 \n",
      " dropout_2 (Dropout)         (None, 62720)             0         \n",
      "                                                                 \n",
      " dense_2 (Dense)             (None, 20)                1254420   \n",
      "                                                                 \n",
      " dropout_3 (Dropout)         (None, 20)                0         \n",
      "                                                                 \n",
      " dense_3 (Dense)             (None, 1)                 21        \n",
      "                                                                 \n",
      "=================================================================\n",
      "Total params: 3,512,425\n",
      "Trainable params: 1,254,441\n",
      "Non-trainable params: 2,257,984\n",
      "_________________________________________________________________\n"
     ]
    }
   ],
   "source": [
    "model = make_2D_CNN()\n",
    "model.summary()"
   ]
  },
  {
   "cell_type": "code",
   "execution_count": 20,
   "id": "eda278f0",
   "metadata": {},
   "outputs": [],
   "source": [
    "model.compile(optimizer=SGD(learning_rate=0.001), loss='binary_crossentropy', metrics=['accuracy'])"
   ]
  },
  {
   "cell_type": "code",
   "execution_count": 21,
   "id": "bf7ef981",
   "metadata": {
    "scrolled": false
   },
   "outputs": [],
   "source": [
    "reduce_on_plateau = ReduceLROnPlateau(\n",
    "    monitor=\"val_loss\",\n",
    "    factor=0.1,\n",
    "    patience=10,\n",
    "    verbose=0,\n",
    "    mode=\"auto\",\n",
    "    min_delta=0.0001,\n",
    "    cooldown=0,\n",
    "    min_lr=0)\n",
    "\n",
    "early_stopping = EarlyStopping(\n",
    "    monitor=\"val_loss\",\n",
    "    min_delta=0,\n",
    "    patience=20,\n",
    "    verbose=0,\n",
    "    mode=\"auto\",\n",
    "    baseline=None,\n",
    "    restore_best_weights=True,\n",
    "    start_from_epoch=10)"
   ]
  },
  {
   "cell_type": "code",
   "execution_count": 22,
   "id": "92857861",
   "metadata": {},
   "outputs": [
    {
     "name": "stdout",
     "output_type": "stream",
     "text": [
      "Epoch 1/100\n",
      "9/9 [==============================] - 11s 957ms/step - loss: 0.4016 - accuracy: 0.4621 - val_loss: 0.6931 - val_accuracy: 0.6022 - lr: 0.0010\n",
      "Epoch 2/100\n",
      "9/9 [==============================] - 9s 1s/step - loss: 0.3524 - accuracy: 0.4668 - val_loss: 0.6931 - val_accuracy: 0.6022 - lr: 0.0010\n",
      "Epoch 3/100\n",
      "9/9 [==============================] - 9s 1s/step - loss: 0.3464 - accuracy: 0.4526 - val_loss: 0.6931 - val_accuracy: 0.6022 - lr: 0.0010\n",
      "Epoch 4/100\n",
      "9/9 [==============================] - 12s 1s/step - loss: 0.3479 - accuracy: 0.4550 - val_loss: 0.6932 - val_accuracy: 0.6022 - lr: 0.0010\n",
      "Epoch 5/100\n",
      "9/9 [==============================] - 13s 1s/step - loss: 0.3457 - accuracy: 0.4526 - val_loss: 0.6932 - val_accuracy: 0.6022 - lr: 0.0010\n",
      "Epoch 6/100\n",
      "3/9 [=========>....................] - ETA: 5s - loss: 0.3521 - accuracy: 0.4426"
     ]
    },
    {
     "ename": "",
     "evalue": "",
     "output_type": "error",
     "traceback": [
      "\u001b[1;31mThe Kernel crashed while executing code in the the current cell or a previous cell. Please review the code in the cell(s) to identify a possible cause of the failure. Click <a href='https://aka.ms/vscodeJupyterKernelCrash'>here</a> for more info. View Jupyter <a href='command:jupyter.viewOutput'>log</a> for further details."
     ]
    },
    {
     "ename": "",
     "evalue": "",
     "output_type": "error",
     "traceback": [
      "\u001b[1;31mCanceled future for execute_request message before replies were done"
     ]
    }
   ],
   "source": [
    "\n",
    "epochs= 100\n",
    "batch_size = 50\n",
    "classweights={0: 0.49,1: 0.51}\n",
    "history = model.fit(train_ds, y_train,\n",
    "                    batch_size=batch_size,\n",
    "                    epochs=epochs,\n",
    "                    steps_per_epoch = round(len(train_ds)/batch_size),\n",
    "                    verbose=1,\n",
    "                    validation_split=0.2,\n",
    "                    callbacks=[reduce_on_plateau, early_stopping],class_weight=classweights)"
   ]
  },
  {
   "cell_type": "code",
   "execution_count": 83,
   "id": "6478e28a",
   "metadata": {},
   "outputs": [
    {
     "data": {
      "image/png": "[encoded data removed]",
      "text/plain": [
       "<Figure size 1500x1500 with 2 Axes>"
      ]
     },
     "metadata": {},
     "output_type": "display_data"
    }
   ],
   "source": [
    "acc = history.history['accuracy']\n",
    "val_acc = history.history['val_accuracy']\n",
    "loss = history.history['loss']\n",
    "val_loss = history.history['val_loss']\n",
    "\n",
    "epochs_range = range(1, len(acc)+1)\n",
    "#Train and validation accuracy \n",
    "plt.figure(figsize=(15, 15))\n",
    "plt.subplot(2, 2, 1)\n",
    "plt.plot(epochs_range, acc, label='Training Accuracy')\n",
    "plt.plot(epochs_range, val_acc, label='Validation Accuracy')\n",
    "plt.legend(loc='lower right')\n",
    "plt.title('Training and Validation Accuracy')\n",
    "#Train and validation loss \n",
    "plt.subplot(2, 2, 2)\n",
    "plt.plot(epochs_range, loss, label='Training Loss')\n",
    "plt.plot(epochs_range, val_loss, label='Validation Loss')\n",
    "plt.legend(loc='upper right')\n",
    "plt.title('Training and Validation Loss')\n",
    "plt.show()"
   ]
  },
  {
   "cell_type": "code",
   "execution_count": 84,
   "id": "52bbf331",
   "metadata": {},
   "outputs": [
    {
     "ename": "NameError",
     "evalue": "name 'x_val' is not defined",
     "output_type": "error",
     "traceback": [
      "\u001b[0;31m---------------------------------------------------------------------------\u001b[0m",
      "\u001b[0;31mNameError\u001b[0m                                 Traceback (most recent call last)",
      "Cell \u001b[0;32mIn[84], line 1\u001b[0m\n\u001b[0;32m----> 1\u001b[0m _, val_acc \u001b[39m=\u001b[39m model\u001b[39m.\u001b[39mevaluate(x_val, y_val, verbose\u001b[39m=\u001b[39m\u001b[39m0\u001b[39m)\n\u001b[1;32m      2\u001b[0m \u001b[39mprint\u001b[39m(\u001b[39m'\u001b[39m\u001b[39mValidation accuracy: \u001b[39m\u001b[39m%.3f\u001b[39;00m\u001b[39m'\u001b[39m \u001b[39m%\u001b[39m (val_acc))\n\u001b[1;32m      4\u001b[0m preds \u001b[39m=\u001b[39m model\u001b[39m.\u001b[39mpredict(x_val, verbose\u001b[39m=\u001b[39m\u001b[39m1\u001b[39m)\n",
      "\u001b[0;31mNameError\u001b[0m: name 'x_val' is not defined"
     ]
    }
   ],
   "source": [
    "_, val_acc = model.evaluate(x_val, y_val, verbose=0)\n",
    "print('Validation accuracy: %.3f' % (val_acc))\n",
    "\n",
    "preds = model.predict(x_val, verbose=1)\n",
    "#Compute Receiver operating characteristic (ROC)\n",
    "fpr, tpr, _ = roc_curve(y_val, preds)\n",
    "roc_auc = auc(fpr, tpr)\n",
    "print('AUC = %.3f'% (roc_auc))\n",
    "\n",
    "#Plot of a ROC curve\n",
    "plt.figure()\n",
    "lw = 2\n",
    "plt.plot(fpr, tpr, color='darkorange', lw=lw, label='ROC curve (area = %0.2f)' % roc_auc)\n",
    "plt.plot([0, 1], [0, 1], color='navy', lw=lw, linestyle='--')\n",
    "plt.xlim([0.0, 1.0])\n",
    "plt.ylim([0.0, 1.05])\n",
    "plt.xlabel('False Positive Rate')\n",
    "plt.ylabel('True Positive Rate')\n",
    "plt.title('Accuracy ROC')\n",
    "plt.legend(loc=\"lower right\")\n",
    "plt.show()"
   ]
  },
  {
   "cell_type": "code",
   "execution_count": 85,
   "id": "83f3bd03",
   "metadata": {},
   "outputs": [
    {
     "name": "stdout",
     "output_type": "stream",
     "text": [
      "1/1 [==============================] - 0s 88ms/step - loss: 0.7009 - accuracy: 0.5000\n",
      "\n",
      "Test accuracy: 0.500\n",
      "1/1 [==============================] - 1s 722ms/step\n",
      "AUC = 0.500\n"
     ]
    },
    {
     "data": {
      "image/png": "[encoded data removed]",
      "text/plain": [
       "<Figure size 640x480 with 1 Axes>"
      ]
     },
     "metadata": {},
     "output_type": "display_data"
    }
   ],
   "source": [
    "test_loss, test_acc = model.evaluate(x_test, y_test)\n",
    "print('\\nTest accuracy: %.3f' % (test_acc))\n",
    "\n",
    "preds_test = model.predict(x_test, verbose=1)\n",
    "fpr, tpr, _ = roc_curve(y_test, preds_test)\n",
    "roc_auc = auc(fpr, tpr)\n",
    "print('AUC = %.3f'% (roc_auc))\n",
    "\n",
    "plt.figure()\n",
    "lw = 2\n",
    "plt.plot(fpr, tpr, color='darkorange', lw=lw, label='ROC curve (area = %0.2f)' % roc_auc)\n",
    "plt.plot([0, 1], [0, 1], color='navy', lw=lw, linestyle='--')\n",
    "plt.xlim([0.0, 1.0])\n",
    "plt.ylim([0.0, 1.05])\n",
    "plt.xlabel('False Positive Rate')\n",
    "plt.ylabel('True Positive Rate')\n",
    "plt.title('Test ROC')\n",
    "plt.legend(loc=\"lower right\")\n",
    "plt.show()"
   ]
  }
 ],
 "metadata": {
  "kernelspec": {
   "display_name": "Python 3 (ipykernel)",
   "language": "python",
   "name": "python3"
  },
  "language_info": {
   "codemirror_mode": {
    "name": "ipython",
    "version": 3
   },
   "file_extension": ".py",
   "mimetype": "text/x-python",
   "name": "python",
   "nbconvert_exporter": "python",
   "pygments_lexer": "ipython3",
   "version": "3.10.7"
  }
 },
 "nbformat": 4,
 "nbformat_minor": 5
}
