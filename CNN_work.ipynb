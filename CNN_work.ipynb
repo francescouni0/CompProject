{
 "cells": [
  {
   "cell_type": "code",
   "execution_count": 1,
   "metadata": {},
   "outputs": [
    {
     "name": "stderr",
     "output_type": "stream",
     "text": [
      "2023-03-13 16:29:30.775060: I tensorflow/core/platform/cpu_feature_guard.cc:193] This TensorFlow binary is optimized with oneAPI Deep Neural Network Library (oneDNN) to use the following CPU instructions in performance-critical operations:  AVX2 FMA\n",
      "To enable them in other operations, rebuild TensorFlow with the appropriate compiler flags.\n",
      "2023-03-13 16:29:31.131088: W tensorflow/compiler/xla/stream_executor/platform/default/dso_loader.cc:64] Could not load dynamic library 'libcudart.so.11.0'; dlerror: libcudart.so.11.0: cannot open shared object file: No such file or directory\n",
      "2023-03-13 16:29:31.131107: I tensorflow/compiler/xla/stream_executor/cuda/cudart_stub.cc:29] Ignore above cudart dlerror if you do not have a GPU set up on your machine.\n",
      "2023-03-13 16:29:32.384311: W tensorflow/compiler/xla/stream_executor/platform/default/dso_loader.cc:64] Could not load dynamic library 'libnvinfer.so.7'; dlerror: libnvinfer.so.7: cannot open shared object file: No such file or directory\n",
      "2023-03-13 16:29:32.384425: W tensorflow/compiler/xla/stream_executor/platform/default/dso_loader.cc:64] Could not load dynamic library 'libnvinfer_plugin.so.7'; dlerror: libnvinfer_plugin.so.7: cannot open shared object file: No such file or directory\n",
      "2023-03-13 16:29:32.384435: W tensorflow/compiler/tf2tensorrt/utils/py_utils.cc:38] TF-TRT Warning: Cannot dlopen some TensorRT libraries. If you would like to use Nvidia GPU with TensorRT, please make sure the missing libraries mentioned above are installed properly.\n"
     ]
    }
   ],
   "source": [
    "import reading\n",
    "import numpy as np\n",
    "import pandas as pd\n",
    "import nibabel as nib\n",
    "import matplotlib.pyplot as plt\n",
    "from sklearn.model_selection import train_test_split\n",
    "from tensorflow.keras.models import Sequential\n",
    "from tensorflow.keras.layers import BatchNormalization, Dense, Flatten, InputLayer, Activation, Dropout\n",
    "from tensorflow.keras.layers import Conv2D, Conv3D, AveragePooling2D, AveragePooling3D, MaxPooling2D, MaxPooling3D,GlobalAvgPool2D\n",
    "from tensorflow.keras.optimizers import Adam, SGD\n",
    "from keras.callbacks import ReduceLROnPlateau, EarlyStopping\n",
    "from sklearn.metrics import roc_curve, auc\n",
    "import os\n",
    "from tensorflow.keras import layers"
   ]
  },
  {
   "cell_type": "markdown",
   "metadata": {},
   "source": []
  },
  {
   "cell_type": "code",
   "execution_count": 2,
   "metadata": {},
   "outputs": [
    {
     "data": {
      "text/html": [
       "<div>\n",
       "<style scoped>\n",
       "    .dataframe tbody tr th:only-of-type {\n",
       "        vertical-align: middle;\n",
       "    }\n",
       "\n",
       "    .dataframe tbody tr th {\n",
       "        vertical-align: top;\n",
       "    }\n",
       "\n",
       "    .dataframe thead th {\n",
       "        text-align: right;\n",
       "    }\n",
       "</style>\n",
       "<table border=\"1\" class=\"dataframe\">\n",
       "  <thead>\n",
       "    <tr style=\"text-align: right;\">\n",
       "      <th></th>\n",
       "      <th>Subject</th>\n",
       "      <th>Group</th>\n",
       "      <th>Sex</th>\n",
       "      <th>Age</th>\n",
       "      <th>Path</th>\n",
       "    </tr>\n",
       "  </thead>\n",
       "  <tbody>\n",
       "    <tr>\n",
       "      <th>67</th>\n",
       "      <td>4002</td>\n",
       "      <td>0</td>\n",
       "      <td>F</td>\n",
       "      <td>74.0</td>\n",
       "      <td>Diffusion_parameters_maps-20230215T134959Z-001/Diffusion_parameters_maps/098_S_4002/corrected_FA_image/2011-02-28_15_42_50.0/I397180/ADNI_098_S_4002_MR_corrected_FA_image_Br_20131105134057196_S100616_I397180.nii</td>\n",
       "    </tr>\n",
       "    <tr>\n",
       "      <th>68</th>\n",
       "      <td>4003</td>\n",
       "      <td>0</td>\n",
       "      <td>F</td>\n",
       "      <td>72.0</td>\n",
       "      <td>Diffusion_parameters_maps-20230215T134959Z-001/Diffusion_parameters_maps/098_S_4003/corrected_FA_image/2011-03-22_09_23_47.0/I299742/ADNI_098_S_4003_MR_corrected_FA_image_Br_20120421215950180_S102157_I299742.nii</td>\n",
       "    </tr>\n",
       "    <tr>\n",
       "      <th>28</th>\n",
       "      <td>4009</td>\n",
       "      <td>1</td>\n",
       "      <td>M</td>\n",
       "      <td>90.0</td>\n",
       "      <td>Diffusion_parameters_maps-20230215T134959Z-001/Diffusion_parameters_maps/016_S_4009/corrected_FA_image/2011-06-18_12_22_12.0/I299644/ADNI_016_S_4009_MR_corrected_FA_image_Br_20120421205831338_S112088_I299644.nii</td>\n",
       "    </tr>\n",
       "    <tr>\n",
       "      <th>69</th>\n",
       "      <td>4018</td>\n",
       "      <td>0</td>\n",
       "      <td>M</td>\n",
       "      <td>76.0</td>\n",
       "      <td>Diffusion_parameters_maps-20230215T134959Z-001/Diffusion_parameters_maps/098_S_4018/corrected_FA_image/2011-04-22_15_36_10.0/I299744/ADNI_098_S_4018_MR_corrected_FA_image_Br_20120421220032350_S105027_I299744.nii</td>\n",
       "    </tr>\n",
       "    <tr>\n",
       "      <th>70</th>\n",
       "      <td>4050</td>\n",
       "      <td>0</td>\n",
       "      <td>M</td>\n",
       "      <td>77.0</td>\n",
       "      <td>Diffusion_parameters_maps-20230215T134959Z-001/Diffusion_parameters_maps/098_S_4050/corrected_FA_image/2011-05-27_15_33_58.0/I299745/ADNI_098_S_4050_MR_corrected_FA_image_Br_20120421220057813_S110467_I299745.nii</td>\n",
       "    </tr>\n",
       "  </tbody>\n",
       "</table>\n",
       "</div>"
      ],
      "text/plain": [
       "    Subject  Group Sex   Age  \\\n",
       "67     4002      0   F  74.0   \n",
       "68     4003      0   F  72.0   \n",
       "28     4009      1   M  90.0   \n",
       "69     4018      0   M  76.0   \n",
       "70     4050      0   M  77.0   \n",
       "\n",
       "                                                                                                                                                                                                                   Path  \n",
       "67  Diffusion_parameters_maps-20230215T134959Z-001/Diffusion_parameters_maps/098_S_4002/corrected_FA_image/2011-02-28_15_42_50.0/I397180/ADNI_098_S_4002_MR_corrected_FA_image_Br_20131105134057196_S100616_I397180.nii  \n",
       "68  Diffusion_parameters_maps-20230215T134959Z-001/Diffusion_parameters_maps/098_S_4003/corrected_FA_image/2011-03-22_09_23_47.0/I299742/ADNI_098_S_4003_MR_corrected_FA_image_Br_20120421215950180_S102157_I299742.nii  \n",
       "28  Diffusion_parameters_maps-20230215T134959Z-001/Diffusion_parameters_maps/016_S_4009/corrected_FA_image/2011-06-18_12_22_12.0/I299644/ADNI_016_S_4009_MR_corrected_FA_image_Br_20120421205831338_S112088_I299644.nii  \n",
       "69  Diffusion_parameters_maps-20230215T134959Z-001/Diffusion_parameters_maps/098_S_4018/corrected_FA_image/2011-04-22_15_36_10.0/I299744/ADNI_098_S_4018_MR_corrected_FA_image_Br_20120421220032350_S105027_I299744.nii  \n",
       "70  Diffusion_parameters_maps-20230215T134959Z-001/Diffusion_parameters_maps/098_S_4050/corrected_FA_image/2011-05-27_15_33_58.0/I299745/ADNI_098_S_4050_MR_corrected_FA_image_Br_20120421220057813_S110467_I299745.nii  "
      ]
     },
     "execution_count": 2,
     "metadata": {},
     "output_type": "execute_result"
    }
   ],
   "source": [
    "paths_FA= reading.data_path(\"Diffusion_parameters_maps-20230215T134959Z-001\",\"corrected_FA_image\")\n",
    "\n",
    "\n",
    "paths_FA.sort(key=lambda x: int(os.path.basename(x).split('_')[3]))\n",
    "\n",
    "\n",
    "dataset=pd.DataFrame(pd.read_csv('/home/francesco/CompProject/ADNI_dataset_diffusion.csv'))\n",
    "dataset.sort_values(by=[\"Subject\"],inplace=True)\n",
    "dataset[\"Path\"]=paths_FA\n",
    "pd.set_option(\"max_colwidth\",None)\n",
    "\n",
    "dataset.head()"
   ]
  },
  {
   "cell_type": "code",
   "execution_count": 3,
   "metadata": {},
   "outputs": [],
   "source": [
    "images_list = []\n",
    "for i, datapath in enumerate(dataset[\"Path\"]):\n",
    "    image = np.asarray(nib.load(datapath).get_fdata())\n",
    "    #image[image == 0] = float('NaN')\n",
    "    images_list.append(image)\n",
    "    \n",
    "images = np.array(images_list, dtype='float64')\n",
    "labels = np.array(dataset[\"Group\"], dtype='int64')"
   ]
  },
  {
   "attachments": {},
   "cell_type": "markdown",
   "metadata": {},
   "source": [
    "DATA AUG"
   ]
  },
  {
   "cell_type": "code",
   "execution_count": 4,
   "metadata": {},
   "outputs": [
    {
     "name": "stderr",
     "output_type": "stream",
     "text": [
      "2023-03-13 16:29:53.060686: W tensorflow/compiler/xla/stream_executor/platform/default/dso_loader.cc:64] Could not load dynamic library 'libcuda.so.1'; dlerror: libcuda.so.1: cannot open shared object file: No such file or directory\n",
      "2023-03-13 16:29:53.061133: W tensorflow/compiler/xla/stream_executor/cuda/cuda_driver.cc:265] failed call to cuInit: UNKNOWN ERROR (303)\n",
      "2023-03-13 16:29:53.061169: I tensorflow/compiler/xla/stream_executor/cuda/cuda_diagnostics.cc:156] kernel driver does not appear to be running on this host (francesco-jj): /proc/driver/nvidia/version does not exist\n",
      "2023-03-13 16:29:53.062310: I tensorflow/core/platform/cpu_feature_guard.cc:193] This TensorFlow binary is optimized with oneAPI Deep Neural Network Library (oneDNN) to use the following CPU instructions in performance-critical operations:  AVX2 FMA\n",
      "To enable them in other operations, rebuild TensorFlow with the appropriate compiler flags.\n"
     ]
    }
   ],
   "source": [
    "\n",
    "os.environ[\"KMP_DUPLICATE_LIB_OK\"]=\"TRUE\"\n",
    "\n",
    "data_augmentation1 = Sequential([\n",
    "    \n",
    "            layers.RandomFlip(mode='horizontal_and_vertical'),\n",
    "           \n",
    "])\n",
    "\n",
    "\n",
    "data_augmentation2 = Sequential([\n",
    "    \n",
    "            layers.RandomRotation((-0.5,0.5)),\n",
    "         \n",
    "])\n",
    "\n",
    "\n",
    "\n",
    "data_augmentation3 = Sequential([\n",
    "    \n",
    "            layers.RandomZoom(0.5),\n",
    "])\n",
    "\n"
   ]
  },
  {
   "cell_type": "code",
   "execution_count": 5,
   "metadata": {},
   "outputs": [
    {
     "name": "stdout",
     "output_type": "stream",
     "text": [
      "WARNING:tensorflow:Using a while_loop for converting RngReadAndSkip cause there is no registered converter for this op.\n",
      "WARNING:tensorflow:Using a while_loop for converting Bitcast cause there is no registered converter for this op.\n",
      "WARNING:tensorflow:Using a while_loop for converting Bitcast cause there is no registered converter for this op.\n",
      "WARNING:tensorflow:Using a while_loop for converting StatelessRandomUniformV2 cause there is no registered converter for this op.\n"
     ]
    },
    {
     "name": "stderr",
     "output_type": "stream",
     "text": [
      "2023-03-13 16:29:55.802444: W tensorflow/tsl/framework/cpu_allocator_impl.cc:82] Allocation of 1032856000 exceeds 10% of free system memory.\n"
     ]
    },
    {
     "name": "stdout",
     "output_type": "stream",
     "text": [
      "WARNING:tensorflow:Using a while_loop for converting ImageProjectiveTransformV3 cause there is no registered converter for this op.\n",
      "WARNING:tensorflow:Using a while_loop for converting RngReadAndSkip cause there is no registered converter for this op.\n"
     ]
    },
    {
     "name": "stderr",
     "output_type": "stream",
     "text": [
      "2023-03-13 16:29:56.783440: W tensorflow/tsl/framework/cpu_allocator_impl.cc:82] Allocation of 516428000 exceeds 10% of free system memory.\n"
     ]
    },
    {
     "name": "stdout",
     "output_type": "stream",
     "text": [
      "WARNING:tensorflow:Using a while_loop for converting Bitcast cause there is no registered converter for this op.\n",
      "WARNING:tensorflow:Using a while_loop for converting Bitcast cause there is no registered converter for this op.\n",
      "WARNING:tensorflow:Using a while_loop for converting StatelessRandomUniformV2 cause there is no registered converter for this op.\n",
      "WARNING:tensorflow:Using a while_loop for converting ImageProjectiveTransformV3 cause there is no registered converter for this op.\n"
     ]
    },
    {
     "name": "stderr",
     "output_type": "stream",
     "text": [
      "2023-03-13 16:29:58.400864: W tensorflow/tsl/framework/cpu_allocator_impl.cc:82] Allocation of 516428000 exceeds 10% of free system memory.\n"
     ]
    }
   ],
   "source": [
    "os.environ[\"KMP_DUPLICATE_LIB_OK\"]=\"TRUE\"\n",
    "\n",
    "imagesau2=data_augmentation2(images)\n",
    "\n",
    "\n",
    "\n",
    "\n",
    "\n"
   ]
  },
  {
   "cell_type": "code",
   "execution_count": 6,
   "metadata": {},
   "outputs": [
    {
     "name": "stdout",
     "output_type": "stream",
     "text": [
      "WARNING:tensorflow:Using a while_loop for converting RngReadAndSkip cause there is no registered converter for this op.\n",
      "WARNING:tensorflow:Using a while_loop for converting Bitcast cause there is no registered converter for this op.\n",
      "WARNING:tensorflow:Using a while_loop for converting Bitcast cause there is no registered converter for this op.\n",
      "WARNING:tensorflow:Using a while_loop for converting StatelessRandomUniformV2 cause there is no registered converter for this op.\n"
     ]
    },
    {
     "name": "stderr",
     "output_type": "stream",
     "text": [
      "2023-03-13 16:30:11.845483: W tensorflow/tsl/framework/cpu_allocator_impl.cc:82] Allocation of 1032856000 exceeds 10% of free system memory.\n"
     ]
    },
    {
     "name": "stdout",
     "output_type": "stream",
     "text": [
      "WARNING:tensorflow:Using a while_loop for converting ImageProjectiveTransformV3 cause there is no registered converter for this op.\n",
      "WARNING:tensorflow:Using a while_loop for converting RngReadAndSkip cause there is no registered converter for this op.\n",
      "WARNING:tensorflow:Using a while_loop for converting Bitcast cause there is no registered converter for this op.\n"
     ]
    },
    {
     "name": "stderr",
     "output_type": "stream",
     "text": [
      "2023-03-13 16:30:12.713375: W tensorflow/tsl/framework/cpu_allocator_impl.cc:82] Allocation of 516428000 exceeds 10% of free system memory.\n"
     ]
    },
    {
     "name": "stdout",
     "output_type": "stream",
     "text": [
      "WARNING:tensorflow:Using a while_loop for converting Bitcast cause there is no registered converter for this op.\n",
      "WARNING:tensorflow:Using a while_loop for converting StatelessRandomUniformV2 cause there is no registered converter for this op.\n",
      "WARNING:tensorflow:Using a while_loop for converting ImageProjectiveTransformV3 cause there is no registered converter for this op.\n"
     ]
    }
   ],
   "source": [
    "os.environ[\"KMP_DUPLICATE_LIB_OK\"]=\"TRUE\"\n",
    "\n",
    "\n",
    "imagesau3=data_augmentation3(images)\n"
   ]
  },
  {
   "cell_type": "code",
   "execution_count": 7,
   "metadata": {},
   "outputs": [],
   "source": [
    "images1=np.append(images,imagesau2,axis=0)\n",
    "#images2=np.append(images1,imagesau2,axis=0)\n"
   ]
  },
  {
   "cell_type": "code",
   "execution_count": 8,
   "metadata": {},
   "outputs": [
    {
     "name": "stdout",
     "output_type": "stream",
     "text": [
      "(291, 110, 110, 110)\n"
     ]
    }
   ],
   "source": [
    "os.environ[\"KMP_DUPLICATE_LIB_OK\"]=\"TRUE\"\n",
    "\n",
    "\n",
    "images=np.append(images1,imagesau3,axis=0)\n",
    "\n",
    "\n",
    "\n",
    "\n",
    "print(np.shape(images))\n"
   ]
  },
  {
   "cell_type": "code",
   "execution_count": 9,
   "metadata": {},
   "outputs": [
    {
     "name": "stdout",
     "output_type": "stream",
     "text": [
      "(291,)\n"
     ]
    }
   ],
   "source": [
    "labels1=np.append(labels,labels)\n",
    "#labels2=np.append(labels1,labels)\n",
    "\n",
    "labels=np.append(labels1,labels)\n",
    "\n",
    "\n",
    "print(np.shape(labels))"
   ]
  },
  {
   "cell_type": "code",
   "execution_count": 10,
   "metadata": {},
   "outputs": [],
   "source": [
    "def split_2D():\n",
    "    X_train, x_test, Y_train, y_test = train_test_split(images[:,:,:,53:56], labels, test_size=0.2, random_state=36)\n",
    "    x_train, x_val, y_train, y_val = train_test_split(X_train, Y_train, test_size=0.25, random_state=97)\n",
    "    return x_train, y_train, x_val, y_val, x_test, y_test"
   ]
  },
  {
   "cell_type": "code",
   "execution_count": 11,
   "metadata": {},
   "outputs": [
    {
     "name": "stdout",
     "output_type": "stream",
     "text": [
      "(174, 110, 110, 3)\n"
     ]
    }
   ],
   "source": [
    "x_train, y_train, x_val, y_val, x_test, y_test = split_2D()\n",
    "print(x_train.shape)"
   ]
  },
  {
   "cell_type": "code",
   "execution_count": 12,
   "metadata": {},
   "outputs": [],
   "source": [
    "def make_2D_CNN_best(shape=(110, 110, 3)):\n",
    "  model = Sequential([\n",
    "      \n",
    "      Conv2D(2, (5,5), padding='valid', input_shape=shape),\n",
    "      BatchNormalization(),\n",
    "      Activation('relu'),\n",
    "      \n",
    "      MaxPooling2D((2,2), strides=2),\n",
    "      #Dropout(0.4),\n",
    "      \n",
    "      Conv2D(4, (5,5), padding='valid', input_shape=shape),\n",
    "      BatchNormalization(),\n",
    "      Activation('relu'),\n",
    "\n",
    "      MaxPooling2D((3,3), strides=2),\n",
    "      #Dropout(0.4),False\n",
    "      \n",
    "      Conv2D(8, (5,5), padding='valid', input_shape=shape),\n",
    "      BatchNormalization(),\n",
    "      Activation('relu'),\n",
    "\n",
    "      MaxPooling2D((4,4), strides=2),\n",
    "      #Dropout(0.4),\n",
    "      \n",
    "      Conv2D(16, (5,5), padding='valid', input_shape=shape),\n",
    "      BatchNormalization(),\n",
    "      Activation('relu'),\n",
    "\n",
    "      MaxPooling2D((5,5), strides=2),\n",
    "      #Dropout(0.4),False\n",
    "\n",
    "      Flatten(),\n",
    "\n",
    "      Dense(20, activation='relu'),\n",
    "      #Dropout(0.1),\n",
    "      Dense(1, activation='sigmoid')\n",
    "     \n",
    "  ])\n",
    "  return model"
   ]
  },
  {
   "cell_type": "code",
   "execution_count": 21,
   "metadata": {},
   "outputs": [],
   "source": [
    "def make_2D_CNN_newbest(shape=(110, 110, 3)):\n",
    "  model = Sequential([\n",
    "      \n",
    "      Conv2D(2, (5,5), padding='valid', input_shape=shape,kernel_regularizer='l2'),\n",
    "      BatchNormalization(),\n",
    "      Activation('relu'),\n",
    "      \n",
    "      MaxPooling2D((2,2), strides=2),\n",
    "      #Dropout(0.4),\n",
    "      \n",
    "      Conv2D(4, (5,5), padding='valid', input_shape=shape,kernel_regularizer='l2'),\n",
    "      BatchNormalization(),\n",
    "      Activation('relu'),\n",
    "\n",
    "      MaxPooling2D((3,3), strides=2),\n",
    "      #Dropout(0.4),\n",
    "      \n",
    "      Conv2D(8, (5,5), padding='valid', input_shape=shape,kernel_regularizer='l2'),\n",
    "      BatchNormalization(),\n",
    "      Activation('relu'),\n",
    "\n",
    "      MaxPooling2D((4,4), strides=2),\n",
    "      #Dropout(0.4),\n",
    "      \n",
    "      Conv2D(16, (5,5), padding='valid', input_shape=shape,kernel_regularizer='l2'),\n",
    "      BatchNormalization(),\n",
    "      Activation('relu'),\n",
    "\n",
    "      MaxPooling2D((5,5), strides=2),\n",
    "      #Dropout(0.4),\n",
    "\n",
    "      Flatten(),\n",
    "\n",
    "      Dense(20, activation='relu'),\n",
    "      #Dropout(0.1),\n",
    "      Dense(1, activation='sigmoid')\n",
    "     \n",
    "  ])\n",
    "  return model"
   ]
  },
  {
   "cell_type": "code",
   "execution_count": 89,
   "metadata": {},
   "outputs": [],
   "source": [
    "def make_2D_CNN(shape=(110, 110, 3)):\n",
    "  model = Sequential([\n",
    "      \n",
    "      Conv2D(2, (5,5), padding='valid', input_shape=shape,kernel_regularizer='l2'),\n",
    "      BatchNormalization(),\n",
    "      Activation('relu'),\n",
    "      \n",
    "      MaxPooling2D((1,1), strides=2),\n",
    "      #Dropout(0.4),\n",
    "      \n",
    "      Conv2D(4, (5,5), padding='valid', input_shape=shape,kernel_regularizer='l2'),\n",
    "      BatchNormalization(),\n",
    "      Activation('relu'),\n",
    "\n",
    "      MaxPooling2D((3,3), strides=2),\n",
    "      #Dropout(0.4),\n",
    "      \n",
    "      Conv2D(8, (5,5), padding='valid', input_shape=shape,kernel_regularizer='l2'),\n",
    "      BatchNormalization(),\n",
    "      Activation('relu'),\n",
    "\n",
    "      MaxPooling2D((4,4), strides=2),\n",
    "      #Dropout(0.4),\n",
    "      \n",
    "      Conv2D(16, (5,5), padding='valid', input_shape=shape,kernel_regularizer='l2'),\n",
    "      BatchNormalization(),\n",
    "      Activation('relu'),\n",
    "\n",
    "      MaxPooling2D((5,5), strides=2),\n",
    "      #Dropout(0.4),\n",
    "\n",
    "      Flatten(),\n",
    "\n",
    "      Dense(30, activation='relu'),\n",
    "      #Dropout(0.1),\n",
    "      Dense(1, activation='sigmoid')\n",
    "     \n",
    "  ])\n",
    "  return model"
   ]
  },
  {
   "cell_type": "code",
   "execution_count": 22,
   "metadata": {},
   "outputs": [
    {
     "name": "stdout",
     "output_type": "stream",
     "text": [
      "Model: \"sequential_4\"\n",
      "_________________________________________________________________\n",
      " Layer (type)                Output Shape              Param #   \n",
      "=================================================================\n",
      " conv2d_4 (Conv2D)           (None, 106, 106, 2)       152       \n",
      "                                                                 \n",
      " batch_normalization_4 (Batc  (None, 106, 106, 2)      8         \n",
      " hNormalization)                                                 \n",
      "                                                                 \n",
      " activation_4 (Activation)   (None, 106, 106, 2)       0         \n",
      "                                                                 \n",
      " max_pooling2d_4 (MaxPooling  (None, 53, 53, 2)        0         \n",
      " 2D)                                                             \n",
      "                                                                 \n",
      " conv2d_5 (Conv2D)           (None, 49, 49, 4)         204       \n",
      "                                                                 \n",
      " batch_normalization_5 (Batc  (None, 49, 49, 4)        16        \n",
      " hNormalization)                                                 \n",
      "                                                                 \n",
      " activation_5 (Activation)   (None, 49, 49, 4)         0         \n",
      "                                                                 \n",
      " max_pooling2d_5 (MaxPooling  (None, 24, 24, 4)        0         \n",
      " 2D)                                                             \n",
      "                                                                 \n",
      " conv2d_6 (Conv2D)           (None, 20, 20, 8)         808       \n",
      "                                                                 \n",
      " batch_normalization_6 (Batc  (None, 20, 20, 8)        32        \n",
      " hNormalization)                                                 \n",
      "                                                                 \n",
      " activation_6 (Activation)   (None, 20, 20, 8)         0         \n",
      "                                                                 \n",
      " max_pooling2d_6 (MaxPooling  (None, 9, 9, 8)          0         \n",
      " 2D)                                                             \n",
      "                                                                 \n",
      " conv2d_7 (Conv2D)           (None, 5, 5, 16)          3216      \n",
      "                                                                 \n",
      " batch_normalization_7 (Batc  (None, 5, 5, 16)         64        \n",
      " hNormalization)                                                 \n",
      "                                                                 \n",
      " activation_7 (Activation)   (None, 5, 5, 16)          0         \n",
      "                                                                 \n",
      " max_pooling2d_7 (MaxPooling  (None, 1, 1, 16)         0         \n",
      " 2D)                                                             \n",
      "                                                                 \n",
      " flatten_1 (Flatten)         (None, 16)                0         \n",
      "                                                                 \n",
      " dense_2 (Dense)             (None, 20)                340       \n",
      "                                                                 \n",
      " dense_3 (Dense)             (None, 1)                 21        \n",
      "                                                                 \n",
      "=================================================================\n",
      "Total params: 4,861\n",
      "Trainable params: 4,801\n",
      "Non-trainable params: 60\n",
      "_________________________________________________________________\n"
     ]
    }
   ],
   "source": [
    "model = make_2D_CNN_newbest()\n",
    "model.summary()"
   ]
  },
  {
   "cell_type": "code",
   "execution_count": 23,
   "metadata": {},
   "outputs": [],
   "source": [
    "model.compile(optimizer=SGD(learning_rate=0.1), loss='binary_crossentropy', metrics=['accuracy'])"
   ]
  },
  {
   "cell_type": "code",
   "execution_count": 24,
   "metadata": {},
   "outputs": [],
   "source": [
    "reduce_on_plateau = ReduceLROnPlateau(\n",
    "    monitor=\"val_loss\",\n",
    "    factor=0.1,\n",
    "    patience=10,\n",
    "    verbose=0,\n",
    "    mode=\"auto\",\n",
    "    min_delta=0.0001,\n",
    "    cooldown=0,\n",
    "    min_lr=0)\n",
    "\n",
    "early_stopping = EarlyStopping(\n",
    "    monitor=\"val_loss\",\n",
    "    min_delta=0,\n",
    "    patience=100,\n",
    "    verbose=0,\n",
    "    mode=\"auto\",\n",
    "    baseline=None,\n",
    "    restore_best_weights=False,\n",
    "    start_from_epoch=10)"
   ]
  },
  {
   "cell_type": "code",
   "execution_count": 25,
   "metadata": {},
   "outputs": [
    {
     "name": "stdout",
     "output_type": "stream",
     "text": [
      "Epoch 1/1000\n",
      "9/9 [==============================] - 2s 94ms/step - loss: 1.0602 - accuracy: 0.4885 - val_loss: 0.8996 - val_accuracy: 0.5345 - lr: 0.1000\n",
      "Epoch 2/1000\n",
      "9/9 [==============================] - 1s 71ms/step - loss: 0.8605 - accuracy: 0.6379 - val_loss: 0.8903 - val_accuracy: 0.5690 - lr: 0.1000\n",
      "Epoch 3/1000\n",
      "9/9 [==============================] - 1s 71ms/step - loss: 0.8138 - accuracy: 0.6264 - val_loss: 0.8876 - val_accuracy: 0.5345 - lr: 0.1000\n",
      "Epoch 4/1000\n",
      "9/9 [==============================] - 1s 73ms/step - loss: 0.8102 - accuracy: 0.6782 - val_loss: 0.8882 - val_accuracy: 0.5345 - lr: 0.1000\n",
      "Epoch 5/1000\n",
      "9/9 [==============================] - 1s 68ms/step - loss: 0.7601 - accuracy: 0.7414 - val_loss: 0.9970 - val_accuracy: 0.5345 - lr: 0.1000\n",
      "Epoch 6/1000\n",
      "9/9 [==============================] - 1s 70ms/step - loss: 0.6613 - accuracy: 0.7759 - val_loss: 1.6758 - val_accuracy: 0.4655 - lr: 0.1000\n",
      "Epoch 7/1000\n",
      "9/9 [==============================] - 1s 72ms/step - loss: 0.8105 - accuracy: 0.6552 - val_loss: 1.6682 - val_accuracy: 0.5345 - lr: 0.1000\n",
      "Epoch 8/1000\n",
      "9/9 [==============================] - 2s 293ms/step - loss: 0.6704 - accuracy: 0.7644 - val_loss: 0.8827 - val_accuracy: 0.6207 - lr: 0.1000\n",
      "Epoch 9/1000\n",
      "9/9 [==============================] - 1s 72ms/step - loss: 0.6149 - accuracy: 0.8218 - val_loss: 0.7843 - val_accuracy: 0.7241 - lr: 0.1000\n",
      "Epoch 10/1000\n",
      "9/9 [==============================] - 1s 77ms/step - loss: 0.6321 - accuracy: 0.7586 - val_loss: 4.3318 - val_accuracy: 0.5345 - lr: 0.1000\n",
      "Epoch 11/1000\n",
      "9/9 [==============================] - 1s 74ms/step - loss: 0.6329 - accuracy: 0.7701 - val_loss: 2.7657 - val_accuracy: 0.5345 - lr: 0.1000\n",
      "Epoch 12/1000\n",
      "9/9 [==============================] - 1s 70ms/step - loss: 0.6464 - accuracy: 0.7644 - val_loss: 1.9257 - val_accuracy: 0.5345 - lr: 0.1000\n",
      "Epoch 13/1000\n",
      "9/9 [==============================] - 2s 184ms/step - loss: 0.6096 - accuracy: 0.7701 - val_loss: 1.3379 - val_accuracy: 0.5345 - lr: 0.1000\n",
      "Epoch 14/1000\n",
      "9/9 [==============================] - 1s 73ms/step - loss: 0.5628 - accuracy: 0.7989 - val_loss: 0.9165 - val_accuracy: 0.6207 - lr: 0.1000\n",
      "Epoch 15/1000\n",
      "9/9 [==============================] - 1s 71ms/step - loss: 0.5349 - accuracy: 0.8621 - val_loss: 0.7346 - val_accuracy: 0.7241 - lr: 0.1000\n",
      "Epoch 16/1000\n",
      "9/9 [==============================] - 1s 71ms/step - loss: 0.6601 - accuracy: 0.7759 - val_loss: 0.7862 - val_accuracy: 0.6724 - lr: 0.1000\n",
      "Epoch 17/1000\n",
      "9/9 [==============================] - 1s 87ms/step - loss: 0.4563 - accuracy: 0.8851 - val_loss: 0.7902 - val_accuracy: 0.7414 - lr: 0.1000\n",
      "Epoch 18/1000\n",
      "9/9 [==============================] - 1s 91ms/step - loss: 0.4096 - accuracy: 0.9138 - val_loss: 0.8107 - val_accuracy: 0.5345 - lr: 0.1000\n",
      "Epoch 19/1000\n",
      "9/9 [==============================] - 1s 91ms/step - loss: 0.4288 - accuracy: 0.9080 - val_loss: 1.0546 - val_accuracy: 0.4828 - lr: 0.1000\n",
      "Epoch 20/1000\n",
      "9/9 [==============================] - 1s 91ms/step - loss: 0.5290 - accuracy: 0.8161 - val_loss: 1.0565 - val_accuracy: 0.5000 - lr: 0.1000\n",
      "Epoch 21/1000\n",
      "9/9 [==============================] - 1s 88ms/step - loss: 0.3795 - accuracy: 0.9138 - val_loss: 1.2008 - val_accuracy: 0.5000 - lr: 0.1000\n",
      "Epoch 22/1000\n",
      "9/9 [==============================] - 1s 89ms/step - loss: 0.4722 - accuracy: 0.8678 - val_loss: 2.9717 - val_accuracy: 0.4655 - lr: 0.1000\n",
      "Epoch 23/1000\n",
      "9/9 [==============================] - 1s 88ms/step - loss: 0.5792 - accuracy: 0.8391 - val_loss: 1.2516 - val_accuracy: 0.4828 - lr: 0.1000\n",
      "Epoch 24/1000\n",
      "9/9 [==============================] - 1s 92ms/step - loss: 0.3914 - accuracy: 0.9195 - val_loss: 1.1101 - val_accuracy: 0.5000 - lr: 0.1000\n",
      "Epoch 25/1000\n",
      "9/9 [==============================] - 1s 98ms/step - loss: 0.3288 - accuracy: 0.9655 - val_loss: 1.3234 - val_accuracy: 0.4655 - lr: 0.1000\n",
      "Epoch 26/1000\n",
      "9/9 [==============================] - 1s 88ms/step - loss: 0.3098 - accuracy: 0.9425 - val_loss: 1.4512 - val_accuracy: 0.4655 - lr: 0.0100\n",
      "Epoch 27/1000\n",
      "9/9 [==============================] - 1s 91ms/step - loss: 0.2527 - accuracy: 0.9828 - val_loss: 1.4971 - val_accuracy: 0.4655 - lr: 0.0100\n",
      "Epoch 28/1000\n",
      "9/9 [==============================] - 1s 89ms/step - loss: 0.2465 - accuracy: 0.9885 - val_loss: 1.5509 - val_accuracy: 0.4655 - lr: 0.0100\n",
      "Epoch 29/1000\n",
      "9/9 [==============================] - 1s 89ms/step - loss: 0.2201 - accuracy: 0.9943 - val_loss: 1.5590 - val_accuracy: 0.4655 - lr: 0.0100\n",
      "Epoch 30/1000\n",
      "9/9 [==============================] - 1s 97ms/step - loss: 0.2315 - accuracy: 0.9943 - val_loss: 1.5573 - val_accuracy: 0.4655 - lr: 0.0100\n",
      "Epoch 31/1000\n",
      "9/9 [==============================] - 1s 89ms/step - loss: 0.2146 - accuracy: 0.9943 - val_loss: 1.6089 - val_accuracy: 0.4655 - lr: 0.0100\n",
      "Epoch 32/1000\n",
      "9/9 [==============================] - 1s 91ms/step - loss: 0.2249 - accuracy: 0.9885 - val_loss: 1.5787 - val_accuracy: 0.4655 - lr: 0.0100\n",
      "Epoch 33/1000\n",
      "9/9 [==============================] - 1s 91ms/step - loss: 0.2227 - accuracy: 0.9943 - val_loss: 1.3932 - val_accuracy: 0.4655 - lr: 0.0100\n",
      "Epoch 34/1000\n",
      "9/9 [==============================] - 1s 90ms/step - loss: 0.2067 - accuracy: 1.0000 - val_loss: 1.4058 - val_accuracy: 0.4655 - lr: 0.0100\n",
      "Epoch 35/1000\n",
      "9/9 [==============================] - 1s 93ms/step - loss: 0.1991 - accuracy: 1.0000 - val_loss: 1.4561 - val_accuracy: 0.4655 - lr: 0.0100\n",
      "Epoch 36/1000\n",
      "9/9 [==============================] - 1s 91ms/step - loss: 0.2015 - accuracy: 1.0000 - val_loss: 1.4546 - val_accuracy: 0.4655 - lr: 1.0000e-03\n",
      "Epoch 37/1000\n",
      "9/9 [==============================] - 1s 93ms/step - loss: 0.2103 - accuracy: 0.9943 - val_loss: 1.4435 - val_accuracy: 0.5000 - lr: 1.0000e-03\n",
      "Epoch 38/1000\n",
      "9/9 [==============================] - 1s 88ms/step - loss: 0.2099 - accuracy: 0.9943 - val_loss: 1.4158 - val_accuracy: 0.5000 - lr: 1.0000e-03\n",
      "Epoch 39/1000\n",
      "9/9 [==============================] - 1s 94ms/step - loss: 0.1956 - accuracy: 1.0000 - val_loss: 1.4033 - val_accuracy: 0.5000 - lr: 1.0000e-03\n",
      "Epoch 40/1000\n",
      "9/9 [==============================] - 1s 95ms/step - loss: 0.1991 - accuracy: 1.0000 - val_loss: 1.3736 - val_accuracy: 0.5172 - lr: 1.0000e-03\n",
      "Epoch 41/1000\n",
      "9/9 [==============================] - 1s 88ms/step - loss: 0.1997 - accuracy: 1.0000 - val_loss: 1.3512 - val_accuracy: 0.5172 - lr: 1.0000e-03\n",
      "Epoch 42/1000\n",
      "9/9 [==============================] - 1s 92ms/step - loss: 0.1994 - accuracy: 1.0000 - val_loss: 1.3312 - val_accuracy: 0.5172 - lr: 1.0000e-03\n",
      "Epoch 43/1000\n",
      "9/9 [==============================] - 1s 88ms/step - loss: 0.1975 - accuracy: 1.0000 - val_loss: 1.3051 - val_accuracy: 0.5345 - lr: 1.0000e-03\n",
      "Epoch 44/1000\n",
      "9/9 [==============================] - 1s 85ms/step - loss: 0.2072 - accuracy: 1.0000 - val_loss: 1.2749 - val_accuracy: 0.5517 - lr: 1.0000e-03\n",
      "Epoch 45/1000\n",
      "9/9 [==============================] - 1s 96ms/step - loss: 0.2001 - accuracy: 1.0000 - val_loss: 1.2489 - val_accuracy: 0.5862 - lr: 1.0000e-03\n",
      "Epoch 46/1000\n",
      "9/9 [==============================] - 1s 92ms/step - loss: 0.1943 - accuracy: 1.0000 - val_loss: 1.2122 - val_accuracy: 0.5862 - lr: 1.0000e-04\n",
      "Epoch 47/1000\n",
      "9/9 [==============================] - 1s 90ms/step - loss: 0.2019 - accuracy: 1.0000 - val_loss: 1.1738 - val_accuracy: 0.6034 - lr: 1.0000e-04\n",
      "Epoch 48/1000\n",
      "9/9 [==============================] - 1s 90ms/step - loss: 0.1966 - accuracy: 1.0000 - val_loss: 1.1382 - val_accuracy: 0.6034 - lr: 1.0000e-04\n",
      "Epoch 49/1000\n",
      "9/9 [==============================] - 1s 90ms/step - loss: 0.2128 - accuracy: 0.9943 - val_loss: 1.1016 - val_accuracy: 0.6207 - lr: 1.0000e-04\n",
      "Epoch 50/1000\n",
      "9/9 [==============================] - 1s 91ms/step - loss: 0.2021 - accuracy: 0.9943 - val_loss: 1.0665 - val_accuracy: 0.6034 - lr: 1.0000e-04\n",
      "Epoch 51/1000\n",
      "9/9 [==============================] - 1s 92ms/step - loss: 0.2055 - accuracy: 1.0000 - val_loss: 1.0342 - val_accuracy: 0.6207 - lr: 1.0000e-04\n",
      "Epoch 52/1000\n",
      "9/9 [==============================] - 1s 88ms/step - loss: 0.2056 - accuracy: 1.0000 - val_loss: 1.0018 - val_accuracy: 0.6379 - lr: 1.0000e-04\n",
      "Epoch 53/1000\n",
      "9/9 [==============================] - 1s 88ms/step - loss: 0.1975 - accuracy: 1.0000 - val_loss: 0.9694 - val_accuracy: 0.6552 - lr: 1.0000e-04\n",
      "Epoch 54/1000\n",
      "9/9 [==============================] - 1s 96ms/step - loss: 0.1971 - accuracy: 1.0000 - val_loss: 0.9381 - val_accuracy: 0.6552 - lr: 1.0000e-04\n",
      "Epoch 55/1000\n",
      "9/9 [==============================] - 1s 90ms/step - loss: 0.2094 - accuracy: 0.9943 - val_loss: 0.9104 - val_accuracy: 0.6724 - lr: 1.0000e-04\n",
      "Epoch 56/1000\n",
      "9/9 [==============================] - 1s 94ms/step - loss: 0.1964 - accuracy: 1.0000 - val_loss: 0.8858 - val_accuracy: 0.7069 - lr: 1.0000e-05\n",
      "Epoch 57/1000\n",
      "9/9 [==============================] - 1s 91ms/step - loss: 0.2031 - accuracy: 1.0000 - val_loss: 0.8632 - val_accuracy: 0.7241 - lr: 1.0000e-05\n",
      "Epoch 58/1000\n",
      "9/9 [==============================] - 1s 88ms/step - loss: 0.1939 - accuracy: 1.0000 - val_loss: 0.8450 - val_accuracy: 0.7586 - lr: 1.0000e-05\n",
      "Epoch 59/1000\n",
      "9/9 [==============================] - 1s 94ms/step - loss: 0.1986 - accuracy: 1.0000 - val_loss: 0.8288 - val_accuracy: 0.7586 - lr: 1.0000e-05\n",
      "Epoch 60/1000\n",
      "9/9 [==============================] - 1s 94ms/step - loss: 0.1990 - accuracy: 1.0000 - val_loss: 0.8164 - val_accuracy: 0.7586 - lr: 1.0000e-05\n",
      "Epoch 61/1000\n",
      "9/9 [==============================] - 1s 96ms/step - loss: 0.1945 - accuracy: 1.0000 - val_loss: 0.8052 - val_accuracy: 0.7759 - lr: 1.0000e-05\n",
      "Epoch 62/1000\n",
      "9/9 [==============================] - 1s 88ms/step - loss: 0.2008 - accuracy: 1.0000 - val_loss: 0.7962 - val_accuracy: 0.7759 - lr: 1.0000e-05\n",
      "Epoch 63/1000\n",
      "9/9 [==============================] - 1s 90ms/step - loss: 0.2023 - accuracy: 1.0000 - val_loss: 0.7883 - val_accuracy: 0.7759 - lr: 1.0000e-05\n",
      "Epoch 64/1000\n",
      "9/9 [==============================] - 1s 90ms/step - loss: 0.1992 - accuracy: 1.0000 - val_loss: 0.7832 - val_accuracy: 0.7586 - lr: 1.0000e-05\n",
      "Epoch 65/1000\n",
      "9/9 [==============================] - 1s 90ms/step - loss: 0.1923 - accuracy: 1.0000 - val_loss: 0.7782 - val_accuracy: 0.7414 - lr: 1.0000e-05\n",
      "Epoch 66/1000\n",
      "9/9 [==============================] - 1s 97ms/step - loss: 0.2184 - accuracy: 0.9885 - val_loss: 0.7755 - val_accuracy: 0.7414 - lr: 1.0000e-06\n",
      "Epoch 67/1000\n",
      "9/9 [==============================] - 1s 91ms/step - loss: 0.2086 - accuracy: 0.9943 - val_loss: 0.7719 - val_accuracy: 0.7241 - lr: 1.0000e-06\n",
      "Epoch 68/1000\n",
      "9/9 [==============================] - 1s 90ms/step - loss: 0.1948 - accuracy: 1.0000 - val_loss: 0.7689 - val_accuracy: 0.7241 - lr: 1.0000e-06\n",
      "Epoch 69/1000\n",
      "9/9 [==============================] - 1s 88ms/step - loss: 0.1925 - accuracy: 1.0000 - val_loss: 0.7660 - val_accuracy: 0.7241 - lr: 1.0000e-06\n",
      "Epoch 70/1000\n",
      "9/9 [==============================] - 1s 89ms/step - loss: 0.2047 - accuracy: 1.0000 - val_loss: 0.7639 - val_accuracy: 0.7241 - lr: 1.0000e-06\n",
      "Epoch 71/1000\n",
      "9/9 [==============================] - 1s 93ms/step - loss: 0.1975 - accuracy: 1.0000 - val_loss: 0.7627 - val_accuracy: 0.7241 - lr: 1.0000e-06\n",
      "Epoch 72/1000\n",
      "9/9 [==============================] - 1s 90ms/step - loss: 0.1957 - accuracy: 1.0000 - val_loss: 0.7616 - val_accuracy: 0.7241 - lr: 1.0000e-06\n",
      "Epoch 73/1000\n",
      "9/9 [==============================] - 1s 90ms/step - loss: 0.1992 - accuracy: 1.0000 - val_loss: 0.7612 - val_accuracy: 0.7414 - lr: 1.0000e-06\n",
      "Epoch 74/1000\n",
      "9/9 [==============================] - 1s 96ms/step - loss: 0.1913 - accuracy: 1.0000 - val_loss: 0.7609 - val_accuracy: 0.7414 - lr: 1.0000e-06\n",
      "Epoch 75/1000\n",
      "9/9 [==============================] - 1s 92ms/step - loss: 0.2040 - accuracy: 1.0000 - val_loss: 0.7604 - val_accuracy: 0.7241 - lr: 1.0000e-06\n",
      "Epoch 76/1000\n",
      "9/9 [==============================] - 1s 96ms/step - loss: 0.1941 - accuracy: 1.0000 - val_loss: 0.7598 - val_accuracy: 0.7414 - lr: 1.0000e-07\n",
      "Epoch 77/1000\n",
      "9/9 [==============================] - 1s 89ms/step - loss: 0.2065 - accuracy: 1.0000 - val_loss: 0.7595 - val_accuracy: 0.7414 - lr: 1.0000e-07\n",
      "Epoch 78/1000\n",
      "9/9 [==============================] - 1s 88ms/step - loss: 0.1921 - accuracy: 1.0000 - val_loss: 0.7591 - val_accuracy: 0.7414 - lr: 1.0000e-07\n",
      "Epoch 79/1000\n",
      "9/9 [==============================] - 1s 92ms/step - loss: 0.2252 - accuracy: 1.0000 - val_loss: 0.7593 - val_accuracy: 0.7414 - lr: 1.0000e-07\n",
      "Epoch 80/1000\n",
      "9/9 [==============================] - 1s 88ms/step - loss: 0.1909 - accuracy: 1.0000 - val_loss: 0.7592 - val_accuracy: 0.7414 - lr: 1.0000e-07\n",
      "Epoch 81/1000\n",
      "9/9 [==============================] - 1s 97ms/step - loss: 0.1987 - accuracy: 1.0000 - val_loss: 0.7594 - val_accuracy: 0.7414 - lr: 1.0000e-07\n",
      "Epoch 82/1000\n",
      "9/9 [==============================] - 1s 86ms/step - loss: 0.1977 - accuracy: 1.0000 - val_loss: 0.7593 - val_accuracy: 0.7586 - lr: 1.0000e-07\n",
      "Epoch 83/1000\n",
      "9/9 [==============================] - 1s 91ms/step - loss: 0.1979 - accuracy: 1.0000 - val_loss: 0.7595 - val_accuracy: 0.7586 - lr: 1.0000e-07\n",
      "Epoch 84/1000\n",
      "9/9 [==============================] - 1s 88ms/step - loss: 0.2047 - accuracy: 1.0000 - val_loss: 0.7595 - val_accuracy: 0.7586 - lr: 1.0000e-07\n",
      "Epoch 85/1000\n",
      "9/9 [==============================] - 1s 90ms/step - loss: 0.1931 - accuracy: 1.0000 - val_loss: 0.7595 - val_accuracy: 0.7586 - lr: 1.0000e-07\n",
      "Epoch 86/1000\n",
      "9/9 [==============================] - 1s 95ms/step - loss: 0.1948 - accuracy: 1.0000 - val_loss: 0.7598 - val_accuracy: 0.7586 - lr: 1.0000e-08\n",
      "Epoch 87/1000\n",
      "9/9 [==============================] - 1s 89ms/step - loss: 0.2136 - accuracy: 0.9943 - val_loss: 0.7595 - val_accuracy: 0.7586 - lr: 1.0000e-08\n",
      "Epoch 88/1000\n",
      "9/9 [==============================] - 1s 94ms/step - loss: 0.1960 - accuracy: 1.0000 - val_loss: 0.7595 - val_accuracy: 0.7586 - lr: 1.0000e-08\n",
      "Epoch 89/1000\n",
      "9/9 [==============================] - 1s 90ms/step - loss: 0.1952 - accuracy: 1.0000 - val_loss: 0.7594 - val_accuracy: 0.7586 - lr: 1.0000e-08\n",
      "Epoch 90/1000\n",
      "9/9 [==============================] - 1s 91ms/step - loss: 0.1943 - accuracy: 1.0000 - val_loss: 0.7596 - val_accuracy: 0.7586 - lr: 1.0000e-08\n",
      "Epoch 91/1000\n",
      "9/9 [==============================] - 1s 96ms/step - loss: 0.2030 - accuracy: 1.0000 - val_loss: 0.7597 - val_accuracy: 0.7586 - lr: 1.0000e-08\n",
      "Epoch 92/1000\n",
      "9/9 [==============================] - 1s 91ms/step - loss: 0.1955 - accuracy: 1.0000 - val_loss: 0.7601 - val_accuracy: 0.7586 - lr: 1.0000e-08\n",
      "Epoch 93/1000\n",
      "9/9 [==============================] - 1s 89ms/step - loss: 0.1932 - accuracy: 1.0000 - val_loss: 0.7601 - val_accuracy: 0.7586 - lr: 1.0000e-08\n",
      "Epoch 94/1000\n",
      "9/9 [==============================] - 1s 92ms/step - loss: 0.1999 - accuracy: 1.0000 - val_loss: 0.7605 - val_accuracy: 0.7586 - lr: 1.0000e-08\n",
      "Epoch 95/1000\n",
      "9/9 [==============================] - 1s 89ms/step - loss: 0.1993 - accuracy: 1.0000 - val_loss: 0.7605 - val_accuracy: 0.7586 - lr: 1.0000e-08\n",
      "Epoch 96/1000\n",
      "9/9 [==============================] - 1s 90ms/step - loss: 0.2022 - accuracy: 1.0000 - val_loss: 0.7606 - val_accuracy: 0.7586 - lr: 1.0000e-09\n",
      "Epoch 97/1000\n",
      "9/9 [==============================] - 1s 91ms/step - loss: 0.2047 - accuracy: 1.0000 - val_loss: 0.7609 - val_accuracy: 0.7586 - lr: 1.0000e-09\n",
      "Epoch 98/1000\n",
      "9/9 [==============================] - 1s 94ms/step - loss: 0.1938 - accuracy: 1.0000 - val_loss: 0.7610 - val_accuracy: 0.7586 - lr: 1.0000e-09\n",
      "Epoch 99/1000\n",
      "9/9 [==============================] - 1s 94ms/step - loss: 0.2015 - accuracy: 1.0000 - val_loss: 0.7614 - val_accuracy: 0.7586 - lr: 1.0000e-09\n",
      "Epoch 100/1000\n",
      "9/9 [==============================] - 1s 93ms/step - loss: 0.2012 - accuracy: 1.0000 - val_loss: 0.7614 - val_accuracy: 0.7586 - lr: 1.0000e-09\n",
      "Epoch 101/1000\n",
      "9/9 [==============================] - 1s 90ms/step - loss: 0.2126 - accuracy: 0.9885 - val_loss: 0.7613 - val_accuracy: 0.7586 - lr: 1.0000e-09\n",
      "Epoch 102/1000\n",
      "9/9 [==============================] - 1s 90ms/step - loss: 0.1926 - accuracy: 1.0000 - val_loss: 0.7613 - val_accuracy: 0.7586 - lr: 1.0000e-09\n",
      "Epoch 103/1000\n",
      "9/9 [==============================] - 1s 91ms/step - loss: 0.1923 - accuracy: 1.0000 - val_loss: 0.7614 - val_accuracy: 0.7586 - lr: 1.0000e-09\n",
      "Epoch 104/1000\n",
      "9/9 [==============================] - 1s 88ms/step - loss: 0.1977 - accuracy: 1.0000 - val_loss: 0.7614 - val_accuracy: 0.7586 - lr: 1.0000e-09\n",
      "Epoch 105/1000\n",
      "9/9 [==============================] - 1s 95ms/step - loss: 0.1971 - accuracy: 1.0000 - val_loss: 0.7615 - val_accuracy: 0.7586 - lr: 1.0000e-09\n",
      "Epoch 106/1000\n",
      "9/9 [==============================] - 1s 88ms/step - loss: 0.2283 - accuracy: 0.9943 - val_loss: 0.7620 - val_accuracy: 0.7586 - lr: 1.0000e-10\n",
      "Epoch 107/1000\n",
      "9/9 [==============================] - 1s 93ms/step - loss: 0.1945 - accuracy: 1.0000 - val_loss: 0.7618 - val_accuracy: 0.7586 - lr: 1.0000e-10\n",
      "Epoch 108/1000\n",
      "9/9 [==============================] - 1s 88ms/step - loss: 0.2142 - accuracy: 0.9943 - val_loss: 0.7617 - val_accuracy: 0.7586 - lr: 1.0000e-10\n",
      "Epoch 109/1000\n",
      "9/9 [==============================] - 1s 95ms/step - loss: 0.1935 - accuracy: 1.0000 - val_loss: 0.7618 - val_accuracy: 0.7586 - lr: 1.0000e-10\n",
      "Epoch 110/1000\n",
      "9/9 [==============================] - 1s 92ms/step - loss: 0.2013 - accuracy: 1.0000 - val_loss: 0.7618 - val_accuracy: 0.7586 - lr: 1.0000e-10\n",
      "Epoch 111/1000\n",
      "9/9 [==============================] - 1s 89ms/step - loss: 0.1978 - accuracy: 1.0000 - val_loss: 0.7617 - val_accuracy: 0.7586 - lr: 1.0000e-10\n",
      "Epoch 112/1000\n",
      "9/9 [==============================] - 1s 91ms/step - loss: 0.1917 - accuracy: 1.0000 - val_loss: 0.7616 - val_accuracy: 0.7586 - lr: 1.0000e-10\n",
      "Epoch 113/1000\n",
      "9/9 [==============================] - 1s 92ms/step - loss: 0.2027 - accuracy: 1.0000 - val_loss: 0.7619 - val_accuracy: 0.7586 - lr: 1.0000e-10\n",
      "Epoch 114/1000\n",
      "9/9 [==============================] - 1s 95ms/step - loss: 0.1945 - accuracy: 1.0000 - val_loss: 0.7617 - val_accuracy: 0.7586 - lr: 1.0000e-10\n",
      "Epoch 115/1000\n",
      "9/9 [==============================] - 1s 87ms/step - loss: 0.1924 - accuracy: 1.0000 - val_loss: 0.7615 - val_accuracy: 0.7586 - lr: 1.0000e-10\n"
     ]
    }
   ],
   "source": [
    "epochs= 1000\n",
    "batch_size = 20\n",
    "history = model.fit(x_train, y_train,\n",
    "                    batch_size=batch_size,\n",
    "                    epochs=epochs,\n",
    "                    steps_per_epoch = round(len(x_train)/batch_size),\n",
    "                    verbose=1,\n",
    "                    validation_data=(x_val, y_val),\n",
    "                    validation_steps=round(len(x_val)/batch_size),\n",
    "                    callbacks=[reduce_on_plateau, early_stopping])"
   ]
  },
  {
   "cell_type": "code",
   "execution_count": 26,
   "metadata": {},
   "outputs": [
    {
     "data": {
      "image/png": "[encoded data removed]",
      "text/plain": [
       "<Figure size 1500x1500 with 2 Axes>"
      ]
     },
     "metadata": {},
     "output_type": "display_data"
    }
   ],
   "source": [
    "acc = history.history['accuracy']\n",
    "val_acc = history.history['val_accuracy']\n",
    "loss = history.history['loss']\n",
    "val_loss = history.history['val_loss']\n",
    "\n",
    "epochs_range = range(1, len(acc)+1)\n",
    "#Train and validation accuracy \n",
    "plt.figure(figsize=(15, 15))\n",
    "plt.subplot(2, 2, 1)\n",
    "plt.plot(epochs_range, acc, label='Training Accuracy')\n",
    "plt.plot(epochs_range, val_acc, label='Validation Accuracy')\n",
    "plt.legend(loc='lower right')\n",
    "plt.title('Training and Validation Accuracy')\n",
    "#Train and validation loss \n",
    "plt.subplot(2, 2, 2)\n",
    "plt.plot(epochs_range, loss, label='Training Loss')\n",
    "plt.plot(epochs_range, val_loss, label='Validation Loss')\n",
    "plt.legend(loc='upper right')\n",
    "plt.title('Training and Validation Loss')\n",
    "plt.show()"
   ]
  },
  {
   "cell_type": "code",
   "execution_count": 27,
   "metadata": {},
   "outputs": [
    {
     "name": "stdout",
     "output_type": "stream",
     "text": [
      "Validation accuracy: 0.759\n",
      "2/2 [==============================] - 0s 18ms/step\n",
      "AUC = 0.853\n"
     ]
    },
    {
     "data": {
      "image/png": "[encoded data removed]",
      "text/plain": [
       "<Figure size 640x480 with 1 Axes>"
      ]
     },
     "metadata": {},
     "output_type": "display_data"
    }
   ],
   "source": [
    "_, val_acc = model.evaluate(x_val, y_val, verbose=0)\n",
    "print('Validation accuracy: %.3f' % (val_acc))\n",
    "\n",
    "preds = model.predict(x_val, verbose=1)\n",
    "#Compute Receiver operating characteristic (ROC)\n",
    "fpr, tpr, _ = roc_curve(y_val, preds)\n",
    "roc_auc = auc(fpr, tpr)\n",
    "print('AUC = %.3f'% (roc_auc))\n",
    "\n",
    "#Plot of a ROC curve\n",
    "plt.figure()\n",
    "lw = 2\n",
    "plt.plot(fpr, tpr, color='darkorange', lw=lw, label='ROC curve (area = %0.2f)' % roc_auc)\n",
    "plt.plot([0, 1], [0, 1], color='navy', lw=lw, linestyle='--')\n",
    "plt.xlim([0.0, 1.0])\n",
    "plt.ylim([0.0, 1.05])\n",
    "plt.xlabel('False Positive Rate')\n",
    "plt.ylabel('True Positive Rate')\n",
    "plt.title('Accuracy ROC')\n",
    "plt.legend(loc=\"lower right\")\n",
    "plt.show()"
   ]
  },
  {
   "cell_type": "code",
   "execution_count": 28,
   "metadata": {},
   "outputs": [
    {
     "name": "stdout",
     "output_type": "stream",
     "text": [
      "2/2 [==============================] - 0s 27ms/step - loss: 0.7656 - accuracy: 0.7966\n",
      "\n",
      "Test accuracy: 0.797\n",
      "2/2 [==============================] - 0s 23ms/step\n",
      "AUC = 0.863\n"
     ]
    },
    {
     "data": {
      "image/png": "[encoded data removed]",
      "text/plain": [
       "<Figure size 640x480 with 1 Axes>"
      ]
     },
     "metadata": {},
     "output_type": "display_data"
    }
   ],
   "source": [
    "test_loss, test_acc = model.evaluate(x_test, y_test)\n",
    "print('\\nTest accuracy: %.3f' % (test_acc))\n",
    "\n",
    "preds_test = model.predict(x_test, verbose=1)\n",
    "fpr, tpr, _ = roc_curve(y_test, preds_test)\n",
    "roc_auc = auc(fpr, tpr)\n",
    "print('AUC = %.3f'% (roc_auc))\n",
    "\n",
    "plt.figure()\n",
    "lw = 2\n",
    "plt.plot(fpr, tpr, color='darkorange', lw=lw, label='ROC curve (area = %0.2f)' % roc_auc)\n",
    "plt.plot([0, 1], [0, 1], color='navy', lw=lw, linestyle='--')\n",
    "plt.xlim([0.0, 1.0])\n",
    "plt.ylim([0.0, 1.05])\n",
    "plt.xlabel('False Positive Rate')\n",
    "plt.ylabel('True Positive Rate')\n",
    "plt.title('Test ROC')\n",
    "plt.legend(loc=\"lower right\")\n",
    "plt.show()"
   ]
  }
 ],
 "metadata": {
  "kernelspec": {
   "display_name": "Python 3",
   "language": "python",
   "name": "python3"
  },
  "language_info": {
   "codemirror_mode": {
    "name": "ipython",
    "version": 3
   },
   "file_extension": ".py",
   "mimetype": "text/x-python",
   "name": "python",
   "nbconvert_exporter": "python",
   "pygments_lexer": "ipython3",
   "version": "3.10.7"
  },
  "orig_nbformat": 4
 },
 "nbformat": 4,
 "nbformat_minor": 2
}
