{
 "cells": [
  {
   "cell_type": "code",
   "execution_count": 82,
   "metadata": {},
   "outputs": [],
   "source": [
    "import os\n",
    "import numpy as np\n",
    "import reading \n",
    "from feature_extractor import feature_extractor\n",
    "import pandas as pd\n",
    "import matplotlib.pyplot as plt"
   ]
  },
  {
   "attachments": {},
   "cell_type": "markdown",
   "metadata": {},
   "source": [
    "Load dei Path, Con il sort giusto per far corrispondere i soggetti"
   ]
  },
  {
   "cell_type": "code",
   "execution_count": 5,
   "metadata": {},
   "outputs": [],
   "source": [
    "paths_FA= reading.data_path(\"Diffusion_parameters_maps-20230215T134959Z-001\",\"corrected_FA_image\")\n",
    "paths_masks=reading.data_path(\"Diffusion_space_segmentations-20230215T134839Z-001\",\"Diffusion_space_segmentations-20230215T134839Z-001\")\n",
    "\n",
    "\n",
    "#print((os.path.basename(paths_masks[0]).split('_')[2]))\n",
    "\n",
    "paths_FA.sort(key=lambda x: int(os.path.basename(x).split('_')[3]))\n",
    "paths_masks.sort(key=lambda x: int(os.path.basename(x).split('_')[2]))\n"
   ]
  },
  {
   "attachments": {},
   "cell_type": "markdown",
   "metadata": {},
   "source": [
    "Feature extraction"
   ]
  },
  {
   "cell_type": "code",
   "execution_count": 14,
   "metadata": {},
   "outputs": [],
   "source": [
    "region, mean, std=feature_extractor(paths_FA,paths_masks)\n"
   ]
  },
  {
   "attachments": {},
   "cell_type": "markdown",
   "metadata": {},
   "source": [
    "Reshape degli array per fare il Dataframe"
   ]
  },
  {
   "cell_type": "code",
   "execution_count": 15,
   "metadata": {},
   "outputs": [],
   "source": [
    "mean_t=np.transpose(mean)\n",
    "std_t=np.transpose(std)\n"
   ]
  },
  {
   "attachments": {},
   "cell_type": "markdown",
   "metadata": {},
   "source": [
    "Creo DataFrame per mean and std"
   ]
  },
  {
   "cell_type": "code",
   "execution_count": 16,
   "metadata": {},
   "outputs": [
    {
     "data": {
      "text/html": [
       "<div>\n",
       "<style scoped>\n",
       "    .dataframe tbody tr th:only-of-type {\n",
       "        vertical-align: middle;\n",
       "    }\n",
       "\n",
       "    .dataframe tbody tr th {\n",
       "        vertical-align: top;\n",
       "    }\n",
       "\n",
       "    .dataframe thead th {\n",
       "        text-align: right;\n",
       "    }\n",
       "</style>\n",
       "<table border=\"1\" class=\"dataframe\">\n",
       "  <thead>\n",
       "    <tr style=\"text-align: right;\">\n",
       "      <th></th>\n",
       "      <th>Left-Lateral-Ventricle</th>\n",
       "      <th>Left-Inf-Lat-Vent</th>\n",
       "      <th>Left-Cerebellum-White-Matter</th>\n",
       "      <th>Left-Cerebellum-Cortex</th>\n",
       "      <th>Left-Thalamus</th>\n",
       "      <th>Left-Caudate</th>\n",
       "      <th>Left-Putamen</th>\n",
       "      <th>Left-Pallidum</th>\n",
       "      <th>3rd-Ventricle</th>\n",
       "      <th>4th-Ventricle</th>\n",
       "      <th>...</th>\n",
       "      <th>wm-rh-superiorfrontal</th>\n",
       "      <th>wm-rh-superiorparietal</th>\n",
       "      <th>wm-rh-superiortemporal</th>\n",
       "      <th>wm-rh-supramarginal</th>\n",
       "      <th>wm-rh-frontalpole</th>\n",
       "      <th>wm-rh-temporalpole</th>\n",
       "      <th>wm-rh-transversetemporal</th>\n",
       "      <th>wm-rh-insula</th>\n",
       "      <th>Left-UnsegmentedWhiteMatter</th>\n",
       "      <th>Right-UnsegmentedWhiteMatter</th>\n",
       "    </tr>\n",
       "  </thead>\n",
       "  <tbody>\n",
       "    <tr>\n",
       "      <th>1.0</th>\n",
       "      <td>0.008558</td>\n",
       "      <td>0.109013</td>\n",
       "      <td>0.172291</td>\n",
       "      <td>0.260344</td>\n",
       "      <td>0.122025</td>\n",
       "      <td>0.236524</td>\n",
       "      <td>0.126373</td>\n",
       "      <td>0.228594</td>\n",
       "      <td>0.230439</td>\n",
       "      <td>0.107770</td>\n",
       "      <td>...</td>\n",
       "      <td>0.252780</td>\n",
       "      <td>0.217847</td>\n",
       "      <td>0.258662</td>\n",
       "      <td>0.268637</td>\n",
       "      <td>0.276182</td>\n",
       "      <td>0.214232</td>\n",
       "      <td>0.158717</td>\n",
       "      <td>0.367259</td>\n",
       "      <td>0.301571</td>\n",
       "      <td>0.328116</td>\n",
       "    </tr>\n",
       "    <tr>\n",
       "      <th>2.0</th>\n",
       "      <td>0.010137</td>\n",
       "      <td>0.107341</td>\n",
       "      <td>0.171492</td>\n",
       "      <td>0.299163</td>\n",
       "      <td>0.133621</td>\n",
       "      <td>0.256451</td>\n",
       "      <td>0.160723</td>\n",
       "      <td>0.226560</td>\n",
       "      <td>0.239494</td>\n",
       "      <td>0.118588</td>\n",
       "      <td>...</td>\n",
       "      <td>0.286469</td>\n",
       "      <td>0.253083</td>\n",
       "      <td>0.261861</td>\n",
       "      <td>0.238354</td>\n",
       "      <td>0.260860</td>\n",
       "      <td>0.178386</td>\n",
       "      <td>0.178781</td>\n",
       "      <td>0.357016</td>\n",
       "      <td>0.330572</td>\n",
       "      <td>0.366950</td>\n",
       "    </tr>\n",
       "    <tr>\n",
       "      <th>3.0</th>\n",
       "      <td>0.008196</td>\n",
       "      <td>0.133892</td>\n",
       "      <td>0.112614</td>\n",
       "      <td>0.262373</td>\n",
       "      <td>0.111241</td>\n",
       "      <td>0.247089</td>\n",
       "      <td>0.133506</td>\n",
       "      <td>0.211761</td>\n",
       "      <td>0.219353</td>\n",
       "      <td>0.106775</td>\n",
       "      <td>...</td>\n",
       "      <td>0.254498</td>\n",
       "      <td>0.258600</td>\n",
       "      <td>0.268107</td>\n",
       "      <td>0.245099</td>\n",
       "      <td>0.270796</td>\n",
       "      <td>0.149528</td>\n",
       "      <td>0.172897</td>\n",
       "      <td>0.257598</td>\n",
       "      <td>0.295915</td>\n",
       "      <td>0.337266</td>\n",
       "    </tr>\n",
       "    <tr>\n",
       "      <th>4.0</th>\n",
       "      <td>0.012099</td>\n",
       "      <td>0.114534</td>\n",
       "      <td>0.134856</td>\n",
       "      <td>0.289858</td>\n",
       "      <td>0.112977</td>\n",
       "      <td>0.243535</td>\n",
       "      <td>0.153650</td>\n",
       "      <td>0.230634</td>\n",
       "      <td>0.249325</td>\n",
       "      <td>0.080339</td>\n",
       "      <td>...</td>\n",
       "      <td>0.256776</td>\n",
       "      <td>0.215121</td>\n",
       "      <td>0.285465</td>\n",
       "      <td>0.257601</td>\n",
       "      <td>0.238565</td>\n",
       "      <td>0.191491</td>\n",
       "      <td>0.177666</td>\n",
       "      <td>0.226578</td>\n",
       "      <td>0.301181</td>\n",
       "      <td>0.359059</td>\n",
       "    </tr>\n",
       "    <tr>\n",
       "      <th>5.0</th>\n",
       "      <td>0.011768</td>\n",
       "      <td>0.105971</td>\n",
       "      <td>0.110494</td>\n",
       "      <td>0.269097</td>\n",
       "      <td>0.106641</td>\n",
       "      <td>0.248220</td>\n",
       "      <td>0.139430</td>\n",
       "      <td>0.246313</td>\n",
       "      <td>0.263455</td>\n",
       "      <td>0.106332</td>\n",
       "      <td>...</td>\n",
       "      <td>0.232970</td>\n",
       "      <td>0.210857</td>\n",
       "      <td>0.304468</td>\n",
       "      <td>0.250227</td>\n",
       "      <td>0.257328</td>\n",
       "      <td>0.252974</td>\n",
       "      <td>0.189921</td>\n",
       "      <td>0.272185</td>\n",
       "      <td>0.309642</td>\n",
       "      <td>0.373039</td>\n",
       "    </tr>\n",
       "  </tbody>\n",
       "</table>\n",
       "<p>5 rows × 176 columns</p>\n",
       "</div>"
      ],
      "text/plain": [
       "     Left-Lateral-Ventricle  Left-Inf-Lat-Vent  Left-Cerebellum-White-Matter  \\\n",
       "1.0                0.008558           0.109013                      0.172291   \n",
       "2.0                0.010137           0.107341                      0.171492   \n",
       "3.0                0.008196           0.133892                      0.112614   \n",
       "4.0                0.012099           0.114534                      0.134856   \n",
       "5.0                0.011768           0.105971                      0.110494   \n",
       "\n",
       "     Left-Cerebellum-Cortex  Left-Thalamus  Left-Caudate  Left-Putamen  \\\n",
       "1.0                0.260344       0.122025      0.236524      0.126373   \n",
       "2.0                0.299163       0.133621      0.256451      0.160723   \n",
       "3.0                0.262373       0.111241      0.247089      0.133506   \n",
       "4.0                0.289858       0.112977      0.243535      0.153650   \n",
       "5.0                0.269097       0.106641      0.248220      0.139430   \n",
       "\n",
       "     Left-Pallidum  3rd-Ventricle  4th-Ventricle  ...  wm-rh-superiorfrontal  \\\n",
       "1.0       0.228594       0.230439       0.107770  ...               0.252780   \n",
       "2.0       0.226560       0.239494       0.118588  ...               0.286469   \n",
       "3.0       0.211761       0.219353       0.106775  ...               0.254498   \n",
       "4.0       0.230634       0.249325       0.080339  ...               0.256776   \n",
       "5.0       0.246313       0.263455       0.106332  ...               0.232970   \n",
       "\n",
       "     wm-rh-superiorparietal  wm-rh-superiortemporal  wm-rh-supramarginal  \\\n",
       "1.0                0.217847                0.258662             0.268637   \n",
       "2.0                0.253083                0.261861             0.238354   \n",
       "3.0                0.258600                0.268107             0.245099   \n",
       "4.0                0.215121                0.285465             0.257601   \n",
       "5.0                0.210857                0.304468             0.250227   \n",
       "\n",
       "     wm-rh-frontalpole  wm-rh-temporalpole  wm-rh-transversetemporal  \\\n",
       "1.0           0.276182            0.214232                  0.158717   \n",
       "2.0           0.260860            0.178386                  0.178781   \n",
       "3.0           0.270796            0.149528                  0.172897   \n",
       "4.0           0.238565            0.191491                  0.177666   \n",
       "5.0           0.257328            0.252974                  0.189921   \n",
       "\n",
       "     wm-rh-insula  Left-UnsegmentedWhiteMatter  Right-UnsegmentedWhiteMatter  \n",
       "1.0      0.367259                     0.301571                      0.328116  \n",
       "2.0      0.357016                     0.330572                      0.366950  \n",
       "3.0      0.257598                     0.295915                      0.337266  \n",
       "4.0      0.226578                     0.301181                      0.359059  \n",
       "5.0      0.272185                     0.309642                      0.373039  \n",
       "\n",
       "[5 rows x 176 columns]"
      ]
     },
     "execution_count": 16,
     "metadata": {},
     "output_type": "execute_result"
    }
   ],
   "source": [
    "\n",
    "\n",
    "df_mean = pd.DataFrame(mean_t[1:,1:177],index=mean[0][1:98],columns=region[1:177])\n",
    "df_std=pd.DataFrame(std_t[1:,1:177],index=std[0][1:98],columns=region[1:177])\n",
    "\n",
    "df_mean.head()"
   ]
  },
  {
   "attachments": {},
   "cell_type": "markdown",
   "metadata": {},
   "source": [
    "Aggiungo i gruppi"
   ]
  },
  {
   "cell_type": "code",
   "execution_count": 39,
   "metadata": {},
   "outputs": [
    {
     "data": {
      "text/html": [
       "<div>\n",
       "<style scoped>\n",
       "    .dataframe tbody tr th:only-of-type {\n",
       "        vertical-align: middle;\n",
       "    }\n",
       "\n",
       "    .dataframe tbody tr th {\n",
       "        vertical-align: top;\n",
       "    }\n",
       "\n",
       "    .dataframe thead th {\n",
       "        text-align: right;\n",
       "    }\n",
       "</style>\n",
       "<table border=\"1\" class=\"dataframe\">\n",
       "  <thead>\n",
       "    <tr style=\"text-align: right;\">\n",
       "      <th></th>\n",
       "      <th>Subject</th>\n",
       "      <th>Group</th>\n",
       "      <th>Sex</th>\n",
       "      <th>Age</th>\n",
       "    </tr>\n",
       "  </thead>\n",
       "  <tbody>\n",
       "    <tr>\n",
       "      <th>67</th>\n",
       "      <td>4002</td>\n",
       "      <td>0</td>\n",
       "      <td>F</td>\n",
       "      <td>74.0</td>\n",
       "    </tr>\n",
       "    <tr>\n",
       "      <th>68</th>\n",
       "      <td>4003</td>\n",
       "      <td>0</td>\n",
       "      <td>F</td>\n",
       "      <td>72.0</td>\n",
       "    </tr>\n",
       "    <tr>\n",
       "      <th>28</th>\n",
       "      <td>4009</td>\n",
       "      <td>1</td>\n",
       "      <td>M</td>\n",
       "      <td>90.0</td>\n",
       "    </tr>\n",
       "    <tr>\n",
       "      <th>69</th>\n",
       "      <td>4018</td>\n",
       "      <td>0</td>\n",
       "      <td>M</td>\n",
       "      <td>76.0</td>\n",
       "    </tr>\n",
       "    <tr>\n",
       "      <th>70</th>\n",
       "      <td>4050</td>\n",
       "      <td>0</td>\n",
       "      <td>M</td>\n",
       "      <td>77.0</td>\n",
       "    </tr>\n",
       "  </tbody>\n",
       "</table>\n",
       "</div>"
      ],
      "text/plain": [
       "    Subject  Group Sex   Age\n",
       "67     4002      0   F  74.0\n",
       "68     4003      0   F  72.0\n",
       "28     4009      1   M  90.0\n",
       "69     4018      0   M  76.0\n",
       "70     4050      0   M  77.0"
      ]
     },
     "execution_count": 39,
     "metadata": {},
     "output_type": "execute_result"
    }
   ],
   "source": [
    "a=pd.DataFrame(pd.read_csv('/home/francesco/CompProject/ADNI_dataset_diffusion.csv'))\n",
    "a.sort_values(by=[\"Subject\"],inplace=True)\n",
    "group=a[\"Group\"]\n",
    "a.head()"
   ]
  },
  {
   "attachments": {},
   "cell_type": "markdown",
   "metadata": {},
   "source": [
    "Albero decisionale: creo i set e splitto"
   ]
  },
  {
   "cell_type": "code",
   "execution_count": 100,
   "metadata": {},
   "outputs": [],
   "source": [
    "from sklearn import tree\n",
    "from sklearn.model_selection import train_test_split\n",
    "\n",
    "\n",
    "X=df_mean.values\n",
    "y=group.values\n",
    "\n",
    "X_tr, X_tst, y_tr, y_tst = train_test_split(X, y, test_size=.2, random_state=0)\n",
    "\n"
   ]
  },
  {
   "attachments": {},
   "cell_type": "markdown",
   "metadata": {},
   "source": [
    "Fitto l'albero"
   ]
  },
  {
   "cell_type": "code",
   "execution_count": 101,
   "metadata": {},
   "outputs": [
    {
     "name": "stdout",
     "output_type": "stream",
     "text": [
      "[0 1 1 0 0 1 1 1 1 1 1 1 1 0 0 1 1 0 0 0]\n"
     ]
    }
   ],
   "source": [
    "\n",
    "clf = tree.DecisionTreeClassifier()\n",
    "\n",
    "y_score = clf.fit(X_tr, y_tr).predict(X_tst)\n",
    "\n",
    "#tree.plot_tree(clf)\n",
    "print(y_score)\n"
   ]
  },
  {
   "cell_type": "code",
   "execution_count": 103,
   "metadata": {},
   "outputs": [
    {
     "name": "stdout",
     "output_type": "stream",
     "text": [
      "0.6414141414141414\n"
     ]
    }
   ],
   "source": [
    "import sklearn.metrics \n",
    "print(sklearn.metrics.roc_auc_score(y_tst, y_score))\n",
    "fpr,tpr,thre = sklearn.metrics.roc_curve(y_tst, y_score)"
   ]
  },
  {
   "attachments": {},
   "cell_type": "markdown",
   "metadata": {},
   "source": [
    "PLotto l'albero decisionale"
   ]
  },
  {
   "cell_type": "code",
   "execution_count": 102,
   "metadata": {},
   "outputs": [],
   "source": [
    "import graphviz \n",
    "dot_data = tree.export_graphviz(clf, out_file=None) \n",
    "graph = graphviz.Source(dot_data) \n",
    "#graph.render(\"iris\") "
   ]
  },
  {
   "cell_type": "code",
   "execution_count": 104,
   "metadata": {},
   "outputs": [
    {
     "data": {
      "image/svg+xml": "<?xml version=\"1.0\" encoding=\"UTF-8\" standalone=\"no\"?>\n<!DOCTYPE svg PUBLIC \"-//W3C//DTD SVG 1.1//EN\"\n \"http://www.w3.org/Graphics/SVG/1.1/DTD/svg11.dtd\">\n<!-- Generated by graphviz version 2.43.0 (0)\n -->\n<!-- Title: Tree Pages: 1 -->\n<svg width=\"858pt\" height=\"790pt\"\n viewBox=\"0.00 0.00 858.00 790.00\" xmlns=\"http://www.w3.org/2000/svg\" xmlns:xlink=\"http://www.w3.org/1999/xlink\">\n<g id=\"graph0\" class=\"graph\" transform=\"scale(1 1) rotate(0) translate(4 786)\">\n<title>Tree</title>\n<polygon fill=\"white\" stroke=\"transparent\" points=\"-4,4 -4,-786 854,-786 854,4 -4,4\"/>\n<!-- 0 -->\n<g id=\"node1\" class=\"node\">\n<title>0</title>\n<path fill=\"#fcf0e7\" stroke=\"black\" d=\"M378,-782C378,-782 202,-782 202,-782 196,-782 190,-776 190,-770 190,-770 190,-711 190,-711 190,-705 196,-699 202,-699 202,-699 378,-699 378,-699 384,-699 390,-705 390,-711 390,-711 390,-770 390,-770 390,-776 384,-782 378,-782\"/>\n<text text-anchor=\"start\" x=\"198\" y=\"-766.8\" font-family=\"Helvetica,sans-Serif\" font-size=\"14.00\">Right&#45;Inf&#45;Lat&#45;Vent ≤ 0.101</text>\n<text text-anchor=\"start\" x=\"246\" y=\"-751.8\" font-family=\"Helvetica,sans-Serif\" font-size=\"14.00\">gini = 0.498</text>\n<text text-anchor=\"start\" x=\"241.5\" y=\"-736.8\" font-family=\"Helvetica,sans-Serif\" font-size=\"14.00\">samples = 77</text>\n<text text-anchor=\"start\" x=\"232.5\" y=\"-721.8\" font-family=\"Helvetica,sans-Serif\" font-size=\"14.00\">value = [41, 36]</text>\n<text text-anchor=\"start\" x=\"252\" y=\"-706.8\" font-family=\"Helvetica,sans-Serif\" font-size=\"14.00\">class = CN</text>\n</g>\n<!-- 1 -->\n<g id=\"node2\" class=\"node\">\n<title>1</title>\n<path fill=\"#46a4e7\" stroke=\"black\" d=\"M261,-663C261,-663 81,-663 81,-663 75,-663 69,-657 69,-651 69,-651 69,-592 69,-592 69,-586 75,-580 81,-580 81,-580 261,-580 261,-580 267,-580 273,-586 273,-592 273,-592 273,-651 273,-651 273,-657 267,-663 261,-663\"/>\n<text text-anchor=\"start\" x=\"77\" y=\"-647.8\" font-family=\"Helvetica,sans-Serif\" font-size=\"14.00\">Left&#45;Hippocampus ≤ 0.356</text>\n<text text-anchor=\"start\" x=\"127\" y=\"-632.8\" font-family=\"Helvetica,sans-Serif\" font-size=\"14.00\">gini = 0.117</text>\n<text text-anchor=\"start\" x=\"122.5\" y=\"-617.8\" font-family=\"Helvetica,sans-Serif\" font-size=\"14.00\">samples = 16</text>\n<text text-anchor=\"start\" x=\"118\" y=\"-602.8\" font-family=\"Helvetica,sans-Serif\" font-size=\"14.00\">value = [1, 15]</text>\n<text text-anchor=\"start\" x=\"133\" y=\"-587.8\" font-family=\"Helvetica,sans-Serif\" font-size=\"14.00\">class = AD</text>\n</g>\n<!-- 0&#45;&gt;1 -->\n<g id=\"edge1\" class=\"edge\">\n<title>0&#45;&gt;1</title>\n<path fill=\"none\" stroke=\"black\" d=\"M248.71,-698.91C239.3,-689.65 229.21,-679.73 219.52,-670.21\"/>\n<polygon fill=\"black\" stroke=\"black\" points=\"221.8,-667.54 212.21,-663.02 216.89,-672.53 221.8,-667.54\"/>\n<text text-anchor=\"middle\" x=\"212.43\" y=\"-684.32\" font-family=\"Helvetica,sans-Serif\" font-size=\"14.00\">True</text>\n</g>\n<!-- 4 -->\n<g id=\"node5\" class=\"node\">\n<title>4</title>\n<path fill=\"#f3c3a1\" stroke=\"black\" d=\"M517,-663C517,-663 303,-663 303,-663 297,-663 291,-657 291,-651 291,-651 291,-592 291,-592 291,-586 297,-580 303,-580 303,-580 517,-580 517,-580 523,-580 529,-586 529,-592 529,-592 529,-651 529,-651 529,-657 523,-663 517,-663\"/>\n<text text-anchor=\"start\" x=\"299\" y=\"-647.8\" font-family=\"Helvetica,sans-Serif\" font-size=\"14.00\">wm&#45;lh&#45;parahippocampal ≤ 0.23</text>\n<text text-anchor=\"start\" x=\"366\" y=\"-632.8\" font-family=\"Helvetica,sans-Serif\" font-size=\"14.00\">gini = 0.451</text>\n<text text-anchor=\"start\" x=\"361.5\" y=\"-617.8\" font-family=\"Helvetica,sans-Serif\" font-size=\"14.00\">samples = 61</text>\n<text text-anchor=\"start\" x=\"352.5\" y=\"-602.8\" font-family=\"Helvetica,sans-Serif\" font-size=\"14.00\">value = [40, 21]</text>\n<text text-anchor=\"start\" x=\"372\" y=\"-587.8\" font-family=\"Helvetica,sans-Serif\" font-size=\"14.00\">class = CN</text>\n</g>\n<!-- 0&#45;&gt;4 -->\n<g id=\"edge4\" class=\"edge\">\n<title>0&#45;&gt;4</title>\n<path fill=\"none\" stroke=\"black\" d=\"M331.63,-698.91C341.13,-689.65 351.3,-679.73 361.07,-670.21\"/>\n<polygon fill=\"black\" stroke=\"black\" points=\"363.72,-672.51 368.44,-663.02 358.84,-667.5 363.72,-672.51\"/>\n<text text-anchor=\"middle\" x=\"368.12\" y=\"-684.32\" font-family=\"Helvetica,sans-Serif\" font-size=\"14.00\">False</text>\n</g>\n<!-- 2 -->\n<g id=\"node3\" class=\"node\">\n<title>2</title>\n<path fill=\"#399de5\" stroke=\"black\" d=\"M110,-536.5C110,-536.5 12,-536.5 12,-536.5 6,-536.5 0,-530.5 0,-524.5 0,-524.5 0,-480.5 0,-480.5 0,-474.5 6,-468.5 12,-468.5 12,-468.5 110,-468.5 110,-468.5 116,-468.5 122,-474.5 122,-480.5 122,-480.5 122,-524.5 122,-524.5 122,-530.5 116,-536.5 110,-536.5\"/>\n<text text-anchor=\"start\" x=\"26\" y=\"-521.3\" font-family=\"Helvetica,sans-Serif\" font-size=\"14.00\">gini = 0.0</text>\n<text text-anchor=\"start\" x=\"12.5\" y=\"-506.3\" font-family=\"Helvetica,sans-Serif\" font-size=\"14.00\">samples = 15</text>\n<text text-anchor=\"start\" x=\"8\" y=\"-491.3\" font-family=\"Helvetica,sans-Serif\" font-size=\"14.00\">value = [0, 15]</text>\n<text text-anchor=\"start\" x=\"23\" y=\"-476.3\" font-family=\"Helvetica,sans-Serif\" font-size=\"14.00\">class = AD</text>\n</g>\n<!-- 1&#45;&gt;2 -->\n<g id=\"edge2\" class=\"edge\">\n<title>1&#45;&gt;2</title>\n<path fill=\"none\" stroke=\"black\" d=\"M132.84,-579.91C121.94,-568.32 110.07,-555.7 99.18,-544.11\"/>\n<polygon fill=\"black\" stroke=\"black\" points=\"101.58,-541.56 92.18,-536.67 96.48,-546.35 101.58,-541.56\"/>\n</g>\n<!-- 3 -->\n<g id=\"node4\" class=\"node\">\n<title>3</title>\n<path fill=\"#e58139\" stroke=\"black\" d=\"M241.5,-536.5C241.5,-536.5 152.5,-536.5 152.5,-536.5 146.5,-536.5 140.5,-530.5 140.5,-524.5 140.5,-524.5 140.5,-480.5 140.5,-480.5 140.5,-474.5 146.5,-468.5 152.5,-468.5 152.5,-468.5 241.5,-468.5 241.5,-468.5 247.5,-468.5 253.5,-474.5 253.5,-480.5 253.5,-480.5 253.5,-524.5 253.5,-524.5 253.5,-530.5 247.5,-536.5 241.5,-536.5\"/>\n<text text-anchor=\"start\" x=\"162\" y=\"-521.3\" font-family=\"Helvetica,sans-Serif\" font-size=\"14.00\">gini = 0.0</text>\n<text text-anchor=\"start\" x=\"153\" y=\"-506.3\" font-family=\"Helvetica,sans-Serif\" font-size=\"14.00\">samples = 1</text>\n<text text-anchor=\"start\" x=\"148.5\" y=\"-491.3\" font-family=\"Helvetica,sans-Serif\" font-size=\"14.00\">value = [1, 0]</text>\n<text text-anchor=\"start\" x=\"159\" y=\"-476.3\" font-family=\"Helvetica,sans-Serif\" font-size=\"14.00\">class = CN</text>\n</g>\n<!-- 1&#45;&gt;3 -->\n<g id=\"edge3\" class=\"edge\">\n<title>1&#45;&gt;3</title>\n<path fill=\"none\" stroke=\"black\" d=\"M180.02,-579.91C182.42,-569.09 185.03,-557.38 187.46,-546.44\"/>\n<polygon fill=\"black\" stroke=\"black\" points=\"190.88,-547.19 189.63,-536.67 184.04,-545.67 190.88,-547.19\"/>\n</g>\n<!-- 5 -->\n<g id=\"node6\" class=\"node\">\n<title>5</title>\n<path fill=\"#399de5\" stroke=\"black\" d=\"M433,-536.5C433,-536.5 335,-536.5 335,-536.5 329,-536.5 323,-530.5 323,-524.5 323,-524.5 323,-480.5 323,-480.5 323,-474.5 329,-468.5 335,-468.5 335,-468.5 433,-468.5 433,-468.5 439,-468.5 445,-474.5 445,-480.5 445,-480.5 445,-524.5 445,-524.5 445,-530.5 439,-536.5 433,-536.5\"/>\n<text text-anchor=\"start\" x=\"349\" y=\"-521.3\" font-family=\"Helvetica,sans-Serif\" font-size=\"14.00\">gini = 0.0</text>\n<text text-anchor=\"start\" x=\"335.5\" y=\"-506.3\" font-family=\"Helvetica,sans-Serif\" font-size=\"14.00\">samples = 10</text>\n<text text-anchor=\"start\" x=\"331\" y=\"-491.3\" font-family=\"Helvetica,sans-Serif\" font-size=\"14.00\">value = [0, 10]</text>\n<text text-anchor=\"start\" x=\"346\" y=\"-476.3\" font-family=\"Helvetica,sans-Serif\" font-size=\"14.00\">class = AD</text>\n</g>\n<!-- 4&#45;&gt;5 -->\n<g id=\"edge5\" class=\"edge\">\n<title>4&#45;&gt;5</title>\n<path fill=\"none\" stroke=\"black\" d=\"M400.98,-579.91C398.58,-569.09 395.97,-557.38 393.54,-546.44\"/>\n<polygon fill=\"black\" stroke=\"black\" points=\"396.96,-545.67 391.37,-536.67 390.12,-547.19 396.96,-545.67\"/>\n</g>\n<!-- 6 -->\n<g id=\"node7\" class=\"node\">\n<title>6</title>\n<path fill=\"#eca46f\" stroke=\"black\" d=\"M639,-544C639,-544 475,-544 475,-544 469,-544 463,-538 463,-532 463,-532 463,-473 463,-473 463,-467 469,-461 475,-461 475,-461 639,-461 639,-461 645,-461 651,-467 651,-473 651,-473 651,-532 651,-532 651,-538 645,-544 639,-544\"/>\n<text text-anchor=\"start\" x=\"471\" y=\"-528.8\" font-family=\"Helvetica,sans-Serif\" font-size=\"14.00\">ctx&#45;rh&#45;unknown ≤ 0.092</text>\n<text text-anchor=\"start\" x=\"513\" y=\"-513.8\" font-family=\"Helvetica,sans-Serif\" font-size=\"14.00\">gini = 0.338</text>\n<text text-anchor=\"start\" x=\"508.5\" y=\"-498.8\" font-family=\"Helvetica,sans-Serif\" font-size=\"14.00\">samples = 51</text>\n<text text-anchor=\"start\" x=\"499.5\" y=\"-483.8\" font-family=\"Helvetica,sans-Serif\" font-size=\"14.00\">value = [40, 11]</text>\n<text text-anchor=\"start\" x=\"519\" y=\"-468.8\" font-family=\"Helvetica,sans-Serif\" font-size=\"14.00\">class = CN</text>\n</g>\n<!-- 4&#45;&gt;6 -->\n<g id=\"edge6\" class=\"edge\">\n<title>4&#45;&gt;6</title>\n<path fill=\"none\" stroke=\"black\" d=\"M461,-579.91C472.97,-570.38 485.83,-560.15 498.11,-550.37\"/>\n<polygon fill=\"black\" stroke=\"black\" points=\"500.44,-552.99 506.09,-544.02 496.09,-547.51 500.44,-552.99\"/>\n</g>\n<!-- 7 -->\n<g id=\"node8\" class=\"node\">\n<title>7</title>\n<path fill=\"#399de5\" stroke=\"black\" d=\"M502.5,-417.5C502.5,-417.5 413.5,-417.5 413.5,-417.5 407.5,-417.5 401.5,-411.5 401.5,-405.5 401.5,-405.5 401.5,-361.5 401.5,-361.5 401.5,-355.5 407.5,-349.5 413.5,-349.5 413.5,-349.5 502.5,-349.5 502.5,-349.5 508.5,-349.5 514.5,-355.5 514.5,-361.5 514.5,-361.5 514.5,-405.5 514.5,-405.5 514.5,-411.5 508.5,-417.5 502.5,-417.5\"/>\n<text text-anchor=\"start\" x=\"423\" y=\"-402.3\" font-family=\"Helvetica,sans-Serif\" font-size=\"14.00\">gini = 0.0</text>\n<text text-anchor=\"start\" x=\"414\" y=\"-387.3\" font-family=\"Helvetica,sans-Serif\" font-size=\"14.00\">samples = 4</text>\n<text text-anchor=\"start\" x=\"409.5\" y=\"-372.3\" font-family=\"Helvetica,sans-Serif\" font-size=\"14.00\">value = [0, 4]</text>\n<text text-anchor=\"start\" x=\"420\" y=\"-357.3\" font-family=\"Helvetica,sans-Serif\" font-size=\"14.00\">class = AD</text>\n</g>\n<!-- 6&#45;&gt;7 -->\n<g id=\"edge7\" class=\"edge\">\n<title>6&#45;&gt;7</title>\n<path fill=\"none\" stroke=\"black\" d=\"M522.65,-460.91C512.94,-449.43 502.37,-436.94 492.64,-425.44\"/>\n<polygon fill=\"black\" stroke=\"black\" points=\"495.2,-423.04 486.06,-417.67 489.85,-427.56 495.2,-423.04\"/>\n</g>\n<!-- 8 -->\n<g id=\"node9\" class=\"node\">\n<title>8</title>\n<path fill=\"#ea975c\" stroke=\"black\" d=\"M767.5,-425C767.5,-425 544.5,-425 544.5,-425 538.5,-425 532.5,-419 532.5,-413 532.5,-413 532.5,-354 532.5,-354 532.5,-348 538.5,-342 544.5,-342 544.5,-342 767.5,-342 767.5,-342 773.5,-342 779.5,-348 779.5,-354 779.5,-354 779.5,-413 779.5,-413 779.5,-419 773.5,-425 767.5,-425\"/>\n<text text-anchor=\"start\" x=\"540.5\" y=\"-409.8\" font-family=\"Helvetica,sans-Serif\" font-size=\"14.00\">wm&#45;rh&#45;isthmuscingulate ≤ 0.279</text>\n<text text-anchor=\"start\" x=\"612\" y=\"-394.8\" font-family=\"Helvetica,sans-Serif\" font-size=\"14.00\">gini = 0.254</text>\n<text text-anchor=\"start\" x=\"607.5\" y=\"-379.8\" font-family=\"Helvetica,sans-Serif\" font-size=\"14.00\">samples = 47</text>\n<text text-anchor=\"start\" x=\"603\" y=\"-364.8\" font-family=\"Helvetica,sans-Serif\" font-size=\"14.00\">value = [40, 7]</text>\n<text text-anchor=\"start\" x=\"618\" y=\"-349.8\" font-family=\"Helvetica,sans-Serif\" font-size=\"14.00\">class = CN</text>\n</g>\n<!-- 6&#45;&gt;8 -->\n<g id=\"edge8\" class=\"edge\">\n<title>6&#45;&gt;8</title>\n<path fill=\"none\" stroke=\"black\" d=\"M591.35,-460.91C599.03,-451.83 607.24,-442.12 615.16,-432.77\"/>\n<polygon fill=\"black\" stroke=\"black\" points=\"617.93,-434.92 621.71,-425.02 612.58,-430.39 617.93,-434.92\"/>\n</g>\n<!-- 9 -->\n<g id=\"node10\" class=\"node\">\n<title>9</title>\n<path fill=\"#e88e4d\" stroke=\"black\" d=\"M669,-306C669,-306 445,-306 445,-306 439,-306 433,-300 433,-294 433,-294 433,-235 433,-235 433,-229 439,-223 445,-223 445,-223 669,-223 669,-223 675,-223 681,-229 681,-235 681,-235 681,-294 681,-294 681,-300 675,-306 669,-306\"/>\n<text text-anchor=\"start\" x=\"441\" y=\"-290.8\" font-family=\"Helvetica,sans-Serif\" font-size=\"14.00\">wm&#45;rh&#45;superiortemporal ≤ 0.249</text>\n<text text-anchor=\"start\" x=\"513\" y=\"-275.8\" font-family=\"Helvetica,sans-Serif\" font-size=\"14.00\">gini = 0.165</text>\n<text text-anchor=\"start\" x=\"508.5\" y=\"-260.8\" font-family=\"Helvetica,sans-Serif\" font-size=\"14.00\">samples = 44</text>\n<text text-anchor=\"start\" x=\"504\" y=\"-245.8\" font-family=\"Helvetica,sans-Serif\" font-size=\"14.00\">value = [40, 4]</text>\n<text text-anchor=\"start\" x=\"519\" y=\"-230.8\" font-family=\"Helvetica,sans-Serif\" font-size=\"14.00\">class = CN</text>\n</g>\n<!-- 8&#45;&gt;9 -->\n<g id=\"edge9\" class=\"edge\">\n<title>8&#45;&gt;9</title>\n<path fill=\"none\" stroke=\"black\" d=\"M621.65,-341.91C613.97,-332.83 605.76,-323.12 597.84,-313.77\"/>\n<polygon fill=\"black\" stroke=\"black\" points=\"600.42,-311.39 591.29,-306.02 595.07,-315.92 600.42,-311.39\"/>\n</g>\n<!-- 16 -->\n<g id=\"node17\" class=\"node\">\n<title>16</title>\n<path fill=\"#399de5\" stroke=\"black\" d=\"M800.5,-298.5C800.5,-298.5 711.5,-298.5 711.5,-298.5 705.5,-298.5 699.5,-292.5 699.5,-286.5 699.5,-286.5 699.5,-242.5 699.5,-242.5 699.5,-236.5 705.5,-230.5 711.5,-230.5 711.5,-230.5 800.5,-230.5 800.5,-230.5 806.5,-230.5 812.5,-236.5 812.5,-242.5 812.5,-242.5 812.5,-286.5 812.5,-286.5 812.5,-292.5 806.5,-298.5 800.5,-298.5\"/>\n<text text-anchor=\"start\" x=\"721\" y=\"-283.3\" font-family=\"Helvetica,sans-Serif\" font-size=\"14.00\">gini = 0.0</text>\n<text text-anchor=\"start\" x=\"712\" y=\"-268.3\" font-family=\"Helvetica,sans-Serif\" font-size=\"14.00\">samples = 3</text>\n<text text-anchor=\"start\" x=\"707.5\" y=\"-253.3\" font-family=\"Helvetica,sans-Serif\" font-size=\"14.00\">value = [0, 3]</text>\n<text text-anchor=\"start\" x=\"718\" y=\"-238.3\" font-family=\"Helvetica,sans-Serif\" font-size=\"14.00\">class = AD</text>\n</g>\n<!-- 8&#45;&gt;16 -->\n<g id=\"edge16\" class=\"edge\">\n<title>8&#45;&gt;16</title>\n<path fill=\"none\" stroke=\"black\" d=\"M690.69,-341.91C700.5,-330.43 711.18,-317.94 721.01,-306.44\"/>\n<polygon fill=\"black\" stroke=\"black\" points=\"723.82,-308.54 727.65,-298.67 718.49,-303.99 723.82,-308.54\"/>\n</g>\n<!-- 10 -->\n<g id=\"node11\" class=\"node\">\n<title>10</title>\n<path fill=\"#bddef6\" stroke=\"black\" d=\"M536,-187C536,-187 326,-187 326,-187 320,-187 314,-181 314,-175 314,-175 314,-116 314,-116 314,-110 320,-104 326,-104 326,-104 536,-104 536,-104 542,-104 548,-110 548,-116 548,-116 548,-175 548,-175 548,-181 542,-187 536,-187\"/>\n<text text-anchor=\"start\" x=\"322\" y=\"-171.8\" font-family=\"Helvetica,sans-Serif\" font-size=\"14.00\">ctx&#45;rh&#45;superiorparietal ≤ 0.093</text>\n<text text-anchor=\"start\" x=\"391.5\" y=\"-156.8\" font-family=\"Helvetica,sans-Serif\" font-size=\"14.00\">gini = 0.48</text>\n<text text-anchor=\"start\" x=\"387\" y=\"-141.8\" font-family=\"Helvetica,sans-Serif\" font-size=\"14.00\">samples = 5</text>\n<text text-anchor=\"start\" x=\"382.5\" y=\"-126.8\" font-family=\"Helvetica,sans-Serif\" font-size=\"14.00\">value = [2, 3]</text>\n<text text-anchor=\"start\" x=\"393\" y=\"-111.8\" font-family=\"Helvetica,sans-Serif\" font-size=\"14.00\">class = AD</text>\n</g>\n<!-- 9&#45;&gt;10 -->\n<g id=\"edge10\" class=\"edge\">\n<title>9&#45;&gt;10</title>\n<path fill=\"none\" stroke=\"black\" d=\"M513.28,-222.91C503.22,-213.56 492.43,-203.54 482.08,-193.93\"/>\n<polygon fill=\"black\" stroke=\"black\" points=\"484.35,-191.26 474.64,-187.02 479.58,-196.39 484.35,-191.26\"/>\n</g>\n<!-- 13 -->\n<g id=\"node14\" class=\"node\">\n<title>13</title>\n<path fill=\"#e6843e\" stroke=\"black\" d=\"M787.5,-187C787.5,-187 578.5,-187 578.5,-187 572.5,-187 566.5,-181 566.5,-175 566.5,-175 566.5,-116 566.5,-116 566.5,-110 572.5,-104 578.5,-104 578.5,-104 787.5,-104 787.5,-104 793.5,-104 799.5,-110 799.5,-116 799.5,-116 799.5,-175 799.5,-175 799.5,-181 793.5,-187 787.5,-187\"/>\n<text text-anchor=\"start\" x=\"574.5\" y=\"-171.8\" font-family=\"Helvetica,sans-Serif\" font-size=\"14.00\">ctx&#45;lh&#45;parstriangularis ≤ 0.085</text>\n<text text-anchor=\"start\" x=\"643.5\" y=\"-156.8\" font-family=\"Helvetica,sans-Serif\" font-size=\"14.00\">gini = 0.05</text>\n<text text-anchor=\"start\" x=\"634.5\" y=\"-141.8\" font-family=\"Helvetica,sans-Serif\" font-size=\"14.00\">samples = 39</text>\n<text text-anchor=\"start\" x=\"630\" y=\"-126.8\" font-family=\"Helvetica,sans-Serif\" font-size=\"14.00\">value = [38, 1]</text>\n<text text-anchor=\"start\" x=\"645\" y=\"-111.8\" font-family=\"Helvetica,sans-Serif\" font-size=\"14.00\">class = CN</text>\n</g>\n<!-- 9&#45;&gt;13 -->\n<g id=\"edge13\" class=\"edge\">\n<title>9&#45;&gt;13</title>\n<path fill=\"none\" stroke=\"black\" d=\"M600.72,-222.91C610.78,-213.56 621.57,-203.54 631.92,-193.93\"/>\n<polygon fill=\"black\" stroke=\"black\" points=\"634.42,-196.39 639.36,-187.02 629.65,-191.26 634.42,-196.39\"/>\n</g>\n<!-- 11 -->\n<g id=\"node12\" class=\"node\">\n<title>11</title>\n<path fill=\"#e58139\" stroke=\"black\" d=\"M375.5,-68C375.5,-68 286.5,-68 286.5,-68 280.5,-68 274.5,-62 274.5,-56 274.5,-56 274.5,-12 274.5,-12 274.5,-6 280.5,0 286.5,0 286.5,0 375.5,0 375.5,0 381.5,0 387.5,-6 387.5,-12 387.5,-12 387.5,-56 387.5,-56 387.5,-62 381.5,-68 375.5,-68\"/>\n<text text-anchor=\"start\" x=\"296\" y=\"-52.8\" font-family=\"Helvetica,sans-Serif\" font-size=\"14.00\">gini = 0.0</text>\n<text text-anchor=\"start\" x=\"287\" y=\"-37.8\" font-family=\"Helvetica,sans-Serif\" font-size=\"14.00\">samples = 2</text>\n<text text-anchor=\"start\" x=\"282.5\" y=\"-22.8\" font-family=\"Helvetica,sans-Serif\" font-size=\"14.00\">value = [2, 0]</text>\n<text text-anchor=\"start\" x=\"293\" y=\"-7.8\" font-family=\"Helvetica,sans-Serif\" font-size=\"14.00\">class = CN</text>\n</g>\n<!-- 10&#45;&gt;11 -->\n<g id=\"edge11\" class=\"edge\">\n<title>10&#45;&gt;11</title>\n<path fill=\"none\" stroke=\"black\" d=\"M393.76,-103.73C385.43,-94.61 376.6,-84.93 368.27,-75.81\"/>\n<polygon fill=\"black\" stroke=\"black\" points=\"370.74,-73.32 361.41,-68.3 365.57,-78.04 370.74,-73.32\"/>\n</g>\n<!-- 12 -->\n<g id=\"node13\" class=\"node\">\n<title>12</title>\n<path fill=\"#399de5\" stroke=\"black\" d=\"M506.5,-68C506.5,-68 417.5,-68 417.5,-68 411.5,-68 405.5,-62 405.5,-56 405.5,-56 405.5,-12 405.5,-12 405.5,-6 411.5,0 417.5,0 417.5,0 506.5,0 506.5,0 512.5,0 518.5,-6 518.5,-12 518.5,-12 518.5,-56 518.5,-56 518.5,-62 512.5,-68 506.5,-68\"/>\n<text text-anchor=\"start\" x=\"427\" y=\"-52.8\" font-family=\"Helvetica,sans-Serif\" font-size=\"14.00\">gini = 0.0</text>\n<text text-anchor=\"start\" x=\"418\" y=\"-37.8\" font-family=\"Helvetica,sans-Serif\" font-size=\"14.00\">samples = 3</text>\n<text text-anchor=\"start\" x=\"413.5\" y=\"-22.8\" font-family=\"Helvetica,sans-Serif\" font-size=\"14.00\">value = [0, 3]</text>\n<text text-anchor=\"start\" x=\"424\" y=\"-7.8\" font-family=\"Helvetica,sans-Serif\" font-size=\"14.00\">class = AD</text>\n</g>\n<!-- 10&#45;&gt;12 -->\n<g id=\"edge12\" class=\"edge\">\n<title>10&#45;&gt;12</title>\n<path fill=\"none\" stroke=\"black\" d=\"M442.54,-103.73C444.92,-95.34 447.43,-86.47 449.82,-78.01\"/>\n<polygon fill=\"black\" stroke=\"black\" points=\"453.22,-78.87 452.57,-68.3 446.48,-76.97 453.22,-78.87\"/>\n</g>\n<!-- 14 -->\n<g id=\"node15\" class=\"node\">\n<title>14</title>\n<path fill=\"#399de5\" stroke=\"black\" d=\"M697.5,-68C697.5,-68 608.5,-68 608.5,-68 602.5,-68 596.5,-62 596.5,-56 596.5,-56 596.5,-12 596.5,-12 596.5,-6 602.5,0 608.5,0 608.5,0 697.5,0 697.5,0 703.5,0 709.5,-6 709.5,-12 709.5,-12 709.5,-56 709.5,-56 709.5,-62 703.5,-68 697.5,-68\"/>\n<text text-anchor=\"start\" x=\"618\" y=\"-52.8\" font-family=\"Helvetica,sans-Serif\" font-size=\"14.00\">gini = 0.0</text>\n<text text-anchor=\"start\" x=\"609\" y=\"-37.8\" font-family=\"Helvetica,sans-Serif\" font-size=\"14.00\">samples = 1</text>\n<text text-anchor=\"start\" x=\"604.5\" y=\"-22.8\" font-family=\"Helvetica,sans-Serif\" font-size=\"14.00\">value = [0, 1]</text>\n<text text-anchor=\"start\" x=\"615\" y=\"-7.8\" font-family=\"Helvetica,sans-Serif\" font-size=\"14.00\">class = AD</text>\n</g>\n<!-- 13&#45;&gt;14 -->\n<g id=\"edge14\" class=\"edge\">\n<title>13&#45;&gt;14</title>\n<path fill=\"none\" stroke=\"black\" d=\"M671.83,-103.73C669.53,-95.34 667.1,-86.47 664.78,-78.01\"/>\n<polygon fill=\"black\" stroke=\"black\" points=\"668.14,-77.02 662.12,-68.3 661.39,-78.87 668.14,-77.02\"/>\n</g>\n<!-- 15 -->\n<g id=\"node16\" class=\"node\">\n<title>15</title>\n<path fill=\"#e58139\" stroke=\"black\" d=\"M838,-68C838,-68 740,-68 740,-68 734,-68 728,-62 728,-56 728,-56 728,-12 728,-12 728,-6 734,0 740,0 740,0 838,0 838,0 844,0 850,-6 850,-12 850,-12 850,-56 850,-56 850,-62 844,-68 838,-68\"/>\n<text text-anchor=\"start\" x=\"754\" y=\"-52.8\" font-family=\"Helvetica,sans-Serif\" font-size=\"14.00\">gini = 0.0</text>\n<text text-anchor=\"start\" x=\"740.5\" y=\"-37.8\" font-family=\"Helvetica,sans-Serif\" font-size=\"14.00\">samples = 38</text>\n<text text-anchor=\"start\" x=\"736\" y=\"-22.8\" font-family=\"Helvetica,sans-Serif\" font-size=\"14.00\">value = [38, 0]</text>\n<text text-anchor=\"start\" x=\"751\" y=\"-7.8\" font-family=\"Helvetica,sans-Serif\" font-size=\"14.00\">class = CN</text>\n</g>\n<!-- 13&#45;&gt;15 -->\n<g id=\"edge15\" class=\"edge\">\n<title>13&#45;&gt;15</title>\n<path fill=\"none\" stroke=\"black\" d=\"M722.47,-103.73C731.39,-94.51 740.85,-84.74 749.76,-75.53\"/>\n<polygon fill=\"black\" stroke=\"black\" points=\"752.32,-77.92 756.76,-68.3 747.29,-73.05 752.32,-77.92\"/>\n</g>\n</g>\n</svg>\n",
      "text/plain": [
       "<graphviz.sources.Source at 0x7fde641e7160>"
      ]
     },
     "execution_count": 104,
     "metadata": {},
     "output_type": "execute_result"
    }
   ],
   "source": [
    "dot_data = tree.export_graphviz(clf, out_file=None, feature_names=region[1:],  class_names=[\"CN\",\"AD\"],  filled=True, rounded=True,  special_characters=True)  \n",
    "graph = graphviz.Source(dot_data)  \n",
    "graph "
   ]
  },
  {
   "attachments": {},
   "cell_type": "markdown",
   "metadata": {},
   "source": [
    "Plotto la ROC"
   ]
  },
  {
   "cell_type": "code",
   "execution_count": 105,
   "metadata": {},
   "outputs": [
    {
     "data": {
      "image/png": "[encoded data removed]",
      "text/plain": [
       "<Figure size 640x480 with 1 Axes>"
      ]
     },
     "metadata": {},
     "output_type": "display_data"
    }
   ],
   "source": [
    "\n",
    "from sklearn.metrics import RocCurveDisplay\n",
    "\n",
    "RocCurveDisplay.from_predictions(y_tst,y_score,name=f\"AD vs the CN\",color=\"darkorange\",)\n",
    "plt.plot([0, 1], [0, 1], \"k--\", label=\"chance level (AUC = 0.5)\")\n",
    "plt.axis(\"square\")\n",
    "plt.xlabel(\"False Positive Rate\")\n",
    "plt.ylabel(\"True Positive Rate\")\n",
    "plt.title(\"One-vs-Rest ROC curves:\\nAD vs CN\")\n",
    "plt.legend()\n",
    "plt.show()\n",
    "\n"
   ]
  },
  {
   "cell_type": "code",
   "execution_count": null,
   "metadata": {},
   "outputs": [],
   "source": []
  }
 ],
 "metadata": {
  "kernelspec": {
   "display_name": "Python 3",
   "language": "python",
   "name": "python3"
  },
  "language_info": {
   "codemirror_mode": {
    "name": "ipython",
    "version": 3
   },
   "file_extension": ".py",
   "mimetype": "text/x-python",
   "name": "python",
   "nbconvert_exporter": "python",
   "pygments_lexer": "ipython3",
   "version": "3.10.7"
  },
  "orig_nbformat": 4,
  "vscode": {
   "interpreter": {
    "hash": "916dbcbb3f70747c44a77c7bcd40155683ae19c65e1c03b4aa3499c5328201f1"
   }
  }
 },
 "nbformat": 4,
 "nbformat_minor": 2
}
