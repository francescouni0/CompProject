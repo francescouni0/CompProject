{
 "cells": [
  {
   "cell_type": "code",
   "execution_count": 2,
   "metadata": {},
   "outputs": [],
   "source": [
    "import os\n",
    "import numpy as np\n",
    "import reading \n",
    "from feature_extractor import feature_extractor\n",
    "import pandas as pd\n",
    "import matplotlib.pyplot as plt"
   ]
  },
  {
   "attachments": {},
   "cell_type": "markdown",
   "metadata": {},
   "source": [
    "Load dei Path, Con il sort giusto per far corrispondere i soggetti"
   ]
  },
  {
   "cell_type": "code",
   "execution_count": 3,
   "metadata": {},
   "outputs": [],
   "source": [
    "paths_MD= reading.data_path(\"Diffusion_parameters_maps-20230215T134959Z-001\",\"corrected_MD_image\")\n",
    "paths_masks=reading.data_path(\"Diffusion_space_segmentations-20230215T134839Z-001\",\"Diffusion_space_segmentations-20230215T134839Z-001\")\n",
    "\n",
    "\n",
    "#print((os.path.basename(paths_masks[0]).split('_')[2]))\n",
    "\n",
    "paths_MD.sort(key=lambda x: int(os.path.basename(x).split('_')[3]))\n",
    "paths_masks.sort(key=lambda x: int(os.path.basename(x).split('_')[2]))\n"
   ]
  },
  {
   "attachments": {},
   "cell_type": "markdown",
   "metadata": {},
   "source": [
    "Feature extraction"
   ]
  },
  {
   "cell_type": "code",
   "execution_count": 4,
   "metadata": {},
   "outputs": [],
   "source": [
    "region, mean, std=feature_extractor(paths_MD,paths_masks)\n"
   ]
  },
  {
   "attachments": {},
   "cell_type": "markdown",
   "metadata": {},
   "source": [
    "Reshape degli array per fare il Dataframe"
   ]
  },
  {
   "cell_type": "code",
   "execution_count": 5,
   "metadata": {},
   "outputs": [],
   "source": [
    "mean_t=np.transpose(mean)\n",
    "std_t=np.transpose(std)\n"
   ]
  },
  {
   "attachments": {},
   "cell_type": "markdown",
   "metadata": {},
   "source": [
    "Creo DataFrame per mean and std"
   ]
  },
  {
   "cell_type": "code",
   "execution_count": 6,
   "metadata": {},
   "outputs": [
    {
     "data": {
      "text/html": [
       "<div>\n",
       "<style scoped>\n",
       "    .dataframe tbody tr th:only-of-type {\n",
       "        vertical-align: middle;\n",
       "    }\n",
       "\n",
       "    .dataframe tbody tr th {\n",
       "        vertical-align: top;\n",
       "    }\n",
       "\n",
       "    .dataframe thead th {\n",
       "        text-align: right;\n",
       "    }\n",
       "</style>\n",
       "<table border=\"1\" class=\"dataframe\">\n",
       "  <thead>\n",
       "    <tr style=\"text-align: right;\">\n",
       "      <th></th>\n",
       "      <th>Left-Lateral-Ventricle</th>\n",
       "      <th>Left-Inf-Lat-Vent</th>\n",
       "      <th>Left-Cerebellum-White-Matter</th>\n",
       "      <th>Left-Cerebellum-Cortex</th>\n",
       "      <th>Left-Thalamus</th>\n",
       "      <th>Left-Caudate</th>\n",
       "      <th>Left-Putamen</th>\n",
       "      <th>Left-Pallidum</th>\n",
       "      <th>3rd-Ventricle</th>\n",
       "      <th>4th-Ventricle</th>\n",
       "      <th>...</th>\n",
       "      <th>wm-rh-superiorfrontal</th>\n",
       "      <th>wm-rh-superiorparietal</th>\n",
       "      <th>wm-rh-superiortemporal</th>\n",
       "      <th>wm-rh-supramarginal</th>\n",
       "      <th>wm-rh-frontalpole</th>\n",
       "      <th>wm-rh-temporalpole</th>\n",
       "      <th>wm-rh-transversetemporal</th>\n",
       "      <th>wm-rh-insula</th>\n",
       "      <th>Left-UnsegmentedWhiteMatter</th>\n",
       "      <th>Right-UnsegmentedWhiteMatter</th>\n",
       "    </tr>\n",
       "  </thead>\n",
       "  <tbody>\n",
       "    <tr>\n",
       "      <th>1.0</th>\n",
       "      <td>0.000078</td>\n",
       "      <td>0.002625</td>\n",
       "      <td>0.001393</td>\n",
       "      <td>0.000837</td>\n",
       "      <td>0.001063</td>\n",
       "      <td>0.001086</td>\n",
       "      <td>0.001244</td>\n",
       "      <td>0.000855</td>\n",
       "      <td>0.000820</td>\n",
       "      <td>0.002566</td>\n",
       "      <td>...</td>\n",
       "      <td>0.000842</td>\n",
       "      <td>0.000906</td>\n",
       "      <td>0.000964</td>\n",
       "      <td>0.000797</td>\n",
       "      <td>0.000786</td>\n",
       "      <td>0.000848</td>\n",
       "      <td>0.000919</td>\n",
       "      <td>0.000736</td>\n",
       "      <td>0.000898</td>\n",
       "      <td>0.000931</td>\n",
       "    </tr>\n",
       "    <tr>\n",
       "      <th>2.0</th>\n",
       "      <td>0.000093</td>\n",
       "      <td>0.002450</td>\n",
       "      <td>0.001338</td>\n",
       "      <td>0.000724</td>\n",
       "      <td>0.000878</td>\n",
       "      <td>0.000953</td>\n",
       "      <td>0.000986</td>\n",
       "      <td>0.000773</td>\n",
       "      <td>0.000768</td>\n",
       "      <td>0.002419</td>\n",
       "      <td>...</td>\n",
       "      <td>0.000781</td>\n",
       "      <td>0.000774</td>\n",
       "      <td>0.000912</td>\n",
       "      <td>0.000757</td>\n",
       "      <td>0.000752</td>\n",
       "      <td>0.000778</td>\n",
       "      <td>0.000838</td>\n",
       "      <td>0.000749</td>\n",
       "      <td>0.000785</td>\n",
       "      <td>0.000865</td>\n",
       "    </tr>\n",
       "    <tr>\n",
       "      <th>3.0</th>\n",
       "      <td>0.000135</td>\n",
       "      <td>0.002526</td>\n",
       "      <td>0.001711</td>\n",
       "      <td>0.000716</td>\n",
       "      <td>0.000955</td>\n",
       "      <td>0.001038</td>\n",
       "      <td>0.001291</td>\n",
       "      <td>0.000905</td>\n",
       "      <td>0.000885</td>\n",
       "      <td>0.002576</td>\n",
       "      <td>...</td>\n",
       "      <td>0.000813</td>\n",
       "      <td>0.000848</td>\n",
       "      <td>0.000803</td>\n",
       "      <td>0.000822</td>\n",
       "      <td>0.000763</td>\n",
       "      <td>0.001048</td>\n",
       "      <td>0.001090</td>\n",
       "      <td>0.000780</td>\n",
       "      <td>0.000910</td>\n",
       "      <td>0.000919</td>\n",
       "    </tr>\n",
       "    <tr>\n",
       "      <th>4.0</th>\n",
       "      <td>0.000144</td>\n",
       "      <td>0.002553</td>\n",
       "      <td>0.001665</td>\n",
       "      <td>0.000769</td>\n",
       "      <td>0.001031</td>\n",
       "      <td>0.001050</td>\n",
       "      <td>0.001144</td>\n",
       "      <td>0.000818</td>\n",
       "      <td>0.000747</td>\n",
       "      <td>0.003102</td>\n",
       "      <td>...</td>\n",
       "      <td>0.000830</td>\n",
       "      <td>0.000848</td>\n",
       "      <td>0.000819</td>\n",
       "      <td>0.000839</td>\n",
       "      <td>0.000820</td>\n",
       "      <td>0.000873</td>\n",
       "      <td>0.000873</td>\n",
       "      <td>0.000820</td>\n",
       "      <td>0.000859</td>\n",
       "      <td>0.000903</td>\n",
       "    </tr>\n",
       "    <tr>\n",
       "      <th>5.0</th>\n",
       "      <td>0.000142</td>\n",
       "      <td>0.002536</td>\n",
       "      <td>0.001829</td>\n",
       "      <td>0.000781</td>\n",
       "      <td>0.001109</td>\n",
       "      <td>0.000991</td>\n",
       "      <td>0.001134</td>\n",
       "      <td>0.000794</td>\n",
       "      <td>0.000748</td>\n",
       "      <td>0.002780</td>\n",
       "      <td>...</td>\n",
       "      <td>0.000835</td>\n",
       "      <td>0.000823</td>\n",
       "      <td>0.000748</td>\n",
       "      <td>0.000813</td>\n",
       "      <td>0.000765</td>\n",
       "      <td>0.000848</td>\n",
       "      <td>0.000963</td>\n",
       "      <td>0.000766</td>\n",
       "      <td>0.000861</td>\n",
       "      <td>0.000891</td>\n",
       "    </tr>\n",
       "  </tbody>\n",
       "</table>\n",
       "<p>5 rows × 176 columns</p>\n",
       "</div>"
      ],
      "text/plain": [
       "     Left-Lateral-Ventricle  Left-Inf-Lat-Vent  Left-Cerebellum-White-Matter  \\\n",
       "1.0                0.000078           0.002625                      0.001393   \n",
       "2.0                0.000093           0.002450                      0.001338   \n",
       "3.0                0.000135           0.002526                      0.001711   \n",
       "4.0                0.000144           0.002553                      0.001665   \n",
       "5.0                0.000142           0.002536                      0.001829   \n",
       "\n",
       "     Left-Cerebellum-Cortex  Left-Thalamus  Left-Caudate  Left-Putamen  \\\n",
       "1.0                0.000837       0.001063      0.001086      0.001244   \n",
       "2.0                0.000724       0.000878      0.000953      0.000986   \n",
       "3.0                0.000716       0.000955      0.001038      0.001291   \n",
       "4.0                0.000769       0.001031      0.001050      0.001144   \n",
       "5.0                0.000781       0.001109      0.000991      0.001134   \n",
       "\n",
       "     Left-Pallidum  3rd-Ventricle  4th-Ventricle  ...  wm-rh-superiorfrontal  \\\n",
       "1.0       0.000855       0.000820       0.002566  ...               0.000842   \n",
       "2.0       0.000773       0.000768       0.002419  ...               0.000781   \n",
       "3.0       0.000905       0.000885       0.002576  ...               0.000813   \n",
       "4.0       0.000818       0.000747       0.003102  ...               0.000830   \n",
       "5.0       0.000794       0.000748       0.002780  ...               0.000835   \n",
       "\n",
       "     wm-rh-superiorparietal  wm-rh-superiortemporal  wm-rh-supramarginal  \\\n",
       "1.0                0.000906                0.000964             0.000797   \n",
       "2.0                0.000774                0.000912             0.000757   \n",
       "3.0                0.000848                0.000803             0.000822   \n",
       "4.0                0.000848                0.000819             0.000839   \n",
       "5.0                0.000823                0.000748             0.000813   \n",
       "\n",
       "     wm-rh-frontalpole  wm-rh-temporalpole  wm-rh-transversetemporal  \\\n",
       "1.0           0.000786            0.000848                  0.000919   \n",
       "2.0           0.000752            0.000778                  0.000838   \n",
       "3.0           0.000763            0.001048                  0.001090   \n",
       "4.0           0.000820            0.000873                  0.000873   \n",
       "5.0           0.000765            0.000848                  0.000963   \n",
       "\n",
       "     wm-rh-insula  Left-UnsegmentedWhiteMatter  Right-UnsegmentedWhiteMatter  \n",
       "1.0      0.000736                     0.000898                      0.000931  \n",
       "2.0      0.000749                     0.000785                      0.000865  \n",
       "3.0      0.000780                     0.000910                      0.000919  \n",
       "4.0      0.000820                     0.000859                      0.000903  \n",
       "5.0      0.000766                     0.000861                      0.000891  \n",
       "\n",
       "[5 rows x 176 columns]"
      ]
     },
     "execution_count": 6,
     "metadata": {},
     "output_type": "execute_result"
    }
   ],
   "source": [
    "\n",
    "\n",
    "df_mean = pd.DataFrame(mean_t[1:,1:177],index=mean[0][1:98],columns=region[1:177])\n",
    "df_std=pd.DataFrame(std_t[1:,1:177],index=std[0][1:98],columns=region[1:177])\n",
    "\n",
    "df_mean.head()"
   ]
  },
  {
   "attachments": {},
   "cell_type": "markdown",
   "metadata": {},
   "source": [
    "Aggiungo i gruppi"
   ]
  },
  {
   "cell_type": "code",
   "execution_count": 7,
   "metadata": {},
   "outputs": [
    {
     "data": {
      "text/html": [
       "<div>\n",
       "<style scoped>\n",
       "    .dataframe tbody tr th:only-of-type {\n",
       "        vertical-align: middle;\n",
       "    }\n",
       "\n",
       "    .dataframe tbody tr th {\n",
       "        vertical-align: top;\n",
       "    }\n",
       "\n",
       "    .dataframe thead th {\n",
       "        text-align: right;\n",
       "    }\n",
       "</style>\n",
       "<table border=\"1\" class=\"dataframe\">\n",
       "  <thead>\n",
       "    <tr style=\"text-align: right;\">\n",
       "      <th></th>\n",
       "      <th>Subject</th>\n",
       "      <th>Group</th>\n",
       "      <th>Sex</th>\n",
       "      <th>Age</th>\n",
       "    </tr>\n",
       "  </thead>\n",
       "  <tbody>\n",
       "    <tr>\n",
       "      <th>67</th>\n",
       "      <td>4002</td>\n",
       "      <td>0</td>\n",
       "      <td>F</td>\n",
       "      <td>74.0</td>\n",
       "    </tr>\n",
       "    <tr>\n",
       "      <th>68</th>\n",
       "      <td>4003</td>\n",
       "      <td>0</td>\n",
       "      <td>F</td>\n",
       "      <td>72.0</td>\n",
       "    </tr>\n",
       "    <tr>\n",
       "      <th>28</th>\n",
       "      <td>4009</td>\n",
       "      <td>1</td>\n",
       "      <td>M</td>\n",
       "      <td>90.0</td>\n",
       "    </tr>\n",
       "    <tr>\n",
       "      <th>69</th>\n",
       "      <td>4018</td>\n",
       "      <td>0</td>\n",
       "      <td>M</td>\n",
       "      <td>76.0</td>\n",
       "    </tr>\n",
       "    <tr>\n",
       "      <th>70</th>\n",
       "      <td>4050</td>\n",
       "      <td>0</td>\n",
       "      <td>M</td>\n",
       "      <td>77.0</td>\n",
       "    </tr>\n",
       "  </tbody>\n",
       "</table>\n",
       "</div>"
      ],
      "text/plain": [
       "    Subject  Group Sex   Age\n",
       "67     4002      0   F  74.0\n",
       "68     4003      0   F  72.0\n",
       "28     4009      1   M  90.0\n",
       "69     4018      0   M  76.0\n",
       "70     4050      0   M  77.0"
      ]
     },
     "execution_count": 7,
     "metadata": {},
     "output_type": "execute_result"
    }
   ],
   "source": [
    "a=pd.DataFrame(pd.read_csv('/home/francesco/CompProject/ADNI_dataset_diffusion.csv'))\n",
    "a.sort_values(by=[\"Subject\"],inplace=True)\n",
    "group=a[\"Group\"]\n",
    "a.head()"
   ]
  },
  {
   "attachments": {},
   "cell_type": "markdown",
   "metadata": {},
   "source": [
    "SVM: creo i set e splitto"
   ]
  },
  {
   "cell_type": "code",
   "execution_count": 21,
   "metadata": {},
   "outputs": [],
   "source": [
    "from sklearn.model_selection import train_test_split\n",
    "\n",
    "\n",
    "X=df_mean.values\n",
    "y=group.values\n",
    "\n",
    "X_tr, X_tst, y_tr, y_tst = train_test_split(X, y, test_size=.2, random_state=6)\n",
    "\n",
    "\n",
    "\n",
    "\n"
   ]
  },
  {
   "attachments": {},
   "cell_type": "markdown",
   "metadata": {},
   "source": [
    "MOdello gridsearch\n"
   ]
  },
  {
   "cell_type": "code",
   "execution_count": 27,
   "metadata": {},
   "outputs": [
    {
     "name": "stdout",
     "output_type": "stream",
     "text": [
      "[0 1 0 1 1 0 0 1 0 0 1 1 1 0 0 0 1 0 0 1]\n"
     ]
    }
   ],
   "source": [
    "from sklearn import svm\n",
    "\n",
    "clf = svm.SVC(kernel=\"rbf\")\n",
    "\n",
    "clf.fit(X_tr, y_tr)\n",
    "y_pred = clf.predict(X_tst)\n",
    "\n"
   ]
  },
  {
   "cell_type": "code",
   "execution_count": 23,
   "metadata": {},
   "outputs": [
    {
     "name": "stdout",
     "output_type": "stream",
     "text": [
      "              precision    recall  f1-score   support\n",
      "\n",
      "           0       0.82      0.69      0.75        13\n",
      "           1       0.56      0.71      0.63         7\n",
      "\n",
      "    accuracy                           0.70        20\n",
      "   macro avg       0.69      0.70      0.69        20\n",
      "weighted avg       0.73      0.70      0.71        20\n",
      "\n"
     ]
    }
   ],
   "source": [
    "from sklearn import metrics \n",
    "\n",
    "\n",
    "print(metrics.classification_report(y_tst, y_pred)) "
   ]
  },
  {
   "cell_type": "code",
   "execution_count": 32,
   "metadata": {},
   "outputs": [
    {
     "name": "stdout",
     "output_type": "stream",
     "text": [
      "{'C': 1.5713977968161452, 'class_weight': 'balanced', 'gamma': 0.03078890901486585, 'kernel': 'linear'}\n",
      "[1 1 1 1 1 1 1 1 1 1 1 1 1 1 1 1 1 1 1 1]\n",
      "[0 0 0 1 0 0 0 1 0 1 0 0 1 0 0 0 1 1 0 1]\n",
      "              precision    recall  f1-score   support\n",
      "\n",
      "           0       0.00      0.00      0.00        13\n",
      "           1       0.35      1.00      0.52         7\n",
      "\n",
      "    accuracy                           0.35        20\n",
      "   macro avg       0.17      0.50      0.26        20\n",
      "weighted avg       0.12      0.35      0.18        20\n",
      "\n"
     ]
    },
    {
     "name": "stderr",
     "output_type": "stream",
     "text": [
      "/home/francesco/.local/lib/python3.10/site-packages/sklearn/metrics/_classification.py:1344: UndefinedMetricWarning: Precision and F-score are ill-defined and being set to 0.0 in labels with no predicted samples. Use `zero_division` parameter to control this behavior.\n",
      "  _warn_prf(average, modifier, msg_start, len(result))\n",
      "/home/francesco/.local/lib/python3.10/site-packages/sklearn/metrics/_classification.py:1344: UndefinedMetricWarning: Precision and F-score are ill-defined and being set to 0.0 in labels with no predicted samples. Use `zero_division` parameter to control this behavior.\n",
      "  _warn_prf(average, modifier, msg_start, len(result))\n",
      "/home/francesco/.local/lib/python3.10/site-packages/sklearn/metrics/_classification.py:1344: UndefinedMetricWarning: Precision and F-score are ill-defined and being set to 0.0 in labels with no predicted samples. Use `zero_division` parameter to control this behavior.\n",
      "  _warn_prf(average, modifier, msg_start, len(result))\n"
     ]
    },
    {
     "data": {
      "text/plain": [
       "{0}"
      ]
     },
     "execution_count": 32,
     "metadata": {},
     "output_type": "execute_result"
    }
   ],
   "source": [
    "from sklearn.model_selection import GridSearchCV\n",
    "import scipy\n",
    "\n",
    "r=scipy.stats.expon.rvs(size=100)\n",
    "g=scipy.stats.expon(scale=.1)\n",
    "G=g.rvs(size=100)\n",
    "# defining parameter range \n",
    "param_grid = {'C': r, 'gamma': G,\n",
    "  'kernel': ['linear'], 'class_weight':['balanced', None]}\n",
    "\n",
    "grid = GridSearchCV(clf, param_grid, refit = True,n_jobs=-1) \n",
    "\n",
    "\n",
    "\n",
    "\n",
    "# fitting the model for grid search \n",
    "grid.fit(X_tr, y_tr) \n",
    " \n",
    "# print best parameter after tuning \n",
    "print(grid.best_params_) \n",
    "grid_predictions = grid.predict(X_tst) \n",
    "print(grid_predictions)\n",
    "print(y_tst)\n",
    "# print classification report \n",
    "print(metrics.classification_report(y_tst, grid_predictions)) \n",
    "\n",
    "set(y_tst) - set(grid_predictions)\n"
   ]
  },
  {
   "cell_type": "code",
   "execution_count": null,
   "metadata": {},
   "outputs": [],
   "source": []
  }
 ],
 "metadata": {
  "kernelspec": {
   "display_name": "Python 3",
   "language": "python",
   "name": "python3"
  },
  "language_info": {
   "codemirror_mode": {
    "name": "ipython",
    "version": 3
   },
   "file_extension": ".py",
   "mimetype": "text/x-python",
   "name": "python",
   "nbconvert_exporter": "python",
   "pygments_lexer": "ipython3",
   "version": "3.10.7"
  },
  "orig_nbformat": 4,
  "vscode": {
   "interpreter": {
    "hash": "916dbcbb3f70747c44a77c7bcd40155683ae19c65e1c03b4aa3499c5328201f1"
   }
  }
 },
 "nbformat": 4,
 "nbformat_minor": 2
}
