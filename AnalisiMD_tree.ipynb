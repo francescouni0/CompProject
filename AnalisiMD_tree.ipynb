{
 "cells": [
  {
   "cell_type": "code",
   "execution_count": 2,
   "metadata": {},
   "outputs": [],
   "source": [
    "import os\n",
    "import numpy as np\n",
    "import reading \n",
    "from feature_extractor import feature_extractor\n",
    "import pandas as pd\n",
    "import matplotlib.pyplot as plt"
   ]
  },
  {
   "attachments": {},
   "cell_type": "markdown",
   "metadata": {},
   "source": [
    "Load dei Path, Con il sort giusto per far corrispondere i soggetti"
   ]
  },
  {
   "cell_type": "code",
   "execution_count": 3,
   "metadata": {},
   "outputs": [],
   "source": [
    "paths_MD= reading.data_path(\"Diffusion_parameters_maps-20230215T134959Z-001\",\"corrected_MD_image\")\n",
    "paths_masks=reading.data_path(\"Diffusion_space_segmentations-20230215T134839Z-001\",\"Diffusion_space_segmentations-20230215T134839Z-001\")\n",
    "\n",
    "\n",
    "#print((os.path.basename(paths_masks[0]).split('_')[2]))\n",
    "\n",
    "paths_MD.sort(key=lambda x: int(os.path.basename(x).split('_')[3]))\n",
    "paths_masks.sort(key=lambda x: int(os.path.basename(x).split('_')[2]))\n"
   ]
  },
  {
   "attachments": {},
   "cell_type": "markdown",
   "metadata": {},
   "source": [
    "Feature extraction"
   ]
  },
  {
   "cell_type": "code",
   "execution_count": 4,
   "metadata": {},
   "outputs": [],
   "source": [
    "region, mean, std=feature_extractor(paths_MD,paths_masks)\n"
   ]
  },
  {
   "attachments": {},
   "cell_type": "markdown",
   "metadata": {},
   "source": [
    "Reshape degli array per fare il Dataframe"
   ]
  },
  {
   "cell_type": "code",
   "execution_count": 5,
   "metadata": {},
   "outputs": [],
   "source": [
    "mean_t=np.transpose(mean)\n",
    "std_t=np.transpose(std)\n"
   ]
  },
  {
   "attachments": {},
   "cell_type": "markdown",
   "metadata": {},
   "source": [
    "Creo DataFrame per mean and std"
   ]
  },
  {
   "cell_type": "code",
   "execution_count": 6,
   "metadata": {},
   "outputs": [
    {
     "data": {
      "text/html": [
       "<div>\n",
       "<style scoped>\n",
       "    .dataframe tbody tr th:only-of-type {\n",
       "        vertical-align: middle;\n",
       "    }\n",
       "\n",
       "    .dataframe tbody tr th {\n",
       "        vertical-align: top;\n",
       "    }\n",
       "\n",
       "    .dataframe thead th {\n",
       "        text-align: right;\n",
       "    }\n",
       "</style>\n",
       "<table border=\"1\" class=\"dataframe\">\n",
       "  <thead>\n",
       "    <tr style=\"text-align: right;\">\n",
       "      <th></th>\n",
       "      <th>Left-Lateral-Ventricle</th>\n",
       "      <th>Left-Inf-Lat-Vent</th>\n",
       "      <th>Left-Cerebellum-White-Matter</th>\n",
       "      <th>Left-Cerebellum-Cortex</th>\n",
       "      <th>Left-Thalamus</th>\n",
       "      <th>Left-Caudate</th>\n",
       "      <th>Left-Putamen</th>\n",
       "      <th>Left-Pallidum</th>\n",
       "      <th>3rd-Ventricle</th>\n",
       "      <th>4th-Ventricle</th>\n",
       "      <th>...</th>\n",
       "      <th>wm-rh-superiorfrontal</th>\n",
       "      <th>wm-rh-superiorparietal</th>\n",
       "      <th>wm-rh-superiortemporal</th>\n",
       "      <th>wm-rh-supramarginal</th>\n",
       "      <th>wm-rh-frontalpole</th>\n",
       "      <th>wm-rh-temporalpole</th>\n",
       "      <th>wm-rh-transversetemporal</th>\n",
       "      <th>wm-rh-insula</th>\n",
       "      <th>Left-UnsegmentedWhiteMatter</th>\n",
       "      <th>Right-UnsegmentedWhiteMatter</th>\n",
       "    </tr>\n",
       "  </thead>\n",
       "  <tbody>\n",
       "    <tr>\n",
       "      <th>1.0</th>\n",
       "      <td>0.000078</td>\n",
       "      <td>0.002625</td>\n",
       "      <td>0.001393</td>\n",
       "      <td>0.000837</td>\n",
       "      <td>0.001063</td>\n",
       "      <td>0.001086</td>\n",
       "      <td>0.001244</td>\n",
       "      <td>0.000855</td>\n",
       "      <td>0.000820</td>\n",
       "      <td>0.002566</td>\n",
       "      <td>...</td>\n",
       "      <td>0.000842</td>\n",
       "      <td>0.000906</td>\n",
       "      <td>0.000964</td>\n",
       "      <td>0.000797</td>\n",
       "      <td>0.000786</td>\n",
       "      <td>0.000848</td>\n",
       "      <td>0.000919</td>\n",
       "      <td>0.000736</td>\n",
       "      <td>0.000898</td>\n",
       "      <td>0.000931</td>\n",
       "    </tr>\n",
       "    <tr>\n",
       "      <th>2.0</th>\n",
       "      <td>0.000093</td>\n",
       "      <td>0.002450</td>\n",
       "      <td>0.001338</td>\n",
       "      <td>0.000724</td>\n",
       "      <td>0.000878</td>\n",
       "      <td>0.000953</td>\n",
       "      <td>0.000986</td>\n",
       "      <td>0.000773</td>\n",
       "      <td>0.000768</td>\n",
       "      <td>0.002419</td>\n",
       "      <td>...</td>\n",
       "      <td>0.000781</td>\n",
       "      <td>0.000774</td>\n",
       "      <td>0.000912</td>\n",
       "      <td>0.000757</td>\n",
       "      <td>0.000752</td>\n",
       "      <td>0.000778</td>\n",
       "      <td>0.000838</td>\n",
       "      <td>0.000749</td>\n",
       "      <td>0.000785</td>\n",
       "      <td>0.000865</td>\n",
       "    </tr>\n",
       "    <tr>\n",
       "      <th>3.0</th>\n",
       "      <td>0.000135</td>\n",
       "      <td>0.002526</td>\n",
       "      <td>0.001711</td>\n",
       "      <td>0.000716</td>\n",
       "      <td>0.000955</td>\n",
       "      <td>0.001038</td>\n",
       "      <td>0.001291</td>\n",
       "      <td>0.000905</td>\n",
       "      <td>0.000885</td>\n",
       "      <td>0.002576</td>\n",
       "      <td>...</td>\n",
       "      <td>0.000813</td>\n",
       "      <td>0.000848</td>\n",
       "      <td>0.000803</td>\n",
       "      <td>0.000822</td>\n",
       "      <td>0.000763</td>\n",
       "      <td>0.001048</td>\n",
       "      <td>0.001090</td>\n",
       "      <td>0.000780</td>\n",
       "      <td>0.000910</td>\n",
       "      <td>0.000919</td>\n",
       "    </tr>\n",
       "    <tr>\n",
       "      <th>4.0</th>\n",
       "      <td>0.000144</td>\n",
       "      <td>0.002553</td>\n",
       "      <td>0.001665</td>\n",
       "      <td>0.000769</td>\n",
       "      <td>0.001031</td>\n",
       "      <td>0.001050</td>\n",
       "      <td>0.001144</td>\n",
       "      <td>0.000818</td>\n",
       "      <td>0.000747</td>\n",
       "      <td>0.003102</td>\n",
       "      <td>...</td>\n",
       "      <td>0.000830</td>\n",
       "      <td>0.000848</td>\n",
       "      <td>0.000819</td>\n",
       "      <td>0.000839</td>\n",
       "      <td>0.000820</td>\n",
       "      <td>0.000873</td>\n",
       "      <td>0.000873</td>\n",
       "      <td>0.000820</td>\n",
       "      <td>0.000859</td>\n",
       "      <td>0.000903</td>\n",
       "    </tr>\n",
       "    <tr>\n",
       "      <th>5.0</th>\n",
       "      <td>0.000142</td>\n",
       "      <td>0.002536</td>\n",
       "      <td>0.001829</td>\n",
       "      <td>0.000781</td>\n",
       "      <td>0.001109</td>\n",
       "      <td>0.000991</td>\n",
       "      <td>0.001134</td>\n",
       "      <td>0.000794</td>\n",
       "      <td>0.000748</td>\n",
       "      <td>0.002780</td>\n",
       "      <td>...</td>\n",
       "      <td>0.000835</td>\n",
       "      <td>0.000823</td>\n",
       "      <td>0.000748</td>\n",
       "      <td>0.000813</td>\n",
       "      <td>0.000765</td>\n",
       "      <td>0.000848</td>\n",
       "      <td>0.000963</td>\n",
       "      <td>0.000766</td>\n",
       "      <td>0.000861</td>\n",
       "      <td>0.000891</td>\n",
       "    </tr>\n",
       "  </tbody>\n",
       "</table>\n",
       "<p>5 rows × 176 columns</p>\n",
       "</div>"
      ],
      "text/plain": [
       "     Left-Lateral-Ventricle  Left-Inf-Lat-Vent  Left-Cerebellum-White-Matter  \\\n",
       "1.0                0.000078           0.002625                      0.001393   \n",
       "2.0                0.000093           0.002450                      0.001338   \n",
       "3.0                0.000135           0.002526                      0.001711   \n",
       "4.0                0.000144           0.002553                      0.001665   \n",
       "5.0                0.000142           0.002536                      0.001829   \n",
       "\n",
       "     Left-Cerebellum-Cortex  Left-Thalamus  Left-Caudate  Left-Putamen  \\\n",
       "1.0                0.000837       0.001063      0.001086      0.001244   \n",
       "2.0                0.000724       0.000878      0.000953      0.000986   \n",
       "3.0                0.000716       0.000955      0.001038      0.001291   \n",
       "4.0                0.000769       0.001031      0.001050      0.001144   \n",
       "5.0                0.000781       0.001109      0.000991      0.001134   \n",
       "\n",
       "     Left-Pallidum  3rd-Ventricle  4th-Ventricle  ...  wm-rh-superiorfrontal  \\\n",
       "1.0       0.000855       0.000820       0.002566  ...               0.000842   \n",
       "2.0       0.000773       0.000768       0.002419  ...               0.000781   \n",
       "3.0       0.000905       0.000885       0.002576  ...               0.000813   \n",
       "4.0       0.000818       0.000747       0.003102  ...               0.000830   \n",
       "5.0       0.000794       0.000748       0.002780  ...               0.000835   \n",
       "\n",
       "     wm-rh-superiorparietal  wm-rh-superiortemporal  wm-rh-supramarginal  \\\n",
       "1.0                0.000906                0.000964             0.000797   \n",
       "2.0                0.000774                0.000912             0.000757   \n",
       "3.0                0.000848                0.000803             0.000822   \n",
       "4.0                0.000848                0.000819             0.000839   \n",
       "5.0                0.000823                0.000748             0.000813   \n",
       "\n",
       "     wm-rh-frontalpole  wm-rh-temporalpole  wm-rh-transversetemporal  \\\n",
       "1.0           0.000786            0.000848                  0.000919   \n",
       "2.0           0.000752            0.000778                  0.000838   \n",
       "3.0           0.000763            0.001048                  0.001090   \n",
       "4.0           0.000820            0.000873                  0.000873   \n",
       "5.0           0.000765            0.000848                  0.000963   \n",
       "\n",
       "     wm-rh-insula  Left-UnsegmentedWhiteMatter  Right-UnsegmentedWhiteMatter  \n",
       "1.0      0.000736                     0.000898                      0.000931  \n",
       "2.0      0.000749                     0.000785                      0.000865  \n",
       "3.0      0.000780                     0.000910                      0.000919  \n",
       "4.0      0.000820                     0.000859                      0.000903  \n",
       "5.0      0.000766                     0.000861                      0.000891  \n",
       "\n",
       "[5 rows x 176 columns]"
      ]
     },
     "execution_count": 6,
     "metadata": {},
     "output_type": "execute_result"
    }
   ],
   "source": [
    "\n",
    "\n",
    "df_mean = pd.DataFrame(mean_t[1:,1:177],index=mean[0][1:98],columns=region[1:177])\n",
    "df_std=pd.DataFrame(std_t[1:,1:177],index=std[0][1:98],columns=region[1:177])\n",
    "\n",
    "df_mean.head()"
   ]
  },
  {
   "attachments": {},
   "cell_type": "markdown",
   "metadata": {},
   "source": [
    "Aggiungo i gruppi"
   ]
  },
  {
   "cell_type": "code",
   "execution_count": 7,
   "metadata": {},
   "outputs": [
    {
     "data": {
      "text/html": [
       "<div>\n",
       "<style scoped>\n",
       "    .dataframe tbody tr th:only-of-type {\n",
       "        vertical-align: middle;\n",
       "    }\n",
       "\n",
       "    .dataframe tbody tr th {\n",
       "        vertical-align: top;\n",
       "    }\n",
       "\n",
       "    .dataframe thead th {\n",
       "        text-align: right;\n",
       "    }\n",
       "</style>\n",
       "<table border=\"1\" class=\"dataframe\">\n",
       "  <thead>\n",
       "    <tr style=\"text-align: right;\">\n",
       "      <th></th>\n",
       "      <th>Subject</th>\n",
       "      <th>Group</th>\n",
       "      <th>Sex</th>\n",
       "      <th>Age</th>\n",
       "    </tr>\n",
       "  </thead>\n",
       "  <tbody>\n",
       "    <tr>\n",
       "      <th>67</th>\n",
       "      <td>4002</td>\n",
       "      <td>0</td>\n",
       "      <td>F</td>\n",
       "      <td>74.0</td>\n",
       "    </tr>\n",
       "    <tr>\n",
       "      <th>68</th>\n",
       "      <td>4003</td>\n",
       "      <td>0</td>\n",
       "      <td>F</td>\n",
       "      <td>72.0</td>\n",
       "    </tr>\n",
       "    <tr>\n",
       "      <th>28</th>\n",
       "      <td>4009</td>\n",
       "      <td>1</td>\n",
       "      <td>M</td>\n",
       "      <td>90.0</td>\n",
       "    </tr>\n",
       "    <tr>\n",
       "      <th>69</th>\n",
       "      <td>4018</td>\n",
       "      <td>0</td>\n",
       "      <td>M</td>\n",
       "      <td>76.0</td>\n",
       "    </tr>\n",
       "    <tr>\n",
       "      <th>70</th>\n",
       "      <td>4050</td>\n",
       "      <td>0</td>\n",
       "      <td>M</td>\n",
       "      <td>77.0</td>\n",
       "    </tr>\n",
       "  </tbody>\n",
       "</table>\n",
       "</div>"
      ],
      "text/plain": [
       "    Subject  Group Sex   Age\n",
       "67     4002      0   F  74.0\n",
       "68     4003      0   F  72.0\n",
       "28     4009      1   M  90.0\n",
       "69     4018      0   M  76.0\n",
       "70     4050      0   M  77.0"
      ]
     },
     "execution_count": 7,
     "metadata": {},
     "output_type": "execute_result"
    }
   ],
   "source": [
    "a=pd.DataFrame(pd.read_csv('/home/francesco/CompProject/ADNI_dataset_diffusion.csv'))\n",
    "a.sort_values(by=[\"Subject\"],inplace=True)\n",
    "group=a[\"Group\"]\n",
    "a.head()"
   ]
  },
  {
   "attachments": {},
   "cell_type": "markdown",
   "metadata": {},
   "source": [
    "Albero decisionale: creo i set e splitto"
   ]
  },
  {
   "cell_type": "code",
   "execution_count": 27,
   "metadata": {},
   "outputs": [],
   "source": [
    "from sklearn import tree\n",
    "from sklearn.model_selection import train_test_split\n",
    "\n",
    "\n",
    "X=df_mean.values\n",
    "y=group.values\n",
    "\n",
    "X_tr, X_tst, y_tr, y_tst = train_test_split(X, y, test_size=.2, random_state=10)\n",
    "\n"
   ]
  },
  {
   "attachments": {},
   "cell_type": "markdown",
   "metadata": {},
   "source": [
    "Fitto l'albero"
   ]
  },
  {
   "cell_type": "code",
   "execution_count": 28,
   "metadata": {},
   "outputs": [
    {
     "name": "stdout",
     "output_type": "stream",
     "text": [
      "[0. 0. 0. 0. 0. 0. 0. 1. 0. 0. 1. 0. 0. 0. 1. 1. 0. 0. 1. 0.]\n"
     ]
    }
   ],
   "source": [
    "\n",
    "clf = tree.DecisionTreeClassifier()\n",
    "\n",
    "y_score = clf.fit(X_tr, y_tr).predict_proba(X_tst)[:,1]\n",
    "\n",
    "#tree.plot_tree(clf)\n",
    "print(y_score)\n"
   ]
  },
  {
   "cell_type": "code",
   "execution_count": 29,
   "metadata": {},
   "outputs": [
    {
     "name": "stdout",
     "output_type": "stream",
     "text": [
      "0.7777777777777778\n"
     ]
    }
   ],
   "source": [
    "import sklearn.metrics \n",
    "print(sklearn.metrics.roc_auc_score(y_tst, y_score))\n",
    "fpr,tpr,thre = sklearn.metrics.roc_curve(y_tst, y_score)"
   ]
  },
  {
   "attachments": {},
   "cell_type": "markdown",
   "metadata": {},
   "source": [
    "PLotto l'albero decisionale"
   ]
  },
  {
   "cell_type": "code",
   "execution_count": 30,
   "metadata": {},
   "outputs": [],
   "source": [
    "import graphviz \n",
    "dot_data = tree.export_graphviz(clf, out_file=None) \n",
    "graph = graphviz.Source(dot_data) \n",
    "#graph.render(\"iris\") "
   ]
  },
  {
   "cell_type": "code",
   "execution_count": 31,
   "metadata": {},
   "outputs": [
    {
     "data": {
      "image/svg+xml": "<?xml version=\"1.0\" encoding=\"UTF-8\" standalone=\"no\"?>\n<!DOCTYPE svg PUBLIC \"-//W3C//DTD SVG 1.1//EN\"\n \"http://www.w3.org/Graphics/SVG/1.1/DTD/svg11.dtd\">\n<!-- Generated by graphviz version 2.43.0 (0)\n -->\n<!-- Title: Tree Pages: 1 -->\n<svg width=\"794pt\" height=\"552pt\"\n viewBox=\"0.00 0.00 794.00 552.00\" xmlns=\"http://www.w3.org/2000/svg\" xmlns:xlink=\"http://www.w3.org/1999/xlink\">\n<g id=\"graph0\" class=\"graph\" transform=\"scale(1 1) rotate(0) translate(4 548)\">\n<title>Tree</title>\n<polygon fill=\"white\" stroke=\"transparent\" points=\"-4,4 -4,-548 790,-548 790,4 -4,4\"/>\n<!-- 0 -->\n<g id=\"node1\" class=\"node\">\n<title>0</title>\n<path fill=\"#fefcfa\" stroke=\"black\" d=\"M450,-544C450,-544 290,-544 290,-544 284,-544 278,-538 278,-532 278,-532 278,-473 278,-473 278,-467 284,-461 290,-461 290,-461 450,-461 450,-461 456,-461 462,-467 462,-473 462,-473 462,-532 462,-532 462,-538 456,-544 450,-544\"/>\n<text text-anchor=\"start\" x=\"286\" y=\"-528.8\" font-family=\"Helvetica,sans-Serif\" font-size=\"14.00\">wm&#45;lh&#45;fusiform ≤ 0.001</text>\n<text text-anchor=\"start\" x=\"335\" y=\"-513.8\" font-family=\"Helvetica,sans-Serif\" font-size=\"14.00\">gini = 0.5</text>\n<text text-anchor=\"start\" x=\"321.5\" y=\"-498.8\" font-family=\"Helvetica,sans-Serif\" font-size=\"14.00\">samples = 77</text>\n<text text-anchor=\"start\" x=\"312.5\" y=\"-483.8\" font-family=\"Helvetica,sans-Serif\" font-size=\"14.00\">value = [39, 38]</text>\n<text text-anchor=\"start\" x=\"332\" y=\"-468.8\" font-family=\"Helvetica,sans-Serif\" font-size=\"14.00\">class = CN</text>\n</g>\n<!-- 1 -->\n<g id=\"node2\" class=\"node\">\n<title>1</title>\n<path fill=\"#eb9d65\" stroke=\"black\" d=\"M349,-425C349,-425 185,-425 185,-425 179,-425 173,-419 173,-413 173,-413 173,-354 173,-354 173,-348 179,-342 185,-342 185,-342 349,-342 349,-342 355,-342 361,-348 361,-354 361,-354 361,-413 361,-413 361,-419 355,-425 349,-425\"/>\n<text text-anchor=\"start\" x=\"181\" y=\"-409.8\" font-family=\"Helvetica,sans-Serif\" font-size=\"14.00\">ctx&#45;rh&#45;unknown ≤ 0.001</text>\n<text text-anchor=\"start\" x=\"223\" y=\"-394.8\" font-family=\"Helvetica,sans-Serif\" font-size=\"14.00\">gini = 0.298</text>\n<text text-anchor=\"start\" x=\"218.5\" y=\"-379.8\" font-family=\"Helvetica,sans-Serif\" font-size=\"14.00\">samples = 44</text>\n<text text-anchor=\"start\" x=\"214\" y=\"-364.8\" font-family=\"Helvetica,sans-Serif\" font-size=\"14.00\">value = [36, 8]</text>\n<text text-anchor=\"start\" x=\"229\" y=\"-349.8\" font-family=\"Helvetica,sans-Serif\" font-size=\"14.00\">class = CN</text>\n</g>\n<!-- 0&#45;&gt;1 -->\n<g id=\"edge1\" class=\"edge\">\n<title>0&#45;&gt;1</title>\n<path fill=\"none\" stroke=\"black\" d=\"M334.26,-460.91C326.28,-451.83 317.73,-442.12 309.49,-432.77\"/>\n<polygon fill=\"black\" stroke=\"black\" points=\"311.91,-430.21 302.67,-425.02 306.65,-434.84 311.91,-430.21\"/>\n<text text-anchor=\"middle\" x=\"301.08\" y=\"-446.27\" font-family=\"Helvetica,sans-Serif\" font-size=\"14.00\">True</text>\n</g>\n<!-- 8 -->\n<g id=\"node9\" class=\"node\">\n<title>8</title>\n<path fill=\"#4da7e8\" stroke=\"black\" d=\"M550.5,-425C550.5,-425 395.5,-425 395.5,-425 389.5,-425 383.5,-419 383.5,-413 383.5,-413 383.5,-354 383.5,-354 383.5,-348 389.5,-342 395.5,-342 395.5,-342 550.5,-342 550.5,-342 556.5,-342 562.5,-348 562.5,-354 562.5,-354 562.5,-413 562.5,-413 562.5,-419 556.5,-425 550.5,-425\"/>\n<text text-anchor=\"start\" x=\"391.5\" y=\"-409.8\" font-family=\"Helvetica,sans-Serif\" font-size=\"14.00\">Right&#45;Pallidum ≤ 0.001</text>\n<text text-anchor=\"start\" x=\"429\" y=\"-394.8\" font-family=\"Helvetica,sans-Serif\" font-size=\"14.00\">gini = 0.165</text>\n<text text-anchor=\"start\" x=\"424.5\" y=\"-379.8\" font-family=\"Helvetica,sans-Serif\" font-size=\"14.00\">samples = 33</text>\n<text text-anchor=\"start\" x=\"420\" y=\"-364.8\" font-family=\"Helvetica,sans-Serif\" font-size=\"14.00\">value = [3, 30]</text>\n<text text-anchor=\"start\" x=\"435\" y=\"-349.8\" font-family=\"Helvetica,sans-Serif\" font-size=\"14.00\">class = AD</text>\n</g>\n<!-- 0&#45;&gt;8 -->\n<g id=\"edge8\" class=\"edge\">\n<title>0&#45;&gt;8</title>\n<path fill=\"none\" stroke=\"black\" d=\"M405.74,-460.91C413.72,-451.83 422.27,-442.12 430.51,-432.77\"/>\n<polygon fill=\"black\" stroke=\"black\" points=\"433.35,-434.84 437.33,-425.02 428.09,-430.21 433.35,-434.84\"/>\n<text text-anchor=\"middle\" x=\"438.92\" y=\"-446.27\" font-family=\"Helvetica,sans-Serif\" font-size=\"14.00\">False</text>\n</g>\n<!-- 2 -->\n<g id=\"node3\" class=\"node\">\n<title>2</title>\n<path fill=\"#e58139\" stroke=\"black\" d=\"M110,-298.5C110,-298.5 12,-298.5 12,-298.5 6,-298.5 0,-292.5 0,-286.5 0,-286.5 0,-242.5 0,-242.5 0,-236.5 6,-230.5 12,-230.5 12,-230.5 110,-230.5 110,-230.5 116,-230.5 122,-236.5 122,-242.5 122,-242.5 122,-286.5 122,-286.5 122,-292.5 116,-298.5 110,-298.5\"/>\n<text text-anchor=\"start\" x=\"26\" y=\"-283.3\" font-family=\"Helvetica,sans-Serif\" font-size=\"14.00\">gini = 0.0</text>\n<text text-anchor=\"start\" x=\"12.5\" y=\"-268.3\" font-family=\"Helvetica,sans-Serif\" font-size=\"14.00\">samples = 28</text>\n<text text-anchor=\"start\" x=\"8\" y=\"-253.3\" font-family=\"Helvetica,sans-Serif\" font-size=\"14.00\">value = [28, 0]</text>\n<text text-anchor=\"start\" x=\"23\" y=\"-238.3\" font-family=\"Helvetica,sans-Serif\" font-size=\"14.00\">class = CN</text>\n</g>\n<!-- 1&#45;&gt;2 -->\n<g id=\"edge2\" class=\"edge\">\n<title>1&#45;&gt;2</title>\n<path fill=\"none\" stroke=\"black\" d=\"M194.56,-341.97C173.99,-330.4 151.59,-317.75 131,-306 129.7,-305.26 128.4,-304.51 127.08,-303.76\"/>\n<polygon fill=\"black\" stroke=\"black\" points=\"128.69,-300.65 118.27,-298.71 125.2,-306.72 128.69,-300.65\"/>\n</g>\n<!-- 3 -->\n<g id=\"node4\" class=\"node\">\n<title>3</title>\n<path fill=\"#ffffff\" stroke=\"black\" d=\"M381.5,-306C381.5,-306 152.5,-306 152.5,-306 146.5,-306 140.5,-300 140.5,-294 140.5,-294 140.5,-235 140.5,-235 140.5,-229 146.5,-223 152.5,-223 152.5,-223 381.5,-223 381.5,-223 387.5,-223 393.5,-229 393.5,-235 393.5,-235 393.5,-294 393.5,-294 393.5,-300 387.5,-306 381.5,-306\"/>\n<text text-anchor=\"start\" x=\"148.5\" y=\"-290.8\" font-family=\"Helvetica,sans-Serif\" font-size=\"14.00\">ctx&#45;rh&#45;lateralorbitofrontal ≤ 0.001</text>\n<text text-anchor=\"start\" x=\"232\" y=\"-275.8\" font-family=\"Helvetica,sans-Serif\" font-size=\"14.00\">gini = 0.5</text>\n<text text-anchor=\"start\" x=\"218.5\" y=\"-260.8\" font-family=\"Helvetica,sans-Serif\" font-size=\"14.00\">samples = 16</text>\n<text text-anchor=\"start\" x=\"218.5\" y=\"-245.8\" font-family=\"Helvetica,sans-Serif\" font-size=\"14.00\">value = [8, 8]</text>\n<text text-anchor=\"start\" x=\"229\" y=\"-230.8\" font-family=\"Helvetica,sans-Serif\" font-size=\"14.00\">class = CN</text>\n</g>\n<!-- 1&#45;&gt;3 -->\n<g id=\"edge3\" class=\"edge\">\n<title>1&#45;&gt;3</title>\n<path fill=\"none\" stroke=\"black\" d=\"M267,-341.91C267,-333.65 267,-324.86 267,-316.3\"/>\n<polygon fill=\"black\" stroke=\"black\" points=\"270.5,-316.02 267,-306.02 263.5,-316.02 270.5,-316.02\"/>\n</g>\n<!-- 4 -->\n<g id=\"node5\" class=\"node\">\n<title>4</title>\n<path fill=\"#52a9e8\" stroke=\"black\" d=\"M308,-187C308,-187 108,-187 108,-187 102,-187 96,-181 96,-175 96,-175 96,-116 96,-116 96,-110 102,-104 108,-104 108,-104 308,-104 308,-104 314,-104 320,-110 320,-116 320,-116 320,-175 320,-175 320,-181 314,-187 308,-187\"/>\n<text text-anchor=\"start\" x=\"104\" y=\"-171.8\" font-family=\"Helvetica,sans-Serif\" font-size=\"14.00\">Left&#45;Accumbens&#45;area ≤ 0.002</text>\n<text text-anchor=\"start\" x=\"164\" y=\"-156.8\" font-family=\"Helvetica,sans-Serif\" font-size=\"14.00\">gini = 0.198</text>\n<text text-anchor=\"start\" x=\"164\" y=\"-141.8\" font-family=\"Helvetica,sans-Serif\" font-size=\"14.00\">samples = 9</text>\n<text text-anchor=\"start\" x=\"159.5\" y=\"-126.8\" font-family=\"Helvetica,sans-Serif\" font-size=\"14.00\">value = [1, 8]</text>\n<text text-anchor=\"start\" x=\"170\" y=\"-111.8\" font-family=\"Helvetica,sans-Serif\" font-size=\"14.00\">class = AD</text>\n</g>\n<!-- 3&#45;&gt;4 -->\n<g id=\"edge4\" class=\"edge\">\n<title>3&#45;&gt;4</title>\n<path fill=\"none\" stroke=\"black\" d=\"M246.53,-222.91C242.18,-214.29 237.55,-205.09 233.05,-196.17\"/>\n<polygon fill=\"black\" stroke=\"black\" points=\"236.06,-194.37 228.43,-187.02 229.81,-197.53 236.06,-194.37\"/>\n</g>\n<!-- 7 -->\n<g id=\"node8\" class=\"node\">\n<title>7</title>\n<path fill=\"#e58139\" stroke=\"black\" d=\"M439.5,-179.5C439.5,-179.5 350.5,-179.5 350.5,-179.5 344.5,-179.5 338.5,-173.5 338.5,-167.5 338.5,-167.5 338.5,-123.5 338.5,-123.5 338.5,-117.5 344.5,-111.5 350.5,-111.5 350.5,-111.5 439.5,-111.5 439.5,-111.5 445.5,-111.5 451.5,-117.5 451.5,-123.5 451.5,-123.5 451.5,-167.5 451.5,-167.5 451.5,-173.5 445.5,-179.5 439.5,-179.5\"/>\n<text text-anchor=\"start\" x=\"360\" y=\"-164.3\" font-family=\"Helvetica,sans-Serif\" font-size=\"14.00\">gini = 0.0</text>\n<text text-anchor=\"start\" x=\"351\" y=\"-149.3\" font-family=\"Helvetica,sans-Serif\" font-size=\"14.00\">samples = 7</text>\n<text text-anchor=\"start\" x=\"346.5\" y=\"-134.3\" font-family=\"Helvetica,sans-Serif\" font-size=\"14.00\">value = [7, 0]</text>\n<text text-anchor=\"start\" x=\"357\" y=\"-119.3\" font-family=\"Helvetica,sans-Serif\" font-size=\"14.00\">class = CN</text>\n</g>\n<!-- 3&#45;&gt;7 -->\n<g id=\"edge7\" class=\"edge\">\n<title>3&#45;&gt;7</title>\n<path fill=\"none\" stroke=\"black\" d=\"M311.41,-222.91C324.33,-211.1 338.42,-198.22 351.29,-186.45\"/>\n<polygon fill=\"black\" stroke=\"black\" points=\"353.7,-189 358.71,-179.67 348.97,-183.83 353.7,-189\"/>\n</g>\n<!-- 5 -->\n<g id=\"node6\" class=\"node\">\n<title>5</title>\n<path fill=\"#e58139\" stroke=\"black\" d=\"M187.5,-68C187.5,-68 98.5,-68 98.5,-68 92.5,-68 86.5,-62 86.5,-56 86.5,-56 86.5,-12 86.5,-12 86.5,-6 92.5,0 98.5,0 98.5,0 187.5,0 187.5,0 193.5,0 199.5,-6 199.5,-12 199.5,-12 199.5,-56 199.5,-56 199.5,-62 193.5,-68 187.5,-68\"/>\n<text text-anchor=\"start\" x=\"108\" y=\"-52.8\" font-family=\"Helvetica,sans-Serif\" font-size=\"14.00\">gini = 0.0</text>\n<text text-anchor=\"start\" x=\"99\" y=\"-37.8\" font-family=\"Helvetica,sans-Serif\" font-size=\"14.00\">samples = 1</text>\n<text text-anchor=\"start\" x=\"94.5\" y=\"-22.8\" font-family=\"Helvetica,sans-Serif\" font-size=\"14.00\">value = [1, 0]</text>\n<text text-anchor=\"start\" x=\"105\" y=\"-7.8\" font-family=\"Helvetica,sans-Serif\" font-size=\"14.00\">class = CN</text>\n</g>\n<!-- 4&#45;&gt;5 -->\n<g id=\"edge5\" class=\"edge\">\n<title>4&#45;&gt;5</title>\n<path fill=\"none\" stroke=\"black\" d=\"M183.8,-103.73C178.6,-94.97 173.1,-85.7 167.88,-76.91\"/>\n<polygon fill=\"black\" stroke=\"black\" points=\"170.88,-75.11 162.77,-68.3 164.86,-78.69 170.88,-75.11\"/>\n</g>\n<!-- 6 -->\n<g id=\"node7\" class=\"node\">\n<title>6</title>\n<path fill=\"#399de5\" stroke=\"black\" d=\"M318.5,-68C318.5,-68 229.5,-68 229.5,-68 223.5,-68 217.5,-62 217.5,-56 217.5,-56 217.5,-12 217.5,-12 217.5,-6 223.5,0 229.5,0 229.5,0 318.5,0 318.5,0 324.5,0 330.5,-6 330.5,-12 330.5,-12 330.5,-56 330.5,-56 330.5,-62 324.5,-68 318.5,-68\"/>\n<text text-anchor=\"start\" x=\"239\" y=\"-52.8\" font-family=\"Helvetica,sans-Serif\" font-size=\"14.00\">gini = 0.0</text>\n<text text-anchor=\"start\" x=\"230\" y=\"-37.8\" font-family=\"Helvetica,sans-Serif\" font-size=\"14.00\">samples = 8</text>\n<text text-anchor=\"start\" x=\"225.5\" y=\"-22.8\" font-family=\"Helvetica,sans-Serif\" font-size=\"14.00\">value = [0, 8]</text>\n<text text-anchor=\"start\" x=\"236\" y=\"-7.8\" font-family=\"Helvetica,sans-Serif\" font-size=\"14.00\">class = AD</text>\n</g>\n<!-- 4&#45;&gt;6 -->\n<g id=\"edge6\" class=\"edge\">\n<title>4&#45;&gt;6</title>\n<path fill=\"none\" stroke=\"black\" d=\"M232.58,-103.73C237.85,-94.97 243.44,-85.7 248.74,-76.91\"/>\n<polygon fill=\"black\" stroke=\"black\" points=\"251.76,-78.67 253.93,-68.3 245.77,-75.06 251.76,-78.67\"/>\n</g>\n<!-- 9 -->\n<g id=\"node10\" class=\"node\">\n<title>9</title>\n<path fill=\"#399de5\" stroke=\"black\" d=\"M522,-298.5C522,-298.5 424,-298.5 424,-298.5 418,-298.5 412,-292.5 412,-286.5 412,-286.5 412,-242.5 412,-242.5 412,-236.5 418,-230.5 424,-230.5 424,-230.5 522,-230.5 522,-230.5 528,-230.5 534,-236.5 534,-242.5 534,-242.5 534,-286.5 534,-286.5 534,-292.5 528,-298.5 522,-298.5\"/>\n<text text-anchor=\"start\" x=\"438\" y=\"-283.3\" font-family=\"Helvetica,sans-Serif\" font-size=\"14.00\">gini = 0.0</text>\n<text text-anchor=\"start\" x=\"424.5\" y=\"-268.3\" font-family=\"Helvetica,sans-Serif\" font-size=\"14.00\">samples = 28</text>\n<text text-anchor=\"start\" x=\"420\" y=\"-253.3\" font-family=\"Helvetica,sans-Serif\" font-size=\"14.00\">value = [0, 28]</text>\n<text text-anchor=\"start\" x=\"435\" y=\"-238.3\" font-family=\"Helvetica,sans-Serif\" font-size=\"14.00\">class = AD</text>\n</g>\n<!-- 8&#45;&gt;9 -->\n<g id=\"edge9\" class=\"edge\">\n<title>8&#45;&gt;9</title>\n<path fill=\"none\" stroke=\"black\" d=\"M473,-341.91C473,-331.2 473,-319.62 473,-308.78\"/>\n<polygon fill=\"black\" stroke=\"black\" points=\"476.5,-308.67 473,-298.67 469.5,-308.67 476.5,-308.67\"/>\n</g>\n<!-- 10 -->\n<g id=\"node11\" class=\"node\">\n<title>10</title>\n<path fill=\"#f6d5bd\" stroke=\"black\" d=\"M774,-306C774,-306 564,-306 564,-306 558,-306 552,-300 552,-294 552,-294 552,-235 552,-235 552,-229 558,-223 564,-223 564,-223 774,-223 774,-223 780,-223 786,-229 786,-235 786,-235 786,-294 786,-294 786,-300 780,-306 774,-306\"/>\n<text text-anchor=\"start\" x=\"560\" y=\"-290.8\" font-family=\"Helvetica,sans-Serif\" font-size=\"14.00\">ctx&#45;rh&#45;parstriangularis ≤ 0.001</text>\n<text text-anchor=\"start\" x=\"629.5\" y=\"-275.8\" font-family=\"Helvetica,sans-Serif\" font-size=\"14.00\">gini = 0.48</text>\n<text text-anchor=\"start\" x=\"625\" y=\"-260.8\" font-family=\"Helvetica,sans-Serif\" font-size=\"14.00\">samples = 5</text>\n<text text-anchor=\"start\" x=\"620.5\" y=\"-245.8\" font-family=\"Helvetica,sans-Serif\" font-size=\"14.00\">value = [3, 2]</text>\n<text text-anchor=\"start\" x=\"631\" y=\"-230.8\" font-family=\"Helvetica,sans-Serif\" font-size=\"14.00\">class = CN</text>\n</g>\n<!-- 8&#45;&gt;10 -->\n<g id=\"edge10\" class=\"edge\">\n<title>8&#45;&gt;10</title>\n<path fill=\"none\" stroke=\"black\" d=\"M541,-341.91C557.57,-332.02 575.41,-321.37 592.35,-311.25\"/>\n<polygon fill=\"black\" stroke=\"black\" points=\"594.33,-314.15 601.12,-306.02 590.74,-308.14 594.33,-314.15\"/>\n</g>\n<!-- 11 -->\n<g id=\"node12\" class=\"node\">\n<title>11</title>\n<path fill=\"#399de5\" stroke=\"black\" d=\"M640.5,-179.5C640.5,-179.5 551.5,-179.5 551.5,-179.5 545.5,-179.5 539.5,-173.5 539.5,-167.5 539.5,-167.5 539.5,-123.5 539.5,-123.5 539.5,-117.5 545.5,-111.5 551.5,-111.5 551.5,-111.5 640.5,-111.5 640.5,-111.5 646.5,-111.5 652.5,-117.5 652.5,-123.5 652.5,-123.5 652.5,-167.5 652.5,-167.5 652.5,-173.5 646.5,-179.5 640.5,-179.5\"/>\n<text text-anchor=\"start\" x=\"561\" y=\"-164.3\" font-family=\"Helvetica,sans-Serif\" font-size=\"14.00\">gini = 0.0</text>\n<text text-anchor=\"start\" x=\"552\" y=\"-149.3\" font-family=\"Helvetica,sans-Serif\" font-size=\"14.00\">samples = 2</text>\n<text text-anchor=\"start\" x=\"547.5\" y=\"-134.3\" font-family=\"Helvetica,sans-Serif\" font-size=\"14.00\">value = [0, 2]</text>\n<text text-anchor=\"start\" x=\"558\" y=\"-119.3\" font-family=\"Helvetica,sans-Serif\" font-size=\"14.00\">class = AD</text>\n</g>\n<!-- 10&#45;&gt;11 -->\n<g id=\"edge11\" class=\"edge\">\n<title>10&#45;&gt;11</title>\n<path fill=\"none\" stroke=\"black\" d=\"M643.67,-222.91C636.72,-211.76 629.17,-199.66 622.17,-188.44\"/>\n<polygon fill=\"black\" stroke=\"black\" points=\"624.96,-186.3 616.69,-179.67 619.02,-190 624.96,-186.3\"/>\n</g>\n<!-- 12 -->\n<g id=\"node13\" class=\"node\">\n<title>12</title>\n<path fill=\"#e58139\" stroke=\"black\" d=\"M771.5,-179.5C771.5,-179.5 682.5,-179.5 682.5,-179.5 676.5,-179.5 670.5,-173.5 670.5,-167.5 670.5,-167.5 670.5,-123.5 670.5,-123.5 670.5,-117.5 676.5,-111.5 682.5,-111.5 682.5,-111.5 771.5,-111.5 771.5,-111.5 777.5,-111.5 783.5,-117.5 783.5,-123.5 783.5,-123.5 783.5,-167.5 783.5,-167.5 783.5,-173.5 777.5,-179.5 771.5,-179.5\"/>\n<text text-anchor=\"start\" x=\"692\" y=\"-164.3\" font-family=\"Helvetica,sans-Serif\" font-size=\"14.00\">gini = 0.0</text>\n<text text-anchor=\"start\" x=\"683\" y=\"-149.3\" font-family=\"Helvetica,sans-Serif\" font-size=\"14.00\">samples = 3</text>\n<text text-anchor=\"start\" x=\"678.5\" y=\"-134.3\" font-family=\"Helvetica,sans-Serif\" font-size=\"14.00\">value = [3, 0]</text>\n<text text-anchor=\"start\" x=\"689\" y=\"-119.3\" font-family=\"Helvetica,sans-Serif\" font-size=\"14.00\">class = CN</text>\n</g>\n<!-- 10&#45;&gt;12 -->\n<g id=\"edge12\" class=\"edge\">\n<title>10&#45;&gt;12</title>\n<path fill=\"none\" stroke=\"black\" d=\"M689.12,-222.91C694.59,-211.87 700.53,-199.9 706.04,-188.77\"/>\n<polygon fill=\"black\" stroke=\"black\" points=\"709.25,-190.18 710.56,-179.67 702.98,-187.07 709.25,-190.18\"/>\n</g>\n</g>\n</svg>\n",
      "text/plain": [
       "<graphviz.sources.Source at 0x7f18555e0100>"
      ]
     },
     "execution_count": 31,
     "metadata": {},
     "output_type": "execute_result"
    }
   ],
   "source": [
    "dot_data = tree.export_graphviz(clf, out_file=None, feature_names=region[1:],  class_names=[\"CN\",\"AD\"],  filled=True, rounded=True,  special_characters=True)  \n",
    "graph = graphviz.Source(dot_data)  \n",
    "graph "
   ]
  },
  {
   "attachments": {},
   "cell_type": "markdown",
   "metadata": {},
   "source": [
    "Plotto la ROC"
   ]
  },
  {
   "cell_type": "code",
   "execution_count": 32,
   "metadata": {},
   "outputs": [
    {
     "data": {
      "image/png": "[encoded data removed]",
      "text/plain": [
       "<Figure size 640x480 with 1 Axes>"
      ]
     },
     "metadata": {},
     "output_type": "display_data"
    }
   ],
   "source": [
    "\n",
    "from sklearn.metrics import RocCurveDisplay\n",
    "\n",
    "RocCurveDisplay.from_predictions(y_tst,y_score,name=f\"AD vs the CN\",color=\"darkorange\",)\n",
    "plt.plot([0, 1], [0, 1], \"k--\", label=\"chance level (AUC = 0.5)\")\n",
    "plt.axis(\"square\")\n",
    "plt.xlabel(\"False Positive Rate\")\n",
    "plt.ylabel(\"True Positive Rate\")\n",
    "plt.title(\"One-vs-Rest ROC curves:\\nAD vs CN\")\n",
    "plt.legend()\n",
    "plt.show()\n",
    "\n"
   ]
  },
  {
   "cell_type": "code",
   "execution_count": null,
   "metadata": {},
   "outputs": [],
   "source": []
  }
 ],
 "metadata": {
  "kernelspec": {
   "display_name": "Python 3",
   "language": "python",
   "name": "python3"
  },
  "language_info": {
   "codemirror_mode": {
    "name": "ipython",
    "version": 3
   },
   "file_extension": ".py",
   "mimetype": "text/x-python",
   "name": "python",
   "nbconvert_exporter": "python",
   "pygments_lexer": "ipython3",
   "version": "3.10.7"
  },
  "orig_nbformat": 4,
  "vscode": {
   "interpreter": {
    "hash": "916dbcbb3f70747c44a77c7bcd40155683ae19c65e1c03b4aa3499c5328201f1"
   }
  }
 },
 "nbformat": 4,
 "nbformat_minor": 2
}
