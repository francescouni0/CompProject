{
 "cells": [
  {
   "cell_type": "code",
   "execution_count": 2,
   "metadata": {},
   "outputs": [],
   "source": [
    "import os\n",
    "import numpy as np\n",
    "import reading \n",
    "from feature_extractor import feature_extractor\n",
    "import pandas as pd\n",
    "import matplotlib.pyplot as plt"
   ]
  },
  {
   "attachments": {},
   "cell_type": "markdown",
   "metadata": {},
   "source": [
    "Load dei Path, Con il sort giusto per far corrispondere i soggetti"
   ]
  },
  {
   "cell_type": "code",
   "execution_count": 3,
   "metadata": {},
   "outputs": [],
   "source": [
    "paths_MD= reading.data_path(\"Diffusion_parameters_maps-20230215T134959Z-001\",\"corrected_MD_image\")\n",
    "paths_masks=reading.data_path(\"Diffusion_space_segmentations-20230215T134839Z-001\",\"Diffusion_space_segmentations-20230215T134839Z-001\")\n",
    "\n",
    "\n",
    "#print((os.path.basename(paths_masks[0]).split('_')[2]))\n",
    "\n",
    "paths_MD.sort(key=lambda x: int(os.path.basename(x).split('_')[3]))\n",
    "paths_masks.sort(key=lambda x: int(os.path.basename(x).split('_')[2]))\n"
   ]
  },
  {
   "attachments": {},
   "cell_type": "markdown",
   "metadata": {},
   "source": [
    "Feature extraction"
   ]
  },
  {
   "cell_type": "code",
   "execution_count": 4,
   "metadata": {},
   "outputs": [],
   "source": [
    "region, mean, std=feature_extractor(paths_MD,paths_masks)\n"
   ]
  },
  {
   "attachments": {},
   "cell_type": "markdown",
   "metadata": {},
   "source": [
    "Reshape degli array per fare il Dataframe"
   ]
  },
  {
   "cell_type": "code",
   "execution_count": 5,
   "metadata": {},
   "outputs": [],
   "source": [
    "mean_t=np.transpose(mean)\n",
    "std_t=np.transpose(std)\n"
   ]
  },
  {
   "attachments": {},
   "cell_type": "markdown",
   "metadata": {},
   "source": [
    "Creo DataFrame per mean and std"
   ]
  },
  {
   "cell_type": "code",
   "execution_count": 6,
   "metadata": {},
   "outputs": [
    {
     "data": {
      "text/html": [
       "<div>\n",
       "<style scoped>\n",
       "    .dataframe tbody tr th:only-of-type {\n",
       "        vertical-align: middle;\n",
       "    }\n",
       "\n",
       "    .dataframe tbody tr th {\n",
       "        vertical-align: top;\n",
       "    }\n",
       "\n",
       "    .dataframe thead th {\n",
       "        text-align: right;\n",
       "    }\n",
       "</style>\n",
       "<table border=\"1\" class=\"dataframe\">\n",
       "  <thead>\n",
       "    <tr style=\"text-align: right;\">\n",
       "      <th></th>\n",
       "      <th>Left-Lateral-Ventricle</th>\n",
       "      <th>Left-Inf-Lat-Vent</th>\n",
       "      <th>Left-Cerebellum-White-Matter</th>\n",
       "      <th>Left-Cerebellum-Cortex</th>\n",
       "      <th>Left-Thalamus</th>\n",
       "      <th>Left-Caudate</th>\n",
       "      <th>Left-Putamen</th>\n",
       "      <th>Left-Pallidum</th>\n",
       "      <th>3rd-Ventricle</th>\n",
       "      <th>4th-Ventricle</th>\n",
       "      <th>...</th>\n",
       "      <th>wm-rh-superiorfrontal</th>\n",
       "      <th>wm-rh-superiorparietal</th>\n",
       "      <th>wm-rh-superiortemporal</th>\n",
       "      <th>wm-rh-supramarginal</th>\n",
       "      <th>wm-rh-frontalpole</th>\n",
       "      <th>wm-rh-temporalpole</th>\n",
       "      <th>wm-rh-transversetemporal</th>\n",
       "      <th>wm-rh-insula</th>\n",
       "      <th>Left-UnsegmentedWhiteMatter</th>\n",
       "      <th>Right-UnsegmentedWhiteMatter</th>\n",
       "    </tr>\n",
       "  </thead>\n",
       "  <tbody>\n",
       "    <tr>\n",
       "      <th>1.0</th>\n",
       "      <td>0.000078</td>\n",
       "      <td>0.002625</td>\n",
       "      <td>0.001393</td>\n",
       "      <td>0.000837</td>\n",
       "      <td>0.001063</td>\n",
       "      <td>0.001086</td>\n",
       "      <td>0.001244</td>\n",
       "      <td>0.000855</td>\n",
       "      <td>0.000820</td>\n",
       "      <td>0.002566</td>\n",
       "      <td>...</td>\n",
       "      <td>0.000842</td>\n",
       "      <td>0.000906</td>\n",
       "      <td>0.000964</td>\n",
       "      <td>0.000797</td>\n",
       "      <td>0.000786</td>\n",
       "      <td>0.000848</td>\n",
       "      <td>0.000919</td>\n",
       "      <td>0.000736</td>\n",
       "      <td>0.000898</td>\n",
       "      <td>0.000931</td>\n",
       "    </tr>\n",
       "    <tr>\n",
       "      <th>2.0</th>\n",
       "      <td>0.000093</td>\n",
       "      <td>0.002450</td>\n",
       "      <td>0.001338</td>\n",
       "      <td>0.000724</td>\n",
       "      <td>0.000878</td>\n",
       "      <td>0.000953</td>\n",
       "      <td>0.000986</td>\n",
       "      <td>0.000773</td>\n",
       "      <td>0.000768</td>\n",
       "      <td>0.002419</td>\n",
       "      <td>...</td>\n",
       "      <td>0.000781</td>\n",
       "      <td>0.000774</td>\n",
       "      <td>0.000912</td>\n",
       "      <td>0.000757</td>\n",
       "      <td>0.000752</td>\n",
       "      <td>0.000778</td>\n",
       "      <td>0.000838</td>\n",
       "      <td>0.000749</td>\n",
       "      <td>0.000785</td>\n",
       "      <td>0.000865</td>\n",
       "    </tr>\n",
       "    <tr>\n",
       "      <th>3.0</th>\n",
       "      <td>0.000135</td>\n",
       "      <td>0.002526</td>\n",
       "      <td>0.001711</td>\n",
       "      <td>0.000716</td>\n",
       "      <td>0.000955</td>\n",
       "      <td>0.001038</td>\n",
       "      <td>0.001291</td>\n",
       "      <td>0.000905</td>\n",
       "      <td>0.000885</td>\n",
       "      <td>0.002576</td>\n",
       "      <td>...</td>\n",
       "      <td>0.000813</td>\n",
       "      <td>0.000848</td>\n",
       "      <td>0.000803</td>\n",
       "      <td>0.000822</td>\n",
       "      <td>0.000763</td>\n",
       "      <td>0.001048</td>\n",
       "      <td>0.001090</td>\n",
       "      <td>0.000780</td>\n",
       "      <td>0.000910</td>\n",
       "      <td>0.000919</td>\n",
       "    </tr>\n",
       "    <tr>\n",
       "      <th>4.0</th>\n",
       "      <td>0.000144</td>\n",
       "      <td>0.002553</td>\n",
       "      <td>0.001665</td>\n",
       "      <td>0.000769</td>\n",
       "      <td>0.001031</td>\n",
       "      <td>0.001050</td>\n",
       "      <td>0.001144</td>\n",
       "      <td>0.000818</td>\n",
       "      <td>0.000747</td>\n",
       "      <td>0.003102</td>\n",
       "      <td>...</td>\n",
       "      <td>0.000830</td>\n",
       "      <td>0.000848</td>\n",
       "      <td>0.000819</td>\n",
       "      <td>0.000839</td>\n",
       "      <td>0.000820</td>\n",
       "      <td>0.000873</td>\n",
       "      <td>0.000873</td>\n",
       "      <td>0.000820</td>\n",
       "      <td>0.000859</td>\n",
       "      <td>0.000903</td>\n",
       "    </tr>\n",
       "    <tr>\n",
       "      <th>5.0</th>\n",
       "      <td>0.000142</td>\n",
       "      <td>0.002536</td>\n",
       "      <td>0.001829</td>\n",
       "      <td>0.000781</td>\n",
       "      <td>0.001109</td>\n",
       "      <td>0.000991</td>\n",
       "      <td>0.001134</td>\n",
       "      <td>0.000794</td>\n",
       "      <td>0.000748</td>\n",
       "      <td>0.002780</td>\n",
       "      <td>...</td>\n",
       "      <td>0.000835</td>\n",
       "      <td>0.000823</td>\n",
       "      <td>0.000748</td>\n",
       "      <td>0.000813</td>\n",
       "      <td>0.000765</td>\n",
       "      <td>0.000848</td>\n",
       "      <td>0.000963</td>\n",
       "      <td>0.000766</td>\n",
       "      <td>0.000861</td>\n",
       "      <td>0.000891</td>\n",
       "    </tr>\n",
       "  </tbody>\n",
       "</table>\n",
       "<p>5 rows × 176 columns</p>\n",
       "</div>"
      ],
      "text/plain": [
       "     Left-Lateral-Ventricle  Left-Inf-Lat-Vent  Left-Cerebellum-White-Matter  \\\n",
       "1.0                0.000078           0.002625                      0.001393   \n",
       "2.0                0.000093           0.002450                      0.001338   \n",
       "3.0                0.000135           0.002526                      0.001711   \n",
       "4.0                0.000144           0.002553                      0.001665   \n",
       "5.0                0.000142           0.002536                      0.001829   \n",
       "\n",
       "     Left-Cerebellum-Cortex  Left-Thalamus  Left-Caudate  Left-Putamen  \\\n",
       "1.0                0.000837       0.001063      0.001086      0.001244   \n",
       "2.0                0.000724       0.000878      0.000953      0.000986   \n",
       "3.0                0.000716       0.000955      0.001038      0.001291   \n",
       "4.0                0.000769       0.001031      0.001050      0.001144   \n",
       "5.0                0.000781       0.001109      0.000991      0.001134   \n",
       "\n",
       "     Left-Pallidum  3rd-Ventricle  4th-Ventricle  ...  wm-rh-superiorfrontal  \\\n",
       "1.0       0.000855       0.000820       0.002566  ...               0.000842   \n",
       "2.0       0.000773       0.000768       0.002419  ...               0.000781   \n",
       "3.0       0.000905       0.000885       0.002576  ...               0.000813   \n",
       "4.0       0.000818       0.000747       0.003102  ...               0.000830   \n",
       "5.0       0.000794       0.000748       0.002780  ...               0.000835   \n",
       "\n",
       "     wm-rh-superiorparietal  wm-rh-superiortemporal  wm-rh-supramarginal  \\\n",
       "1.0                0.000906                0.000964             0.000797   \n",
       "2.0                0.000774                0.000912             0.000757   \n",
       "3.0                0.000848                0.000803             0.000822   \n",
       "4.0                0.000848                0.000819             0.000839   \n",
       "5.0                0.000823                0.000748             0.000813   \n",
       "\n",
       "     wm-rh-frontalpole  wm-rh-temporalpole  wm-rh-transversetemporal  \\\n",
       "1.0           0.000786            0.000848                  0.000919   \n",
       "2.0           0.000752            0.000778                  0.000838   \n",
       "3.0           0.000763            0.001048                  0.001090   \n",
       "4.0           0.000820            0.000873                  0.000873   \n",
       "5.0           0.000765            0.000848                  0.000963   \n",
       "\n",
       "     wm-rh-insula  Left-UnsegmentedWhiteMatter  Right-UnsegmentedWhiteMatter  \n",
       "1.0      0.000736                     0.000898                      0.000931  \n",
       "2.0      0.000749                     0.000785                      0.000865  \n",
       "3.0      0.000780                     0.000910                      0.000919  \n",
       "4.0      0.000820                     0.000859                      0.000903  \n",
       "5.0      0.000766                     0.000861                      0.000891  \n",
       "\n",
       "[5 rows x 176 columns]"
      ]
     },
     "execution_count": 6,
     "metadata": {},
     "output_type": "execute_result"
    }
   ],
   "source": [
    "\n",
    "\n",
    "df_mean = pd.DataFrame(mean_t[1:,1:177],index=mean[0][1:98],columns=region[1:177])\n",
    "df_std=pd.DataFrame(std_t[1:,1:177],index=std[0][1:98],columns=region[1:177])\n",
    "\n",
    "df_mean.head()"
   ]
  },
  {
   "attachments": {},
   "cell_type": "markdown",
   "metadata": {},
   "source": [
    "Aggiungo i gruppi"
   ]
  },
  {
   "cell_type": "code",
   "execution_count": 7,
   "metadata": {},
   "outputs": [
    {
     "data": {
      "text/html": [
       "<div>\n",
       "<style scoped>\n",
       "    .dataframe tbody tr th:only-of-type {\n",
       "        vertical-align: middle;\n",
       "    }\n",
       "\n",
       "    .dataframe tbody tr th {\n",
       "        vertical-align: top;\n",
       "    }\n",
       "\n",
       "    .dataframe thead th {\n",
       "        text-align: right;\n",
       "    }\n",
       "</style>\n",
       "<table border=\"1\" class=\"dataframe\">\n",
       "  <thead>\n",
       "    <tr style=\"text-align: right;\">\n",
       "      <th></th>\n",
       "      <th>Subject</th>\n",
       "      <th>Group</th>\n",
       "      <th>Sex</th>\n",
       "      <th>Age</th>\n",
       "    </tr>\n",
       "  </thead>\n",
       "  <tbody>\n",
       "    <tr>\n",
       "      <th>67</th>\n",
       "      <td>4002</td>\n",
       "      <td>0</td>\n",
       "      <td>F</td>\n",
       "      <td>74.0</td>\n",
       "    </tr>\n",
       "    <tr>\n",
       "      <th>68</th>\n",
       "      <td>4003</td>\n",
       "      <td>0</td>\n",
       "      <td>F</td>\n",
       "      <td>72.0</td>\n",
       "    </tr>\n",
       "    <tr>\n",
       "      <th>28</th>\n",
       "      <td>4009</td>\n",
       "      <td>1</td>\n",
       "      <td>M</td>\n",
       "      <td>90.0</td>\n",
       "    </tr>\n",
       "    <tr>\n",
       "      <th>69</th>\n",
       "      <td>4018</td>\n",
       "      <td>0</td>\n",
       "      <td>M</td>\n",
       "      <td>76.0</td>\n",
       "    </tr>\n",
       "    <tr>\n",
       "      <th>70</th>\n",
       "      <td>4050</td>\n",
       "      <td>0</td>\n",
       "      <td>M</td>\n",
       "      <td>77.0</td>\n",
       "    </tr>\n",
       "  </tbody>\n",
       "</table>\n",
       "</div>"
      ],
      "text/plain": [
       "    Subject  Group Sex   Age\n",
       "67     4002      0   F  74.0\n",
       "68     4003      0   F  72.0\n",
       "28     4009      1   M  90.0\n",
       "69     4018      0   M  76.0\n",
       "70     4050      0   M  77.0"
      ]
     },
     "execution_count": 7,
     "metadata": {},
     "output_type": "execute_result"
    }
   ],
   "source": [
    "a=pd.DataFrame(pd.read_csv('/home/francesco/CompProject/ADNI_dataset_diffusion.csv'))\n",
    "a.sort_values(by=[\"Subject\"],inplace=True)\n",
    "group=a[\"Group\"]\n",
    "a.head()"
   ]
  },
  {
   "attachments": {},
   "cell_type": "markdown",
   "metadata": {},
   "source": [
    "Albero decisionale: creo i set e splitto"
   ]
  },
  {
   "cell_type": "code",
   "execution_count": 20,
   "metadata": {},
   "outputs": [],
   "source": [
    "from sklearn import tree\n",
    "from sklearn.model_selection import train_test_split\n",
    "\n",
    "\n",
    "X=df_mean.values\n",
    "y=group.values\n",
    "\n",
    "X_tr, X_tst, y_tr, y_tst = train_test_split(X, y, test_size=.2, random_state=0)\n",
    "\n"
   ]
  },
  {
   "attachments": {},
   "cell_type": "markdown",
   "metadata": {},
   "source": [
    "Fitto l'albero"
   ]
  },
  {
   "cell_type": "code",
   "execution_count": 21,
   "metadata": {},
   "outputs": [
    {
     "name": "stdout",
     "output_type": "stream",
     "text": [
      "[0 1 1 0 0 0 1 1 0 1 0 0 0 1 0 0 0 1 0 0]\n"
     ]
    }
   ],
   "source": [
    "\n",
    "clf = tree.DecisionTreeClassifier()\n",
    "\n",
    "y_score = clf.fit(X_tr, y_tr).predict(X_tst)\n",
    "\n",
    "#tree.plot_tree(clf)\n",
    "print(y_score)\n"
   ]
  },
  {
   "cell_type": "code",
   "execution_count": 22,
   "metadata": {},
   "outputs": [
    {
     "name": "stdout",
     "output_type": "stream",
     "text": [
      "0.8181818181818181\n"
     ]
    }
   ],
   "source": [
    "import sklearn.metrics \n",
    "print(sklearn.metrics.roc_auc_score(y_tst, y_score))\n",
    "fpr,tpr,thre = sklearn.metrics.roc_curve(y_tst, y_score)"
   ]
  },
  {
   "attachments": {},
   "cell_type": "markdown",
   "metadata": {},
   "source": [
    "PLotto l'albero decisionale"
   ]
  },
  {
   "cell_type": "code",
   "execution_count": 23,
   "metadata": {},
   "outputs": [],
   "source": [
    "import graphviz \n",
    "dot_data = tree.export_graphviz(clf, out_file=None) \n",
    "graph = graphviz.Source(dot_data) \n",
    "#graph.render(\"iris\") "
   ]
  },
  {
   "cell_type": "code",
   "execution_count": 18,
   "metadata": {},
   "outputs": [
    {
     "data": {
      "image/svg+xml": "<?xml version=\"1.0\" encoding=\"UTF-8\" standalone=\"no\"?>\n<!DOCTYPE svg PUBLIC \"-//W3C//DTD SVG 1.1//EN\"\n \"http://www.w3.org/Graphics/SVG/1.1/DTD/svg11.dtd\">\n<!-- Generated by graphviz version 2.43.0 (0)\n -->\n<!-- Title: Tree Pages: 1 -->\n<svg width=\"1057pt\" height=\"671pt\"\n viewBox=\"0.00 0.00 1056.50 671.00\" xmlns=\"http://www.w3.org/2000/svg\" xmlns:xlink=\"http://www.w3.org/1999/xlink\">\n<g id=\"graph0\" class=\"graph\" transform=\"scale(1 1) rotate(0) translate(4 667)\">\n<title>Tree</title>\n<polygon fill=\"white\" stroke=\"transparent\" points=\"-4,4 -4,-667 1052.5,-667 1052.5,4 -4,4\"/>\n<!-- 0 -->\n<g id=\"node1\" class=\"node\">\n<title>0</title>\n<path fill=\"#fbece2\" stroke=\"black\" d=\"M717,-663C717,-663 557,-663 557,-663 551,-663 545,-657 545,-651 545,-651 545,-592 545,-592 545,-586 551,-580 557,-580 557,-580 717,-580 717,-580 723,-580 729,-586 729,-592 729,-592 729,-651 729,-651 729,-657 723,-663 717,-663\"/>\n<text text-anchor=\"start\" x=\"553\" y=\"-647.8\" font-family=\"Helvetica,sans-Serif\" font-size=\"14.00\">wm&#45;lh&#45;fusiform ≤ 0.001</text>\n<text text-anchor=\"start\" x=\"593\" y=\"-632.8\" font-family=\"Helvetica,sans-Serif\" font-size=\"14.00\">gini = 0.497</text>\n<text text-anchor=\"start\" x=\"588.5\" y=\"-617.8\" font-family=\"Helvetica,sans-Serif\" font-size=\"14.00\">samples = 87</text>\n<text text-anchor=\"start\" x=\"579.5\" y=\"-602.8\" font-family=\"Helvetica,sans-Serif\" font-size=\"14.00\">value = [47, 40]</text>\n<text text-anchor=\"start\" x=\"599\" y=\"-587.8\" font-family=\"Helvetica,sans-Serif\" font-size=\"14.00\">class = CN</text>\n</g>\n<!-- 1 -->\n<g id=\"node2\" class=\"node\">\n<title>1</title>\n<path fill=\"#ea9b61\" stroke=\"black\" d=\"M599,-544C599,-544 445,-544 445,-544 439,-544 433,-538 433,-532 433,-532 433,-473 433,-473 433,-467 439,-461 445,-461 445,-461 599,-461 599,-461 605,-461 611,-467 611,-473 611,-473 611,-532 611,-532 611,-538 605,-544 599,-544\"/>\n<text text-anchor=\"start\" x=\"441\" y=\"-528.8\" font-family=\"Helvetica,sans-Serif\" font-size=\"14.00\">Left&#45;Amygdala ≤ 0.001</text>\n<text text-anchor=\"start\" x=\"478\" y=\"-513.8\" font-family=\"Helvetica,sans-Serif\" font-size=\"14.00\">gini = 0.282</text>\n<text text-anchor=\"start\" x=\"473.5\" y=\"-498.8\" font-family=\"Helvetica,sans-Serif\" font-size=\"14.00\">samples = 53</text>\n<text text-anchor=\"start\" x=\"469\" y=\"-483.8\" font-family=\"Helvetica,sans-Serif\" font-size=\"14.00\">value = [44, 9]</text>\n<text text-anchor=\"start\" x=\"484\" y=\"-468.8\" font-family=\"Helvetica,sans-Serif\" font-size=\"14.00\">class = CN</text>\n</g>\n<!-- 0&#45;&gt;1 -->\n<g id=\"edge1\" class=\"edge\">\n<title>0&#45;&gt;1</title>\n<path fill=\"none\" stroke=\"black\" d=\"M597.1,-579.91C588,-570.65 578.25,-560.73 568.89,-551.21\"/>\n<polygon fill=\"black\" stroke=\"black\" points=\"571.33,-548.7 561.83,-544.02 566.34,-553.61 571.33,-548.7\"/>\n<text text-anchor=\"middle\" x=\"561.61\" y=\"-565.32\" font-family=\"Helvetica,sans-Serif\" font-size=\"14.00\">True</text>\n</g>\n<!-- 12 -->\n<g id=\"node13\" class=\"node\">\n<title>12</title>\n<path fill=\"#4ca6e8\" stroke=\"black\" d=\"M863,-544C863,-544 641,-544 641,-544 635,-544 629,-538 629,-532 629,-532 629,-473 629,-473 629,-467 635,-461 641,-461 641,-461 863,-461 863,-461 869,-461 875,-467 875,-473 875,-473 875,-532 875,-532 875,-538 869,-544 863,-544\"/>\n<text text-anchor=\"start\" x=\"637\" y=\"-528.8\" font-family=\"Helvetica,sans-Serif\" font-size=\"14.00\">wm&#45;lh&#45;superiortemporal ≤ 0.001</text>\n<text text-anchor=\"start\" x=\"708\" y=\"-513.8\" font-family=\"Helvetica,sans-Serif\" font-size=\"14.00\">gini = 0.161</text>\n<text text-anchor=\"start\" x=\"703.5\" y=\"-498.8\" font-family=\"Helvetica,sans-Serif\" font-size=\"14.00\">samples = 34</text>\n<text text-anchor=\"start\" x=\"699\" y=\"-483.8\" font-family=\"Helvetica,sans-Serif\" font-size=\"14.00\">value = [3, 31]</text>\n<text text-anchor=\"start\" x=\"714\" y=\"-468.8\" font-family=\"Helvetica,sans-Serif\" font-size=\"14.00\">class = AD</text>\n</g>\n<!-- 0&#45;&gt;12 -->\n<g id=\"edge12\" class=\"edge\">\n<title>0&#45;&gt;12</title>\n<path fill=\"none\" stroke=\"black\" d=\"M676.9,-579.91C686,-570.65 695.75,-560.73 705.11,-551.21\"/>\n<polygon fill=\"black\" stroke=\"black\" points=\"707.66,-553.61 712.17,-544.02 702.67,-548.7 707.66,-553.61\"/>\n<text text-anchor=\"middle\" x=\"712.39\" y=\"-565.32\" font-family=\"Helvetica,sans-Serif\" font-size=\"14.00\">False</text>\n</g>\n<!-- 2 -->\n<g id=\"node3\" class=\"node\">\n<title>2</title>\n<path fill=\"#e89050\" stroke=\"black\" d=\"M421,-425C421,-425 245,-425 245,-425 239,-425 233,-419 233,-413 233,-413 233,-354 233,-354 233,-348 239,-342 245,-342 245,-342 421,-342 421,-342 427,-342 433,-348 433,-354 433,-354 433,-413 433,-413 433,-419 427,-425 421,-425\"/>\n<text text-anchor=\"start\" x=\"241\" y=\"-409.8\" font-family=\"Helvetica,sans-Serif\" font-size=\"14.00\">ctx&#45;lh&#45;postcentral ≤ 0.001</text>\n<text text-anchor=\"start\" x=\"289\" y=\"-394.8\" font-family=\"Helvetica,sans-Serif\" font-size=\"14.00\">gini = 0.187</text>\n<text text-anchor=\"start\" x=\"284.5\" y=\"-379.8\" font-family=\"Helvetica,sans-Serif\" font-size=\"14.00\">samples = 48</text>\n<text text-anchor=\"start\" x=\"280\" y=\"-364.8\" font-family=\"Helvetica,sans-Serif\" font-size=\"14.00\">value = [43, 5]</text>\n<text text-anchor=\"start\" x=\"295\" y=\"-349.8\" font-family=\"Helvetica,sans-Serif\" font-size=\"14.00\">class = CN</text>\n</g>\n<!-- 1&#45;&gt;2 -->\n<g id=\"edge2\" class=\"edge\">\n<title>1&#45;&gt;2</title>\n<path fill=\"none\" stroke=\"black\" d=\"M456.43,-460.91C440.59,-451.11 423.56,-440.56 407.36,-430.53\"/>\n<polygon fill=\"black\" stroke=\"black\" points=\"408.8,-427.31 398.46,-425.02 405.12,-433.26 408.8,-427.31\"/>\n</g>\n<!-- 9 -->\n<g id=\"node10\" class=\"node\">\n<title>9</title>\n<path fill=\"#6ab6ec\" stroke=\"black\" d=\"M613,-425C613,-425 463,-425 463,-425 457,-425 451,-419 451,-413 451,-413 451,-354 451,-354 451,-348 457,-342 463,-342 463,-342 613,-342 613,-342 619,-342 625,-348 625,-354 625,-354 625,-413 625,-413 625,-419 619,-425 613,-425\"/>\n<text text-anchor=\"start\" x=\"459\" y=\"-409.8\" font-family=\"Helvetica,sans-Serif\" font-size=\"14.00\">ctx&#45;rh&#45;cuneus ≤ 0.001</text>\n<text text-anchor=\"start\" x=\"498.5\" y=\"-394.8\" font-family=\"Helvetica,sans-Serif\" font-size=\"14.00\">gini = 0.32</text>\n<text text-anchor=\"start\" x=\"494\" y=\"-379.8\" font-family=\"Helvetica,sans-Serif\" font-size=\"14.00\">samples = 5</text>\n<text text-anchor=\"start\" x=\"489.5\" y=\"-364.8\" font-family=\"Helvetica,sans-Serif\" font-size=\"14.00\">value = [1, 4]</text>\n<text text-anchor=\"start\" x=\"500\" y=\"-349.8\" font-family=\"Helvetica,sans-Serif\" font-size=\"14.00\">class = AD</text>\n</g>\n<!-- 1&#45;&gt;9 -->\n<g id=\"edge9\" class=\"edge\">\n<title>1&#45;&gt;9</title>\n<path fill=\"none\" stroke=\"black\" d=\"M527.55,-460.91C528.69,-452.56 529.91,-443.67 531.09,-435.02\"/>\n<polygon fill=\"black\" stroke=\"black\" points=\"534.57,-435.4 532.46,-425.02 527.64,-434.45 534.57,-435.4\"/>\n</g>\n<!-- 3 -->\n<g id=\"node4\" class=\"node\">\n<title>3</title>\n<path fill=\"#f1ba93\" stroke=\"black\" d=\"M242.5,-306C242.5,-306 69.5,-306 69.5,-306 63.5,-306 57.5,-300 57.5,-294 57.5,-294 57.5,-235 57.5,-235 57.5,-229 63.5,-223 69.5,-223 69.5,-223 242.5,-223 242.5,-223 248.5,-223 254.5,-229 254.5,-235 254.5,-235 254.5,-294 254.5,-294 254.5,-300 248.5,-306 242.5,-306\"/>\n<text text-anchor=\"start\" x=\"65.5\" y=\"-290.8\" font-family=\"Helvetica,sans-Serif\" font-size=\"14.00\">ctx&#45;lh&#45;frontalpole ≤ 0.001</text>\n<text text-anchor=\"start\" x=\"116.5\" y=\"-275.8\" font-family=\"Helvetica,sans-Serif\" font-size=\"14.00\">gini = 0.43</text>\n<text text-anchor=\"start\" x=\"107.5\" y=\"-260.8\" font-family=\"Helvetica,sans-Serif\" font-size=\"14.00\">samples = 16</text>\n<text text-anchor=\"start\" x=\"103\" y=\"-245.8\" font-family=\"Helvetica,sans-Serif\" font-size=\"14.00\">value = [11, 5]</text>\n<text text-anchor=\"start\" x=\"118\" y=\"-230.8\" font-family=\"Helvetica,sans-Serif\" font-size=\"14.00\">class = CN</text>\n</g>\n<!-- 2&#45;&gt;3 -->\n<g id=\"edge3\" class=\"edge\">\n<title>2&#45;&gt;3</title>\n<path fill=\"none\" stroke=\"black\" d=\"M271.59,-341.91C256.9,-332.2 241.11,-321.76 226.06,-311.81\"/>\n<polygon fill=\"black\" stroke=\"black\" points=\"227.57,-308.62 217.3,-306.02 223.71,-314.45 227.57,-308.62\"/>\n</g>\n<!-- 8 -->\n<g id=\"node9\" class=\"node\">\n<title>8</title>\n<path fill=\"#e58139\" stroke=\"black\" d=\"M383,-298.5C383,-298.5 285,-298.5 285,-298.5 279,-298.5 273,-292.5 273,-286.5 273,-286.5 273,-242.5 273,-242.5 273,-236.5 279,-230.5 285,-230.5 285,-230.5 383,-230.5 383,-230.5 389,-230.5 395,-236.5 395,-242.5 395,-242.5 395,-286.5 395,-286.5 395,-292.5 389,-298.5 383,-298.5\"/>\n<text text-anchor=\"start\" x=\"299\" y=\"-283.3\" font-family=\"Helvetica,sans-Serif\" font-size=\"14.00\">gini = 0.0</text>\n<text text-anchor=\"start\" x=\"285.5\" y=\"-268.3\" font-family=\"Helvetica,sans-Serif\" font-size=\"14.00\">samples = 32</text>\n<text text-anchor=\"start\" x=\"281\" y=\"-253.3\" font-family=\"Helvetica,sans-Serif\" font-size=\"14.00\">value = [32, 0]</text>\n<text text-anchor=\"start\" x=\"296\" y=\"-238.3\" font-family=\"Helvetica,sans-Serif\" font-size=\"14.00\">class = CN</text>\n</g>\n<!-- 2&#45;&gt;8 -->\n<g id=\"edge8\" class=\"edge\">\n<title>2&#45;&gt;8</title>\n<path fill=\"none\" stroke=\"black\" d=\"M333.35,-341.91C333.44,-331.2 333.54,-319.62 333.63,-308.78\"/>\n<polygon fill=\"black\" stroke=\"black\" points=\"337.13,-308.7 333.72,-298.67 330.13,-308.64 337.13,-308.7\"/>\n</g>\n<!-- 4 -->\n<g id=\"node5\" class=\"node\">\n<title>4</title>\n<path fill=\"#e58139\" stroke=\"black\" d=\"M110,-179.5C110,-179.5 12,-179.5 12,-179.5 6,-179.5 0,-173.5 0,-167.5 0,-167.5 0,-123.5 0,-123.5 0,-117.5 6,-111.5 12,-111.5 12,-111.5 110,-111.5 110,-111.5 116,-111.5 122,-117.5 122,-123.5 122,-123.5 122,-167.5 122,-167.5 122,-173.5 116,-179.5 110,-179.5\"/>\n<text text-anchor=\"start\" x=\"26\" y=\"-164.3\" font-family=\"Helvetica,sans-Serif\" font-size=\"14.00\">gini = 0.0</text>\n<text text-anchor=\"start\" x=\"12.5\" y=\"-149.3\" font-family=\"Helvetica,sans-Serif\" font-size=\"14.00\">samples = 10</text>\n<text text-anchor=\"start\" x=\"8\" y=\"-134.3\" font-family=\"Helvetica,sans-Serif\" font-size=\"14.00\">value = [10, 0]</text>\n<text text-anchor=\"start\" x=\"23\" y=\"-119.3\" font-family=\"Helvetica,sans-Serif\" font-size=\"14.00\">class = CN</text>\n</g>\n<!-- 3&#45;&gt;4 -->\n<g id=\"edge4\" class=\"edge\">\n<title>3&#45;&gt;4</title>\n<path fill=\"none\" stroke=\"black\" d=\"M123.04,-222.91C113.72,-211.43 103.58,-198.94 94.24,-187.44\"/>\n<polygon fill=\"black\" stroke=\"black\" points=\"96.95,-185.22 87.93,-179.67 91.52,-189.64 96.95,-185.22\"/>\n</g>\n<!-- 5 -->\n<g id=\"node6\" class=\"node\">\n<title>5</title>\n<path fill=\"#61b1ea\" stroke=\"black\" d=\"M351.5,-187C351.5,-187 152.5,-187 152.5,-187 146.5,-187 140.5,-181 140.5,-175 140.5,-175 140.5,-116 140.5,-116 140.5,-110 146.5,-104 152.5,-104 152.5,-104 351.5,-104 351.5,-104 357.5,-104 363.5,-110 363.5,-116 363.5,-116 363.5,-175 363.5,-175 363.5,-181 357.5,-187 351.5,-187\"/>\n<text text-anchor=\"start\" x=\"148.5\" y=\"-171.8\" font-family=\"Helvetica,sans-Serif\" font-size=\"14.00\">ctx&#45;lh&#45;supramarginal ≤ 0.001</text>\n<text text-anchor=\"start\" x=\"208\" y=\"-156.8\" font-family=\"Helvetica,sans-Serif\" font-size=\"14.00\">gini = 0.278</text>\n<text text-anchor=\"start\" x=\"208\" y=\"-141.8\" font-family=\"Helvetica,sans-Serif\" font-size=\"14.00\">samples = 6</text>\n<text text-anchor=\"start\" x=\"203.5\" y=\"-126.8\" font-family=\"Helvetica,sans-Serif\" font-size=\"14.00\">value = [1, 5]</text>\n<text text-anchor=\"start\" x=\"214\" y=\"-111.8\" font-family=\"Helvetica,sans-Serif\" font-size=\"14.00\">class = AD</text>\n</g>\n<!-- 3&#45;&gt;5 -->\n<g id=\"edge5\" class=\"edge\">\n<title>3&#45;&gt;5</title>\n<path fill=\"none\" stroke=\"black\" d=\"M189.31,-222.91C196.75,-213.83 204.72,-204.12 212.39,-194.77\"/>\n<polygon fill=\"black\" stroke=\"black\" points=\"215.11,-196.97 218.75,-187.02 209.7,-192.53 215.11,-196.97\"/>\n</g>\n<!-- 6 -->\n<g id=\"node7\" class=\"node\">\n<title>6</title>\n<path fill=\"#e58139\" stroke=\"black\" d=\"M231.5,-68C231.5,-68 142.5,-68 142.5,-68 136.5,-68 130.5,-62 130.5,-56 130.5,-56 130.5,-12 130.5,-12 130.5,-6 136.5,0 142.5,0 142.5,0 231.5,0 231.5,0 237.5,0 243.5,-6 243.5,-12 243.5,-12 243.5,-56 243.5,-56 243.5,-62 237.5,-68 231.5,-68\"/>\n<text text-anchor=\"start\" x=\"152\" y=\"-52.8\" font-family=\"Helvetica,sans-Serif\" font-size=\"14.00\">gini = 0.0</text>\n<text text-anchor=\"start\" x=\"143\" y=\"-37.8\" font-family=\"Helvetica,sans-Serif\" font-size=\"14.00\">samples = 1</text>\n<text text-anchor=\"start\" x=\"138.5\" y=\"-22.8\" font-family=\"Helvetica,sans-Serif\" font-size=\"14.00\">value = [1, 0]</text>\n<text text-anchor=\"start\" x=\"149\" y=\"-7.8\" font-family=\"Helvetica,sans-Serif\" font-size=\"14.00\">class = CN</text>\n</g>\n<!-- 5&#45;&gt;6 -->\n<g id=\"edge6\" class=\"edge\">\n<title>5&#45;&gt;6</title>\n<path fill=\"none\" stroke=\"black\" d=\"M227.8,-103.73C222.6,-94.97 217.1,-85.7 211.88,-76.91\"/>\n<polygon fill=\"black\" stroke=\"black\" points=\"214.88,-75.11 206.77,-68.3 208.86,-78.69 214.88,-75.11\"/>\n</g>\n<!-- 7 -->\n<g id=\"node8\" class=\"node\">\n<title>7</title>\n<path fill=\"#399de5\" stroke=\"black\" d=\"M362.5,-68C362.5,-68 273.5,-68 273.5,-68 267.5,-68 261.5,-62 261.5,-56 261.5,-56 261.5,-12 261.5,-12 261.5,-6 267.5,0 273.5,0 273.5,0 362.5,0 362.5,0 368.5,0 374.5,-6 374.5,-12 374.5,-12 374.5,-56 374.5,-56 374.5,-62 368.5,-68 362.5,-68\"/>\n<text text-anchor=\"start\" x=\"283\" y=\"-52.8\" font-family=\"Helvetica,sans-Serif\" font-size=\"14.00\">gini = 0.0</text>\n<text text-anchor=\"start\" x=\"274\" y=\"-37.8\" font-family=\"Helvetica,sans-Serif\" font-size=\"14.00\">samples = 5</text>\n<text text-anchor=\"start\" x=\"269.5\" y=\"-22.8\" font-family=\"Helvetica,sans-Serif\" font-size=\"14.00\">value = [0, 5]</text>\n<text text-anchor=\"start\" x=\"280\" y=\"-7.8\" font-family=\"Helvetica,sans-Serif\" font-size=\"14.00\">class = AD</text>\n</g>\n<!-- 5&#45;&gt;7 -->\n<g id=\"edge7\" class=\"edge\">\n<title>5&#45;&gt;7</title>\n<path fill=\"none\" stroke=\"black\" d=\"M276.58,-103.73C281.85,-94.97 287.44,-85.7 292.74,-76.91\"/>\n<polygon fill=\"black\" stroke=\"black\" points=\"295.76,-78.67 297.93,-68.3 289.77,-75.06 295.76,-78.67\"/>\n</g>\n<!-- 10 -->\n<g id=\"node11\" class=\"node\">\n<title>10</title>\n<path fill=\"#e58139\" stroke=\"black\" d=\"M522.5,-298.5C522.5,-298.5 433.5,-298.5 433.5,-298.5 427.5,-298.5 421.5,-292.5 421.5,-286.5 421.5,-286.5 421.5,-242.5 421.5,-242.5 421.5,-236.5 427.5,-230.5 433.5,-230.5 433.5,-230.5 522.5,-230.5 522.5,-230.5 528.5,-230.5 534.5,-236.5 534.5,-242.5 534.5,-242.5 534.5,-286.5 534.5,-286.5 534.5,-292.5 528.5,-298.5 522.5,-298.5\"/>\n<text text-anchor=\"start\" x=\"443\" y=\"-283.3\" font-family=\"Helvetica,sans-Serif\" font-size=\"14.00\">gini = 0.0</text>\n<text text-anchor=\"start\" x=\"434\" y=\"-268.3\" font-family=\"Helvetica,sans-Serif\" font-size=\"14.00\">samples = 1</text>\n<text text-anchor=\"start\" x=\"429.5\" y=\"-253.3\" font-family=\"Helvetica,sans-Serif\" font-size=\"14.00\">value = [1, 0]</text>\n<text text-anchor=\"start\" x=\"440\" y=\"-238.3\" font-family=\"Helvetica,sans-Serif\" font-size=\"14.00\">class = CN</text>\n</g>\n<!-- 9&#45;&gt;10 -->\n<g id=\"edge10\" class=\"edge\">\n<title>9&#45;&gt;10</title>\n<path fill=\"none\" stroke=\"black\" d=\"M517.18,-341.91C511.52,-330.87 505.38,-318.9 499.68,-307.77\"/>\n<polygon fill=\"black\" stroke=\"black\" points=\"502.69,-305.97 495.01,-298.67 496.46,-309.16 502.69,-305.97\"/>\n</g>\n<!-- 11 -->\n<g id=\"node12\" class=\"node\">\n<title>11</title>\n<path fill=\"#399de5\" stroke=\"black\" d=\"M653.5,-298.5C653.5,-298.5 564.5,-298.5 564.5,-298.5 558.5,-298.5 552.5,-292.5 552.5,-286.5 552.5,-286.5 552.5,-242.5 552.5,-242.5 552.5,-236.5 558.5,-230.5 564.5,-230.5 564.5,-230.5 653.5,-230.5 653.5,-230.5 659.5,-230.5 665.5,-236.5 665.5,-242.5 665.5,-242.5 665.5,-286.5 665.5,-286.5 665.5,-292.5 659.5,-298.5 653.5,-298.5\"/>\n<text text-anchor=\"start\" x=\"574\" y=\"-283.3\" font-family=\"Helvetica,sans-Serif\" font-size=\"14.00\">gini = 0.0</text>\n<text text-anchor=\"start\" x=\"565\" y=\"-268.3\" font-family=\"Helvetica,sans-Serif\" font-size=\"14.00\">samples = 4</text>\n<text text-anchor=\"start\" x=\"560.5\" y=\"-253.3\" font-family=\"Helvetica,sans-Serif\" font-size=\"14.00\">value = [0, 4]</text>\n<text text-anchor=\"start\" x=\"571\" y=\"-238.3\" font-family=\"Helvetica,sans-Serif\" font-size=\"14.00\">class = AD</text>\n</g>\n<!-- 9&#45;&gt;11 -->\n<g id=\"edge11\" class=\"edge\">\n<title>9&#45;&gt;11</title>\n<path fill=\"none\" stroke=\"black\" d=\"M562.63,-341.91C569.4,-330.76 576.74,-318.66 583.55,-307.44\"/>\n<polygon fill=\"black\" stroke=\"black\" points=\"586.68,-309.03 588.87,-298.67 580.69,-305.4 586.68,-309.03\"/>\n</g>\n<!-- 13 -->\n<g id=\"node14\" class=\"node\">\n<title>13</title>\n<path fill=\"#3fa0e6\" stroke=\"black\" d=\"M825.5,-425C825.5,-425 674.5,-425 674.5,-425 668.5,-425 662.5,-419 662.5,-413 662.5,-413 662.5,-354 662.5,-354 662.5,-348 668.5,-342 674.5,-342 674.5,-342 825.5,-342 825.5,-342 831.5,-342 837.5,-348 837.5,-354 837.5,-354 837.5,-413 837.5,-413 837.5,-419 831.5,-425 825.5,-425\"/>\n<text text-anchor=\"start\" x=\"670.5\" y=\"-409.8\" font-family=\"Helvetica,sans-Serif\" font-size=\"14.00\">Left&#45;Thalamus ≤ 0.001</text>\n<text text-anchor=\"start\" x=\"706\" y=\"-394.8\" font-family=\"Helvetica,sans-Serif\" font-size=\"14.00\">gini = 0.061</text>\n<text text-anchor=\"start\" x=\"701.5\" y=\"-379.8\" font-family=\"Helvetica,sans-Serif\" font-size=\"14.00\">samples = 32</text>\n<text text-anchor=\"start\" x=\"697\" y=\"-364.8\" font-family=\"Helvetica,sans-Serif\" font-size=\"14.00\">value = [1, 31]</text>\n<text text-anchor=\"start\" x=\"712\" y=\"-349.8\" font-family=\"Helvetica,sans-Serif\" font-size=\"14.00\">class = AD</text>\n</g>\n<!-- 12&#45;&gt;13 -->\n<g id=\"edge13\" class=\"edge\">\n<title>12&#45;&gt;13</title>\n<path fill=\"none\" stroke=\"black\" d=\"M751.31,-460.91C751.16,-452.56 751.01,-443.67 750.86,-435.02\"/>\n<polygon fill=\"black\" stroke=\"black\" points=\"754.36,-434.96 750.69,-425.02 747.36,-435.08 754.36,-434.96\"/>\n</g>\n<!-- 18 -->\n<g id=\"node19\" class=\"node\">\n<title>18</title>\n<path fill=\"#e58139\" stroke=\"black\" d=\"M956.5,-417.5C956.5,-417.5 867.5,-417.5 867.5,-417.5 861.5,-417.5 855.5,-411.5 855.5,-405.5 855.5,-405.5 855.5,-361.5 855.5,-361.5 855.5,-355.5 861.5,-349.5 867.5,-349.5 867.5,-349.5 956.5,-349.5 956.5,-349.5 962.5,-349.5 968.5,-355.5 968.5,-361.5 968.5,-361.5 968.5,-405.5 968.5,-405.5 968.5,-411.5 962.5,-417.5 956.5,-417.5\"/>\n<text text-anchor=\"start\" x=\"877\" y=\"-402.3\" font-family=\"Helvetica,sans-Serif\" font-size=\"14.00\">gini = 0.0</text>\n<text text-anchor=\"start\" x=\"868\" y=\"-387.3\" font-family=\"Helvetica,sans-Serif\" font-size=\"14.00\">samples = 2</text>\n<text text-anchor=\"start\" x=\"863.5\" y=\"-372.3\" font-family=\"Helvetica,sans-Serif\" font-size=\"14.00\">value = [2, 0]</text>\n<text text-anchor=\"start\" x=\"874\" y=\"-357.3\" font-family=\"Helvetica,sans-Serif\" font-size=\"14.00\">class = CN</text>\n</g>\n<!-- 12&#45;&gt;18 -->\n<g id=\"edge18\" class=\"edge\">\n<title>12&#45;&gt;18</title>\n<path fill=\"none\" stroke=\"black\" d=\"M807.51,-460.91C823.96,-448.88 841.94,-435.73 858.27,-423.79\"/>\n<polygon fill=\"black\" stroke=\"black\" points=\"860.64,-426.39 866.64,-417.67 856.51,-420.74 860.64,-426.39\"/>\n</g>\n<!-- 14 -->\n<g id=\"node15\" class=\"node\">\n<title>14</title>\n<path fill=\"#399de5\" stroke=\"black\" d=\"M798,-298.5C798,-298.5 700,-298.5 700,-298.5 694,-298.5 688,-292.5 688,-286.5 688,-286.5 688,-242.5 688,-242.5 688,-236.5 694,-230.5 700,-230.5 700,-230.5 798,-230.5 798,-230.5 804,-230.5 810,-236.5 810,-242.5 810,-242.5 810,-286.5 810,-286.5 810,-292.5 804,-298.5 798,-298.5\"/>\n<text text-anchor=\"start\" x=\"714\" y=\"-283.3\" font-family=\"Helvetica,sans-Serif\" font-size=\"14.00\">gini = 0.0</text>\n<text text-anchor=\"start\" x=\"700.5\" y=\"-268.3\" font-family=\"Helvetica,sans-Serif\" font-size=\"14.00\">samples = 30</text>\n<text text-anchor=\"start\" x=\"696\" y=\"-253.3\" font-family=\"Helvetica,sans-Serif\" font-size=\"14.00\">value = [0, 30]</text>\n<text text-anchor=\"start\" x=\"711\" y=\"-238.3\" font-family=\"Helvetica,sans-Serif\" font-size=\"14.00\">class = AD</text>\n</g>\n<!-- 13&#45;&gt;14 -->\n<g id=\"edge14\" class=\"edge\">\n<title>13&#45;&gt;14</title>\n<path fill=\"none\" stroke=\"black\" d=\"M749.65,-341.91C749.56,-331.2 749.46,-319.62 749.37,-308.78\"/>\n<polygon fill=\"black\" stroke=\"black\" points=\"752.87,-308.64 749.28,-298.67 745.87,-308.7 752.87,-308.64\"/>\n</g>\n<!-- 15 -->\n<g id=\"node16\" class=\"node\">\n<title>15</title>\n<path fill=\"#ffffff\" stroke=\"black\" d=\"M1013.5,-306C1013.5,-306 840.5,-306 840.5,-306 834.5,-306 828.5,-300 828.5,-294 828.5,-294 828.5,-235 828.5,-235 828.5,-229 834.5,-223 840.5,-223 840.5,-223 1013.5,-223 1013.5,-223 1019.5,-223 1025.5,-229 1025.5,-235 1025.5,-235 1025.5,-294 1025.5,-294 1025.5,-300 1019.5,-306 1013.5,-306\"/>\n<text text-anchor=\"start\" x=\"836.5\" y=\"-290.8\" font-family=\"Helvetica,sans-Serif\" font-size=\"14.00\">wm&#45;rh&#45;entorhinal ≤ 0.001</text>\n<text text-anchor=\"start\" x=\"892\" y=\"-275.8\" font-family=\"Helvetica,sans-Serif\" font-size=\"14.00\">gini = 0.5</text>\n<text text-anchor=\"start\" x=\"883\" y=\"-260.8\" font-family=\"Helvetica,sans-Serif\" font-size=\"14.00\">samples = 2</text>\n<text text-anchor=\"start\" x=\"878.5\" y=\"-245.8\" font-family=\"Helvetica,sans-Serif\" font-size=\"14.00\">value = [1, 1]</text>\n<text text-anchor=\"start\" x=\"889\" y=\"-230.8\" font-family=\"Helvetica,sans-Serif\" font-size=\"14.00\">class = CN</text>\n</g>\n<!-- 13&#45;&gt;15 -->\n<g id=\"edge15\" class=\"edge\">\n<title>13&#45;&gt;15</title>\n<path fill=\"none\" stroke=\"black\" d=\"M811.41,-341.91C826.1,-332.2 841.89,-321.76 856.94,-311.81\"/>\n<polygon fill=\"black\" stroke=\"black\" points=\"859.29,-314.45 865.7,-306.02 855.43,-308.62 859.29,-314.45\"/>\n</g>\n<!-- 16 -->\n<g id=\"node17\" class=\"node\">\n<title>16</title>\n<path fill=\"#399de5\" stroke=\"black\" d=\"M905.5,-179.5C905.5,-179.5 816.5,-179.5 816.5,-179.5 810.5,-179.5 804.5,-173.5 804.5,-167.5 804.5,-167.5 804.5,-123.5 804.5,-123.5 804.5,-117.5 810.5,-111.5 816.5,-111.5 816.5,-111.5 905.5,-111.5 905.5,-111.5 911.5,-111.5 917.5,-117.5 917.5,-123.5 917.5,-123.5 917.5,-167.5 917.5,-167.5 917.5,-173.5 911.5,-179.5 905.5,-179.5\"/>\n<text text-anchor=\"start\" x=\"826\" y=\"-164.3\" font-family=\"Helvetica,sans-Serif\" font-size=\"14.00\">gini = 0.0</text>\n<text text-anchor=\"start\" x=\"817\" y=\"-149.3\" font-family=\"Helvetica,sans-Serif\" font-size=\"14.00\">samples = 1</text>\n<text text-anchor=\"start\" x=\"812.5\" y=\"-134.3\" font-family=\"Helvetica,sans-Serif\" font-size=\"14.00\">value = [0, 1]</text>\n<text text-anchor=\"start\" x=\"823\" y=\"-119.3\" font-family=\"Helvetica,sans-Serif\" font-size=\"14.00\">class = AD</text>\n</g>\n<!-- 15&#45;&gt;16 -->\n<g id=\"edge16\" class=\"edge\">\n<title>15&#45;&gt;16</title>\n<path fill=\"none\" stroke=\"black\" d=\"M904.1,-222.91C897.81,-211.76 890.99,-199.66 884.66,-188.44\"/>\n<polygon fill=\"black\" stroke=\"black\" points=\"887.67,-186.66 879.71,-179.67 881.57,-190.1 887.67,-186.66\"/>\n</g>\n<!-- 17 -->\n<g id=\"node18\" class=\"node\">\n<title>17</title>\n<path fill=\"#e58139\" stroke=\"black\" d=\"M1036.5,-179.5C1036.5,-179.5 947.5,-179.5 947.5,-179.5 941.5,-179.5 935.5,-173.5 935.5,-167.5 935.5,-167.5 935.5,-123.5 935.5,-123.5 935.5,-117.5 941.5,-111.5 947.5,-111.5 947.5,-111.5 1036.5,-111.5 1036.5,-111.5 1042.5,-111.5 1048.5,-117.5 1048.5,-123.5 1048.5,-123.5 1048.5,-167.5 1048.5,-167.5 1048.5,-173.5 1042.5,-179.5 1036.5,-179.5\"/>\n<text text-anchor=\"start\" x=\"957\" y=\"-164.3\" font-family=\"Helvetica,sans-Serif\" font-size=\"14.00\">gini = 0.0</text>\n<text text-anchor=\"start\" x=\"948\" y=\"-149.3\" font-family=\"Helvetica,sans-Serif\" font-size=\"14.00\">samples = 1</text>\n<text text-anchor=\"start\" x=\"943.5\" y=\"-134.3\" font-family=\"Helvetica,sans-Serif\" font-size=\"14.00\">value = [1, 0]</text>\n<text text-anchor=\"start\" x=\"954\" y=\"-119.3\" font-family=\"Helvetica,sans-Serif\" font-size=\"14.00\">class = CN</text>\n</g>\n<!-- 15&#45;&gt;17 -->\n<g id=\"edge17\" class=\"edge\">\n<title>15&#45;&gt;17</title>\n<path fill=\"none\" stroke=\"black\" d=\"M949.55,-222.91C955.74,-211.76 962.47,-199.66 968.7,-188.44\"/>\n<polygon fill=\"black\" stroke=\"black\" points=\"971.78,-190.11 973.57,-179.67 965.66,-186.71 971.78,-190.11\"/>\n</g>\n</g>\n</svg>\n",
      "text/plain": [
       "<graphviz.sources.Source at 0x7f941b48fc40>"
      ]
     },
     "execution_count": 18,
     "metadata": {},
     "output_type": "execute_result"
    }
   ],
   "source": [
    "dot_data = tree.export_graphviz(clf, out_file=None, feature_names=region[1:],  class_names=[\"CN\",\"AD\"],  filled=True, rounded=True,  special_characters=True)  \n",
    "graph = graphviz.Source(dot_data)  \n",
    "graph "
   ]
  },
  {
   "attachments": {},
   "cell_type": "markdown",
   "metadata": {},
   "source": [
    "Plotto la ROC"
   ]
  },
  {
   "cell_type": "code",
   "execution_count": 24,
   "metadata": {},
   "outputs": [
    {
     "data": {
      "image/png": "[encoded data removed]",
      "text/plain": [
       "<Figure size 640x480 with 1 Axes>"
      ]
     },
     "metadata": {},
     "output_type": "display_data"
    }
   ],
   "source": [
    "\n",
    "from sklearn.metrics import RocCurveDisplay\n",
    "\n",
    "RocCurveDisplay.from_predictions(y_tst,y_score,name=f\"AD vs the CN\",color=\"darkorange\",)\n",
    "plt.plot([0, 1], [0, 1], \"k--\", label=\"chance level (AUC = 0.5)\")\n",
    "plt.axis(\"square\")\n",
    "plt.xlabel(\"False Positive Rate\")\n",
    "plt.ylabel(\"True Positive Rate\")\n",
    "plt.title(\"One-vs-Rest ROC curves:\\nAD vs CN\")\n",
    "plt.legend()\n",
    "plt.show()\n",
    "\n"
   ]
  },
  {
   "cell_type": "code",
   "execution_count": null,
   "metadata": {},
   "outputs": [],
   "source": []
  }
 ],
 "metadata": {
  "kernelspec": {
   "display_name": "Python 3",
   "language": "python",
   "name": "python3"
  },
  "language_info": {
   "codemirror_mode": {
    "name": "ipython",
    "version": 3
   },
   "file_extension": ".py",
   "mimetype": "text/x-python",
   "name": "python",
   "nbconvert_exporter": "python",
   "pygments_lexer": "ipython3",
   "version": "3.10.7"
  },
  "orig_nbformat": 4,
  "vscode": {
   "interpreter": {
    "hash": "916dbcbb3f70747c44a77c7bcd40155683ae19c65e1c03b4aa3499c5328201f1"
   }
  }
 },
 "nbformat": 4,
 "nbformat_minor": 2
}
