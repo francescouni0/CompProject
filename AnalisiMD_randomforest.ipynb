{
 "cells": [
  {
   "cell_type": "code",
   "execution_count": 1,
   "metadata": {},
   "outputs": [],
   "source": [
    "import os\n",
    "import numpy as np\n",
    "import reading \n",
    "from feature_extractor import feature_extractor\n",
    "import pandas as pd\n",
    "import matplotlib.pyplot as plt"
   ]
  },
  {
   "attachments": {},
   "cell_type": "markdown",
   "metadata": {},
   "source": [
    "Load dei Path, Con il sort giusto per far corrispondere i soggetti"
   ]
  },
  {
   "cell_type": "code",
   "execution_count": 2,
   "metadata": {},
   "outputs": [],
   "source": [
    "paths_MD= reading.data_path(\"Diffusion_parameters_maps-20230215T134959Z-001\",\"corrected_MD_image\")\n",
    "paths_masks=reading.data_path(\"Diffusion_space_segmentations-20230215T134839Z-001\",\"Diffusion_space_segmentations-20230215T134839Z-001\")\n",
    "\n",
    "\n",
    "#print((os.path.basename(paths_masks[0]).split('_')[2]))\n",
    "\n",
    "paths_MD.sort(key=lambda x: int(os.path.basename(x).split('_')[3]))\n",
    "paths_masks.sort(key=lambda x: int(os.path.basename(x).split('_')[2]))\n"
   ]
  },
  {
   "attachments": {},
   "cell_type": "markdown",
   "metadata": {},
   "source": [
    "Feature extraction"
   ]
  },
  {
   "cell_type": "code",
   "execution_count": 3,
   "metadata": {},
   "outputs": [],
   "source": [
    "region, mean, std=feature_extractor(paths_MD,paths_masks)\n"
   ]
  },
  {
   "attachments": {},
   "cell_type": "markdown",
   "metadata": {},
   "source": [
    "Reshape degli array per fare il Dataframe"
   ]
  },
  {
   "cell_type": "code",
   "execution_count": 4,
   "metadata": {},
   "outputs": [],
   "source": [
    "mean_t=np.transpose(mean)\n",
    "std_t=np.transpose(std)\n"
   ]
  },
  {
   "attachments": {},
   "cell_type": "markdown",
   "metadata": {},
   "source": [
    "Creo DataFrame per mean and std"
   ]
  },
  {
   "cell_type": "code",
   "execution_count": 5,
   "metadata": {},
   "outputs": [
    {
     "data": {
      "text/html": [
       "<div>\n",
       "<style scoped>\n",
       "    .dataframe tbody tr th:only-of-type {\n",
       "        vertical-align: middle;\n",
       "    }\n",
       "\n",
       "    .dataframe tbody tr th {\n",
       "        vertical-align: top;\n",
       "    }\n",
       "\n",
       "    .dataframe thead th {\n",
       "        text-align: right;\n",
       "    }\n",
       "</style>\n",
       "<table border=\"1\" class=\"dataframe\">\n",
       "  <thead>\n",
       "    <tr style=\"text-align: right;\">\n",
       "      <th></th>\n",
       "      <th>Left-Lateral-Ventricle</th>\n",
       "      <th>Left-Inf-Lat-Vent</th>\n",
       "      <th>Left-Cerebellum-White-Matter</th>\n",
       "      <th>Left-Cerebellum-Cortex</th>\n",
       "      <th>Left-Thalamus</th>\n",
       "      <th>Left-Caudate</th>\n",
       "      <th>Left-Putamen</th>\n",
       "      <th>Left-Pallidum</th>\n",
       "      <th>3rd-Ventricle</th>\n",
       "      <th>4th-Ventricle</th>\n",
       "      <th>...</th>\n",
       "      <th>wm-rh-superiorfrontal</th>\n",
       "      <th>wm-rh-superiorparietal</th>\n",
       "      <th>wm-rh-superiortemporal</th>\n",
       "      <th>wm-rh-supramarginal</th>\n",
       "      <th>wm-rh-frontalpole</th>\n",
       "      <th>wm-rh-temporalpole</th>\n",
       "      <th>wm-rh-transversetemporal</th>\n",
       "      <th>wm-rh-insula</th>\n",
       "      <th>Left-UnsegmentedWhiteMatter</th>\n",
       "      <th>Right-UnsegmentedWhiteMatter</th>\n",
       "    </tr>\n",
       "  </thead>\n",
       "  <tbody>\n",
       "    <tr>\n",
       "      <th>1.0</th>\n",
       "      <td>0.000078</td>\n",
       "      <td>0.002625</td>\n",
       "      <td>0.001393</td>\n",
       "      <td>0.000837</td>\n",
       "      <td>0.001063</td>\n",
       "      <td>0.001086</td>\n",
       "      <td>0.001244</td>\n",
       "      <td>0.000855</td>\n",
       "      <td>0.000820</td>\n",
       "      <td>0.002566</td>\n",
       "      <td>...</td>\n",
       "      <td>0.000842</td>\n",
       "      <td>0.000906</td>\n",
       "      <td>0.000964</td>\n",
       "      <td>0.000797</td>\n",
       "      <td>0.000786</td>\n",
       "      <td>0.000848</td>\n",
       "      <td>0.000919</td>\n",
       "      <td>0.000736</td>\n",
       "      <td>0.000898</td>\n",
       "      <td>0.000931</td>\n",
       "    </tr>\n",
       "    <tr>\n",
       "      <th>2.0</th>\n",
       "      <td>0.000093</td>\n",
       "      <td>0.002450</td>\n",
       "      <td>0.001338</td>\n",
       "      <td>0.000724</td>\n",
       "      <td>0.000878</td>\n",
       "      <td>0.000953</td>\n",
       "      <td>0.000986</td>\n",
       "      <td>0.000773</td>\n",
       "      <td>0.000768</td>\n",
       "      <td>0.002419</td>\n",
       "      <td>...</td>\n",
       "      <td>0.000781</td>\n",
       "      <td>0.000774</td>\n",
       "      <td>0.000912</td>\n",
       "      <td>0.000757</td>\n",
       "      <td>0.000752</td>\n",
       "      <td>0.000778</td>\n",
       "      <td>0.000838</td>\n",
       "      <td>0.000749</td>\n",
       "      <td>0.000785</td>\n",
       "      <td>0.000865</td>\n",
       "    </tr>\n",
       "    <tr>\n",
       "      <th>3.0</th>\n",
       "      <td>0.000135</td>\n",
       "      <td>0.002526</td>\n",
       "      <td>0.001711</td>\n",
       "      <td>0.000716</td>\n",
       "      <td>0.000955</td>\n",
       "      <td>0.001038</td>\n",
       "      <td>0.001291</td>\n",
       "      <td>0.000905</td>\n",
       "      <td>0.000885</td>\n",
       "      <td>0.002576</td>\n",
       "      <td>...</td>\n",
       "      <td>0.000813</td>\n",
       "      <td>0.000848</td>\n",
       "      <td>0.000803</td>\n",
       "      <td>0.000822</td>\n",
       "      <td>0.000763</td>\n",
       "      <td>0.001048</td>\n",
       "      <td>0.001090</td>\n",
       "      <td>0.000780</td>\n",
       "      <td>0.000910</td>\n",
       "      <td>0.000919</td>\n",
       "    </tr>\n",
       "    <tr>\n",
       "      <th>4.0</th>\n",
       "      <td>0.000144</td>\n",
       "      <td>0.002553</td>\n",
       "      <td>0.001665</td>\n",
       "      <td>0.000769</td>\n",
       "      <td>0.001031</td>\n",
       "      <td>0.001050</td>\n",
       "      <td>0.001144</td>\n",
       "      <td>0.000818</td>\n",
       "      <td>0.000747</td>\n",
       "      <td>0.003102</td>\n",
       "      <td>...</td>\n",
       "      <td>0.000830</td>\n",
       "      <td>0.000848</td>\n",
       "      <td>0.000819</td>\n",
       "      <td>0.000839</td>\n",
       "      <td>0.000820</td>\n",
       "      <td>0.000873</td>\n",
       "      <td>0.000873</td>\n",
       "      <td>0.000820</td>\n",
       "      <td>0.000859</td>\n",
       "      <td>0.000903</td>\n",
       "    </tr>\n",
       "    <tr>\n",
       "      <th>5.0</th>\n",
       "      <td>0.000142</td>\n",
       "      <td>0.002536</td>\n",
       "      <td>0.001829</td>\n",
       "      <td>0.000781</td>\n",
       "      <td>0.001109</td>\n",
       "      <td>0.000991</td>\n",
       "      <td>0.001134</td>\n",
       "      <td>0.000794</td>\n",
       "      <td>0.000748</td>\n",
       "      <td>0.002780</td>\n",
       "      <td>...</td>\n",
       "      <td>0.000835</td>\n",
       "      <td>0.000823</td>\n",
       "      <td>0.000748</td>\n",
       "      <td>0.000813</td>\n",
       "      <td>0.000765</td>\n",
       "      <td>0.000848</td>\n",
       "      <td>0.000963</td>\n",
       "      <td>0.000766</td>\n",
       "      <td>0.000861</td>\n",
       "      <td>0.000891</td>\n",
       "    </tr>\n",
       "  </tbody>\n",
       "</table>\n",
       "<p>5 rows × 176 columns</p>\n",
       "</div>"
      ],
      "text/plain": [
       "     Left-Lateral-Ventricle  Left-Inf-Lat-Vent  Left-Cerebellum-White-Matter  \\\n",
       "1.0                0.000078           0.002625                      0.001393   \n",
       "2.0                0.000093           0.002450                      0.001338   \n",
       "3.0                0.000135           0.002526                      0.001711   \n",
       "4.0                0.000144           0.002553                      0.001665   \n",
       "5.0                0.000142           0.002536                      0.001829   \n",
       "\n",
       "     Left-Cerebellum-Cortex  Left-Thalamus  Left-Caudate  Left-Putamen  \\\n",
       "1.0                0.000837       0.001063      0.001086      0.001244   \n",
       "2.0                0.000724       0.000878      0.000953      0.000986   \n",
       "3.0                0.000716       0.000955      0.001038      0.001291   \n",
       "4.0                0.000769       0.001031      0.001050      0.001144   \n",
       "5.0                0.000781       0.001109      0.000991      0.001134   \n",
       "\n",
       "     Left-Pallidum  3rd-Ventricle  4th-Ventricle  ...  wm-rh-superiorfrontal  \\\n",
       "1.0       0.000855       0.000820       0.002566  ...               0.000842   \n",
       "2.0       0.000773       0.000768       0.002419  ...               0.000781   \n",
       "3.0       0.000905       0.000885       0.002576  ...               0.000813   \n",
       "4.0       0.000818       0.000747       0.003102  ...               0.000830   \n",
       "5.0       0.000794       0.000748       0.002780  ...               0.000835   \n",
       "\n",
       "     wm-rh-superiorparietal  wm-rh-superiortemporal  wm-rh-supramarginal  \\\n",
       "1.0                0.000906                0.000964             0.000797   \n",
       "2.0                0.000774                0.000912             0.000757   \n",
       "3.0                0.000848                0.000803             0.000822   \n",
       "4.0                0.000848                0.000819             0.000839   \n",
       "5.0                0.000823                0.000748             0.000813   \n",
       "\n",
       "     wm-rh-frontalpole  wm-rh-temporalpole  wm-rh-transversetemporal  \\\n",
       "1.0           0.000786            0.000848                  0.000919   \n",
       "2.0           0.000752            0.000778                  0.000838   \n",
       "3.0           0.000763            0.001048                  0.001090   \n",
       "4.0           0.000820            0.000873                  0.000873   \n",
       "5.0           0.000765            0.000848                  0.000963   \n",
       "\n",
       "     wm-rh-insula  Left-UnsegmentedWhiteMatter  Right-UnsegmentedWhiteMatter  \n",
       "1.0      0.000736                     0.000898                      0.000931  \n",
       "2.0      0.000749                     0.000785                      0.000865  \n",
       "3.0      0.000780                     0.000910                      0.000919  \n",
       "4.0      0.000820                     0.000859                      0.000903  \n",
       "5.0      0.000766                     0.000861                      0.000891  \n",
       "\n",
       "[5 rows x 176 columns]"
      ]
     },
     "execution_count": 5,
     "metadata": {},
     "output_type": "execute_result"
    }
   ],
   "source": [
    "\n",
    "\n",
    "df_mean = pd.DataFrame(mean_t[1:,1:177],index=mean[0][1:98],columns=region[1:177])\n",
    "df_std=pd.DataFrame(std_t[1:,1:177],index=std[0][1:98],columns=region[1:177])\n",
    "\n",
    "df_mean.head()"
   ]
  },
  {
   "attachments": {},
   "cell_type": "markdown",
   "metadata": {},
   "source": [
    "Aggiungo i gruppi"
   ]
  },
  {
   "cell_type": "code",
   "execution_count": 6,
   "metadata": {},
   "outputs": [
    {
     "data": {
      "text/html": [
       "<div>\n",
       "<style scoped>\n",
       "    .dataframe tbody tr th:only-of-type {\n",
       "        vertical-align: middle;\n",
       "    }\n",
       "\n",
       "    .dataframe tbody tr th {\n",
       "        vertical-align: top;\n",
       "    }\n",
       "\n",
       "    .dataframe thead th {\n",
       "        text-align: right;\n",
       "    }\n",
       "</style>\n",
       "<table border=\"1\" class=\"dataframe\">\n",
       "  <thead>\n",
       "    <tr style=\"text-align: right;\">\n",
       "      <th></th>\n",
       "      <th>Subject</th>\n",
       "      <th>Group</th>\n",
       "      <th>Sex</th>\n",
       "      <th>Age</th>\n",
       "    </tr>\n",
       "  </thead>\n",
       "  <tbody>\n",
       "    <tr>\n",
       "      <th>67</th>\n",
       "      <td>4002</td>\n",
       "      <td>0</td>\n",
       "      <td>F</td>\n",
       "      <td>74.0</td>\n",
       "    </tr>\n",
       "    <tr>\n",
       "      <th>68</th>\n",
       "      <td>4003</td>\n",
       "      <td>0</td>\n",
       "      <td>F</td>\n",
       "      <td>72.0</td>\n",
       "    </tr>\n",
       "    <tr>\n",
       "      <th>28</th>\n",
       "      <td>4009</td>\n",
       "      <td>1</td>\n",
       "      <td>M</td>\n",
       "      <td>90.0</td>\n",
       "    </tr>\n",
       "    <tr>\n",
       "      <th>69</th>\n",
       "      <td>4018</td>\n",
       "      <td>0</td>\n",
       "      <td>M</td>\n",
       "      <td>76.0</td>\n",
       "    </tr>\n",
       "    <tr>\n",
       "      <th>70</th>\n",
       "      <td>4050</td>\n",
       "      <td>0</td>\n",
       "      <td>M</td>\n",
       "      <td>77.0</td>\n",
       "    </tr>\n",
       "  </tbody>\n",
       "</table>\n",
       "</div>"
      ],
      "text/plain": [
       "    Subject  Group Sex   Age\n",
       "67     4002      0   F  74.0\n",
       "68     4003      0   F  72.0\n",
       "28     4009      1   M  90.0\n",
       "69     4018      0   M  76.0\n",
       "70     4050      0   M  77.0"
      ]
     },
     "execution_count": 6,
     "metadata": {},
     "output_type": "execute_result"
    }
   ],
   "source": [
    "a=pd.DataFrame(pd.read_csv('/home/francesco/CompProject/ADNI_dataset_diffusion.csv'))\n",
    "a.sort_values(by=[\"Subject\"],inplace=True)\n",
    "group=a[\"Group\"]\n",
    "a.head()"
   ]
  },
  {
   "attachments": {},
   "cell_type": "markdown",
   "metadata": {},
   "source": [
    "Albero decisionale: creo i set e splitto"
   ]
  },
  {
   "cell_type": "code",
   "execution_count": 7,
   "metadata": {},
   "outputs": [],
   "source": [
    "\n",
    "from sklearn.ensemble import RandomForestClassifier\n",
    "from sklearn.metrics import accuracy_score, confusion_matrix, precision_score, recall_score, ConfusionMatrixDisplay\n",
    "from sklearn.model_selection import RandomizedSearchCV, train_test_split\n",
    "from scipy.stats import randint\n",
    "\n",
    "\n",
    "X=df_mean.values\n",
    "y=group.values\n",
    "\n",
    "X_tr, X_tst, y_tr, y_tst = train_test_split(X, y, test_size=.1, random_state=6)\n",
    "\n"
   ]
  },
  {
   "attachments": {},
   "cell_type": "markdown",
   "metadata": {},
   "source": [
    "Fitto l'albero"
   ]
  },
  {
   "cell_type": "code",
   "execution_count": 8,
   "metadata": {},
   "outputs": [
    {
     "name": "stdout",
     "output_type": "stream",
     "text": [
      "[0 1 1 1 0 0 0 1 0 0]\n"
     ]
    }
   ],
   "source": [
    "\n",
    "rf = RandomForestClassifier()\n",
    "rf.fit(X_tr, y_tr)\n",
    "y_pred = rf.predict(X_tst)\n",
    "\n",
    "print(y_pred)"
   ]
  },
  {
   "cell_type": "code",
   "execution_count": 9,
   "metadata": {},
   "outputs": [
    {
     "name": "stdout",
     "output_type": "stream",
     "text": [
      "Accuracy: 0.7\n"
     ]
    }
   ],
   "source": [
    "accuracy = accuracy_score(y_tst, y_pred)\n",
    "print(\"Accuracy:\", accuracy)"
   ]
  },
  {
   "attachments": {},
   "cell_type": "markdown",
   "metadata": {},
   "source": [
    "Hyperparameter tuning"
   ]
  },
  {
   "cell_type": "code",
   "execution_count": 14,
   "metadata": {},
   "outputs": [
    {
     "name": "stdout",
     "output_type": "stream",
     "text": [
      "Best hyperparameters: {'max_depth': 31, 'n_estimators': 585}\n"
     ]
    }
   ],
   "source": [
    "param_dist = {'n_estimators': randint(50,5000),\n",
    "              'max_depth': randint(1,100)}\n",
    "\n",
    "# Create a random forest classifier\n",
    "rf = RandomForestClassifier()\n",
    "\n",
    "# Use random search to find the best hyperparameters\n",
    "rand_search = RandomizedSearchCV(rf, \n",
    "                                 param_distributions = param_dist, \n",
    "                                 n_iter=5, \n",
    "                                 cv=5)\n",
    "\n",
    "# Fit the random search object to the data\n",
    "rand_search.fit(X_tr, y_tr)\n",
    "\n",
    "# Create a variable for the best model\n",
    "best_rf = rand_search.best_estimator_\n",
    "\n",
    "# Print the best hyperparameters\n",
    "print('Best hyperparameters:',  rand_search.best_params_)\n"
   ]
  },
  {
   "cell_type": "code",
   "execution_count": 15,
   "metadata": {},
   "outputs": [
    {
     "name": "stdout",
     "output_type": "stream",
     "text": [
      "Accuracy: 0.6\n",
      "Precision: 0.4\n",
      "Recall: 0.6666666666666666\n"
     ]
    }
   ],
   "source": [
    "y_pred = rand_search.predict(X_tst)\n",
    "\n",
    "accuracy = accuracy_score(y_tst, y_pred)\n",
    "precision = precision_score(y_tst, y_pred)\n",
    "recall = recall_score(y_tst, y_pred)\n",
    "\n",
    "print(\"Accuracy:\", accuracy)\n",
    "print(\"Precision:\", precision)\n",
    "print(\"Recall:\", recall)"
   ]
  },
  {
   "attachments": {},
   "cell_type": "markdown",
   "metadata": {},
   "source": [
    "Plotto alberi"
   ]
  },
  {
   "cell_type": "code",
   "execution_count": 16,
   "metadata": {},
   "outputs": [
    {
     "data": {
      "image/svg+xml": "<?xml version=\"1.0\" encoding=\"UTF-8\" standalone=\"no\"?>\n<!DOCTYPE svg PUBLIC \"-//W3C//DTD SVG 1.1//EN\"\n \"http://www.w3.org/Graphics/SVG/1.1/DTD/svg11.dtd\">\n<!-- Generated by graphviz version 2.43.0 (0)\n -->\n<!-- Title: Tree Pages: 1 -->\n<svg width=\"1166pt\" height=\"581pt\"\n viewBox=\"0.00 0.00 1166.00 581.00\" xmlns=\"http://www.w3.org/2000/svg\" xmlns:xlink=\"http://www.w3.org/1999/xlink\">\n<g id=\"graph0\" class=\"graph\" transform=\"scale(1 1) rotate(0) translate(4 577)\">\n<title>Tree</title>\n<polygon fill=\"white\" stroke=\"transparent\" points=\"-4,4 -4,-577 1162,-577 1162,4 -4,4\"/>\n<!-- 0 -->\n<g id=\"node1\" class=\"node\">\n<title>0</title>\n<polygon fill=\"#fefcfa\" stroke=\"black\" points=\"884,-573 688,-573 688,-505 884,-505 884,-573\"/>\n<text text-anchor=\"middle\" x=\"786\" y=\"-557.8\" font-family=\"Helvetica,sans-Serif\" font-size=\"14.00\">wm&#45;lh&#45;fusiform &lt;= 0.001</text>\n<text text-anchor=\"middle\" x=\"786\" y=\"-542.8\" font-family=\"Helvetica,sans-Serif\" font-size=\"14.00\">samples = 100.0%</text>\n<text text-anchor=\"middle\" x=\"786\" y=\"-527.8\" font-family=\"Helvetica,sans-Serif\" font-size=\"14.00\">value = [0.506, 0.494]</text>\n<text text-anchor=\"middle\" x=\"786\" y=\"-512.8\" font-family=\"Helvetica,sans-Serif\" font-size=\"14.00\">class = CN</text>\n</g>\n<!-- 1 -->\n<g id=\"node2\" class=\"node\">\n<title>1</title>\n<polygon fill=\"#e89051\" stroke=\"black\" points=\"779.5,-469 570.5,-469 570.5,-401 779.5,-401 779.5,-469\"/>\n<text text-anchor=\"middle\" x=\"675\" y=\"-453.8\" font-family=\"Helvetica,sans-Serif\" font-size=\"14.00\">CC_Mid_Posterior &lt;= 0.001</text>\n<text text-anchor=\"middle\" x=\"675\" y=\"-438.8\" font-family=\"Helvetica,sans-Serif\" font-size=\"14.00\">samples = 54.2%</text>\n<text text-anchor=\"middle\" x=\"675\" y=\"-423.8\" font-family=\"Helvetica,sans-Serif\" font-size=\"14.00\">value = [0.894, 0.106]</text>\n<text text-anchor=\"middle\" x=\"675\" y=\"-408.8\" font-family=\"Helvetica,sans-Serif\" font-size=\"14.00\">class = CN</text>\n</g>\n<!-- 0&#45;&gt;1 -->\n<g id=\"edge1\" class=\"edge\">\n<title>0&#45;&gt;1</title>\n<path fill=\"none\" stroke=\"black\" d=\"M749.96,-504.88C739.98,-495.71 729.03,-485.65 718.66,-476.12\"/>\n<polygon fill=\"black\" stroke=\"black\" points=\"720.97,-473.49 711.24,-469.3 716.23,-478.64 720.97,-473.49\"/>\n<text text-anchor=\"middle\" x=\"712.29\" y=\"-490.58\" font-family=\"Helvetica,sans-Serif\" font-size=\"14.00\">True</text>\n</g>\n<!-- 12 -->\n<g id=\"node13\" class=\"node\">\n<title>12</title>\n<polygon fill=\"#43a2e6\" stroke=\"black\" points=\"996,-469 798,-469 798,-401 996,-401 996,-469\"/>\n<text text-anchor=\"middle\" x=\"897\" y=\"-453.8\" font-family=\"Helvetica,sans-Serif\" font-size=\"14.00\">Right&#45;Thalamus &lt;= 0.001</text>\n<text text-anchor=\"middle\" x=\"897\" y=\"-438.8\" font-family=\"Helvetica,sans-Serif\" font-size=\"14.00\">samples = 45.8%</text>\n<text text-anchor=\"middle\" x=\"897\" y=\"-423.8\" font-family=\"Helvetica,sans-Serif\" font-size=\"14.00\">value = [0.05, 0.95]</text>\n<text text-anchor=\"middle\" x=\"897\" y=\"-408.8\" font-family=\"Helvetica,sans-Serif\" font-size=\"14.00\">class = AD</text>\n</g>\n<!-- 0&#45;&gt;12 -->\n<g id=\"edge12\" class=\"edge\">\n<title>0&#45;&gt;12</title>\n<path fill=\"none\" stroke=\"black\" d=\"M822.04,-504.88C832.02,-495.71 842.97,-485.65 853.34,-476.12\"/>\n<polygon fill=\"black\" stroke=\"black\" points=\"855.77,-478.64 860.76,-469.3 851.03,-473.49 855.77,-478.64\"/>\n<text text-anchor=\"middle\" x=\"859.71\" y=\"-490.58\" font-family=\"Helvetica,sans-Serif\" font-size=\"14.00\">False</text>\n</g>\n<!-- 2 -->\n<g id=\"node3\" class=\"node\">\n<title>2</title>\n<polygon fill=\"#e78a47\" stroke=\"black\" points=\"593.5,-365 358.5,-365 358.5,-297 593.5,-297 593.5,-365\"/>\n<text text-anchor=\"middle\" x=\"476\" y=\"-349.8\" font-family=\"Helvetica,sans-Serif\" font-size=\"14.00\">ctx&#45;lh&#45;lateraloccipital &lt;= 0.001</text>\n<text text-anchor=\"middle\" x=\"476\" y=\"-334.8\" font-family=\"Helvetica,sans-Serif\" font-size=\"14.00\">samples = 50.8%</text>\n<text text-anchor=\"middle\" x=\"476\" y=\"-319.8\" font-family=\"Helvetica,sans-Serif\" font-size=\"14.00\">value = [0.933, 0.067]</text>\n<text text-anchor=\"middle\" x=\"476\" y=\"-304.8\" font-family=\"Helvetica,sans-Serif\" font-size=\"14.00\">class = CN</text>\n</g>\n<!-- 1&#45;&gt;2 -->\n<g id=\"edge2\" class=\"edge\">\n<title>1&#45;&gt;2</title>\n<path fill=\"none\" stroke=\"black\" d=\"M610.39,-400.88C591,-390.95 569.59,-379.97 549.66,-369.76\"/>\n<polygon fill=\"black\" stroke=\"black\" points=\"551.12,-366.57 540.63,-365.12 547.93,-372.8 551.12,-366.57\"/>\n</g>\n<!-- 11 -->\n<g id=\"node12\" class=\"node\">\n<title>11</title>\n<polygon fill=\"#399de5\" stroke=\"black\" points=\"752,-357.5 612,-357.5 612,-304.5 752,-304.5 752,-357.5\"/>\n<text text-anchor=\"middle\" x=\"682\" y=\"-342.3\" font-family=\"Helvetica,sans-Serif\" font-size=\"14.00\">samples = 3.4%</text>\n<text text-anchor=\"middle\" x=\"682\" y=\"-327.3\" font-family=\"Helvetica,sans-Serif\" font-size=\"14.00\">value = [0.0, 1.0]</text>\n<text text-anchor=\"middle\" x=\"682\" y=\"-312.3\" font-family=\"Helvetica,sans-Serif\" font-size=\"14.00\">class = AD</text>\n</g>\n<!-- 1&#45;&gt;11 -->\n<g id=\"edge11\" class=\"edge\">\n<title>1&#45;&gt;11</title>\n<path fill=\"none\" stroke=\"black\" d=\"M677.27,-400.88C678,-390.22 678.82,-378.35 679.56,-367.52\"/>\n<polygon fill=\"black\" stroke=\"black\" points=\"683.06,-367.74 680.25,-357.52 676.07,-367.26 683.06,-367.74\"/>\n</g>\n<!-- 3 -->\n<g id=\"node4\" class=\"node\">\n<title>3</title>\n<polygon fill=\"#e6843e\" stroke=\"black\" points=\"393,-261 193,-261 193,-193 393,-193 393,-261\"/>\n<text text-anchor=\"middle\" x=\"293\" y=\"-245.8\" font-family=\"Helvetica,sans-Serif\" font-size=\"14.00\">ctx&#45;rh&#45;unknown &lt;= 0.001</text>\n<text text-anchor=\"middle\" x=\"293\" y=\"-230.8\" font-family=\"Helvetica,sans-Serif\" font-size=\"14.00\">samples = 45.8%</text>\n<text text-anchor=\"middle\" x=\"293\" y=\"-215.8\" font-family=\"Helvetica,sans-Serif\" font-size=\"14.00\">value = [0.976, 0.024]</text>\n<text text-anchor=\"middle\" x=\"293\" y=\"-200.8\" font-family=\"Helvetica,sans-Serif\" font-size=\"14.00\">class = CN</text>\n</g>\n<!-- 2&#45;&gt;3 -->\n<g id=\"edge3\" class=\"edge\">\n<title>2&#45;&gt;3</title>\n<path fill=\"none\" stroke=\"black\" d=\"M416.59,-296.88C398.92,-287.04 379.42,-276.17 361.24,-266.03\"/>\n<polygon fill=\"black\" stroke=\"black\" points=\"362.87,-262.94 352.43,-261.12 359.46,-269.05 362.87,-262.94\"/>\n</g>\n<!-- 8 -->\n<g id=\"node9\" class=\"node\">\n<title>8</title>\n<polygon fill=\"#9ccef2\" stroke=\"black\" points=\"646.5,-261 411.5,-261 411.5,-193 646.5,-193 646.5,-261\"/>\n<text text-anchor=\"middle\" x=\"529\" y=\"-245.8\" font-family=\"Helvetica,sans-Serif\" font-size=\"14.00\">ctx&#45;lh&#45;supramarginal &lt;= 0.001</text>\n<text text-anchor=\"middle\" x=\"529\" y=\"-230.8\" font-family=\"Helvetica,sans-Serif\" font-size=\"14.00\">samples = 5.1%</text>\n<text text-anchor=\"middle\" x=\"529\" y=\"-215.8\" font-family=\"Helvetica,sans-Serif\" font-size=\"14.00\">value = [0.333, 0.667]</text>\n<text text-anchor=\"middle\" x=\"529\" y=\"-200.8\" font-family=\"Helvetica,sans-Serif\" font-size=\"14.00\">class = AD</text>\n</g>\n<!-- 2&#45;&gt;8 -->\n<g id=\"edge8\" class=\"edge\">\n<title>2&#45;&gt;8</title>\n<path fill=\"none\" stroke=\"black\" d=\"M493.21,-296.88C497.6,-288.42 502.39,-279.21 506.99,-270.35\"/>\n<polygon fill=\"black\" stroke=\"black\" points=\"510.19,-271.79 511.7,-261.3 503.98,-268.56 510.19,-271.79\"/>\n</g>\n<!-- 4 -->\n<g id=\"node5\" class=\"node\">\n<title>4</title>\n<polygon fill=\"#e58139\" stroke=\"black\" points=\"140,-149.5 0,-149.5 0,-96.5 140,-96.5 140,-149.5\"/>\n<text text-anchor=\"middle\" x=\"70\" y=\"-134.3\" font-family=\"Helvetica,sans-Serif\" font-size=\"14.00\">samples = 37.3%</text>\n<text text-anchor=\"middle\" x=\"70\" y=\"-119.3\" font-family=\"Helvetica,sans-Serif\" font-size=\"14.00\">value = [1.0, 0.0]</text>\n<text text-anchor=\"middle\" x=\"70\" y=\"-104.3\" font-family=\"Helvetica,sans-Serif\" font-size=\"14.00\">class = CN</text>\n</g>\n<!-- 3&#45;&gt;4 -->\n<g id=\"edge4\" class=\"edge\">\n<title>3&#45;&gt;4</title>\n<path fill=\"none\" stroke=\"black\" d=\"M220.6,-192.88C193.07,-180.29 161.9,-166.03 135.08,-153.77\"/>\n<polygon fill=\"black\" stroke=\"black\" points=\"136.34,-150.5 125.79,-149.52 133.43,-156.86 136.34,-150.5\"/>\n</g>\n<!-- 5 -->\n<g id=\"node6\" class=\"node\">\n<title>5</title>\n<polygon fill=\"#e9965a\" stroke=\"black\" points=\"434,-157 158,-157 158,-89 434,-89 434,-157\"/>\n<text text-anchor=\"middle\" x=\"296\" y=\"-141.8\" font-family=\"Helvetica,sans-Serif\" font-size=\"14.00\">wm&#45;rh&#45;transversetemporal &lt;= 0.001</text>\n<text text-anchor=\"middle\" x=\"296\" y=\"-126.8\" font-family=\"Helvetica,sans-Serif\" font-size=\"14.00\">samples = 8.5%</text>\n<text text-anchor=\"middle\" x=\"296\" y=\"-111.8\" font-family=\"Helvetica,sans-Serif\" font-size=\"14.00\">value = [0.857, 0.143]</text>\n<text text-anchor=\"middle\" x=\"296\" y=\"-96.8\" font-family=\"Helvetica,sans-Serif\" font-size=\"14.00\">class = CN</text>\n</g>\n<!-- 3&#45;&gt;5 -->\n<g id=\"edge5\" class=\"edge\">\n<title>3&#45;&gt;5</title>\n<path fill=\"none\" stroke=\"black\" d=\"M293.97,-192.88C294.21,-184.78 294.47,-175.98 294.72,-167.47\"/>\n<polygon fill=\"black\" stroke=\"black\" points=\"298.23,-167.4 295.02,-157.3 291.23,-167.19 298.23,-167.4\"/>\n</g>\n<!-- 6 -->\n<g id=\"node7\" class=\"node\">\n<title>6</title>\n<polygon fill=\"#399de5\" stroke=\"black\" points=\"287,-53 147,-53 147,0 287,0 287,-53\"/>\n<text text-anchor=\"middle\" x=\"217\" y=\"-37.8\" font-family=\"Helvetica,sans-Serif\" font-size=\"14.00\">samples = 1.7%</text>\n<text text-anchor=\"middle\" x=\"217\" y=\"-22.8\" font-family=\"Helvetica,sans-Serif\" font-size=\"14.00\">value = [0.0, 1.0]</text>\n<text text-anchor=\"middle\" x=\"217\" y=\"-7.8\" font-family=\"Helvetica,sans-Serif\" font-size=\"14.00\">class = AD</text>\n</g>\n<!-- 5&#45;&gt;6 -->\n<g id=\"edge6\" class=\"edge\">\n<title>5&#45;&gt;6</title>\n<path fill=\"none\" stroke=\"black\" d=\"M268.37,-88.95C260.8,-79.89 252.59,-70.07 244.99,-60.99\"/>\n<polygon fill=\"black\" stroke=\"black\" points=\"247.61,-58.66 238.52,-53.24 242.24,-63.15 247.61,-58.66\"/>\n</g>\n<!-- 7 -->\n<g id=\"node8\" class=\"node\">\n<title>7</title>\n<polygon fill=\"#e58139\" stroke=\"black\" points=\"445,-53 305,-53 305,0 445,0 445,-53\"/>\n<text text-anchor=\"middle\" x=\"375\" y=\"-37.8\" font-family=\"Helvetica,sans-Serif\" font-size=\"14.00\">samples = 6.8%</text>\n<text text-anchor=\"middle\" x=\"375\" y=\"-22.8\" font-family=\"Helvetica,sans-Serif\" font-size=\"14.00\">value = [1.0, 0.0]</text>\n<text text-anchor=\"middle\" x=\"375\" y=\"-7.8\" font-family=\"Helvetica,sans-Serif\" font-size=\"14.00\">class = CN</text>\n</g>\n<!-- 5&#45;&gt;7 -->\n<g id=\"edge7\" class=\"edge\">\n<title>5&#45;&gt;7</title>\n<path fill=\"none\" stroke=\"black\" d=\"M323.63,-88.95C331.2,-79.89 339.41,-70.07 347.01,-60.99\"/>\n<polygon fill=\"black\" stroke=\"black\" points=\"349.76,-63.15 353.48,-53.24 344.39,-58.66 349.76,-63.15\"/>\n</g>\n<!-- 9 -->\n<g id=\"node10\" class=\"node\">\n<title>9</title>\n<polygon fill=\"#399de5\" stroke=\"black\" points=\"597,-149.5 457,-149.5 457,-96.5 597,-96.5 597,-149.5\"/>\n<text text-anchor=\"middle\" x=\"527\" y=\"-134.3\" font-family=\"Helvetica,sans-Serif\" font-size=\"14.00\">samples = 3.4%</text>\n<text text-anchor=\"middle\" x=\"527\" y=\"-119.3\" font-family=\"Helvetica,sans-Serif\" font-size=\"14.00\">value = [0.0, 1.0]</text>\n<text text-anchor=\"middle\" x=\"527\" y=\"-104.3\" font-family=\"Helvetica,sans-Serif\" font-size=\"14.00\">class = AD</text>\n</g>\n<!-- 8&#45;&gt;9 -->\n<g id=\"edge9\" class=\"edge\">\n<title>8&#45;&gt;9</title>\n<path fill=\"none\" stroke=\"black\" d=\"M528.35,-192.88C528.14,-182.22 527.91,-170.35 527.7,-159.52\"/>\n<polygon fill=\"black\" stroke=\"black\" points=\"531.2,-159.45 527.5,-149.52 524.2,-159.59 531.2,-159.45\"/>\n</g>\n<!-- 10 -->\n<g id=\"node11\" class=\"node\">\n<title>10</title>\n<polygon fill=\"#e58139\" stroke=\"black\" points=\"755,-149.5 615,-149.5 615,-96.5 755,-96.5 755,-149.5\"/>\n<text text-anchor=\"middle\" x=\"685\" y=\"-134.3\" font-family=\"Helvetica,sans-Serif\" font-size=\"14.00\">samples = 1.7%</text>\n<text text-anchor=\"middle\" x=\"685\" y=\"-119.3\" font-family=\"Helvetica,sans-Serif\" font-size=\"14.00\">value = [1.0, 0.0]</text>\n<text text-anchor=\"middle\" x=\"685\" y=\"-104.3\" font-family=\"Helvetica,sans-Serif\" font-size=\"14.00\">class = CN</text>\n</g>\n<!-- 8&#45;&gt;10 -->\n<g id=\"edge10\" class=\"edge\">\n<title>8&#45;&gt;10</title>\n<path fill=\"none\" stroke=\"black\" d=\"M579.65,-192.88C598.15,-180.79 619,-167.15 637.25,-155.22\"/>\n<polygon fill=\"black\" stroke=\"black\" points=\"639.52,-157.92 645.97,-149.52 635.68,-152.06 639.52,-157.92\"/>\n</g>\n<!-- 13 -->\n<g id=\"node14\" class=\"node\">\n<title>13</title>\n<polygon fill=\"#3ea0e6\" stroke=\"black\" points=\"1000,-365 782,-365 782,-297 1000,-297 1000,-365\"/>\n<text text-anchor=\"middle\" x=\"891\" y=\"-349.8\" font-family=\"Helvetica,sans-Serif\" font-size=\"14.00\">wm&#45;lh&#45;paracentral &lt;= 0.001</text>\n<text text-anchor=\"middle\" x=\"891\" y=\"-334.8\" font-family=\"Helvetica,sans-Serif\" font-size=\"14.00\">samples = 44.1%</text>\n<text text-anchor=\"middle\" x=\"891\" y=\"-319.8\" font-family=\"Helvetica,sans-Serif\" font-size=\"14.00\">value = [0.026, 0.974]</text>\n<text text-anchor=\"middle\" x=\"891\" y=\"-304.8\" font-family=\"Helvetica,sans-Serif\" font-size=\"14.00\">class = AD</text>\n</g>\n<!-- 12&#45;&gt;13 -->\n<g id=\"edge13\" class=\"edge\">\n<title>12&#45;&gt;13</title>\n<path fill=\"none\" stroke=\"black\" d=\"M895.05,-400.88C894.58,-392.78 894.06,-383.98 893.56,-375.47\"/>\n<polygon fill=\"black\" stroke=\"black\" points=\"897.04,-375.08 892.96,-365.3 890.05,-375.49 897.04,-375.08\"/>\n</g>\n<!-- 16 -->\n<g id=\"node17\" class=\"node\">\n<title>16</title>\n<polygon fill=\"#e58139\" stroke=\"black\" points=\"1158,-357.5 1018,-357.5 1018,-304.5 1158,-304.5 1158,-357.5\"/>\n<text text-anchor=\"middle\" x=\"1088\" y=\"-342.3\" font-family=\"Helvetica,sans-Serif\" font-size=\"14.00\">samples = 1.7%</text>\n<text text-anchor=\"middle\" x=\"1088\" y=\"-327.3\" font-family=\"Helvetica,sans-Serif\" font-size=\"14.00\">value = [1.0, 0.0]</text>\n<text text-anchor=\"middle\" x=\"1088\" y=\"-312.3\" font-family=\"Helvetica,sans-Serif\" font-size=\"14.00\">class = CN</text>\n</g>\n<!-- 12&#45;&gt;16 -->\n<g id=\"edge16\" class=\"edge\">\n<title>12&#45;&gt;16</title>\n<path fill=\"none\" stroke=\"black\" d=\"M959.01,-400.88C982.28,-388.46 1008.59,-374.41 1031.35,-362.25\"/>\n<polygon fill=\"black\" stroke=\"black\" points=\"1033.04,-365.32 1040.21,-357.52 1029.74,-359.14 1033.04,-365.32\"/>\n</g>\n<!-- 14 -->\n<g id=\"node15\" class=\"node\">\n<title>14</title>\n<polygon fill=\"#e58139\" stroke=\"black\" points=\"909,-253.5 769,-253.5 769,-200.5 909,-200.5 909,-253.5\"/>\n<text text-anchor=\"middle\" x=\"839\" y=\"-238.3\" font-family=\"Helvetica,sans-Serif\" font-size=\"14.00\">samples = 1.7%</text>\n<text text-anchor=\"middle\" x=\"839\" y=\"-223.3\" font-family=\"Helvetica,sans-Serif\" font-size=\"14.00\">value = [1.0, 0.0]</text>\n<text text-anchor=\"middle\" x=\"839\" y=\"-208.3\" font-family=\"Helvetica,sans-Serif\" font-size=\"14.00\">class = CN</text>\n</g>\n<!-- 13&#45;&gt;14 -->\n<g id=\"edge14\" class=\"edge\">\n<title>13&#45;&gt;14</title>\n<path fill=\"none\" stroke=\"black\" d=\"M874.12,-296.88C868.51,-285.89 862.26,-273.62 856.6,-262.52\"/>\n<polygon fill=\"black\" stroke=\"black\" points=\"859.67,-260.84 852.01,-253.52 853.43,-264.02 859.67,-260.84\"/>\n</g>\n<!-- 15 -->\n<g id=\"node16\" class=\"node\">\n<title>15</title>\n<polygon fill=\"#399de5\" stroke=\"black\" points=\"1067,-253.5 927,-253.5 927,-200.5 1067,-200.5 1067,-253.5\"/>\n<text text-anchor=\"middle\" x=\"997\" y=\"-238.3\" font-family=\"Helvetica,sans-Serif\" font-size=\"14.00\">samples = 42.4%</text>\n<text text-anchor=\"middle\" x=\"997\" y=\"-223.3\" font-family=\"Helvetica,sans-Serif\" font-size=\"14.00\">value = [0.0, 1.0]</text>\n<text text-anchor=\"middle\" x=\"997\" y=\"-208.3\" font-family=\"Helvetica,sans-Serif\" font-size=\"14.00\">class = AD</text>\n</g>\n<!-- 13&#45;&gt;15 -->\n<g id=\"edge15\" class=\"edge\">\n<title>13&#45;&gt;15</title>\n<path fill=\"none\" stroke=\"black\" d=\"M925.42,-296.88C937.53,-285.23 951.13,-272.14 963.19,-260.53\"/>\n<polygon fill=\"black\" stroke=\"black\" points=\"965.7,-262.98 970.48,-253.52 960.85,-257.93 965.7,-262.98\"/>\n</g>\n</g>\n</svg>\n",
      "text/plain": [
       "<graphviz.sources.Source at 0x7f67158c1ff0>"
      ]
     },
     "metadata": {},
     "output_type": "display_data"
    },
    {
     "data": {
      "image/svg+xml": "<?xml version=\"1.0\" encoding=\"UTF-8\" standalone=\"no\"?>\n<!DOCTYPE svg PUBLIC \"-//W3C//DTD SVG 1.1//EN\"\n \"http://www.w3.org/Graphics/SVG/1.1/DTD/svg11.dtd\">\n<!-- Generated by graphviz version 2.43.0 (0)\n -->\n<!-- Title: Tree Pages: 1 -->\n<svg width=\"1193pt\" height=\"581pt\"\n viewBox=\"0.00 0.00 1193.00 581.00\" xmlns=\"http://www.w3.org/2000/svg\" xmlns:xlink=\"http://www.w3.org/1999/xlink\">\n<g id=\"graph0\" class=\"graph\" transform=\"scale(1 1) rotate(0) translate(4 577)\">\n<title>Tree</title>\n<polygon fill=\"white\" stroke=\"transparent\" points=\"-4,4 -4,-577 1189,-577 1189,4 -4,4\"/>\n<!-- 0 -->\n<g id=\"node1\" class=\"node\">\n<title>0</title>\n<polygon fill=\"#bedff6\" stroke=\"black\" points=\"721.5,-573 486.5,-573 486.5,-505 721.5,-505 721.5,-573\"/>\n<text text-anchor=\"middle\" x=\"604\" y=\"-557.8\" font-family=\"Helvetica,sans-Serif\" font-size=\"14.00\">ctx&#45;lh&#45;supramarginal &lt;= 0.001</text>\n<text text-anchor=\"middle\" x=\"604\" y=\"-542.8\" font-family=\"Helvetica,sans-Serif\" font-size=\"14.00\">samples = 100.0%</text>\n<text text-anchor=\"middle\" x=\"604\" y=\"-527.8\" font-family=\"Helvetica,sans-Serif\" font-size=\"14.00\">value = [0.402, 0.598]</text>\n<text text-anchor=\"middle\" x=\"604\" y=\"-512.8\" font-family=\"Helvetica,sans-Serif\" font-size=\"14.00\">class = AD</text>\n</g>\n<!-- 1 -->\n<g id=\"node2\" class=\"node\">\n<title>1</title>\n<polygon fill=\"#e58139\" stroke=\"black\" points=\"585,-461.5 445,-461.5 445,-408.5 585,-408.5 585,-461.5\"/>\n<text text-anchor=\"middle\" x=\"515\" y=\"-446.3\" font-family=\"Helvetica,sans-Serif\" font-size=\"14.00\">samples = 21.4%</text>\n<text text-anchor=\"middle\" x=\"515\" y=\"-431.3\" font-family=\"Helvetica,sans-Serif\" font-size=\"14.00\">value = [1.0, 0.0]</text>\n<text text-anchor=\"middle\" x=\"515\" y=\"-416.3\" font-family=\"Helvetica,sans-Serif\" font-size=\"14.00\">class = CN</text>\n</g>\n<!-- 0&#45;&gt;1 -->\n<g id=\"edge1\" class=\"edge\">\n<title>0&#45;&gt;1</title>\n<path fill=\"none\" stroke=\"black\" d=\"M575.1,-504.88C565.12,-493.45 553.95,-480.63 543.96,-469.19\"/>\n<polygon fill=\"black\" stroke=\"black\" points=\"546.48,-466.75 537.27,-461.52 541.2,-471.36 546.48,-466.75\"/>\n<text text-anchor=\"middle\" x=\"535.57\" y=\"-482.76\" font-family=\"Helvetica,sans-Serif\" font-size=\"14.00\">True</text>\n</g>\n<!-- 2 -->\n<g id=\"node3\" class=\"node\">\n<title>2</title>\n<polygon fill=\"#8dc6f0\" stroke=\"black\" points=\"785,-469 603,-469 603,-401 785,-401 785,-469\"/>\n<text text-anchor=\"middle\" x=\"694\" y=\"-453.8\" font-family=\"Helvetica,sans-Serif\" font-size=\"14.00\">Left&#45;Putamen &lt;= 0.001</text>\n<text text-anchor=\"middle\" x=\"694\" y=\"-438.8\" font-family=\"Helvetica,sans-Serif\" font-size=\"14.00\">samples = 78.6%</text>\n<text text-anchor=\"middle\" x=\"694\" y=\"-423.8\" font-family=\"Helvetica,sans-Serif\" font-size=\"14.00\">value = [0.297, 0.703]</text>\n<text text-anchor=\"middle\" x=\"694\" y=\"-408.8\" font-family=\"Helvetica,sans-Serif\" font-size=\"14.00\">class = AD</text>\n</g>\n<!-- 0&#45;&gt;2 -->\n<g id=\"edge2\" class=\"edge\">\n<title>0&#45;&gt;2</title>\n<path fill=\"none\" stroke=\"black\" d=\"M633.22,-504.88C641.08,-495.98 649.67,-486.24 657.86,-476.96\"/>\n<polygon fill=\"black\" stroke=\"black\" points=\"660.63,-479.11 664.62,-469.3 655.38,-474.48 660.63,-479.11\"/>\n<text text-anchor=\"middle\" x=\"666.18\" y=\"-490.55\" font-family=\"Helvetica,sans-Serif\" font-size=\"14.00\">False</text>\n</g>\n<!-- 3 -->\n<g id=\"node4\" class=\"node\">\n<title>3</title>\n<polygon fill=\"#fbeade\" stroke=\"black\" points=\"671,-365 459,-365 459,-297 671,-297 671,-365\"/>\n<text text-anchor=\"middle\" x=\"565\" y=\"-349.8\" font-family=\"Helvetica,sans-Serif\" font-size=\"14.00\">ctx&#45;lh&#45;postcentral &lt;= 0.001</text>\n<text text-anchor=\"middle\" x=\"565\" y=\"-334.8\" font-family=\"Helvetica,sans-Serif\" font-size=\"14.00\">samples = 37.5%</text>\n<text text-anchor=\"middle\" x=\"565\" y=\"-319.8\" font-family=\"Helvetica,sans-Serif\" font-size=\"14.00\">value = [0.545, 0.455]</text>\n<text text-anchor=\"middle\" x=\"565\" y=\"-304.8\" font-family=\"Helvetica,sans-Serif\" font-size=\"14.00\">class = CN</text>\n</g>\n<!-- 2&#45;&gt;3 -->\n<g id=\"edge3\" class=\"edge\">\n<title>2&#45;&gt;3</title>\n<path fill=\"none\" stroke=\"black\" d=\"M652.12,-400.88C640.29,-391.53 627.3,-381.26 615.04,-371.57\"/>\n<polygon fill=\"black\" stroke=\"black\" points=\"617.13,-368.76 607.11,-365.3 612.79,-374.25 617.13,-368.76\"/>\n</g>\n<!-- 14 -->\n<g id=\"node15\" class=\"node\">\n<title>14</title>\n<polygon fill=\"#4ea8e8\" stroke=\"black\" points=\"956.5,-365 689.5,-365 689.5,-297 956.5,-297 956.5,-365\"/>\n<text text-anchor=\"middle\" x=\"823\" y=\"-349.8\" font-family=\"Helvetica,sans-Serif\" font-size=\"14.00\">wm&#45;lh&#45;lateralorbitofrontal &lt;= 0.001</text>\n<text text-anchor=\"middle\" x=\"823\" y=\"-334.8\" font-family=\"Helvetica,sans-Serif\" font-size=\"14.00\">samples = 41.1%</text>\n<text text-anchor=\"middle\" x=\"823\" y=\"-319.8\" font-family=\"Helvetica,sans-Serif\" font-size=\"14.00\">value = [0.098, 0.902]</text>\n<text text-anchor=\"middle\" x=\"823\" y=\"-304.8\" font-family=\"Helvetica,sans-Serif\" font-size=\"14.00\">class = AD</text>\n</g>\n<!-- 2&#45;&gt;14 -->\n<g id=\"edge14\" class=\"edge\">\n<title>2&#45;&gt;14</title>\n<path fill=\"none\" stroke=\"black\" d=\"M735.88,-400.88C747.71,-391.53 760.7,-381.26 772.96,-371.57\"/>\n<polygon fill=\"black\" stroke=\"black\" points=\"775.21,-374.25 780.89,-365.3 770.87,-368.76 775.21,-374.25\"/>\n</g>\n<!-- 4 -->\n<g id=\"node5\" class=\"node\">\n<title>4</title>\n<polygon fill=\"#67b4eb\" stroke=\"black\" points=\"444,-261 148,-261 148,-193 444,-193 444,-261\"/>\n<text text-anchor=\"middle\" x=\"296\" y=\"-245.8\" font-family=\"Helvetica,sans-Serif\" font-size=\"14.00\">ctx&#45;lh&#45;rostralanteriorcingulate &lt;= 0.001</text>\n<text text-anchor=\"middle\" x=\"296\" y=\"-230.8\" font-family=\"Helvetica,sans-Serif\" font-size=\"14.00\">samples = 17.9%</text>\n<text text-anchor=\"middle\" x=\"296\" y=\"-215.8\" font-family=\"Helvetica,sans-Serif\" font-size=\"14.00\">value = [0.188, 0.812]</text>\n<text text-anchor=\"middle\" x=\"296\" y=\"-200.8\" font-family=\"Helvetica,sans-Serif\" font-size=\"14.00\">class = AD</text>\n</g>\n<!-- 3&#45;&gt;4 -->\n<g id=\"edge4\" class=\"edge\">\n<title>3&#45;&gt;4</title>\n<path fill=\"none\" stroke=\"black\" d=\"M477.66,-296.88C450.63,-286.63 420.68,-275.28 393.03,-264.79\"/>\n<polygon fill=\"black\" stroke=\"black\" points=\"393.95,-261.4 383.36,-261.12 391.47,-267.94 393.95,-261.4\"/>\n</g>\n<!-- 9 -->\n<g id=\"node10\" class=\"node\">\n<title>9</title>\n<polygon fill=\"#e89253\" stroke=\"black\" points=\"696,-261 462,-261 462,-193 696,-193 696,-261\"/>\n<text text-anchor=\"middle\" x=\"579\" y=\"-245.8\" font-family=\"Helvetica,sans-Serif\" font-size=\"14.00\">Right&#45;choroid&#45;plexus &lt;= 0.001</text>\n<text text-anchor=\"middle\" x=\"579\" y=\"-230.8\" font-family=\"Helvetica,sans-Serif\" font-size=\"14.00\">samples = 19.6%</text>\n<text text-anchor=\"middle\" x=\"579\" y=\"-215.8\" font-family=\"Helvetica,sans-Serif\" font-size=\"14.00\">value = [0.882, 0.118]</text>\n<text text-anchor=\"middle\" x=\"579\" y=\"-200.8\" font-family=\"Helvetica,sans-Serif\" font-size=\"14.00\">class = CN</text>\n</g>\n<!-- 3&#45;&gt;9 -->\n<g id=\"edge9\" class=\"edge\">\n<title>3&#45;&gt;9</title>\n<path fill=\"none\" stroke=\"black\" d=\"M569.55,-296.88C570.66,-288.78 571.87,-279.98 573.03,-271.47\"/>\n<polygon fill=\"black\" stroke=\"black\" points=\"576.54,-271.68 574.43,-261.3 569.6,-270.73 576.54,-271.68\"/>\n</g>\n<!-- 5 -->\n<g id=\"node6\" class=\"node\">\n<title>5</title>\n<polygon fill=\"#ffffff\" stroke=\"black\" points=\"239.5,-157 58.5,-157 58.5,-89 239.5,-89 239.5,-157\"/>\n<text text-anchor=\"middle\" x=\"149\" y=\"-141.8\" font-family=\"Helvetica,sans-Serif\" font-size=\"14.00\">wm&#45;rh&#45;insula &lt;= 0.001</text>\n<text text-anchor=\"middle\" x=\"149\" y=\"-126.8\" font-family=\"Helvetica,sans-Serif\" font-size=\"14.00\">samples = 8.9%</text>\n<text text-anchor=\"middle\" x=\"149\" y=\"-111.8\" font-family=\"Helvetica,sans-Serif\" font-size=\"14.00\">value = [0.5, 0.5]</text>\n<text text-anchor=\"middle\" x=\"149\" y=\"-96.8\" font-family=\"Helvetica,sans-Serif\" font-size=\"14.00\">class = CN</text>\n</g>\n<!-- 4&#45;&gt;5 -->\n<g id=\"edge5\" class=\"edge\">\n<title>4&#45;&gt;5</title>\n<path fill=\"none\" stroke=\"black\" d=\"M248.27,-192.88C234.47,-183.3 219.27,-172.76 205.01,-162.86\"/>\n<polygon fill=\"black\" stroke=\"black\" points=\"206.95,-159.95 196.74,-157.12 202.96,-165.7 206.95,-159.95\"/>\n</g>\n<!-- 8 -->\n<g id=\"node9\" class=\"node\">\n<title>8</title>\n<polygon fill=\"#399de5\" stroke=\"black\" points=\"398,-149.5 258,-149.5 258,-96.5 398,-96.5 398,-149.5\"/>\n<text text-anchor=\"middle\" x=\"328\" y=\"-134.3\" font-family=\"Helvetica,sans-Serif\" font-size=\"14.00\">samples = 8.9%</text>\n<text text-anchor=\"middle\" x=\"328\" y=\"-119.3\" font-family=\"Helvetica,sans-Serif\" font-size=\"14.00\">value = [0.0, 1.0]</text>\n<text text-anchor=\"middle\" x=\"328\" y=\"-104.3\" font-family=\"Helvetica,sans-Serif\" font-size=\"14.00\">class = AD</text>\n</g>\n<!-- 4&#45;&gt;8 -->\n<g id=\"edge8\" class=\"edge\">\n<title>4&#45;&gt;8</title>\n<path fill=\"none\" stroke=\"black\" d=\"M306.39,-192.88C309.77,-182.11 313.53,-170.11 316.96,-159.18\"/>\n<polygon fill=\"black\" stroke=\"black\" points=\"320.34,-160.11 319.99,-149.52 313.66,-158.01 320.34,-160.11\"/>\n</g>\n<!-- 6 -->\n<g id=\"node7\" class=\"node\">\n<title>6</title>\n<polygon fill=\"#e58139\" stroke=\"black\" points=\"140,-53 0,-53 0,0 140,0 140,-53\"/>\n<text text-anchor=\"middle\" x=\"70\" y=\"-37.8\" font-family=\"Helvetica,sans-Serif\" font-size=\"14.00\">samples = 5.4%</text>\n<text text-anchor=\"middle\" x=\"70\" y=\"-22.8\" font-family=\"Helvetica,sans-Serif\" font-size=\"14.00\">value = [1.0, 0.0]</text>\n<text text-anchor=\"middle\" x=\"70\" y=\"-7.8\" font-family=\"Helvetica,sans-Serif\" font-size=\"14.00\">class = CN</text>\n</g>\n<!-- 5&#45;&gt;6 -->\n<g id=\"edge6\" class=\"edge\">\n<title>5&#45;&gt;6</title>\n<path fill=\"none\" stroke=\"black\" d=\"M121.37,-88.95C113.8,-79.89 105.59,-70.07 97.99,-60.99\"/>\n<polygon fill=\"black\" stroke=\"black\" points=\"100.61,-58.66 91.52,-53.24 95.24,-63.15 100.61,-58.66\"/>\n</g>\n<!-- 7 -->\n<g id=\"node8\" class=\"node\">\n<title>7</title>\n<polygon fill=\"#399de5\" stroke=\"black\" points=\"298,-53 158,-53 158,0 298,0 298,-53\"/>\n<text text-anchor=\"middle\" x=\"228\" y=\"-37.8\" font-family=\"Helvetica,sans-Serif\" font-size=\"14.00\">samples = 3.6%</text>\n<text text-anchor=\"middle\" x=\"228\" y=\"-22.8\" font-family=\"Helvetica,sans-Serif\" font-size=\"14.00\">value = [0.0, 1.0]</text>\n<text text-anchor=\"middle\" x=\"228\" y=\"-7.8\" font-family=\"Helvetica,sans-Serif\" font-size=\"14.00\">class = AD</text>\n</g>\n<!-- 5&#45;&gt;7 -->\n<g id=\"edge7\" class=\"edge\">\n<title>5&#45;&gt;7</title>\n<path fill=\"none\" stroke=\"black\" d=\"M176.63,-88.95C184.2,-79.89 192.41,-70.07 200.01,-60.99\"/>\n<polygon fill=\"black\" stroke=\"black\" points=\"202.76,-63.15 206.48,-53.24 197.39,-58.66 202.76,-63.15\"/>\n</g>\n<!-- 10 -->\n<g id=\"node11\" class=\"node\">\n<title>10</title>\n<polygon fill=\"#399de5\" stroke=\"black\" points=\"618,-149.5 478,-149.5 478,-96.5 618,-96.5 618,-149.5\"/>\n<text text-anchor=\"middle\" x=\"548\" y=\"-134.3\" font-family=\"Helvetica,sans-Serif\" font-size=\"14.00\">samples = 1.8%</text>\n<text text-anchor=\"middle\" x=\"548\" y=\"-119.3\" font-family=\"Helvetica,sans-Serif\" font-size=\"14.00\">value = [0.0, 1.0]</text>\n<text text-anchor=\"middle\" x=\"548\" y=\"-104.3\" font-family=\"Helvetica,sans-Serif\" font-size=\"14.00\">class = AD</text>\n</g>\n<!-- 9&#45;&gt;10 -->\n<g id=\"edge10\" class=\"edge\">\n<title>9&#45;&gt;10</title>\n<path fill=\"none\" stroke=\"black\" d=\"M568.94,-192.88C565.66,-182.11 562.01,-170.11 558.69,-159.18\"/>\n<polygon fill=\"black\" stroke=\"black\" points=\"562.01,-158.07 555.76,-149.52 555.32,-160.11 562.01,-158.07\"/>\n</g>\n<!-- 11 -->\n<g id=\"node12\" class=\"node\">\n<title>11</title>\n<polygon fill=\"#e78946\" stroke=\"black\" points=\"837.5,-157 636.5,-157 636.5,-89 837.5,-89 837.5,-157\"/>\n<text text-anchor=\"middle\" x=\"737\" y=\"-141.8\" font-family=\"Helvetica,sans-Serif\" font-size=\"14.00\">Right&#45;Amygdala &lt;= 0.001</text>\n<text text-anchor=\"middle\" x=\"737\" y=\"-126.8\" font-family=\"Helvetica,sans-Serif\" font-size=\"14.00\">samples = 17.9%</text>\n<text text-anchor=\"middle\" x=\"737\" y=\"-111.8\" font-family=\"Helvetica,sans-Serif\" font-size=\"14.00\">value = [0.938, 0.062]</text>\n<text text-anchor=\"middle\" x=\"737\" y=\"-96.8\" font-family=\"Helvetica,sans-Serif\" font-size=\"14.00\">class = CN</text>\n</g>\n<!-- 9&#45;&gt;11 -->\n<g id=\"edge11\" class=\"edge\">\n<title>9&#45;&gt;11</title>\n<path fill=\"none\" stroke=\"black\" d=\"M630.3,-192.88C645.28,-183.21 661.77,-172.56 677.23,-162.59\"/>\n<polygon fill=\"black\" stroke=\"black\" points=\"679.19,-165.49 685.69,-157.12 675.39,-159.61 679.19,-165.49\"/>\n</g>\n<!-- 12 -->\n<g id=\"node13\" class=\"node\">\n<title>12</title>\n<polygon fill=\"#e58139\" stroke=\"black\" points=\"728,-53 588,-53 588,0 728,0 728,-53\"/>\n<text text-anchor=\"middle\" x=\"658\" y=\"-37.8\" font-family=\"Helvetica,sans-Serif\" font-size=\"14.00\">samples = 16.1%</text>\n<text text-anchor=\"middle\" x=\"658\" y=\"-22.8\" font-family=\"Helvetica,sans-Serif\" font-size=\"14.00\">value = [1.0, 0.0]</text>\n<text text-anchor=\"middle\" x=\"658\" y=\"-7.8\" font-family=\"Helvetica,sans-Serif\" font-size=\"14.00\">class = CN</text>\n</g>\n<!-- 11&#45;&gt;12 -->\n<g id=\"edge12\" class=\"edge\">\n<title>11&#45;&gt;12</title>\n<path fill=\"none\" stroke=\"black\" d=\"M709.37,-88.95C701.8,-79.89 693.59,-70.07 685.99,-60.99\"/>\n<polygon fill=\"black\" stroke=\"black\" points=\"688.61,-58.66 679.52,-53.24 683.24,-63.15 688.61,-58.66\"/>\n</g>\n<!-- 13 -->\n<g id=\"node14\" class=\"node\">\n<title>13</title>\n<polygon fill=\"#399de5\" stroke=\"black\" points=\"886,-53 746,-53 746,0 886,0 886,-53\"/>\n<text text-anchor=\"middle\" x=\"816\" y=\"-37.8\" font-family=\"Helvetica,sans-Serif\" font-size=\"14.00\">samples = 1.8%</text>\n<text text-anchor=\"middle\" x=\"816\" y=\"-22.8\" font-family=\"Helvetica,sans-Serif\" font-size=\"14.00\">value = [0.0, 1.0]</text>\n<text text-anchor=\"middle\" x=\"816\" y=\"-7.8\" font-family=\"Helvetica,sans-Serif\" font-size=\"14.00\">class = AD</text>\n</g>\n<!-- 11&#45;&gt;13 -->\n<g id=\"edge13\" class=\"edge\">\n<title>11&#45;&gt;13</title>\n<path fill=\"none\" stroke=\"black\" d=\"M764.63,-88.95C772.2,-79.89 780.41,-70.07 788.01,-60.99\"/>\n<polygon fill=\"black\" stroke=\"black\" points=\"790.76,-63.15 794.48,-53.24 785.39,-58.66 790.76,-63.15\"/>\n</g>\n<!-- 15 -->\n<g id=\"node16\" class=\"node\">\n<title>15</title>\n<polygon fill=\"#e58139\" stroke=\"black\" points=\"880,-253.5 740,-253.5 740,-200.5 880,-200.5 880,-253.5\"/>\n<text text-anchor=\"middle\" x=\"810\" y=\"-238.3\" font-family=\"Helvetica,sans-Serif\" font-size=\"14.00\">samples = 3.6%</text>\n<text text-anchor=\"middle\" x=\"810\" y=\"-223.3\" font-family=\"Helvetica,sans-Serif\" font-size=\"14.00\">value = [1.0, 0.0]</text>\n<text text-anchor=\"middle\" x=\"810\" y=\"-208.3\" font-family=\"Helvetica,sans-Serif\" font-size=\"14.00\">class = CN</text>\n</g>\n<!-- 14&#45;&gt;15 -->\n<g id=\"edge15\" class=\"edge\">\n<title>14&#45;&gt;15</title>\n<path fill=\"none\" stroke=\"black\" d=\"M818.78,-296.88C817.42,-286.22 815.91,-274.35 814.53,-263.52\"/>\n<polygon fill=\"black\" stroke=\"black\" points=\"817.99,-263 813.25,-253.52 811.04,-263.88 817.99,-263\"/>\n</g>\n<!-- 16 -->\n<g id=\"node17\" class=\"node\">\n<title>16</title>\n<polygon fill=\"#3ea0e6\" stroke=\"black\" points=\"1077.5,-261 898.5,-261 898.5,-193 1077.5,-193 1077.5,-261\"/>\n<text text-anchor=\"middle\" x=\"988\" y=\"-245.8\" font-family=\"Helvetica,sans-Serif\" font-size=\"14.00\">Left&#45;Pallidum &lt;= 0.001</text>\n<text text-anchor=\"middle\" x=\"988\" y=\"-230.8\" font-family=\"Helvetica,sans-Serif\" font-size=\"14.00\">samples = 37.5%</text>\n<text text-anchor=\"middle\" x=\"988\" y=\"-215.8\" font-family=\"Helvetica,sans-Serif\" font-size=\"14.00\">value = [0.026, 0.974]</text>\n<text text-anchor=\"middle\" x=\"988\" y=\"-200.8\" font-family=\"Helvetica,sans-Serif\" font-size=\"14.00\">class = AD</text>\n</g>\n<!-- 14&#45;&gt;16 -->\n<g id=\"edge16\" class=\"edge\">\n<title>14&#45;&gt;16</title>\n<path fill=\"none\" stroke=\"black\" d=\"M876.57,-296.88C892.21,-287.21 909.44,-276.56 925.58,-266.59\"/>\n<polygon fill=\"black\" stroke=\"black\" points=\"927.75,-269.36 934.42,-261.12 924.07,-263.41 927.75,-269.36\"/>\n</g>\n<!-- 17 -->\n<g id=\"node18\" class=\"node\">\n<title>17</title>\n<polygon fill=\"#399de5\" stroke=\"black\" points=\"1027,-149.5 887,-149.5 887,-96.5 1027,-96.5 1027,-149.5\"/>\n<text text-anchor=\"middle\" x=\"957\" y=\"-134.3\" font-family=\"Helvetica,sans-Serif\" font-size=\"14.00\">samples = 35.7%</text>\n<text text-anchor=\"middle\" x=\"957\" y=\"-119.3\" font-family=\"Helvetica,sans-Serif\" font-size=\"14.00\">value = [0.0, 1.0]</text>\n<text text-anchor=\"middle\" x=\"957\" y=\"-104.3\" font-family=\"Helvetica,sans-Serif\" font-size=\"14.00\">class = AD</text>\n</g>\n<!-- 16&#45;&gt;17 -->\n<g id=\"edge17\" class=\"edge\">\n<title>16&#45;&gt;17</title>\n<path fill=\"none\" stroke=\"black\" d=\"M977.94,-192.88C974.66,-182.11 971.01,-170.11 967.69,-159.18\"/>\n<polygon fill=\"black\" stroke=\"black\" points=\"971.01,-158.07 964.76,-149.52 964.32,-160.11 971.01,-158.07\"/>\n</g>\n<!-- 18 -->\n<g id=\"node19\" class=\"node\">\n<title>18</title>\n<polygon fill=\"#e58139\" stroke=\"black\" points=\"1185,-149.5 1045,-149.5 1045,-96.5 1185,-96.5 1185,-149.5\"/>\n<text text-anchor=\"middle\" x=\"1115\" y=\"-134.3\" font-family=\"Helvetica,sans-Serif\" font-size=\"14.00\">samples = 1.8%</text>\n<text text-anchor=\"middle\" x=\"1115\" y=\"-119.3\" font-family=\"Helvetica,sans-Serif\" font-size=\"14.00\">value = [1.0, 0.0]</text>\n<text text-anchor=\"middle\" x=\"1115\" y=\"-104.3\" font-family=\"Helvetica,sans-Serif\" font-size=\"14.00\">class = CN</text>\n</g>\n<!-- 16&#45;&gt;18 -->\n<g id=\"edge18\" class=\"edge\">\n<title>16&#45;&gt;18</title>\n<path fill=\"none\" stroke=\"black\" d=\"M1029.23,-192.88C1044.02,-181.01 1060.66,-167.65 1075.31,-155.88\"/>\n<polygon fill=\"black\" stroke=\"black\" points=\"1077.62,-158.51 1083.23,-149.52 1073.24,-153.05 1077.62,-158.51\"/>\n</g>\n</g>\n</svg>\n",
      "text/plain": [
       "<graphviz.sources.Source at 0x7f67159165f0>"
      ]
     },
     "metadata": {},
     "output_type": "display_data"
    },
    {
     "data": {
      "image/svg+xml": "<?xml version=\"1.0\" encoding=\"UTF-8\" standalone=\"no\"?>\n<!DOCTYPE svg PUBLIC \"-//W3C//DTD SVG 1.1//EN\"\n \"http://www.w3.org/Graphics/SVG/1.1/DTD/svg11.dtd\">\n<!-- Generated by graphviz version 2.43.0 (0)\n -->\n<!-- Title: Tree Pages: 1 -->\n<svg width=\"1368pt\" height=\"685pt\"\n viewBox=\"0.00 0.00 1368.00 685.00\" xmlns=\"http://www.w3.org/2000/svg\" xmlns:xlink=\"http://www.w3.org/1999/xlink\">\n<g id=\"graph0\" class=\"graph\" transform=\"scale(1 1) rotate(0) translate(4 681)\">\n<title>Tree</title>\n<polygon fill=\"white\" stroke=\"transparent\" points=\"-4,4 -4,-681 1364,-681 1364,4 -4,4\"/>\n<!-- 0 -->\n<g id=\"node1\" class=\"node\">\n<title>0</title>\n<polygon fill=\"#fafdfe\" stroke=\"black\" points=\"801,-677 487,-677 487,-609 801,-609 801,-677\"/>\n<text text-anchor=\"middle\" x=\"644\" y=\"-661.8\" font-family=\"Helvetica,sans-Serif\" font-size=\"14.00\">Right&#45;UnsegmentedWhiteMatter &lt;= 0.001</text>\n<text text-anchor=\"middle\" x=\"644\" y=\"-646.8\" font-family=\"Helvetica,sans-Serif\" font-size=\"14.00\">samples = 100.0%</text>\n<text text-anchor=\"middle\" x=\"644\" y=\"-631.8\" font-family=\"Helvetica,sans-Serif\" font-size=\"14.00\">value = [0.494, 0.506]</text>\n<text text-anchor=\"middle\" x=\"644\" y=\"-616.8\" font-family=\"Helvetica,sans-Serif\" font-size=\"14.00\">class = AD</text>\n</g>\n<!-- 1 -->\n<g id=\"node2\" class=\"node\">\n<title>1</title>\n<polygon fill=\"#e9965a\" stroke=\"black\" points=\"640.5,-573 425.5,-573 425.5,-505 640.5,-505 640.5,-573\"/>\n<text text-anchor=\"middle\" x=\"533\" y=\"-557.8\" font-family=\"Helvetica,sans-Serif\" font-size=\"14.00\">ctx&#45;rh&#45;paracentral &lt;= 0.001</text>\n<text text-anchor=\"middle\" x=\"533\" y=\"-542.8\" font-family=\"Helvetica,sans-Serif\" font-size=\"14.00\">samples = 39.3%</text>\n<text text-anchor=\"middle\" x=\"533\" y=\"-527.8\" font-family=\"Helvetica,sans-Serif\" font-size=\"14.00\">value = [0.857, 0.143]</text>\n<text text-anchor=\"middle\" x=\"533\" y=\"-512.8\" font-family=\"Helvetica,sans-Serif\" font-size=\"14.00\">class = CN</text>\n</g>\n<!-- 0&#45;&gt;1 -->\n<g id=\"edge1\" class=\"edge\">\n<title>0&#45;&gt;1</title>\n<path fill=\"none\" stroke=\"black\" d=\"M607.96,-608.88C597.98,-599.71 587.03,-589.65 576.66,-580.12\"/>\n<polygon fill=\"black\" stroke=\"black\" points=\"578.97,-577.49 569.24,-573.3 574.23,-582.64 578.97,-577.49\"/>\n<text text-anchor=\"middle\" x=\"570.29\" y=\"-594.58\" font-family=\"Helvetica,sans-Serif\" font-size=\"14.00\">True</text>\n</g>\n<!-- 10 -->\n<g id=\"node11\" class=\"node\">\n<title>10</title>\n<polygon fill=\"#7bbeee\" stroke=\"black\" points=\"851,-573 659,-573 659,-505 851,-505 851,-573\"/>\n<text text-anchor=\"middle\" x=\"755\" y=\"-557.8\" font-family=\"Helvetica,sans-Serif\" font-size=\"14.00\">ctx&#45;lh&#45;fusiform &lt;= 0.001</text>\n<text text-anchor=\"middle\" x=\"755\" y=\"-542.8\" font-family=\"Helvetica,sans-Serif\" font-size=\"14.00\">samples = 60.7%</text>\n<text text-anchor=\"middle\" x=\"755\" y=\"-527.8\" font-family=\"Helvetica,sans-Serif\" font-size=\"14.00\">value = [0.25, 0.75]</text>\n<text text-anchor=\"middle\" x=\"755\" y=\"-512.8\" font-family=\"Helvetica,sans-Serif\" font-size=\"14.00\">class = AD</text>\n</g>\n<!-- 0&#45;&gt;10 -->\n<g id=\"edge10\" class=\"edge\">\n<title>0&#45;&gt;10</title>\n<path fill=\"none\" stroke=\"black\" d=\"M680.04,-608.88C690.02,-599.71 700.97,-589.65 711.34,-580.12\"/>\n<polygon fill=\"black\" stroke=\"black\" points=\"713.77,-582.64 718.76,-573.3 709.03,-577.49 713.77,-582.64\"/>\n<text text-anchor=\"middle\" x=\"717.71\" y=\"-594.58\" font-family=\"Helvetica,sans-Serif\" font-size=\"14.00\">False</text>\n</g>\n<!-- 2 -->\n<g id=\"node3\" class=\"node\">\n<title>2</title>\n<polygon fill=\"#e78a47\" stroke=\"black\" points=\"408,-469 210,-469 210,-401 408,-401 408,-469\"/>\n<text text-anchor=\"middle\" x=\"309\" y=\"-453.8\" font-family=\"Helvetica,sans-Serif\" font-size=\"14.00\">Right&#45;Thalamus &lt;= 0.001</text>\n<text text-anchor=\"middle\" x=\"309\" y=\"-438.8\" font-family=\"Helvetica,sans-Serif\" font-size=\"14.00\">samples = 33.9%</text>\n<text text-anchor=\"middle\" x=\"309\" y=\"-423.8\" font-family=\"Helvetica,sans-Serif\" font-size=\"14.00\">value = [0.935, 0.065]</text>\n<text text-anchor=\"middle\" x=\"309\" y=\"-408.8\" font-family=\"Helvetica,sans-Serif\" font-size=\"14.00\">class = CN</text>\n</g>\n<!-- 1&#45;&gt;2 -->\n<g id=\"edge2\" class=\"edge\">\n<title>1&#45;&gt;2</title>\n<path fill=\"none\" stroke=\"black\" d=\"M460.27,-504.88C438.15,-494.81 413.7,-483.67 391.01,-473.34\"/>\n<polygon fill=\"black\" stroke=\"black\" points=\"392.3,-470.08 381.74,-469.12 389.39,-476.45 392.3,-470.08\"/>\n</g>\n<!-- 7 -->\n<g id=\"node8\" class=\"node\">\n<title>7</title>\n<polygon fill=\"#7bbeee\" stroke=\"black\" points=\"652,-469 426,-469 426,-401 652,-401 652,-469\"/>\n<text text-anchor=\"middle\" x=\"539\" y=\"-453.8\" font-family=\"Helvetica,sans-Serif\" font-size=\"14.00\">wm&#45;rh&#45;parsorbitalis &lt;= 0.001</text>\n<text text-anchor=\"middle\" x=\"539\" y=\"-438.8\" font-family=\"Helvetica,sans-Serif\" font-size=\"14.00\">samples = 5.4%</text>\n<text text-anchor=\"middle\" x=\"539\" y=\"-423.8\" font-family=\"Helvetica,sans-Serif\" font-size=\"14.00\">value = [0.25, 0.75]</text>\n<text text-anchor=\"middle\" x=\"539\" y=\"-408.8\" font-family=\"Helvetica,sans-Serif\" font-size=\"14.00\">class = AD</text>\n</g>\n<!-- 1&#45;&gt;7 -->\n<g id=\"edge7\" class=\"edge\">\n<title>1&#45;&gt;7</title>\n<path fill=\"none\" stroke=\"black\" d=\"M534.95,-504.88C535.42,-496.78 535.94,-487.98 536.44,-479.47\"/>\n<polygon fill=\"black\" stroke=\"black\" points=\"539.95,-479.49 537.04,-469.3 532.96,-479.08 539.95,-479.49\"/>\n</g>\n<!-- 3 -->\n<g id=\"node4\" class=\"node\">\n<title>3</title>\n<polygon fill=\"#f6d5bd\" stroke=\"black\" points=\"238.5,-365 59.5,-365 59.5,-297 238.5,-297 238.5,-365\"/>\n<text text-anchor=\"middle\" x=\"149\" y=\"-349.8\" font-family=\"Helvetica,sans-Serif\" font-size=\"14.00\">wm&#45;lh&#45;insula &lt;= 0.001</text>\n<text text-anchor=\"middle\" x=\"149\" y=\"-334.8\" font-family=\"Helvetica,sans-Serif\" font-size=\"14.00\">samples = 8.9%</text>\n<text text-anchor=\"middle\" x=\"149\" y=\"-319.8\" font-family=\"Helvetica,sans-Serif\" font-size=\"14.00\">value = [0.6, 0.4]</text>\n<text text-anchor=\"middle\" x=\"149\" y=\"-304.8\" font-family=\"Helvetica,sans-Serif\" font-size=\"14.00\">class = CN</text>\n</g>\n<!-- 2&#45;&gt;3 -->\n<g id=\"edge3\" class=\"edge\">\n<title>2&#45;&gt;3</title>\n<path fill=\"none\" stroke=\"black\" d=\"M257.05,-400.88C241.89,-391.21 225.18,-380.56 209.53,-370.59\"/>\n<polygon fill=\"black\" stroke=\"black\" points=\"211.27,-367.55 200.96,-365.12 207.51,-373.45 211.27,-367.55\"/>\n</g>\n<!-- 6 -->\n<g id=\"node7\" class=\"node\">\n<title>6</title>\n<polygon fill=\"#e58139\" stroke=\"black\" points=\"397,-357.5 257,-357.5 257,-304.5 397,-304.5 397,-357.5\"/>\n<text text-anchor=\"middle\" x=\"327\" y=\"-342.3\" font-family=\"Helvetica,sans-Serif\" font-size=\"14.00\">samples = 25.0%</text>\n<text text-anchor=\"middle\" x=\"327\" y=\"-327.3\" font-family=\"Helvetica,sans-Serif\" font-size=\"14.00\">value = [1.0, 0.0]</text>\n<text text-anchor=\"middle\" x=\"327\" y=\"-312.3\" font-family=\"Helvetica,sans-Serif\" font-size=\"14.00\">class = CN</text>\n</g>\n<!-- 2&#45;&gt;6 -->\n<g id=\"edge6\" class=\"edge\">\n<title>2&#45;&gt;6</title>\n<path fill=\"none\" stroke=\"black\" d=\"M314.84,-400.88C316.73,-390.22 318.82,-378.35 320.73,-367.52\"/>\n<polygon fill=\"black\" stroke=\"black\" points=\"324.21,-367.98 322.5,-357.52 317.31,-366.76 324.21,-367.98\"/>\n</g>\n<!-- 4 -->\n<g id=\"node5\" class=\"node\">\n<title>4</title>\n<polygon fill=\"#e58139\" stroke=\"black\" points=\"140,-253.5 0,-253.5 0,-200.5 140,-200.5 140,-253.5\"/>\n<text text-anchor=\"middle\" x=\"70\" y=\"-238.3\" font-family=\"Helvetica,sans-Serif\" font-size=\"14.00\">samples = 5.4%</text>\n<text text-anchor=\"middle\" x=\"70\" y=\"-223.3\" font-family=\"Helvetica,sans-Serif\" font-size=\"14.00\">value = [1.0, 0.0]</text>\n<text text-anchor=\"middle\" x=\"70\" y=\"-208.3\" font-family=\"Helvetica,sans-Serif\" font-size=\"14.00\">class = CN</text>\n</g>\n<!-- 3&#45;&gt;4 -->\n<g id=\"edge4\" class=\"edge\">\n<title>3&#45;&gt;4</title>\n<path fill=\"none\" stroke=\"black\" d=\"M123.35,-296.88C114.58,-285.56 104.76,-272.88 95.96,-261.52\"/>\n<polygon fill=\"black\" stroke=\"black\" points=\"98.66,-259.28 89.77,-253.52 93.12,-263.57 98.66,-259.28\"/>\n</g>\n<!-- 5 -->\n<g id=\"node6\" class=\"node\">\n<title>5</title>\n<polygon fill=\"#399de5\" stroke=\"black\" points=\"298,-253.5 158,-253.5 158,-200.5 298,-200.5 298,-253.5\"/>\n<text text-anchor=\"middle\" x=\"228\" y=\"-238.3\" font-family=\"Helvetica,sans-Serif\" font-size=\"14.00\">samples = 3.6%</text>\n<text text-anchor=\"middle\" x=\"228\" y=\"-223.3\" font-family=\"Helvetica,sans-Serif\" font-size=\"14.00\">value = [0.0, 1.0]</text>\n<text text-anchor=\"middle\" x=\"228\" y=\"-208.3\" font-family=\"Helvetica,sans-Serif\" font-size=\"14.00\">class = AD</text>\n</g>\n<!-- 3&#45;&gt;5 -->\n<g id=\"edge5\" class=\"edge\">\n<title>3&#45;&gt;5</title>\n<path fill=\"none\" stroke=\"black\" d=\"M174.65,-296.88C183.42,-285.56 193.24,-272.88 202.04,-261.52\"/>\n<polygon fill=\"black\" stroke=\"black\" points=\"204.88,-263.57 208.23,-253.52 199.34,-259.28 204.88,-263.57\"/>\n</g>\n<!-- 8 -->\n<g id=\"node9\" class=\"node\">\n<title>8</title>\n<polygon fill=\"#e58139\" stroke=\"black\" points=\"591,-357.5 451,-357.5 451,-304.5 591,-304.5 591,-357.5\"/>\n<text text-anchor=\"middle\" x=\"521\" y=\"-342.3\" font-family=\"Helvetica,sans-Serif\" font-size=\"14.00\">samples = 1.8%</text>\n<text text-anchor=\"middle\" x=\"521\" y=\"-327.3\" font-family=\"Helvetica,sans-Serif\" font-size=\"14.00\">value = [1.0, 0.0]</text>\n<text text-anchor=\"middle\" x=\"521\" y=\"-312.3\" font-family=\"Helvetica,sans-Serif\" font-size=\"14.00\">class = CN</text>\n</g>\n<!-- 7&#45;&gt;8 -->\n<g id=\"edge8\" class=\"edge\">\n<title>7&#45;&gt;8</title>\n<path fill=\"none\" stroke=\"black\" d=\"M533.16,-400.88C531.27,-390.22 529.18,-378.35 527.27,-367.52\"/>\n<polygon fill=\"black\" stroke=\"black\" points=\"530.69,-366.76 525.5,-357.52 523.79,-367.98 530.69,-366.76\"/>\n</g>\n<!-- 9 -->\n<g id=\"node10\" class=\"node\">\n<title>9</title>\n<polygon fill=\"#399de5\" stroke=\"black\" points=\"749,-357.5 609,-357.5 609,-304.5 749,-304.5 749,-357.5\"/>\n<text text-anchor=\"middle\" x=\"679\" y=\"-342.3\" font-family=\"Helvetica,sans-Serif\" font-size=\"14.00\">samples = 3.6%</text>\n<text text-anchor=\"middle\" x=\"679\" y=\"-327.3\" font-family=\"Helvetica,sans-Serif\" font-size=\"14.00\">value = [0.0, 1.0]</text>\n<text text-anchor=\"middle\" x=\"679\" y=\"-312.3\" font-family=\"Helvetica,sans-Serif\" font-size=\"14.00\">class = AD</text>\n</g>\n<!-- 7&#45;&gt;9 -->\n<g id=\"edge9\" class=\"edge\">\n<title>7&#45;&gt;9</title>\n<path fill=\"none\" stroke=\"black\" d=\"M584.45,-400.88C600.91,-388.9 619.43,-375.4 635.7,-363.55\"/>\n<polygon fill=\"black\" stroke=\"black\" points=\"637.95,-366.24 643.97,-357.52 633.83,-360.58 637.95,-366.24\"/>\n</g>\n<!-- 11 -->\n<g id=\"node12\" class=\"node\">\n<title>11</title>\n<polygon fill=\"#e58139\" stroke=\"black\" points=\"820,-461.5 680,-461.5 680,-408.5 820,-408.5 820,-461.5\"/>\n<text text-anchor=\"middle\" x=\"750\" y=\"-446.3\" font-family=\"Helvetica,sans-Serif\" font-size=\"14.00\">samples = 7.1%</text>\n<text text-anchor=\"middle\" x=\"750\" y=\"-431.3\" font-family=\"Helvetica,sans-Serif\" font-size=\"14.00\">value = [1.0, 0.0]</text>\n<text text-anchor=\"middle\" x=\"750\" y=\"-416.3\" font-family=\"Helvetica,sans-Serif\" font-size=\"14.00\">class = CN</text>\n</g>\n<!-- 10&#45;&gt;11 -->\n<g id=\"edge11\" class=\"edge\">\n<title>10&#45;&gt;11</title>\n<path fill=\"none\" stroke=\"black\" d=\"M753.38,-504.88C752.85,-494.22 752.27,-482.35 751.74,-471.52\"/>\n<polygon fill=\"black\" stroke=\"black\" points=\"755.24,-471.34 751.25,-461.52 748.24,-471.68 755.24,-471.34\"/>\n</g>\n<!-- 12 -->\n<g id=\"node13\" class=\"node\">\n<title>12</title>\n<polygon fill=\"#67b4eb\" stroke=\"black\" points=\"1042,-469 838,-469 838,-401 1042,-401 1042,-469\"/>\n<text text-anchor=\"middle\" x=\"940\" y=\"-453.8\" font-family=\"Helvetica,sans-Serif\" font-size=\"14.00\">ctx&#45;lh&#45;entorhinal &lt;= 0.001</text>\n<text text-anchor=\"middle\" x=\"940\" y=\"-438.8\" font-family=\"Helvetica,sans-Serif\" font-size=\"14.00\">samples = 53.6%</text>\n<text text-anchor=\"middle\" x=\"940\" y=\"-423.8\" font-family=\"Helvetica,sans-Serif\" font-size=\"14.00\">value = [0.188, 0.812]</text>\n<text text-anchor=\"middle\" x=\"940\" y=\"-408.8\" font-family=\"Helvetica,sans-Serif\" font-size=\"14.00\">class = AD</text>\n</g>\n<!-- 10&#45;&gt;12 -->\n<g id=\"edge12\" class=\"edge\">\n<title>10&#45;&gt;12</title>\n<path fill=\"none\" stroke=\"black\" d=\"M815.06,-504.88C832.93,-495.04 852.64,-484.17 871.02,-474.03\"/>\n<polygon fill=\"black\" stroke=\"black\" points=\"872.85,-477.02 879.92,-469.12 869.47,-470.89 872.85,-477.02\"/>\n</g>\n<!-- 13 -->\n<g id=\"node14\" class=\"node\">\n<title>13</title>\n<polygon fill=\"#4ea7e8\" stroke=\"black\" points=\"1018.5,-365 799.5,-365 799.5,-297 1018.5,-297 1018.5,-365\"/>\n<text text-anchor=\"middle\" x=\"909\" y=\"-349.8\" font-family=\"Helvetica,sans-Serif\" font-size=\"14.00\">wm&#45;rh&#45;paracentral &lt;= 0.001</text>\n<text text-anchor=\"middle\" x=\"909\" y=\"-334.8\" font-family=\"Helvetica,sans-Serif\" font-size=\"14.00\">samples = 48.2%</text>\n<text text-anchor=\"middle\" x=\"909\" y=\"-319.8\" font-family=\"Helvetica,sans-Serif\" font-size=\"14.00\">value = [0.095, 0.905]</text>\n<text text-anchor=\"middle\" x=\"909\" y=\"-304.8\" font-family=\"Helvetica,sans-Serif\" font-size=\"14.00\">class = AD</text>\n</g>\n<!-- 12&#45;&gt;13 -->\n<g id=\"edge13\" class=\"edge\">\n<title>12&#45;&gt;13</title>\n<path fill=\"none\" stroke=\"black\" d=\"M929.94,-400.88C927.42,-392.6 924.68,-383.6 922.04,-374.91\"/>\n<polygon fill=\"black\" stroke=\"black\" points=\"925.38,-373.85 919.12,-365.3 918.68,-375.89 925.38,-373.85\"/>\n</g>\n<!-- 20 -->\n<g id=\"node21\" class=\"node\">\n<title>20</title>\n<polygon fill=\"#ea9a61\" stroke=\"black\" points=\"1249,-365 1037,-365 1037,-297 1249,-297 1249,-365\"/>\n<text text-anchor=\"middle\" x=\"1143\" y=\"-349.8\" font-family=\"Helvetica,sans-Serif\" font-size=\"14.00\">ctx&#45;lh&#45;postcentral &lt;= 0.001</text>\n<text text-anchor=\"middle\" x=\"1143\" y=\"-334.8\" font-family=\"Helvetica,sans-Serif\" font-size=\"14.00\">samples = 5.4%</text>\n<text text-anchor=\"middle\" x=\"1143\" y=\"-319.8\" font-family=\"Helvetica,sans-Serif\" font-size=\"14.00\">value = [0.833, 0.167]</text>\n<text text-anchor=\"middle\" x=\"1143\" y=\"-304.8\" font-family=\"Helvetica,sans-Serif\" font-size=\"14.00\">class = CN</text>\n</g>\n<!-- 12&#45;&gt;20 -->\n<g id=\"edge20\" class=\"edge\">\n<title>12&#45;&gt;20</title>\n<path fill=\"none\" stroke=\"black\" d=\"M1005.91,-400.88C1025.78,-390.9 1047.73,-379.87 1068.13,-369.62\"/>\n<polygon fill=\"black\" stroke=\"black\" points=\"1069.71,-372.74 1077.08,-365.12 1066.57,-366.49 1069.71,-372.74\"/>\n</g>\n<!-- 14 -->\n<g id=\"node15\" class=\"node\">\n<title>14</title>\n<polygon fill=\"#e58139\" stroke=\"black\" points=\"796,-253.5 656,-253.5 656,-200.5 796,-200.5 796,-253.5\"/>\n<text text-anchor=\"middle\" x=\"726\" y=\"-238.3\" font-family=\"Helvetica,sans-Serif\" font-size=\"14.00\">samples = 3.6%</text>\n<text text-anchor=\"middle\" x=\"726\" y=\"-223.3\" font-family=\"Helvetica,sans-Serif\" font-size=\"14.00\">value = [1.0, 0.0]</text>\n<text text-anchor=\"middle\" x=\"726\" y=\"-208.3\" font-family=\"Helvetica,sans-Serif\" font-size=\"14.00\">class = CN</text>\n</g>\n<!-- 13&#45;&gt;14 -->\n<g id=\"edge14\" class=\"edge\">\n<title>13&#45;&gt;14</title>\n<path fill=\"none\" stroke=\"black\" d=\"M849.59,-296.88C827.39,-284.51 802.3,-270.53 780.56,-258.41\"/>\n<polygon fill=\"black\" stroke=\"black\" points=\"782.22,-255.33 771.79,-253.52 778.82,-261.45 782.22,-255.33\"/>\n</g>\n<!-- 15 -->\n<g id=\"node16\" class=\"node\">\n<title>15</title>\n<polygon fill=\"#43a2e6\" stroke=\"black\" points=\"1024,-261 814,-261 814,-193 1024,-193 1024,-261\"/>\n<text text-anchor=\"middle\" x=\"919\" y=\"-245.8\" font-family=\"Helvetica,sans-Serif\" font-size=\"14.00\">ctx&#45;rh&#45;frontalpole &lt;= 0.001</text>\n<text text-anchor=\"middle\" x=\"919\" y=\"-230.8\" font-family=\"Helvetica,sans-Serif\" font-size=\"14.00\">samples = 44.6%</text>\n<text text-anchor=\"middle\" x=\"919\" y=\"-215.8\" font-family=\"Helvetica,sans-Serif\" font-size=\"14.00\">value = [0.05, 0.95]</text>\n<text text-anchor=\"middle\" x=\"919\" y=\"-200.8\" font-family=\"Helvetica,sans-Serif\" font-size=\"14.00\">class = AD</text>\n</g>\n<!-- 13&#45;&gt;15 -->\n<g id=\"edge15\" class=\"edge\">\n<title>13&#45;&gt;15</title>\n<path fill=\"none\" stroke=\"black\" d=\"M912.25,-296.88C913.04,-288.78 913.9,-279.98 914.74,-271.47\"/>\n<polygon fill=\"black\" stroke=\"black\" points=\"918.24,-271.59 915.74,-261.3 911.28,-270.91 918.24,-271.59\"/>\n</g>\n<!-- 16 -->\n<g id=\"node17\" class=\"node\">\n<title>16</title>\n<polygon fill=\"#399de5\" stroke=\"black\" points=\"893,-149.5 753,-149.5 753,-96.5 893,-96.5 893,-149.5\"/>\n<text text-anchor=\"middle\" x=\"823\" y=\"-134.3\" font-family=\"Helvetica,sans-Serif\" font-size=\"14.00\">samples = 33.9%</text>\n<text text-anchor=\"middle\" x=\"823\" y=\"-119.3\" font-family=\"Helvetica,sans-Serif\" font-size=\"14.00\">value = [0.0, 1.0]</text>\n<text text-anchor=\"middle\" x=\"823\" y=\"-104.3\" font-family=\"Helvetica,sans-Serif\" font-size=\"14.00\">class = AD</text>\n</g>\n<!-- 15&#45;&gt;16 -->\n<g id=\"edge16\" class=\"edge\">\n<title>15&#45;&gt;16</title>\n<path fill=\"none\" stroke=\"black\" d=\"M887.83,-192.88C876.96,-181.34 864.78,-168.39 853.93,-156.86\"/>\n<polygon fill=\"black\" stroke=\"black\" points=\"856.42,-154.4 847.02,-149.52 851.32,-159.2 856.42,-154.4\"/>\n</g>\n<!-- 17 -->\n<g id=\"node18\" class=\"node\">\n<title>17</title>\n<polygon fill=\"#88c4ef\" stroke=\"black\" points=\"1119,-157 911,-157 911,-89 1119,-89 1119,-157\"/>\n<text text-anchor=\"middle\" x=\"1015\" y=\"-141.8\" font-family=\"Helvetica,sans-Serif\" font-size=\"14.00\">wm&#45;lh&#45;entorhinal &lt;= 0.001</text>\n<text text-anchor=\"middle\" x=\"1015\" y=\"-126.8\" font-family=\"Helvetica,sans-Serif\" font-size=\"14.00\">samples = 10.7%</text>\n<text text-anchor=\"middle\" x=\"1015\" y=\"-111.8\" font-family=\"Helvetica,sans-Serif\" font-size=\"14.00\">value = [0.286, 0.714]</text>\n<text text-anchor=\"middle\" x=\"1015\" y=\"-96.8\" font-family=\"Helvetica,sans-Serif\" font-size=\"14.00\">class = AD</text>\n</g>\n<!-- 15&#45;&gt;17 -->\n<g id=\"edge17\" class=\"edge\">\n<title>15&#45;&gt;17</title>\n<path fill=\"none\" stroke=\"black\" d=\"M950.17,-192.88C958.64,-183.89 967.9,-174.04 976.71,-164.68\"/>\n<polygon fill=\"black\" stroke=\"black\" points=\"979.35,-166.98 983.66,-157.3 974.26,-162.18 979.35,-166.98\"/>\n</g>\n<!-- 18 -->\n<g id=\"node19\" class=\"node\">\n<title>18</title>\n<polygon fill=\"#399de5\" stroke=\"black\" points=\"1006,-53 866,-53 866,0 1006,0 1006,-53\"/>\n<text text-anchor=\"middle\" x=\"936\" y=\"-37.8\" font-family=\"Helvetica,sans-Serif\" font-size=\"14.00\">samples = 7.1%</text>\n<text text-anchor=\"middle\" x=\"936\" y=\"-22.8\" font-family=\"Helvetica,sans-Serif\" font-size=\"14.00\">value = [0.0, 1.0]</text>\n<text text-anchor=\"middle\" x=\"936\" y=\"-7.8\" font-family=\"Helvetica,sans-Serif\" font-size=\"14.00\">class = AD</text>\n</g>\n<!-- 17&#45;&gt;18 -->\n<g id=\"edge18\" class=\"edge\">\n<title>17&#45;&gt;18</title>\n<path fill=\"none\" stroke=\"black\" d=\"M987.37,-88.95C979.8,-79.89 971.59,-70.07 963.99,-60.99\"/>\n<polygon fill=\"black\" stroke=\"black\" points=\"966.61,-58.66 957.52,-53.24 961.24,-63.15 966.61,-58.66\"/>\n</g>\n<!-- 19 -->\n<g id=\"node20\" class=\"node\">\n<title>19</title>\n<polygon fill=\"#e58139\" stroke=\"black\" points=\"1164,-53 1024,-53 1024,0 1164,0 1164,-53\"/>\n<text text-anchor=\"middle\" x=\"1094\" y=\"-37.8\" font-family=\"Helvetica,sans-Serif\" font-size=\"14.00\">samples = 3.6%</text>\n<text text-anchor=\"middle\" x=\"1094\" y=\"-22.8\" font-family=\"Helvetica,sans-Serif\" font-size=\"14.00\">value = [1.0, 0.0]</text>\n<text text-anchor=\"middle\" x=\"1094\" y=\"-7.8\" font-family=\"Helvetica,sans-Serif\" font-size=\"14.00\">class = CN</text>\n</g>\n<!-- 17&#45;&gt;19 -->\n<g id=\"edge19\" class=\"edge\">\n<title>17&#45;&gt;19</title>\n<path fill=\"none\" stroke=\"black\" d=\"M1042.63,-88.95C1050.2,-79.89 1058.41,-70.07 1066.01,-60.99\"/>\n<polygon fill=\"black\" stroke=\"black\" points=\"1068.76,-63.15 1072.48,-53.24 1063.39,-58.66 1068.76,-63.15\"/>\n</g>\n<!-- 21 -->\n<g id=\"node22\" class=\"node\">\n<title>21</title>\n<polygon fill=\"#e58139\" stroke=\"black\" points=\"1202,-253.5 1062,-253.5 1062,-200.5 1202,-200.5 1202,-253.5\"/>\n<text text-anchor=\"middle\" x=\"1132\" y=\"-238.3\" font-family=\"Helvetica,sans-Serif\" font-size=\"14.00\">samples = 3.6%</text>\n<text text-anchor=\"middle\" x=\"1132\" y=\"-223.3\" font-family=\"Helvetica,sans-Serif\" font-size=\"14.00\">value = [1.0, 0.0]</text>\n<text text-anchor=\"middle\" x=\"1132\" y=\"-208.3\" font-family=\"Helvetica,sans-Serif\" font-size=\"14.00\">class = CN</text>\n</g>\n<!-- 20&#45;&gt;21 -->\n<g id=\"edge21\" class=\"edge\">\n<title>20&#45;&gt;21</title>\n<path fill=\"none\" stroke=\"black\" d=\"M1139.43,-296.88C1138.28,-286.22 1137,-274.35 1135.83,-263.52\"/>\n<polygon fill=\"black\" stroke=\"black\" points=\"1139.3,-263.09 1134.75,-253.52 1132.34,-263.84 1139.3,-263.09\"/>\n</g>\n<!-- 22 -->\n<g id=\"node23\" class=\"node\">\n<title>22</title>\n<polygon fill=\"#399de5\" stroke=\"black\" points=\"1360,-253.5 1220,-253.5 1220,-200.5 1360,-200.5 1360,-253.5\"/>\n<text text-anchor=\"middle\" x=\"1290\" y=\"-238.3\" font-family=\"Helvetica,sans-Serif\" font-size=\"14.00\">samples = 1.8%</text>\n<text text-anchor=\"middle\" x=\"1290\" y=\"-223.3\" font-family=\"Helvetica,sans-Serif\" font-size=\"14.00\">value = [0.0, 1.0]</text>\n<text text-anchor=\"middle\" x=\"1290\" y=\"-208.3\" font-family=\"Helvetica,sans-Serif\" font-size=\"14.00\">class = AD</text>\n</g>\n<!-- 20&#45;&gt;22 -->\n<g id=\"edge22\" class=\"edge\">\n<title>20&#45;&gt;22</title>\n<path fill=\"none\" stroke=\"black\" d=\"M1190.73,-296.88C1208.16,-284.79 1227.81,-271.15 1245,-259.22\"/>\n<polygon fill=\"black\" stroke=\"black\" points=\"1247,-262.1 1253.22,-253.52 1243.01,-256.35 1247,-262.1\"/>\n</g>\n</g>\n</svg>\n",
      "text/plain": [
       "<graphviz.sources.Source at 0x7f67158c1ff0>"
      ]
     },
     "metadata": {},
     "output_type": "display_data"
    }
   ],
   "source": [
    "from sklearn.tree import export_graphviz\n",
    "from IPython.display import Image\n",
    "import graphviz\n",
    "\n",
    "\n",
    "for i in range(3):\n",
    "    tree = rand_search.best_estimator_[i]\n",
    "    dot_data = export_graphviz(tree,feature_names=region[1:],  filled=True, impurity=False, proportion=True,class_names=[\"CN\",\"AD\"])\n",
    "    graph = graphviz.Source(dot_data)\n",
    "    display(graph)"
   ]
  },
  {
   "attachments": {},
   "cell_type": "markdown",
   "metadata": {},
   "source": [
    "ROC"
   ]
  },
  {
   "cell_type": "code",
   "execution_count": 17,
   "metadata": {},
   "outputs": [
    {
     "data": {
      "image/png": "[encoded data removed]",
      "text/plain": [
       "<Figure size 640x480 with 1 Axes>"
      ]
     },
     "metadata": {},
     "output_type": "display_data"
    }
   ],
   "source": [
    "from sklearn.metrics import RocCurveDisplay\n",
    "rf.fit(X_tr, y_tr)\n",
    "\n",
    "ax = plt.gca()\n",
    "rnds_disp = RocCurveDisplay.from_estimator(rand_search, X_tst, y_tst, ax=ax, alpha=0.8)\n",
    "rndf_disp = RocCurveDisplay.from_estimator(rf, X_tst, y_tst, ax=ax, alpha=0.8)\n",
    "\n",
    "\n",
    "plt.show()"
   ]
  }
 ],
 "metadata": {
  "kernelspec": {
   "display_name": "Python 3",
   "language": "python",
   "name": "python3"
  },
  "language_info": {
   "codemirror_mode": {
    "name": "ipython",
    "version": 3
   },
   "file_extension": ".py",
   "mimetype": "text/x-python",
   "name": "python",
   "nbconvert_exporter": "python",
   "pygments_lexer": "ipython3",
   "version": "3.10.7"
  },
  "orig_nbformat": 4,
  "vscode": {
   "interpreter": {
    "hash": "916dbcbb3f70747c44a77c7bcd40155683ae19c65e1c03b4aa3499c5328201f1"
   }
  }
 },
 "nbformat": 4,
 "nbformat_minor": 2
}
